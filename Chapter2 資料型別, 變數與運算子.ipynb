{
 "cells": [
  {
   "cell_type": "code",
   "execution_count": 1,
   "id": "3196ded2",
   "metadata": {},
   "outputs": [
    {
     "name": "stdout",
     "output_type": "stream",
     "text": [
      "True\n",
      "2165661440064\n",
      "2165661440064\n"
     ]
    }
   ],
   "source": [
    "x = [1,2,3]\n",
    "y = x\n",
    "print(x is y)\n",
    "print(id(x))\n",
    "print(id(y))"
   ]
  },
  {
   "cell_type": "code",
   "execution_count": 2,
   "id": "1e8eed2d",
   "metadata": {},
   "outputs": [
    {
     "name": "stdout",
     "output_type": "stream",
     "text": [
      "False\n",
      "2165661440768\n",
      "2165661440320\n"
     ]
    }
   ],
   "source": [
    "x = [1,2,3]\n",
    "y = [1,2,3]\n",
    "print(x is y)\n",
    "print(id(x))\n",
    "print(id(y))"
   ]
  },
  {
   "cell_type": "code",
   "execution_count": 3,
   "id": "b7d1893d",
   "metadata": {},
   "outputs": [
    {
     "name": "stdout",
     "output_type": "stream",
     "text": [
      "春眠不覺曉\n",
      "處處聞啼鳥\n",
      "\n"
     ]
    }
   ],
   "source": [
    "s = '''春眠不覺曉\n",
    "處處聞啼鳥\n",
    "'''\n",
    "print(s)"
   ]
  },
  {
   "cell_type": "code",
   "execution_count": 4,
   "id": "4a5b2d81",
   "metadata": {},
   "outputs": [
    {
     "data": {
      "text/plain": [
       "7"
      ]
     },
     "execution_count": 4,
     "metadata": {},
     "output_type": "execute_result"
    }
   ],
   "source": [
    "s1 = '春眠不覺曉，處處聞啼鳥，夜來風雨聲，花落知多少'\n",
    "s1.rfind('處')"
   ]
  },
  {
   "cell_type": "code",
   "execution_count": 5,
   "id": "1548de3d",
   "metadata": {},
   "outputs": [
    {
     "name": "stdout",
     "output_type": "stream",
     "text": [
      "Please enter the number of cloth:2\n",
      "Please enter the number of pant:3\n",
      "Please enter the number of vest:1\n",
      "The total price is 2050\n"
     ]
    }
   ],
   "source": [
    "# 服裝訂購系統\n",
    "\n",
    "cloth = int(input('Please enter the number of cloth:'))\n",
    "pant = int(input('Please enter the number of pant:'))\n",
    "vest = int(input('Please enter the number of vest:'))\n",
    "\n",
    "total = cloth * 300 + pant * 350 + vest * 400\n",
    "print(f'The total price is {total}')"
   ]
  },
  {
   "cell_type": "code",
   "execution_count": 6,
   "id": "bfa04952",
   "metadata": {},
   "outputs": [
    {
     "name": "stdout",
     "output_type": "stream",
     "text": [
      "Please decide the number of radius:10\n",
      "圓周長為62.8318\n",
      "圓面積為314.159\n"
     ]
    }
   ],
   "source": [
    "# 計算圓面積與圓周長\n",
    "\n",
    "radius = float(input('Please decide the number of radius:'))\n",
    "PI = 3.14159\n",
    "\n",
    "circumference = (radius * 2) * PI\n",
    "circle_area = (radius ** 2) * PI\n",
    "\n",
    "print(f'圓周長為{circumference}')\n",
    "print(f'圓面積為{circle_area}')"
   ]
  },
  {
   "cell_type": "code",
   "execution_count": 7,
   "id": "6dcb0fbe",
   "metadata": {},
   "outputs": [
    {
     "name": "stdout",
     "output_type": "stream",
     "text": [
      "Please enter the number of Celsius:50\n",
      "It is 122.0℉\n"
     ]
    }
   ],
   "source": [
    "# 攝氏轉華氏\n",
    "\n",
    "c = float(input('Please enter the number of Celsius:'))\n",
    "f = c * (9 / 5) + 32\n",
    "print(f'It is {f}℉')"
   ]
  },
  {
   "cell_type": "code",
   "execution_count": 8,
   "id": "ccb39bc3",
   "metadata": {},
   "outputs": [
    {
     "name": "stdout",
     "output_type": "stream",
     "text": [
      "Please enter your principal:10000\n",
      "Please decide the interest:1.5\n",
      "\n",
      "第1年本利和為10149.999999999998\n",
      "\n",
      "第2年本利和為10302.249999999996\n",
      "\n",
      "第3年本利和為10456.783749999997\n"
     ]
    }
   ],
   "source": [
    "# 複利計算\n",
    "\n",
    "money = int(input('Please enter your principal:'))\n",
    "interest = float(input('Please decide the interest:'))\n",
    "\n",
    "for i in range(1,4):\n",
    "    print(f'\\n第{i}年本利和為{money * (1 + interest / 100) ** i}')"
   ]
  },
  {
   "cell_type": "code",
   "execution_count": 9,
   "id": "87101356",
   "metadata": {},
   "outputs": [
    {
     "name": "stdout",
     "output_type": "stream",
     "text": [
      "Please enter a stringabvba\n",
      "The string is Palindrome.\n"
     ]
    }
   ],
   "source": [
    "# 判斷回文1\n",
    "def isPalindrome(s):\n",
    "    if(s == s[::-1]):\n",
    "        return True\n",
    "    else:\n",
    "        return False\n",
    "\n",
    "s = input('Please enter a string')\n",
    "\n",
    "if(isPalindrome(s)):\n",
    "    print('The string is Palindrome.')\n",
    "else:\n",
    "    print('The string is not Palindrome.')"
   ]
  },
  {
   "cell_type": "code",
   "execution_count": 10,
   "id": "11d72b42",
   "metadata": {},
   "outputs": [
    {
     "name": "stdout",
     "output_type": "stream",
     "text": [
      "Please enter a stringabvba\n",
      "The string is Palindrome.\n"
     ]
    }
   ],
   "source": [
    "# 判斷回文2\n",
    "\n",
    "s1 = input('Please enter a string')\n",
    "for i in range(0, len(s1)):\n",
    "    if(s1[i] != s1[len(s1) - i - 1]):\n",
    "        flag = 0\n",
    "    else:\n",
    "        flag = 1\n",
    "\n",
    "if(flag):\n",
    "    print('The string is Palindrome.')\n",
    "else:\n",
    "    print('The string is not Palindrome.')"
   ]
  },
  {
   "cell_type": "code",
   "execution_count": 11,
   "id": "6ff2becb",
   "metadata": {},
   "outputs": [
    {
     "name": "stdout",
     "output_type": "stream",
     "text": [
      "請輸入第一次期中考成績75\n",
      "請輸入第二次期中考成績90\n",
      "請輸入期末考成績85\n",
      "總合為250\n",
      "平均為83.33333333333333\n"
     ]
    }
   ],
   "source": [
    "# 求三數總和與平均\n",
    "\n",
    "fir = int(input('請輸入第一次期中考成績'))\n",
    "sec = int(input('請輸入第二次期中考成績'))\n",
    "final = int(input('請輸入期末考成績'))\n",
    "\n",
    "total = fir + sec + final\n",
    "avg = total / 3\n",
    "\n",
    "print(f'總合為{total}')\n",
    "print(f'平均為{avg}')"
   ]
  },
  {
   "cell_type": "code",
   "execution_count": 12,
   "id": "5315a1dc",
   "metadata": {},
   "outputs": [
    {
     "name": "stdout",
     "output_type": "stream",
     "text": [
      "Please enter the number of foot5\n",
      "Please enter the number of inch8\n",
      "總共為172.72公分\n"
     ]
    }
   ],
   "source": [
    "# 英制轉公制\n",
    "\n",
    "foot = int(input('Please enter the number of foot'))\n",
    "inch = int(input('Please enter the number of inch'))\n",
    "\n",
    "Metric_system = (foot * 12 + inch) * 2.54\n",
    "print(f'總共為{Metric_system}公分')"
   ]
  },
  {
   "cell_type": "code",
   "execution_count": 13,
   "id": "3dcf4333",
   "metadata": {},
   "outputs": [
    {
     "name": "stdout",
     "output_type": "stream",
     "text": [
      "Please enter the number of seat number19\n",
      "組別為4\n"
     ]
    }
   ],
   "source": [
    "# 分組報告\n",
    "\n",
    "seat_number = int(input('Please enter the number of seat number'))\n",
    "team = (seat_number - 1) // 5 + 1\n",
    "\n",
    "print(f'組別為{team}')"
   ]
  },
  {
   "cell_type": "code",
   "execution_count": 14,
   "id": "ab553f64",
   "metadata": {},
   "outputs": [
    {
     "name": "stdout",
     "output_type": "stream",
     "text": [
      "Please enter the number of beverage you want to buy 30\n",
      "The total is 520\n"
     ]
    }
   ],
   "source": [
    "# 賣場買飲料\n",
    "\n",
    "number = int(input('Please enter the number of beverage you want to buy '))\n",
    "\n",
    "if(number > 12):\n",
    "    price = (number // 12) * 200 + (number % 12) * 20\n",
    "    print(f'The total is {price}')\n",
    "else:\n",
    "    print('Do not buy!')"
   ]
  },
  {
   "cell_type": "code",
   "execution_count": 15,
   "id": "2684f41a",
   "metadata": {},
   "outputs": [
    {
     "name": "stdout",
     "output_type": "stream",
     "text": [
      "1KB = 1024 Byte\n",
      "1MB = 1048576 Byte\n",
      "1GB = 1073741824 Byte\n",
      "1TB = 1099511627776 Byte\n",
      "1PB = 1125899906842624 Byte\n",
      "1EB = 1152921504606846976 Byte\n",
      "1ZB = 1180591620717411303424 Byte\n",
      "1YB = 1208925819614629174706176 Byte\n"
     ]
    }
   ],
   "source": [
    "# 電腦中資料儲存單位計算\n",
    "\n",
    "print(f'1KB = {2 ** 10} Byte')\n",
    "print(f'1MB = {2 ** 20} Byte')\n",
    "print(f'1GB = {2 ** 30} Byte')\n",
    "print(f'1TB = {2 ** 40} Byte')\n",
    "print(f'1PB = {2 ** 50} Byte')\n",
    "print(f'1EB = {2 ** 60} Byte')\n",
    "print(f'1ZB = {2 ** 70} Byte')\n",
    "print(f'1YB = {2 ** 80} Byte')"
   ]
  },
  {
   "cell_type": "code",
   "execution_count": 16,
   "id": "8ccdf74b",
   "metadata": {},
   "outputs": [
    {
     "name": "stdout",
     "output_type": "stream",
     "text": [
      "Please enter a sentence:an apple a day keeps doctor away\n",
      "\n",
      "將英文句子以空白字元切割後，獲得單字為 ['an', 'apple', 'a', 'day', 'keeps', 'doctor', 'away']\n",
      "\n",
      "以空白字元結合所有單字後，獲得句子為 an apple a day keeps doctor away\n",
      "\n",
      "將每個單字字首轉大寫後，獲得句子為 An Apple A Day Keeps Doctor Away\n"
     ]
    }
   ],
   "source": [
    "# 字串處理\n",
    "\n",
    "s = input('Please enter a sentence:')\n",
    "\n",
    "words = s.split(' ')\n",
    "print(f'\\n將英文句子以空白字元切割後，獲得單字為 {words}')\n",
    "\n",
    "sentence = ' '.join(words)\n",
    "print(f'\\n以空白字元結合所有單字後，獲得句子為 {sentence}')\n",
    "\n",
    "title = sentence.title()\n",
    "print(f'\\n將每個單字字首轉大寫後，獲得句子為 {title}')"
   ]
  },
  {
   "cell_type": "code",
   "execution_count": null,
   "id": "fde10759",
   "metadata": {},
   "outputs": [],
   "source": []
  }
 ],
 "metadata": {
  "kernelspec": {
   "display_name": "Python 3 (ipykernel)",
   "language": "python",
   "name": "python3"
  },
  "language_info": {
   "codemirror_mode": {
    "name": "ipython",
    "version": 3
   },
   "file_extension": ".py",
   "mimetype": "text/x-python",
   "name": "python",
   "nbconvert_exporter": "python",
   "pygments_lexer": "ipython3",
   "version": "3.9.12"
  }
 },
 "nbformat": 4,
 "nbformat_minor": 5
}
