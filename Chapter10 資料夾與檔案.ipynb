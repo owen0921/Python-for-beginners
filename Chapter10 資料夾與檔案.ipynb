{
 "cells": [
  {
   "cell_type": "markdown",
   "id": "d0dd10d9",
   "metadata": {},
   "source": [
    "# 資料夾與檔案相關模組"
   ]
  },
  {
   "cell_type": "markdown",
   "id": "3519d01e",
   "metadata": {},
   "source": [
    "**模組os內有許多資料夾與檔案的函式可以使用，可以對資料夾與檔案進行存取與管理，重要的資料夾與檔案函式如下:**"
   ]
  },
  {
   "cell_type": "markdown",
   "id": "d8e1540c",
   "metadata": {},
   "source": [
    "- `os.getcwd()`: 回傳目前所在的資料夾\n",
    "- `os.chdir(path)`: 改變到path所指定的資料夾下\n",
    "- `os.mkdir(path, dir_fd=None)`: 建立path所指定的資料夾，path所指定的資料夾不能事先存在。若dir_fd有設定資料夾路徑，則path為相對路徑，path前須加上dir_fd，建立的資料夾為dir_fd\\\\path，若dir_fd為None則path為絕對路徑\n",
    "- `os.rmdir(path, *, dir_fd=None)`: 刪除path所指定的資料夾，但該資料夾需要是空的才能刪除。若dir_fd有設定資料夾路徑，則path為相對路徑，path前面須加上dir_fd，刪除的檔案為dir_fd\\\\path，若dir_fd為None則path為絕對路徑\n",
    "- `os.remove(path, dir_fd=None)`: 刪除path所指定的檔案，若dir_fd有設定資料夾路徑，則path為相對路徑，path前須加上dir_fd，刪除的檔案為dir_fd\\\\path，若dir_fd為None則path為絕對路徑\n",
    "- `os.listdir(path='.')`: 以串列回傳path所指定資料夾下的檔案與資料夾\n",
    "- `os.path.abspath(path)`: 將path所指定的相對路徑轉換成絕對路徑\n",
    "- `os.path.join(path, *paths)`: 回傳path結合*paths的資料夾或檔案路徑\n",
    "- `os.walk(top, topdown=True, onerror=None, followlinks=False)`: 遞迴方式走訪top所指定的資料夾，預設使用topdown方式，由上而下，回傳一個tuple包含三個元素(dirpath, dirnames, filenames)\n",
    "    - dirpath是字串，表示資料夾的絕對路徑\n",
    "    - dirnames是串列，表示dirpath下的所有子資料夾\n",
    "    - filenames是串列，表示dirpath下的所有非資料夾的元素\n",
    "- `os.path.isfile(path)`: 檢查path所指定的檔案或資料夾是否為檔案，若是檔案則回傳True，否則回傳False\n",
    "- `os.path.isdir(path)`: 檢查path所指定的檔案或資料夾是否為資料夾，若是資料夾則回傳True，否則回傳False\n",
    "- `os.path.exists(path)`: 檢查path所指定的檔案或資料夾是否存在，若是則回傳True，否則回傳False\n",
    "- `os.path.getsize(path)`: 回傳path所指定檔案的大小，`單位為byte`"
   ]
  },
  {
   "cell_type": "code",
   "execution_count": 1,
   "id": "122b1ea2",
   "metadata": {},
   "outputs": [],
   "source": [
    "import os"
   ]
  },
  {
   "cell_type": "code",
   "execution_count": 2,
   "id": "504df063",
   "metadata": {},
   "outputs": [
    {
     "name": "stdout",
     "output_type": "stream",
     "text": [
      "C:\\Users\\315\\python程式設計\n"
     ]
    }
   ],
   "source": [
    "print(os.getcwd())"
   ]
  },
  {
   "cell_type": "code",
   "execution_count": 3,
   "id": "0e5b9b3c",
   "metadata": {},
   "outputs": [
    {
     "name": "stdout",
     "output_type": "stream",
     "text": [
      "C:\\Riot Games\\VALORANT\n"
     ]
    }
   ],
   "source": [
    "os.chdir('C:\\Riot Games\\VALORANT')\n",
    "print(os.getcwd())"
   ]
  },
  {
   "cell_type": "code",
   "execution_count": 5,
   "id": "29b9d2ee",
   "metadata": {
    "scrolled": false
   },
   "outputs": [],
   "source": [
    "os.mkdir('C:\\\\test1') # 建立C磁碟下的test資料夾"
   ]
  },
  {
   "cell_type": "code",
   "execution_count": 12,
   "id": "2604bf96",
   "metadata": {},
   "outputs": [],
   "source": [
    "os.rmdir('C:\\\\test') # 刪除C磁碟下的test資料夾"
   ]
  },
  {
   "cell_type": "code",
   "execution_count": 13,
   "id": "9247acf5",
   "metadata": {},
   "outputs": [],
   "source": [
    "os.mkdir('C:\\\\test') # 建立C磁碟下的test資料夾"
   ]
  },
  {
   "cell_type": "code",
   "execution_count": 6,
   "id": "dcd06434",
   "metadata": {},
   "outputs": [
    {
     "ename": "OSError",
     "evalue": "[WinError 123] 檔案名稱、目錄名稱或磁碟區標籤語法錯誤。: 'C:\\test.chm'",
     "output_type": "error",
     "traceback": [
      "\u001b[1;31m---------------------------------------------------------------------------\u001b[0m",
      "\u001b[1;31mOSError\u001b[0m                                   Traceback (most recent call last)",
      "Input \u001b[1;32mIn [6]\u001b[0m, in \u001b[0;36m<cell line: 1>\u001b[1;34m()\u001b[0m\n\u001b[1;32m----> 1\u001b[0m \u001b[43mos\u001b[49m\u001b[38;5;241;43m.\u001b[39;49m\u001b[43mremove\u001b[49m\u001b[43m(\u001b[49m\u001b[38;5;124;43m'\u001b[39;49m\u001b[38;5;124;43mC:\u001b[39;49m\u001b[38;5;130;43;01m\\t\u001b[39;49;00m\u001b[38;5;124;43mest.chm\u001b[39;49m\u001b[38;5;124;43m'\u001b[39;49m\u001b[43m)\u001b[49m\n",
      "\u001b[1;31mOSError\u001b[0m: [WinError 123] 檔案名稱、目錄名稱或磁碟區標籤語法錯誤。: 'C:\\test.chm'"
     ]
    }
   ],
   "source": [
    "os.remove('C:\\test.chm') # 刪除檔案C磁碟下的檔案test.chm"
   ]
  },
  {
   "cell_type": "code",
   "execution_count": 7,
   "id": "a9b630b8",
   "metadata": {},
   "outputs": [
    {
     "name": "stdout",
     "output_type": "stream",
     "text": [
      "['live']\n"
     ]
    }
   ],
   "source": [
    "print(os.listdir('C:\\Riot Games\\VALORANT')) # 以串列回傳path所指定資料夾下的檔案與資料夾"
   ]
  },
  {
   "cell_type": "code",
   "execution_count": 8,
   "id": "3d396ad1",
   "metadata": {},
   "outputs": [
    {
     "name": "stdout",
     "output_type": "stream",
     "text": [
      "C:\\Riot Games\\VALORANT\n"
     ]
    }
   ],
   "source": [
    "print(os.path.abspath('.')) #將path所指定的相對路徑轉換成絕對路徑"
   ]
  },
  {
   "cell_type": "code",
   "execution_count": 10,
   "id": "2f188528",
   "metadata": {},
   "outputs": [
    {
     "name": "stdout",
     "output_type": "stream",
     "text": [
      "C:\\test\\zsg.jpg\n"
     ]
    }
   ],
   "source": [
    "root = 'C:\\\\test'\n",
    "file = 'zsg.jpg'\n",
    "print(os.path.join(root, file)) # 回傳path結合*paths的資料夾或檔案路徑"
   ]
  },
  {
   "cell_type": "code",
   "execution_count": 14,
   "id": "7c5b15b3",
   "metadata": {},
   "outputs": [
    {
     "name": "stdout",
     "output_type": "stream",
     "text": [
      "C:\\test\\test.txt\n"
     ]
    }
   ],
   "source": [
    "path = 'C:\\\\test'\n",
    "for root, dirs, files in os.walk(path):\n",
    "    for file in files:\n",
    "        print(os.path.join(root, file))"
   ]
  },
  {
   "cell_type": "code",
   "execution_count": 15,
   "id": "1e8558d8",
   "metadata": {},
   "outputs": [
    {
     "name": "stdout",
     "output_type": "stream",
     "text": [
      "False\n"
     ]
    }
   ],
   "source": [
    "print(os.path.isfile('C:\\\\\\\\Windows'))"
   ]
  },
  {
   "cell_type": "code",
   "execution_count": 16,
   "id": "713c62a8",
   "metadata": {},
   "outputs": [
    {
     "name": "stdout",
     "output_type": "stream",
     "text": [
      "True\n"
     ]
    }
   ],
   "source": [
    "print(os.path.isdir('C:\\\\\\\\Windows'))"
   ]
  },
  {
   "cell_type": "code",
   "execution_count": 17,
   "id": "0752525a",
   "metadata": {},
   "outputs": [
    {
     "name": "stdout",
     "output_type": "stream",
     "text": [
      "True\n"
     ]
    }
   ],
   "source": [
    "print(os.path.exists('C:\\\\\\\\Windows'))"
   ]
  },
  {
   "cell_type": "code",
   "execution_count": 18,
   "id": "5d97b921",
   "metadata": {},
   "outputs": [
    {
     "name": "stdout",
     "output_type": "stream",
     "text": [
      "20480\n"
     ]
    }
   ],
   "source": [
    "print(os.path.getsize('C:\\\\\\\\Windows')) # 回傳單位為byte"
   ]
  },
  {
   "cell_type": "markdown",
   "id": "56faf99b",
   "metadata": {},
   "source": [
    "**其他檔案與資料夾相關模組的重要函式如下:**"
   ]
  },
  {
   "cell_type": "markdown",
   "id": "79865c35",
   "metadata": {},
   "source": [
    "- `glob.glob(pathname)`: 找出pathname所指定類型的檔案\n",
    "- `fnmatch.fnmatch(filename, pattern)`: 檢查filename是否滿足pattern，若滿足pattern則回傳True，否則回傳False\n",
    "- `fnmatch.filter(names, pattern)`: 可以使用pattern過濾names所匯入的檔案名稱串列，只找出pattern所指定的副檔名\n",
    "- `str.endswith(suffix)`: 字串是否以suffix結尾"
   ]
  },
  {
   "cell_type": "code",
   "execution_count": 19,
   "id": "c57db672",
   "metadata": {},
   "outputs": [
    {
     "name": "stdout",
     "output_type": "stream",
     "text": [
      "['Manifest_DebugFiles_Win64.txt', 'Manifest_NonUFSFiles_Win64.txt']\n"
     ]
    }
   ],
   "source": [
    "import os, glob\n",
    "path = 'C:\\\\\\\\Riot Games\\\\VALORANT\\\\live'\n",
    "os.chdir(path)\n",
    "print(glob.glob('*.txt')) # * 表示任何檔案名稱"
   ]
  },
  {
   "cell_type": "code",
   "execution_count": 20,
   "id": "3d9438b4",
   "metadata": {},
   "outputs": [
    {
     "name": "stdout",
     "output_type": "stream",
     "text": [
      "True\n"
     ]
    }
   ],
   "source": [
    "import os, glob, fnmatch\n",
    "path = 'C:\\\\Riot Games\\\\VALORANT\\\\live'\n",
    "os.chdir(path)\n",
    "files = glob.glob('*.exe')\n",
    "for file in files:\n",
    "    print(fnmatch.fnmatch(file, '*.exe'))"
   ]
  },
  {
   "cell_type": "code",
   "execution_count": 21,
   "id": "c4758db7",
   "metadata": {},
   "outputs": [
    {
     "name": "stdout",
     "output_type": "stream",
     "text": [
      "['Manifest_DebugFiles_Win64.txt', 'Manifest_NonUFSFiles_Win64.txt']\n"
     ]
    }
   ],
   "source": [
    "import os, glob, fnmatch\n",
    "path = 'C:\\\\Riot Games\\\\VALORANT\\\\live'\n",
    "os.chdir(path)\n",
    "files = glob.glob('*.txt')\n",
    "print(fnmatch.filter(files, '*.txt'))"
   ]
  },
  {
   "cell_type": "code",
   "execution_count": 33,
   "id": "8882aced",
   "metadata": {},
   "outputs": [
    {
     "name": "stdout",
     "output_type": "stream",
     "text": [
      "Manifest_DebugFiles_Win64.txt\n",
      "Manifest_NonUFSFiles_Win64.txt\n"
     ]
    }
   ],
   "source": [
    "path = 'C:\\\\Riot Games\\\\VALORANT\\\\live'\n",
    "os.chdir(path)\n",
    "files = glob.glob('*.txt')\n",
    "for file in files:\n",
    "    if file.endswith('.txt'):\n",
    "        print(file)\n",
    "    else:\n",
    "         print('找不到所指定的檔案')"
   ]
  },
  {
   "cell_type": "markdown",
   "id": "de04b4de",
   "metadata": {},
   "source": [
    "## 找出C磁碟下的檔案與資料夾"
   ]
  },
  {
   "cell_type": "markdown",
   "id": "32e4c2fa",
   "metadata": {},
   "source": [
    "**使用`os.listdir`找出路徑下的檔案與資料夾，接著利用`os.path.isdir`判斷是否為資料夾，將檔案前加上`檔案:`，資料夾前面加上`資料夾:`**"
   ]
  },
  {
   "cell_type": "code",
   "execution_count": 23,
   "id": "799ffe30",
   "metadata": {},
   "outputs": [
    {
     "name": "stdout",
     "output_type": "stream",
     "text": [
      "C:\\\n",
      "資料夾: $Recycle.Bin\n",
      "資料夾: $SysReset\n",
      "資料夾: $WinREAgent\n",
      "檔案: .GamingRoot\n",
      "資料夾: Documents and Settings\n",
      "檔案: DumpStack.log\n",
      "檔案: DumpStack.log.tmp\n",
      "檔案: hiberfil.sys\n",
      "資料夾: hp\n",
      "資料夾: hpswsetup\n",
      "資料夾: Intel\n",
      "資料夾: Microsoft\n",
      "資料夾: OneDriveTemp\n",
      "檔案: pagefile.sys\n",
      "資料夾: PerfLogs\n",
      "資料夾: Program Files\n",
      "資料夾: Program Files (x86)\n",
      "資料夾: ProgramData\n",
      "資料夾: Recovery\n",
      "資料夾: Riot Games\n",
      "資料夾: RM\n",
      "檔案: swapfile.sys\n",
      "資料夾: SWSetup\n",
      "資料夾: System Volume Information\n",
      "資料夾: System.sav\n",
      "資料夾: test\n",
      "資料夾: Users\n",
      "資料夾: Windows\n",
      "資料夾: xampp\n",
      "資料夾: XboxGames\n"
     ]
    }
   ],
   "source": [
    "import os\n",
    "os.chdir('C:\\\\')\n",
    "print(os.getcwd()) # 確認目前位置\n",
    "fds = os.listdir('C:\\\\')\n",
    "for fd in fds:\n",
    "    if os.path.isdir(fd):\n",
    "        print(f'資料夾: {fd}')\n",
    "    else:\n",
    "        print(f'檔案: {fd}')"
   ]
  },
  {
   "cell_type": "markdown",
   "id": "de5fa178",
   "metadata": {},
   "source": [
    "## 使用串列生成式找出C磁碟下的檔案與資料夾"
   ]
  },
  {
   "cell_type": "markdown",
   "id": "e0909e54",
   "metadata": {},
   "source": [
    "**使用`os.listdir`找出路徑下的檔案與資料夾，接著利用`os.path.isfile`判斷是否為檔案，將檔案儲存到串列files，接著利用`os.path.isdir`判斷是否為資料夾，將資料夾儲存到串列dirs，分開顯示檔案與資料夾**"
   ]
  },
  {
   "cell_type": "code",
   "execution_count": 25,
   "id": "92762a63",
   "metadata": {},
   "outputs": [
    {
     "name": "stdout",
     "output_type": "stream",
     "text": [
      "目前路徑為C:\\\n",
      "========================================\n",
      "檔案為['.GamingRoot', 'DumpStack.log', 'DumpStack.log.tmp', 'hiberfil.sys', 'pagefile.sys', 'swapfile.sys']\n",
      "========================================\n",
      "資料夾為['$Recycle.Bin', '$SysReset', '$WinREAgent', 'Documents and Settings', 'hp', 'hpswsetup', 'Intel', 'Microsoft', 'OneDriveTemp', 'PerfLogs', 'Program Files', 'Program Files (x86)', 'ProgramData', 'Recovery', 'Riot Games', 'RM', 'SWSetup', 'System Volume Information', 'System.sav', 'test', 'Users', 'Windows', 'xampp', 'XboxGames']\n"
     ]
    }
   ],
   "source": [
    "import os\n",
    "path = 'C:\\\\'\n",
    "print(f'目前路徑為{os.getcwd()}')\n",
    "print('=' * 40)\n",
    "\n",
    "files = [f for f in os.listdir(path) if os.path.isfile(os.path.join(path, f))]\n",
    "dirs = [d for d in os.listdir(path) if os.path.isdir(os.path.join(path, d))]\n",
    "print(f'檔案為{files}')\n",
    "print('=' * 40)\n",
    "print(f'資料夾為{dirs}')"
   ]
  },
  {
   "cell_type": "markdown",
   "id": "184db004",
   "metadata": {},
   "source": [
    "## 使用模組glob列出副檔名為py的檔案"
   ]
  },
  {
   "cell_type": "markdown",
   "id": "557d0f17",
   "metadata": {},
   "source": [
    "**使用`os.chdir`切換到指定的資料夾，接著使用`glob.glob`可以找出特定副檔名的檔案，使用`*.py`就可以找出副檔名為py的檔案，`*`表示任何檔案名稱**"
   ]
  },
  {
   "cell_type": "code",
   "execution_count": 30,
   "id": "5a22edfe",
   "metadata": {},
   "outputs": [
    {
     "name": "stdout",
     "output_type": "stream",
     "text": [
      "test1.py\n",
      "test2.py\n"
     ]
    }
   ],
   "source": [
    "import os, glob\n",
    "path = 'C:\\\\test'\n",
    "os.chdir(path)\n",
    "for file in glob.glob('*.py'):\n",
    "    print(file)"
   ]
  },
  {
   "cell_type": "markdown",
   "id": "673a1fdb",
   "metadata": {},
   "source": [
    "## 使用遞迴列出所有資料夾與檔案"
   ]
  },
  {
   "cell_type": "markdown",
   "id": "6f91348e",
   "metadata": {},
   "source": [
    "**自訂函式`find_dir`**\n",
    "- 使用模組os的函式listdir列出指定資料夾下的所有資料夾與檔案，將結果儲存到變數fds\n",
    "- 使用for迴圈依序取出變數fds的每個元素\n",
    "- 若該元素是資料夾，則使用遞迴方式呼叫函式find_dir列出資料夾下的所有檔案與資料夾"
   ]
  },
  {
   "cell_type": "code",
   "execution_count": 32,
   "id": "c240fa14",
   "metadata": {},
   "outputs": [
    {
     "name": "stdout",
     "output_type": "stream",
     "text": [
      "檔案 C:\\test\\test.txt\n",
      "檔案 C:\\test\\test1.py\n",
      "檔案 C:\\test\\test2.py\n",
      "資料夾 C:\\test\\test_dir\n",
      "資料夾 C:\\test\\test_dir1\n",
      "檔案 C:\\test\\test_dir1\\hi.txt\n",
      "檔案 C:\\test\\test_dir1\\wow.txt\n",
      "資料夾 C:\\test\\test_dir2\n",
      "資料夾 C:\\test\\test_dir2\\hello_world\n"
     ]
    }
   ],
   "source": [
    "import os\n",
    "path = 'C:\\\\test'\n",
    "def find_dir(dirs):\n",
    "    fds = os.listdir(dirs)\n",
    "    for fd in fds:\n",
    "        full_path = os.path.join(dirs, fd)\n",
    "        if os.path.isdir(full_path):\n",
    "            print('資料夾', full_path)\n",
    "            find_dir(full_path)\n",
    "        else:\n",
    "            print('檔案', full_path)\n",
    "find_dir(path)"
   ]
  },
  {
   "cell_type": "markdown",
   "id": "437370e4",
   "metadata": {},
   "source": [
    "## 使用*os.walk*列出所有Python檔案"
   ]
  },
  {
   "cell_type": "markdown",
   "id": "e486bd17",
   "metadata": {},
   "source": [
    "**使用`os.walk`會自動遞迴列出所有資料夾與檔案，接著使用`file.endswith('.py')`找出結尾是`.py`的檔案**"
   ]
  },
  {
   "cell_type": "code",
   "execution_count": 35,
   "id": "bb7f41c5",
   "metadata": {},
   "outputs": [
    {
     "name": "stdout",
     "output_type": "stream",
     "text": [
      "C:\\test\\test1.py\n",
      "C:\\test\\test2.py\n"
     ]
    }
   ],
   "source": [
    "import os\n",
    "path = 'C:\\\\test'\n",
    "\n",
    "# os.walk會回傳(dirpath, dirnames, filenames)\n",
    "for root, dirs, files in os.walk(path):\n",
    "    for file in files:\n",
    "        if file.endswith('.py'):\n",
    "            print(os.path.join(root, file))"
   ]
  },
  {
   "cell_type": "markdown",
   "id": "e5c73972",
   "metadata": {},
   "source": [
    "## 使用os.walk列出所有JPG與PNG檔案"
   ]
  },
  {
   "cell_type": "markdown",
   "id": "6f4de708",
   "metadata": {},
   "source": [
    "**使用`os.walk`會自動遞迴列出所有資料夾與檔案，接著使用`fnmatch.filter`，只將JPG與PNG檔案儲存到串列matches中**"
   ]
  },
  {
   "cell_type": "code",
   "execution_count": 39,
   "id": "0a2ace82",
   "metadata": {},
   "outputs": [
    {
     "name": "stdout",
     "output_type": "stream",
     "text": [
      "C:\\$Recycle.Bin\\S-1-5-21-3935977965-1637398792-515658474-1001\\$I0Q3AFW.jpg\n",
      "C:\\$Recycle.Bin\\S-1-5-21-3935977965-1637398792-515658474-1001\\$I64Z98W.jpg\n",
      "C:\\$Recycle.Bin\\S-1-5-21-3935977965-1637398792-515658474-1001\\$ICFKNP4.jpg\n",
      "C:\\$Recycle.Bin\\S-1-5-21-3935977965-1637398792-515658474-1001\\$ILUDKSO.jpg\n",
      "C:\\$Recycle.Bin\\S-1-5-21-3935977965-1637398792-515658474-1001\\$IRXGQGB.jpg\n",
      "C:\\$Recycle.Bin\\S-1-5-21-3935977965-1637398792-515658474-1001\\$ITY7EQC.jpg\n",
      "C:\\$Recycle.Bin\\S-1-5-21-3935977965-1637398792-515658474-1001\\$IW1Q9WZ.jpg\n",
      "C:\\$Recycle.Bin\\S-1-5-21-3935977965-1637398792-515658474-1001\\$IYF1S23.jpg\n",
      "C:\\$Recycle.Bin\\S-1-5-21-3935977965-1637398792-515658474-1001\\$R5J55CV.lcv\\Assets\\Installer.150x150.contrast-black_scale-100.png\n",
      "C:\\$Recycle.Bin\\S-1-5-21-3935977965-1637398792-515658474-1001\\$R5J55CV.lcv\\Assets\\Installer.150x150.contrast-black_scale-140.png\n",
      "C:\\$Recycle.Bin\\S-1-5-21-3935977965-1637398792-515658474-1001\\$R5J55CV.lcv\\Assets\\Installer.150x150.contrast-black_scale-180.png\n",
      "C:\\$Recycle.Bin\\S-1-5-21-3935977965-1637398792-515658474-1001\\$R5J55CV.lcv\\Assets\\Installer.150x150.contrast-black_scale-80.png\n",
      "C:\\$Recycle.Bin\\S-1-5-21-3935977965-1637398792-515658474-1001\\$R5J55CV.lcv\\Assets\\Installer.150x150.contrast-standard_scale-100.png\n",
      "C:\\$Recycle.Bin\\S-1-5-21-3935977965-1637398792-515658474-1001\\$R5J55CV.lcv\\Assets\\Installer.150x150.contrast-standard_scale-140.png\n",
      "C:\\$Recycle.Bin\\S-1-5-21-3935977965-1637398792-515658474-1001\\$R5J55CV.lcv\\Assets\\Installer.150x150.contrast-standard_scale-180.png\n",
      "C:\\$Recycle.Bin\\S-1-5-21-3935977965-1637398792-515658474-1001\\$R5J55CV.lcv\\Assets\\Installer.150x150.contrast-standard_scale-80.png\n",
      "C:\\$Recycle.Bin\\S-1-5-21-3935977965-1637398792-515658474-1001\\$R5J55CV.lcv\\Assets\\Installer.150x150.contrast-white_scale-100.png\n",
      "C:\\$Recycle.Bin\\S-1-5-21-3935977965-1637398792-515658474-1001\\$R5J55CV.lcv\\Assets\\Installer.150x150.contrast-white_scale-140.png\n",
      "C:\\$Recycle.Bin\\S-1-5-21-3935977965-1637398792-515658474-1001\\$R5J55CV.lcv\\Assets\\Installer.150x150.contrast-white_scale-180.png\n",
      "C:\\$Recycle.Bin\\S-1-5-21-3935977965-1637398792-515658474-1001\\$R5J55CV.lcv\\Assets\\Installer.150x150.contrast-white_scale-80.png\n",
      "C:\\$Recycle.Bin\\S-1-5-21-3935977965-1637398792-515658474-1001\\$R5J55CV.lcv\\Assets\\Installer.70x70.contrast-black_scale-100.png\n",
      "C:\\$Recycle.Bin\\S-1-5-21-3935977965-1637398792-515658474-1001\\$R5J55CV.lcv\\Assets\\Installer.70x70.contrast-black_scale-140.png\n",
      "C:\\$Recycle.Bin\\S-1-5-21-3935977965-1637398792-515658474-1001\\$R5J55CV.lcv\\Assets\\Installer.70x70.contrast-black_scale-180.png\n",
      "C:\\$Recycle.Bin\\S-1-5-21-3935977965-1637398792-515658474-1001\\$R5J55CV.lcv\\Assets\\Installer.70x70.contrast-black_scale-80.png\n",
      "C:\\$Recycle.Bin\\S-1-5-21-3935977965-1637398792-515658474-1001\\$R5J55CV.lcv\\Assets\\Installer.70x70.contrast-standard_scale-100.png\n",
      "C:\\$Recycle.Bin\\S-1-5-21-3935977965-1637398792-515658474-1001\\$R5J55CV.lcv\\Assets\\Installer.70x70.contrast-standard_scale-140.png\n",
      "C:\\$Recycle.Bin\\S-1-5-21-3935977965-1637398792-515658474-1001\\$R5J55CV.lcv\\Assets\\Installer.70x70.contrast-standard_scale-180.png\n",
      "C:\\$Recycle.Bin\\S-1-5-21-3935977965-1637398792-515658474-1001\\$R5J55CV.lcv\\Assets\\Installer.70x70.contrast-standard_scale-80.png\n",
      "C:\\$Recycle.Bin\\S-1-5-21-3935977965-1637398792-515658474-1001\\$R5J55CV.lcv\\Assets\\Installer.70x70.contrast-white_scale-100.png\n",
      "C:\\$Recycle.Bin\\S-1-5-21-3935977965-1637398792-515658474-1001\\$R5J55CV.lcv\\Assets\\Installer.70x70.contrast-white_scale-140.png\n",
      "C:\\$Recycle.Bin\\S-1-5-21-3935977965-1637398792-515658474-1001\\$R5J55CV.lcv\\Assets\\Installer.70x70.contrast-white_scale-180.png\n",
      "C:\\$Recycle.Bin\\S-1-5-21-3935977965-1637398792-515658474-1001\\$R5J55CV.lcv\\Assets\\Installer.70x70.contrast-white_scale-80.png\n",
      "C:\\$Recycle.Bin\\S-1-5-21-3935977965-1637398792-515658474-1001\\$RDR5UNN.ham\\Assets\\Installer.150x150.contrast-black_scale-100.png\n",
      "C:\\$Recycle.Bin\\S-1-5-21-3935977965-1637398792-515658474-1001\\$RDR5UNN.ham\\Assets\\Installer.150x150.contrast-black_scale-140.png\n",
      "C:\\$Recycle.Bin\\S-1-5-21-3935977965-1637398792-515658474-1001\\$RDR5UNN.ham\\Assets\\Installer.150x150.contrast-black_scale-180.png\n",
      "C:\\$Recycle.Bin\\S-1-5-21-3935977965-1637398792-515658474-1001\\$RDR5UNN.ham\\Assets\\Installer.150x150.contrast-black_scale-80.png\n",
      "C:\\$Recycle.Bin\\S-1-5-21-3935977965-1637398792-515658474-1001\\$RDR5UNN.ham\\Assets\\Installer.150x150.contrast-standard_scale-100.png\n",
      "C:\\$Recycle.Bin\\S-1-5-21-3935977965-1637398792-515658474-1001\\$RDR5UNN.ham\\Assets\\Installer.150x150.contrast-standard_scale-140.png\n",
      "C:\\$Recycle.Bin\\S-1-5-21-3935977965-1637398792-515658474-1001\\$RDR5UNN.ham\\Assets\\Installer.150x150.contrast-standard_scale-180.png\n",
      "C:\\$Recycle.Bin\\S-1-5-21-3935977965-1637398792-515658474-1001\\$RDR5UNN.ham\\Assets\\Installer.150x150.contrast-standard_scale-80.png\n",
      "C:\\$Recycle.Bin\\S-1-5-21-3935977965-1637398792-515658474-1001\\$RDR5UNN.ham\\Assets\\Installer.150x150.contrast-white_scale-100.png\n",
      "C:\\$Recycle.Bin\\S-1-5-21-3935977965-1637398792-515658474-1001\\$RDR5UNN.ham\\Assets\\Installer.150x150.contrast-white_scale-140.png\n",
      "C:\\$Recycle.Bin\\S-1-5-21-3935977965-1637398792-515658474-1001\\$RDR5UNN.ham\\Assets\\Installer.150x150.contrast-white_scale-180.png\n",
      "C:\\$Recycle.Bin\\S-1-5-21-3935977965-1637398792-515658474-1001\\$RDR5UNN.ham\\Assets\\Installer.150x150.contrast-white_scale-80.png\n",
      "C:\\$Recycle.Bin\\S-1-5-21-3935977965-1637398792-515658474-1001\\$RDR5UNN.ham\\Assets\\Installer.70x70.contrast-black_scale-100.png\n",
      "C:\\$Recycle.Bin\\S-1-5-21-3935977965-1637398792-515658474-1001\\$RDR5UNN.ham\\Assets\\Installer.70x70.contrast-black_scale-140.png\n",
      "C:\\$Recycle.Bin\\S-1-5-21-3935977965-1637398792-515658474-1001\\$RDR5UNN.ham\\Assets\\Installer.70x70.contrast-black_scale-180.png\n",
      "C:\\$Recycle.Bin\\S-1-5-21-3935977965-1637398792-515658474-1001\\$RDR5UNN.ham\\Assets\\Installer.70x70.contrast-black_scale-80.png\n",
      "C:\\$Recycle.Bin\\S-1-5-21-3935977965-1637398792-515658474-1001\\$RDR5UNN.ham\\Assets\\Installer.70x70.contrast-standard_scale-100.png\n",
      "C:\\$Recycle.Bin\\S-1-5-21-3935977965-1637398792-515658474-1001\\$RDR5UNN.ham\\Assets\\Installer.70x70.contrast-standard_scale-140.png\n",
      "C:\\$Recycle.Bin\\S-1-5-21-3935977965-1637398792-515658474-1001\\$RDR5UNN.ham\\Assets\\Installer.70x70.contrast-standard_scale-180.png\n",
      "C:\\$Recycle.Bin\\S-1-5-21-3935977965-1637398792-515658474-1001\\$RDR5UNN.ham\\Assets\\Installer.70x70.contrast-standard_scale-80.png\n",
      "C:\\$Recycle.Bin\\S-1-5-21-3935977965-1637398792-515658474-1001\\$RDR5UNN.ham\\Assets\\Installer.70x70.contrast-white_scale-100.png\n",
      "C:\\$Recycle.Bin\\S-1-5-21-3935977965-1637398792-515658474-1001\\$RDR5UNN.ham\\Assets\\Installer.70x70.contrast-white_scale-140.png\n",
      "C:\\$Recycle.Bin\\S-1-5-21-3935977965-1637398792-515658474-1001\\$RDR5UNN.ham\\Assets\\Installer.70x70.contrast-white_scale-180.png\n",
      "C:\\$Recycle.Bin\\S-1-5-21-3935977965-1637398792-515658474-1001\\$RDR5UNN.ham\\Assets\\Installer.70x70.contrast-white_scale-80.png\n",
      "C:\\$Recycle.Bin\\S-1-5-21-3935977965-1637398792-515658474-1001\\$RJ8T4LY.vkn\\Assets\\Installer.150x150.contrast-black_scale-100.png\n",
      "C:\\$Recycle.Bin\\S-1-5-21-3935977965-1637398792-515658474-1001\\$RJ8T4LY.vkn\\Assets\\Installer.150x150.contrast-black_scale-140.png\n",
      "C:\\$Recycle.Bin\\S-1-5-21-3935977965-1637398792-515658474-1001\\$RJ8T4LY.vkn\\Assets\\Installer.150x150.contrast-black_scale-180.png\n",
      "C:\\$Recycle.Bin\\S-1-5-21-3935977965-1637398792-515658474-1001\\$RJ8T4LY.vkn\\Assets\\Installer.150x150.contrast-black_scale-80.png\n",
      "C:\\$Recycle.Bin\\S-1-5-21-3935977965-1637398792-515658474-1001\\$RJ8T4LY.vkn\\Assets\\Installer.150x150.contrast-standard_scale-100.png\n",
      "C:\\$Recycle.Bin\\S-1-5-21-3935977965-1637398792-515658474-1001\\$RJ8T4LY.vkn\\Assets\\Installer.150x150.contrast-standard_scale-140.png\n",
      "C:\\$Recycle.Bin\\S-1-5-21-3935977965-1637398792-515658474-1001\\$RJ8T4LY.vkn\\Assets\\Installer.150x150.contrast-standard_scale-180.png\n",
      "C:\\$Recycle.Bin\\S-1-5-21-3935977965-1637398792-515658474-1001\\$RJ8T4LY.vkn\\Assets\\Installer.150x150.contrast-standard_scale-80.png\n",
      "C:\\$Recycle.Bin\\S-1-5-21-3935977965-1637398792-515658474-1001\\$RJ8T4LY.vkn\\Assets\\Installer.150x150.contrast-white_scale-100.png\n",
      "C:\\$Recycle.Bin\\S-1-5-21-3935977965-1637398792-515658474-1001\\$RJ8T4LY.vkn\\Assets\\Installer.150x150.contrast-white_scale-140.png\n",
      "C:\\$Recycle.Bin\\S-1-5-21-3935977965-1637398792-515658474-1001\\$RJ8T4LY.vkn\\Assets\\Installer.150x150.contrast-white_scale-180.png\n",
      "C:\\$Recycle.Bin\\S-1-5-21-3935977965-1637398792-515658474-1001\\$RJ8T4LY.vkn\\Assets\\Installer.150x150.contrast-white_scale-80.png\n",
      "C:\\$Recycle.Bin\\S-1-5-21-3935977965-1637398792-515658474-1001\\$RJ8T4LY.vkn\\Assets\\Installer.70x70.contrast-black_scale-100.png\n",
      "C:\\$Recycle.Bin\\S-1-5-21-3935977965-1637398792-515658474-1001\\$RJ8T4LY.vkn\\Assets\\Installer.70x70.contrast-black_scale-140.png\n",
      "C:\\$Recycle.Bin\\S-1-5-21-3935977965-1637398792-515658474-1001\\$RJ8T4LY.vkn\\Assets\\Installer.70x70.contrast-black_scale-180.png\n",
      "C:\\$Recycle.Bin\\S-1-5-21-3935977965-1637398792-515658474-1001\\$RJ8T4LY.vkn\\Assets\\Installer.70x70.contrast-black_scale-80.png\n",
      "C:\\$Recycle.Bin\\S-1-5-21-3935977965-1637398792-515658474-1001\\$RJ8T4LY.vkn\\Assets\\Installer.70x70.contrast-standard_scale-100.png\n",
      "C:\\$Recycle.Bin\\S-1-5-21-3935977965-1637398792-515658474-1001\\$RJ8T4LY.vkn\\Assets\\Installer.70x70.contrast-standard_scale-140.png\n",
      "C:\\$Recycle.Bin\\S-1-5-21-3935977965-1637398792-515658474-1001\\$RJ8T4LY.vkn\\Assets\\Installer.70x70.contrast-standard_scale-180.png\n",
      "C:\\$Recycle.Bin\\S-1-5-21-3935977965-1637398792-515658474-1001\\$RJ8T4LY.vkn\\Assets\\Installer.70x70.contrast-standard_scale-80.png\n",
      "C:\\$Recycle.Bin\\S-1-5-21-3935977965-1637398792-515658474-1001\\$RJ8T4LY.vkn\\Assets\\Installer.70x70.contrast-white_scale-100.png\n",
      "C:\\$Recycle.Bin\\S-1-5-21-3935977965-1637398792-515658474-1001\\$RJ8T4LY.vkn\\Assets\\Installer.70x70.contrast-white_scale-140.png\n",
      "C:\\$Recycle.Bin\\S-1-5-21-3935977965-1637398792-515658474-1001\\$RJ8T4LY.vkn\\Assets\\Installer.70x70.contrast-white_scale-180.png\n",
      "C:\\$Recycle.Bin\\S-1-5-21-3935977965-1637398792-515658474-1001\\$RJ8T4LY.vkn\\Assets\\Installer.70x70.contrast-white_scale-80.png\n",
      "C:\\$Recycle.Bin\\S-1-5-21-3935977965-1637398792-515658474-1001\\$RKT87XQ.1ek\\Assets\\Installer.150x150.contrast-black_scale-100.png\n",
      "C:\\$Recycle.Bin\\S-1-5-21-3935977965-1637398792-515658474-1001\\$RKT87XQ.1ek\\Assets\\Installer.150x150.contrast-black_scale-140.png\n",
      "C:\\$Recycle.Bin\\S-1-5-21-3935977965-1637398792-515658474-1001\\$RKT87XQ.1ek\\Assets\\Installer.150x150.contrast-black_scale-180.png\n",
      "C:\\$Recycle.Bin\\S-1-5-21-3935977965-1637398792-515658474-1001\\$RKT87XQ.1ek\\Assets\\Installer.150x150.contrast-black_scale-80.png\n",
      "C:\\$Recycle.Bin\\S-1-5-21-3935977965-1637398792-515658474-1001\\$RKT87XQ.1ek\\Assets\\Installer.150x150.contrast-standard_scale-100.png\n",
      "C:\\$Recycle.Bin\\S-1-5-21-3935977965-1637398792-515658474-1001\\$RKT87XQ.1ek\\Assets\\Installer.150x150.contrast-standard_scale-140.png\n",
      "C:\\$Recycle.Bin\\S-1-5-21-3935977965-1637398792-515658474-1001\\$RKT87XQ.1ek\\Assets\\Installer.150x150.contrast-standard_scale-180.png\n",
      "C:\\$Recycle.Bin\\S-1-5-21-3935977965-1637398792-515658474-1001\\$RKT87XQ.1ek\\Assets\\Installer.150x150.contrast-standard_scale-80.png\n",
      "C:\\$Recycle.Bin\\S-1-5-21-3935977965-1637398792-515658474-1001\\$RKT87XQ.1ek\\Assets\\Installer.150x150.contrast-white_scale-100.png\n",
      "C:\\$Recycle.Bin\\S-1-5-21-3935977965-1637398792-515658474-1001\\$RKT87XQ.1ek\\Assets\\Installer.150x150.contrast-white_scale-140.png\n",
      "C:\\$Recycle.Bin\\S-1-5-21-3935977965-1637398792-515658474-1001\\$RKT87XQ.1ek\\Assets\\Installer.150x150.contrast-white_scale-180.png\n",
      "C:\\$Recycle.Bin\\S-1-5-21-3935977965-1637398792-515658474-1001\\$RKT87XQ.1ek\\Assets\\Installer.150x150.contrast-white_scale-80.png\n",
      "C:\\$Recycle.Bin\\S-1-5-21-3935977965-1637398792-515658474-1001\\$RKT87XQ.1ek\\Assets\\Installer.70x70.contrast-black_scale-100.png\n",
      "C:\\$Recycle.Bin\\S-1-5-21-3935977965-1637398792-515658474-1001\\$RKT87XQ.1ek\\Assets\\Installer.70x70.contrast-black_scale-140.png\n",
      "C:\\$Recycle.Bin\\S-1-5-21-3935977965-1637398792-515658474-1001\\$RKT87XQ.1ek\\Assets\\Installer.70x70.contrast-black_scale-180.png\n",
      "C:\\$Recycle.Bin\\S-1-5-21-3935977965-1637398792-515658474-1001\\$RKT87XQ.1ek\\Assets\\Installer.70x70.contrast-black_scale-80.png\n",
      "C:\\$Recycle.Bin\\S-1-5-21-3935977965-1637398792-515658474-1001\\$RKT87XQ.1ek\\Assets\\Installer.70x70.contrast-standard_scale-100.png\n",
      "C:\\$Recycle.Bin\\S-1-5-21-3935977965-1637398792-515658474-1001\\$RKT87XQ.1ek\\Assets\\Installer.70x70.contrast-standard_scale-140.png\n",
      "C:\\$Recycle.Bin\\S-1-5-21-3935977965-1637398792-515658474-1001\\$RKT87XQ.1ek\\Assets\\Installer.70x70.contrast-standard_scale-180.png\n",
      "C:\\$Recycle.Bin\\S-1-5-21-3935977965-1637398792-515658474-1001\\$RKT87XQ.1ek\\Assets\\Installer.70x70.contrast-standard_scale-80.png\n",
      "C:\\$Recycle.Bin\\S-1-5-21-3935977965-1637398792-515658474-1001\\$RKT87XQ.1ek\\Assets\\Installer.70x70.contrast-white_scale-100.png\n",
      "C:\\$Recycle.Bin\\S-1-5-21-3935977965-1637398792-515658474-1001\\$RKT87XQ.1ek\\Assets\\Installer.70x70.contrast-white_scale-140.png\n",
      "C:\\$Recycle.Bin\\S-1-5-21-3935977965-1637398792-515658474-1001\\$RKT87XQ.1ek\\Assets\\Installer.70x70.contrast-white_scale-180.png\n",
      "C:\\$Recycle.Bin\\S-1-5-21-3935977965-1637398792-515658474-1001\\$RKT87XQ.1ek\\Assets\\Installer.70x70.contrast-white_scale-80.png\n",
      "C:\\$Recycle.Bin\\S-1-5-21-3935977965-1637398792-515658474-1001\\$RKYLVSD.3ux\\Assets\\Installer.150x150.contrast-black_scale-100.png\n",
      "C:\\$Recycle.Bin\\S-1-5-21-3935977965-1637398792-515658474-1001\\$RKYLVSD.3ux\\Assets\\Installer.150x150.contrast-black_scale-140.png\n",
      "C:\\$Recycle.Bin\\S-1-5-21-3935977965-1637398792-515658474-1001\\$RKYLVSD.3ux\\Assets\\Installer.150x150.contrast-black_scale-180.png\n",
      "C:\\$Recycle.Bin\\S-1-5-21-3935977965-1637398792-515658474-1001\\$RKYLVSD.3ux\\Assets\\Installer.150x150.contrast-black_scale-80.png\n",
      "C:\\$Recycle.Bin\\S-1-5-21-3935977965-1637398792-515658474-1001\\$RKYLVSD.3ux\\Assets\\Installer.150x150.contrast-standard_scale-100.png\n",
      "C:\\$Recycle.Bin\\S-1-5-21-3935977965-1637398792-515658474-1001\\$RKYLVSD.3ux\\Assets\\Installer.150x150.contrast-standard_scale-140.png\n",
      "C:\\$Recycle.Bin\\S-1-5-21-3935977965-1637398792-515658474-1001\\$RKYLVSD.3ux\\Assets\\Installer.150x150.contrast-standard_scale-180.png\n",
      "C:\\$Recycle.Bin\\S-1-5-21-3935977965-1637398792-515658474-1001\\$RKYLVSD.3ux\\Assets\\Installer.150x150.contrast-standard_scale-80.png\n",
      "C:\\$Recycle.Bin\\S-1-5-21-3935977965-1637398792-515658474-1001\\$RKYLVSD.3ux\\Assets\\Installer.150x150.contrast-white_scale-100.png\n",
      "C:\\$Recycle.Bin\\S-1-5-21-3935977965-1637398792-515658474-1001\\$RKYLVSD.3ux\\Assets\\Installer.150x150.contrast-white_scale-140.png\n",
      "C:\\$Recycle.Bin\\S-1-5-21-3935977965-1637398792-515658474-1001\\$RKYLVSD.3ux\\Assets\\Installer.150x150.contrast-white_scale-180.png\n",
      "C:\\$Recycle.Bin\\S-1-5-21-3935977965-1637398792-515658474-1001\\$RKYLVSD.3ux\\Assets\\Installer.150x150.contrast-white_scale-80.png\n",
      "C:\\$Recycle.Bin\\S-1-5-21-3935977965-1637398792-515658474-1001\\$RKYLVSD.3ux\\Assets\\Installer.70x70.contrast-black_scale-100.png\n",
      "C:\\$Recycle.Bin\\S-1-5-21-3935977965-1637398792-515658474-1001\\$RKYLVSD.3ux\\Assets\\Installer.70x70.contrast-black_scale-140.png\n",
      "C:\\$Recycle.Bin\\S-1-5-21-3935977965-1637398792-515658474-1001\\$RKYLVSD.3ux\\Assets\\Installer.70x70.contrast-black_scale-180.png\n",
      "C:\\$Recycle.Bin\\S-1-5-21-3935977965-1637398792-515658474-1001\\$RKYLVSD.3ux\\Assets\\Installer.70x70.contrast-black_scale-80.png\n",
      "C:\\$Recycle.Bin\\S-1-5-21-3935977965-1637398792-515658474-1001\\$RKYLVSD.3ux\\Assets\\Installer.70x70.contrast-standard_scale-100.png\n",
      "C:\\$Recycle.Bin\\S-1-5-21-3935977965-1637398792-515658474-1001\\$RKYLVSD.3ux\\Assets\\Installer.70x70.contrast-standard_scale-140.png\n",
      "C:\\$Recycle.Bin\\S-1-5-21-3935977965-1637398792-515658474-1001\\$RKYLVSD.3ux\\Assets\\Installer.70x70.contrast-standard_scale-180.png\n",
      "C:\\$Recycle.Bin\\S-1-5-21-3935977965-1637398792-515658474-1001\\$RKYLVSD.3ux\\Assets\\Installer.70x70.contrast-standard_scale-80.png\n",
      "C:\\$Recycle.Bin\\S-1-5-21-3935977965-1637398792-515658474-1001\\$RKYLVSD.3ux\\Assets\\Installer.70x70.contrast-white_scale-100.png\n",
      "C:\\$Recycle.Bin\\S-1-5-21-3935977965-1637398792-515658474-1001\\$RKYLVSD.3ux\\Assets\\Installer.70x70.contrast-white_scale-140.png\n",
      "C:\\$Recycle.Bin\\S-1-5-21-3935977965-1637398792-515658474-1001\\$RKYLVSD.3ux\\Assets\\Installer.70x70.contrast-white_scale-180.png\n",
      "C:\\$Recycle.Bin\\S-1-5-21-3935977965-1637398792-515658474-1001\\$RKYLVSD.3ux\\Assets\\Installer.70x70.contrast-white_scale-80.png\n",
      "C:\\$Recycle.Bin\\S-1-5-21-3935977965-1637398792-515658474-1001\\$ROGIPXX.02q\\Assets\\Installer.150x150.contrast-black_scale-100.png\n",
      "C:\\$Recycle.Bin\\S-1-5-21-3935977965-1637398792-515658474-1001\\$ROGIPXX.02q\\Assets\\Installer.150x150.contrast-black_scale-140.png\n",
      "C:\\$Recycle.Bin\\S-1-5-21-3935977965-1637398792-515658474-1001\\$ROGIPXX.02q\\Assets\\Installer.150x150.contrast-black_scale-180.png\n",
      "C:\\$Recycle.Bin\\S-1-5-21-3935977965-1637398792-515658474-1001\\$ROGIPXX.02q\\Assets\\Installer.150x150.contrast-black_scale-80.png\n",
      "C:\\$Recycle.Bin\\S-1-5-21-3935977965-1637398792-515658474-1001\\$ROGIPXX.02q\\Assets\\Installer.150x150.contrast-standard_scale-100.png\n",
      "C:\\$Recycle.Bin\\S-1-5-21-3935977965-1637398792-515658474-1001\\$ROGIPXX.02q\\Assets\\Installer.150x150.contrast-standard_scale-140.png\n",
      "C:\\$Recycle.Bin\\S-1-5-21-3935977965-1637398792-515658474-1001\\$ROGIPXX.02q\\Assets\\Installer.150x150.contrast-standard_scale-180.png\n",
      "C:\\$Recycle.Bin\\S-1-5-21-3935977965-1637398792-515658474-1001\\$ROGIPXX.02q\\Assets\\Installer.150x150.contrast-standard_scale-80.png\n",
      "C:\\$Recycle.Bin\\S-1-5-21-3935977965-1637398792-515658474-1001\\$ROGIPXX.02q\\Assets\\Installer.150x150.contrast-white_scale-100.png\n",
      "C:\\$Recycle.Bin\\S-1-5-21-3935977965-1637398792-515658474-1001\\$ROGIPXX.02q\\Assets\\Installer.150x150.contrast-white_scale-140.png\n",
      "C:\\$Recycle.Bin\\S-1-5-21-3935977965-1637398792-515658474-1001\\$ROGIPXX.02q\\Assets\\Installer.150x150.contrast-white_scale-180.png\n",
      "C:\\$Recycle.Bin\\S-1-5-21-3935977965-1637398792-515658474-1001\\$ROGIPXX.02q\\Assets\\Installer.150x150.contrast-white_scale-80.png\n",
      "C:\\$Recycle.Bin\\S-1-5-21-3935977965-1637398792-515658474-1001\\$ROGIPXX.02q\\Assets\\Installer.70x70.contrast-black_scale-100.png\n",
      "C:\\$Recycle.Bin\\S-1-5-21-3935977965-1637398792-515658474-1001\\$ROGIPXX.02q\\Assets\\Installer.70x70.contrast-black_scale-140.png\n",
      "C:\\$Recycle.Bin\\S-1-5-21-3935977965-1637398792-515658474-1001\\$ROGIPXX.02q\\Assets\\Installer.70x70.contrast-black_scale-180.png\n",
      "C:\\$Recycle.Bin\\S-1-5-21-3935977965-1637398792-515658474-1001\\$ROGIPXX.02q\\Assets\\Installer.70x70.contrast-black_scale-80.png\n",
      "C:\\$Recycle.Bin\\S-1-5-21-3935977965-1637398792-515658474-1001\\$ROGIPXX.02q\\Assets\\Installer.70x70.contrast-standard_scale-100.png\n",
      "C:\\$Recycle.Bin\\S-1-5-21-3935977965-1637398792-515658474-1001\\$ROGIPXX.02q\\Assets\\Installer.70x70.contrast-standard_scale-140.png\n",
      "C:\\$Recycle.Bin\\S-1-5-21-3935977965-1637398792-515658474-1001\\$ROGIPXX.02q\\Assets\\Installer.70x70.contrast-standard_scale-180.png\n",
      "C:\\$Recycle.Bin\\S-1-5-21-3935977965-1637398792-515658474-1001\\$ROGIPXX.02q\\Assets\\Installer.70x70.contrast-standard_scale-80.png\n",
      "C:\\$Recycle.Bin\\S-1-5-21-3935977965-1637398792-515658474-1001\\$ROGIPXX.02q\\Assets\\Installer.70x70.contrast-white_scale-100.png\n",
      "C:\\$Recycle.Bin\\S-1-5-21-3935977965-1637398792-515658474-1001\\$ROGIPXX.02q\\Assets\\Installer.70x70.contrast-white_scale-140.png\n",
      "C:\\$Recycle.Bin\\S-1-5-21-3935977965-1637398792-515658474-1001\\$ROGIPXX.02q\\Assets\\Installer.70x70.contrast-white_scale-180.png\n",
      "C:\\$Recycle.Bin\\S-1-5-21-3935977965-1637398792-515658474-1001\\$ROGIPXX.02q\\Assets\\Installer.70x70.contrast-white_scale-80.png\n",
      "C:\\$Recycle.Bin\\S-1-5-21-3935977965-1637398792-515658474-1001\\$RSIL5YE.vfn\\Assets\\Installer.150x150.contrast-black_scale-100.png\n",
      "C:\\$Recycle.Bin\\S-1-5-21-3935977965-1637398792-515658474-1001\\$RSIL5YE.vfn\\Assets\\Installer.150x150.contrast-black_scale-140.png\n",
      "C:\\$Recycle.Bin\\S-1-5-21-3935977965-1637398792-515658474-1001\\$RSIL5YE.vfn\\Assets\\Installer.150x150.contrast-black_scale-180.png\n",
      "C:\\$Recycle.Bin\\S-1-5-21-3935977965-1637398792-515658474-1001\\$RSIL5YE.vfn\\Assets\\Installer.150x150.contrast-black_scale-80.png\n",
      "C:\\$Recycle.Bin\\S-1-5-21-3935977965-1637398792-515658474-1001\\$RSIL5YE.vfn\\Assets\\Installer.150x150.contrast-standard_scale-100.png\n",
      "C:\\$Recycle.Bin\\S-1-5-21-3935977965-1637398792-515658474-1001\\$RSIL5YE.vfn\\Assets\\Installer.150x150.contrast-standard_scale-140.png\n",
      "C:\\$Recycle.Bin\\S-1-5-21-3935977965-1637398792-515658474-1001\\$RSIL5YE.vfn\\Assets\\Installer.150x150.contrast-standard_scale-180.png\n",
      "C:\\$Recycle.Bin\\S-1-5-21-3935977965-1637398792-515658474-1001\\$RSIL5YE.vfn\\Assets\\Installer.150x150.contrast-standard_scale-80.png\n",
      "C:\\$Recycle.Bin\\S-1-5-21-3935977965-1637398792-515658474-1001\\$RSIL5YE.vfn\\Assets\\Installer.150x150.contrast-white_scale-100.png\n",
      "C:\\$Recycle.Bin\\S-1-5-21-3935977965-1637398792-515658474-1001\\$RSIL5YE.vfn\\Assets\\Installer.150x150.contrast-white_scale-140.png\n",
      "C:\\$Recycle.Bin\\S-1-5-21-3935977965-1637398792-515658474-1001\\$RSIL5YE.vfn\\Assets\\Installer.150x150.contrast-white_scale-180.png\n",
      "C:\\$Recycle.Bin\\S-1-5-21-3935977965-1637398792-515658474-1001\\$RSIL5YE.vfn\\Assets\\Installer.150x150.contrast-white_scale-80.png\n",
      "C:\\$Recycle.Bin\\S-1-5-21-3935977965-1637398792-515658474-1001\\$RSIL5YE.vfn\\Assets\\Installer.70x70.contrast-black_scale-100.png\n",
      "C:\\$Recycle.Bin\\S-1-5-21-3935977965-1637398792-515658474-1001\\$RSIL5YE.vfn\\Assets\\Installer.70x70.contrast-black_scale-140.png\n",
      "C:\\$Recycle.Bin\\S-1-5-21-3935977965-1637398792-515658474-1001\\$RSIL5YE.vfn\\Assets\\Installer.70x70.contrast-black_scale-180.png\n",
      "C:\\$Recycle.Bin\\S-1-5-21-3935977965-1637398792-515658474-1001\\$RSIL5YE.vfn\\Assets\\Installer.70x70.contrast-black_scale-80.png\n",
      "C:\\$Recycle.Bin\\S-1-5-21-3935977965-1637398792-515658474-1001\\$RSIL5YE.vfn\\Assets\\Installer.70x70.contrast-standard_scale-100.png\n",
      "C:\\$Recycle.Bin\\S-1-5-21-3935977965-1637398792-515658474-1001\\$RSIL5YE.vfn\\Assets\\Installer.70x70.contrast-standard_scale-140.png\n",
      "C:\\$Recycle.Bin\\S-1-5-21-3935977965-1637398792-515658474-1001\\$RSIL5YE.vfn\\Assets\\Installer.70x70.contrast-standard_scale-180.png\n",
      "C:\\$Recycle.Bin\\S-1-5-21-3935977965-1637398792-515658474-1001\\$RSIL5YE.vfn\\Assets\\Installer.70x70.contrast-standard_scale-80.png\n",
      "C:\\$Recycle.Bin\\S-1-5-21-3935977965-1637398792-515658474-1001\\$RSIL5YE.vfn\\Assets\\Installer.70x70.contrast-white_scale-100.png\n",
      "C:\\$Recycle.Bin\\S-1-5-21-3935977965-1637398792-515658474-1001\\$RSIL5YE.vfn\\Assets\\Installer.70x70.contrast-white_scale-140.png\n",
      "C:\\$Recycle.Bin\\S-1-5-21-3935977965-1637398792-515658474-1001\\$RSIL5YE.vfn\\Assets\\Installer.70x70.contrast-white_scale-180.png\n",
      "C:\\$Recycle.Bin\\S-1-5-21-3935977965-1637398792-515658474-1001\\$RSIL5YE.vfn\\Assets\\Installer.70x70.contrast-white_scale-80.png\n"
     ]
    }
   ],
   "source": [
    "import fnmatch, os\n",
    "path = 'C:\\$Recycle.Bin'\n",
    "exts = ['*.jpg', '*.jpeg', '*.png']\n",
    "matches = []\n",
    "\n",
    "# 使用os.walk會回傳一個tuple，使用root, dirs, files解開此回傳的tuple物件\n",
    "# root是字串，表示資料夾絕對路徑\n",
    "# dirs是串列，表示root下的所有子資料夾\n",
    "# files是串列，表示root下的所有非資料夾的元素\n",
    "for root, dirs, files in os.walk(path):\n",
    "    for ext in exts:\n",
    "        for file in fnmatch.filter(files, ext): # 找出檔案結尾是ext的檔案\n",
    "            matches.append(os.path.join(root, file)) # 使用os.path.join結合root與file，將此檔案路徑新增到串列matches中\n",
    "for image in matches:\n",
    "    print(image)"
   ]
  },
  {
   "cell_type": "markdown",
   "id": "e1a2899b",
   "metadata": {},
   "source": [
    "# 存取文字檔"
   ]
  },
  {
   "cell_type": "markdown",
   "id": "58902d31",
   "metadata": {},
   "source": [
    "**這一節要取出檔案內的每一行**\n",
    "- 首先要學會開啟檔案，讀取檔案，寫入檔案與關閉檔案\n",
    "- 處理檔案的類型: 文字檔、csv檔、二進位檔\n",
    "- 本節介紹文字檔的讀取與寫入，以下為檔案存取函式"
   ]
  },
  {
   "cell_type": "markdown",
   "id": "6cebf1a4",
   "metadata": {},
   "source": [
    "**`open(filename, mode, encoding)`: 開啟檔案filename，設定模式為mode，使用encoding為文字編碼，mode所提供的模式如下**\n",
    "   - `r`: 讀取\n",
    "   - `w`: 寫入\n",
    "   - `x`: 寫入，但檔案不能已經存在，防止複寫檔案\n",
    "   - `a`: 寫入，若檔案已經存在，保留原本的資料，將新增的內容加到檔案的最後\n",
    "   - `t`: 文字檔\n",
    "   - `b`: 二進位檔\n",
    "   - `+`: 可以讀取與寫入檔案"
   ]
  },
  {
   "cell_type": "code",
   "execution_count": 11,
   "id": "1f206ce2",
   "metadata": {},
   "outputs": [],
   "source": [
    "fin = open('poem.txt', mode = 'rt', encoding = 'utf-8')\n",
    "fin.close()"
   ]
  },
  {
   "cell_type": "markdown",
   "id": "f5fba617",
   "metadata": {},
   "source": [
    "**`read(size)`: 若不指定size，則會讀取整個檔案，否則會讀取大小為size位元組的資料**"
   ]
  },
  {
   "cell_type": "code",
   "execution_count": 12,
   "id": "7c74cdba",
   "metadata": {},
   "outputs": [
    {
     "name": "stdout",
     "output_type": "stream",
     "text": [
      "昔人已乘黃鶴去，此地空餘黃鶴樓。\n",
      "黃鶴一去不復返，白雲千載空悠悠。\n"
     ]
    }
   ],
   "source": [
    "fin = open('poem.txt', mode = 'rt', encoding = 'utf-8')\n",
    "s = fin.read()\n",
    "print(s)\n",
    "fin.close()"
   ]
  },
  {
   "cell_type": "markdown",
   "id": "c965c5b7",
   "metadata": {},
   "source": [
    "**`readline()`: 從檔案中讀取一行**"
   ]
  },
  {
   "cell_type": "code",
   "execution_count": 13,
   "id": "58707559",
   "metadata": {},
   "outputs": [
    {
     "name": "stdout",
     "output_type": "stream",
     "text": [
      "昔人已乘黃鶴去，此地空餘黃鶴樓。\n",
      "\n"
     ]
    }
   ],
   "source": [
    "fin = open('poem.txt', mode = 'rt', encoding = 'utf-8')\n",
    "s = fin.readline()\n",
    "print(s)\n",
    "fin.close()"
   ]
  },
  {
   "cell_type": "markdown",
   "id": "9c353f1d",
   "metadata": {},
   "source": [
    "**`readlines()`: 從檔案中讀取每一行資料，最後將每一行資料製作成串列**"
   ]
  },
  {
   "cell_type": "code",
   "execution_count": 22,
   "id": "9950d991",
   "metadata": {},
   "outputs": [
    {
     "name": "stdout",
     "output_type": "stream",
     "text": [
      "['昔人已乘黃鶴去，此地空餘黃鶴樓。\\n', '黃鶴一去不復返，白雲千載空悠悠。']\n",
      "========================================\n",
      "昔人已乘黃鶴去，此地空餘黃鶴樓。\n",
      "\n",
      "黃鶴一去不復返，白雲千載空悠悠。\n"
     ]
    }
   ],
   "source": [
    "fin = open('poem.txt', mode = 'rt', encoding = 'utf-8')\n",
    "lines = fin.readlines()\n",
    "print(lines)\n",
    "print('=' * 40)\n",
    "\n",
    "for line in lines:\n",
    "    print(line)\n",
    "fin.close()"
   ]
  },
  {
   "cell_type": "markdown",
   "id": "86253147",
   "metadata": {},
   "source": [
    "**`write(string)`: 將string寫入檔案**"
   ]
  },
  {
   "cell_type": "code",
   "execution_count": 23,
   "id": "e3fdb288",
   "metadata": {
    "scrolled": true
   },
   "outputs": [
    {
     "name": "stdout",
     "output_type": "stream",
     "text": [
      "I love Python! Writing Python is very fun!\n"
     ]
    }
   ],
   "source": [
    "s = 'I love Python! Writing Python is very fun!'\n",
    "fout = open('my.txt', mode = 'wt')\n",
    "fout.write(s)\n",
    "fout.close() # 開啟my.txt會發現內容為 I love Python! Writing Python is very fun!\n",
    "\n",
    "fin = open('my.txt', mode = 'rt', encoding = 'utf-8') # 檢查是否成功寫入\n",
    "s = fin.read()\n",
    "print(s)\n",
    "fout.close()"
   ]
  },
  {
   "cell_type": "markdown",
   "id": "2e71ab71",
   "metadata": {},
   "source": [
    "**`print(*objects, sep = '', end = '\\n', file = sys.stdout)`**: 函式`print`也可以寫入檔案\n",
    "   - 使用file指定要寫入的檔案，就可使用函式print將*objects寫入檔案\n",
    "   - `sep`用於設定每個資料間的間隔字元\n",
    "   - `end`用於設定行與行之間的換行字元"
   ]
  },
  {
   "cell_type": "code",
   "execution_count": 24,
   "id": "6ed99689",
   "metadata": {},
   "outputs": [
    {
     "name": "stdout",
     "output_type": "stream",
     "text": [
      "I love Python! Writing Python is very fun!I am Python, hello world!\n",
      "\n"
     ]
    }
   ],
   "source": [
    "s = 'I am Python, hello world!'\n",
    "fout = open('my.txt', mode = 'at')\n",
    "print(s, file = fout)\n",
    "fout.close()\n",
    "\n",
    "fin = open('my.txt', mode = 'rt', encoding = 'utf-8') # 檢查是否成功寫入\n",
    "s = fin.read()\n",
    "print(s)\n",
    "fout.close()"
   ]
  },
  {
   "cell_type": "markdown",
   "id": "e5677cba",
   "metadata": {},
   "source": [
    "## 使用函式read讀取文字檔"
   ]
  },
  {
   "cell_type": "markdown",
   "id": "9410dd74",
   "metadata": {},
   "source": [
    "**使用函式open開啟檔案，接著利用函式read一次讀取整個檔案，最後使用函式close關閉檔案**"
   ]
  },
  {
   "cell_type": "code",
   "execution_count": 25,
   "id": "0d6f14a6",
   "metadata": {},
   "outputs": [
    {
     "name": "stdout",
     "output_type": "stream",
     "text": [
      "昔人已乘黃鶴去，此地空餘黃鶴樓。\n",
      "黃鶴一去不復返，白雲千載空悠悠。\n"
     ]
    }
   ],
   "source": [
    "fin = open('poem.txt', mode = 'rt', encoding = 'utf-8')\n",
    "s = fin.read()\n",
    "print(s)\n",
    "fin.close()"
   ]
  },
  {
   "cell_type": "markdown",
   "id": "38234200",
   "metadata": {},
   "source": [
    "## 使用for迴圈讀取純文字檔"
   ]
  },
  {
   "cell_type": "markdown",
   "id": "8cfad3bf",
   "metadata": {},
   "source": [
    "**使用函式open開啟檔案，接著利用for迴圈一行一行讀取檔案，最後使用函式close關閉檔案**"
   ]
  },
  {
   "cell_type": "code",
   "execution_count": 26,
   "id": "c67cd3a3",
   "metadata": {
    "scrolled": true
   },
   "outputs": [
    {
     "name": "stdout",
     "output_type": "stream",
     "text": [
      "昔人已乘黃鶴去，此地空餘黃鶴樓。\n",
      "黃鶴一去不復返，白雲千載空悠悠。\n"
     ]
    }
   ],
   "source": [
    "fin = open('poem.txt', mode = 'rt', encoding = 'utf-8')\n",
    "for line in fin:\n",
    "    print(line.rstrip()) # 字串line先使用函式rstrip刪去最後一個換行字元(\\n)，因為函式print每行會自動加上換行字元\n",
    "                         # 若字串line不刪除最後的換行字元，則每行之間會多空一行\n",
    "fin.close()"
   ]
  },
  {
   "cell_type": "markdown",
   "id": "7a278c7a",
   "metadata": {},
   "source": [
    "## 讀取指定資料夾下所有Python檔的程式"
   ]
  },
  {
   "cell_type": "markdown",
   "id": "1a156563",
   "metadata": {},
   "source": [
    "- **使用`glob.glob`找出指定資料夾下的所有Python檔，使用`with open as`開啟檔案，接著利用for迴圈一行一行讀取檔案內容，將每行程式顯示在螢幕上**\n",
    "- **使用`with open as`開啟檔案會自動關閉檔案，不須再加上函式close關閉檔案**"
   ]
  },
  {
   "cell_type": "code",
   "execution_count": 33,
   "id": "2782f1fa",
   "metadata": {},
   "outputs": [
    {
     "name": "stdout",
     "output_type": "stream",
     "text": [
      "檔案為C:\\test\\test1.py\n",
      "print('Hello world !')\n",
      "\n",
      "檔案為C:\\test\\test2.py\n",
      "s = input('Please enter a string: ')\n",
      "print(s)\n",
      "\n"
     ]
    }
   ],
   "source": [
    "import glob\n",
    "python_files = glob.glob('C:\\\\test\\\\*.py')\n",
    "for file_name in python_files:\n",
    "    print(f'檔案為{file_name}')\n",
    "    with open(file_name) as f:\n",
    "        for line in f:\n",
    "            print(line.rstrip())\n",
    "    print()"
   ]
  },
  {
   "cell_type": "markdown",
   "id": "2af46f01",
   "metadata": {},
   "source": [
    "## 將字串寫入檔案"
   ]
  },
  {
   "cell_type": "markdown",
   "id": "f933acd6",
   "metadata": {},
   "source": [
    "**使用`with open as`開啟檔案進行寫入，接著利用函式print與函式write將字串寫入檔案**"
   ]
  },
  {
   "cell_type": "code",
   "execution_count": 34,
   "id": "74e156cd",
   "metadata": {},
   "outputs": [],
   "source": [
    "s = '昔人已乘黃鶴去，此地空餘黃鶴樓。\\\n",
    "黃鶴一去不復返，白雲千載空悠悠。'\n",
    "\n",
    "with open('poem.txt', mode = 'wt', encoding = 'utf-8') as fout:\n",
    "    print(s, file = fout)\n",
    "    fout.write(s)\n",
    "\n",
    "# 開啟檔案poem.txt，會發現檔案中有兩行字串s的內容"
   ]
  },
  {
   "cell_type": "markdown",
   "id": "4124e84a",
   "metadata": {},
   "source": [
    "## 將字串寫入檔案，使用`try`偵測錯誤"
   ]
  },
  {
   "cell_type": "markdown",
   "id": "788aba66",
   "metadata": {},
   "source": [
    "**使用`try except`偵測檔案開啟是否有錯誤，使用`with open as`開啟檔案進行寫入，接著將字串寫入檔案**"
   ]
  },
  {
   "cell_type": "code",
   "execution_count": 35,
   "id": "f28288c8",
   "metadata": {},
   "outputs": [],
   "source": [
    "s = '昔人已乘黃鶴去，此地空餘黃鶴樓。\\\n",
    "黃鶴一去不復返，白雲千載空悠悠。'\n",
    "\n",
    "try:\n",
    "    with open('poem_try_except.txt', mode = 'wt', encoding = 'utf-8') as fout:\n",
    "        fout.write(s)\n",
    "except:\n",
    "    print('無法寫入檔案')"
   ]
  },
  {
   "cell_type": "markdown",
   "id": "bd87077d",
   "metadata": {},
   "source": [
    "## 拷貝檔案"
   ]
  },
  {
   "cell_type": "markdown",
   "id": "0623d238",
   "metadata": {},
   "source": [
    "**將檔案poem.txt內容拷貝到檔案poem2.txt**"
   ]
  },
  {
   "cell_type": "code",
   "execution_count": 36,
   "id": "6905e8dd",
   "metadata": {},
   "outputs": [],
   "source": [
    "fin = open('poem.txt', mode = 'rt', encoding = 'utf-8')\n",
    "fout = open('poem2.txt', mode = 'wt', encoding = 'utf-8')\n",
    "line = fin.readline()\n",
    "\n",
    "while line:\n",
    "    fout.write(line)\n",
    "    line = fin.readline()\n",
    "fin.close()\n",
    "fout.close()"
   ]
  },
  {
   "cell_type": "code",
   "execution_count": 38,
   "id": "c5ce9272",
   "metadata": {},
   "outputs": [],
   "source": [
    "# 與上方有相同結果\n",
    "\n",
    "with open('poem.txt', mode = 'rt', encoding = 'utf-8') as fin:\n",
    "    line = fin.read()\n",
    "with open('poem3.txt', mode = 'wt', encoding = 'utf-8') as fout:\n",
    "    fout.write(line)"
   ]
  },
  {
   "cell_type": "markdown",
   "id": "ca24e9d8",
   "metadata": {},
   "source": [
    "## 產生費式數列儲存到檔案"
   ]
  },
  {
   "cell_type": "markdown",
   "id": "59937692",
   "metadata": {},
   "source": [
    "**產生費式數列前1000個元素儲存到檔案fib.txt**"
   ]
  },
  {
   "cell_type": "code",
   "execution_count": 1,
   "id": "dfe88271",
   "metadata": {},
   "outputs": [],
   "source": [
    "def fib(num):\n",
    "    if num == 1:\n",
    "        return 1\n",
    "    elif num == 2:\n",
    "        return 1\n",
    "    else:\n",
    "        return fib(num - 1) + fib(num - 2)\n",
    "\n",
    "with open('fib.txt', mode = 'wt', encoding = 'utf-8') as fout:\n",
    "        for i in range(1, 11):\n",
    "            result = fib(i)\n",
    "            print(result, file = fout)"
   ]
  },
  {
   "cell_type": "code",
   "execution_count": 2,
   "id": "cedcdda4",
   "metadata": {},
   "outputs": [],
   "source": [
    "fout = open('textbook_fib.txt', mode = 'wt')\n",
    "def fib(num):\n",
    "    count = 1\n",
    "    a = 1\n",
    "    b = 1\n",
    "    print(count, a, file = fout)\n",
    "    while(count < num):\n",
    "        a, b = b, a + b\n",
    "        count += 1\n",
    "        print(count, a, file = fout)\n",
    "\n",
    "fib(10)\n",
    "fout.close()"
   ]
  },
  {
   "cell_type": "markdown",
   "id": "819fc6b8",
   "metadata": {},
   "source": [
    "# 存取csv檔"
   ]
  },
  {
   "cell_type": "markdown",
   "id": "19372bdd",
   "metadata": {},
   "source": [
    "**這一節要存取csv檔案內的每一行**\n",
    "   - 首先要學會開啟檔案\n",
    "   - 讀取檔案\n",
    "   - 寫入檔案與關閉檔案\n",
    "   - 以下介紹模組csv的重要函式"
   ]
  },
  {
   "cell_type": "markdown",
   "id": "bc58fc1f",
   "metadata": {},
   "source": [
    "- `csv.writer(csvfile)`: 將csvfile所指定的檔案轉換成csv.writer物件"
   ]
  },
  {
   "cell_type": "code",
   "execution_count": 3,
   "id": "0abb6078",
   "metadata": {},
   "outputs": [],
   "source": [
    "import csv\n",
    "with open('99.csv', mode = 'wt', newline = '') as fout:\n",
    "    writer = csv.writer(fout)\n",
    "    \n",
    "# 開啟檔案99.csv，允許寫入資料，並轉換成csv.writer物件"
   ]
  },
  {
   "cell_type": "markdown",
   "id": "6d682294",
   "metadata": {},
   "source": [
    "- `csv.reader(csvfile)`: 將csvfile所指定的檔案轉換成csv.reader物件"
   ]
  },
  {
   "cell_type": "code",
   "execution_count": 4,
   "id": "d1c9e22c",
   "metadata": {},
   "outputs": [],
   "source": [
    "import csv\n",
    "with open('99.csv', mode = 'rt') as fin:\n",
    "    reader = csv.reader(fin)\n",
    "    \n",
    "# 開啟檔案99.csv，允許讀取資料，並轉換成csv.reader物件"
   ]
  },
  {
   "cell_type": "markdown",
   "id": "6004ae52",
   "metadata": {},
   "source": [
    "- `writerows(rows)`: 將rows寫入csv檔"
   ]
  },
  {
   "cell_type": "code",
   "execution_count": 6,
   "id": "95fed170",
   "metadata": {},
   "outputs": [],
   "source": [
    "import csv\n",
    "with open('test.csv', mode = 'wt', newline = '') as fout:\n",
    "    writer = csv.writer(fout)\n",
    "    writer.writerows([(1,2,3)])\n",
    "    \n",
    "# 開啟test.csv，查看內容是否為1, 2, 3"
   ]
  },
  {
   "cell_type": "markdown",
   "id": "28bd378d",
   "metadata": {},
   "source": [
    "- `csv.DictReader(csvfile)`: 將csvfile所指定的檔案轉換成csv.DictReader物件"
   ]
  },
  {
   "cell_type": "code",
   "execution_count": 7,
   "id": "f0601785",
   "metadata": {},
   "outputs": [
    {
     "name": "stdout",
     "output_type": "stream",
     "text": [
      "[{'a': '1', 'b': '2', 'c': '3'}]\n"
     ]
    }
   ],
   "source": [
    "import csv\n",
    "with open('test.csv', mode = 'wt', newline = '') as fout:\n",
    "    writer = csv.writer(fout)\n",
    "    writer.writerows([(1, 2, 3)])\n",
    "with open('test.csv', mode = 'rt') as fin:\n",
    "    reader = csv.DictReader(fin, fieldnames = ['a', 'b', 'c'])\n",
    "    rows = [row for row in reader]\n",
    "    print(rows)"
   ]
  },
  {
   "cell_type": "markdown",
   "id": "2cd53a4b",
   "metadata": {},
   "source": [
    "- `csv.DictWriter(csvfile)`: 將csvfile所指定的檔案轉換成csv.DictWriter物件\n",
    "- `writeheader()`: 寫入csv檔的標題列"
   ]
  },
  {
   "cell_type": "code",
   "execution_count": 8,
   "id": "da18c8f4",
   "metadata": {},
   "outputs": [
    {
     "name": "stdout",
     "output_type": "stream",
     "text": [
      "[{'a': '1', 'b': '2', 'c': '3'}]\n"
     ]
    }
   ],
   "source": [
    "import csv\n",
    "with open('test.csv', mode = 'wt', newline = '') as fout:\n",
    "    writer = csv.writer(fout)\n",
    "    writer.writerows([(1, 2, 3)])\n",
    "with open('test.csv', mode = 'rt') as fin:\n",
    "    reader = csv.DictReader(fin, fieldnames = ['a', 'b', 'c'])\n",
    "    rows = [row for row in reader]\n",
    "    print(rows)\n",
    "    fout = open('test2.csv', mode = 'wt', newline = '')\n",
    "    writer = csv.DictWriter(fout, fieldnames = ['a', 'b', 'c'])\n",
    "    writer.writeheader()\n",
    "    writer.writerows(rows)\n",
    "    fout.close()\n",
    "    \n",
    "# 將檔案test.csv拷貝到檔案test2.csv，加上標題 a,b,c\n",
    "# 開啟test2.csv會發現檔案內容為 a,b,c,\n",
    "                              1,2,3"
   ]
  },
  {
   "cell_type": "markdown",
   "id": "ef83c70d",
   "metadata": {},
   "source": [
    "## 使用模組`csv`對csv檔進行寫入與讀取"
   ]
  },
  {
   "cell_type": "markdown",
   "id": "39335b34",
   "metadata": {},
   "source": [
    "- **使用函式open開啟csv檔進行寫入資料，接著利用函式csv.writer產生寫入csv模組的writer物件，將九九乘法表的被乘數、乘數與積寫入到csv檔案**\n",
    "- **使用函式open開啟csv檔案進行讀取資料，接著利用函式csv.reader產生讀取csv模組的reader物件**\n",
    "- **使用串列生成式讀取csv檔的reader物件，顯示九九乘法表到螢幕上**"
   ]
  },
  {
   "cell_type": "code",
   "execution_count": 11,
   "id": "2bbadd89",
   "metadata": {},
   "outputs": [
    {
     "name": "stdout",
     "output_type": "stream",
     "text": [
      "[['1', '1', '1'], ['1', '2', '2'], ['1', '3', '3'], ['1', '4', '4'], ['1', '5', '5'], ['1', '6', '6'], ['1', '7', '7'], ['1', '8', '8'], ['1', '9', '9'], ['2', '1', '2'], ['2', '2', '4'], ['2', '3', '6'], ['2', '4', '8'], ['2', '5', '10'], ['2', '6', '12'], ['2', '7', '14'], ['2', '8', '16'], ['2', '9', '18'], ['3', '1', '3'], ['3', '2', '6'], ['3', '3', '9'], ['3', '4', '12'], ['3', '5', '15'], ['3', '6', '18'], ['3', '7', '21'], ['3', '8', '24'], ['3', '9', '27'], ['4', '1', '4'], ['4', '2', '8'], ['4', '3', '12'], ['4', '4', '16'], ['4', '5', '20'], ['4', '6', '24'], ['4', '7', '28'], ['4', '8', '32'], ['4', '9', '36'], ['5', '1', '5'], ['5', '2', '10'], ['5', '3', '15'], ['5', '4', '20'], ['5', '5', '25'], ['5', '6', '30'], ['5', '7', '35'], ['5', '8', '40'], ['5', '9', '45'], ['6', '1', '6'], ['6', '2', '12'], ['6', '3', '18'], ['6', '4', '24'], ['6', '5', '30'], ['6', '6', '36'], ['6', '7', '42'], ['6', '8', '48'], ['6', '9', '54'], ['7', '1', '7'], ['7', '2', '14'], ['7', '3', '21'], ['7', '4', '28'], ['7', '5', '35'], ['7', '6', '42'], ['7', '7', '49'], ['7', '8', '56'], ['7', '9', '63'], ['8', '1', '8'], ['8', '2', '16'], ['8', '3', '24'], ['8', '4', '32'], ['8', '5', '40'], ['8', '6', '48'], ['8', '7', '56'], ['8', '8', '64'], ['8', '9', '72'], ['9', '1', '9'], ['9', '2', '18'], ['9', '3', '27'], ['9', '4', '36'], ['9', '5', '45'], ['9', '6', '54'], ['9', '7', '63'], ['9', '8', '72'], ['9', '9', '81']]\n"
     ]
    }
   ],
   "source": [
    "import csv\n",
    "\n",
    "# 利用函式csv.writer產生寫入csv模組的writer物件，將九九乘法表的被乘數、乘數與積寫入到csv檔案\n",
    "with open('99_multiply.csv', mode = 'wt', newline = '') as fout:\n",
    "    writer = csv.writer(fout)\n",
    "    for i in range(1, 10):\n",
    "        for j in range(1, 10):\n",
    "            writer.writerows([(str(i), str(j), str(i*j))])\n",
    "\n",
    "# 利用函式csv.reader產生讀取csv模組的reader物件\n",
    "with open('99_multiply.csv', mode = 'rt') as fin:\n",
    "    reader = csv.reader(fin)\n",
    "    rows = [row for row in reader] # 使用串列生成式讀取reader的每列資料到串列rows\n",
    "    print(rows)"
   ]
  },
  {
   "cell_type": "markdown",
   "id": "d543fe2f",
   "metadata": {},
   "source": [
    "## 使用模組`csv`寫入與讀取csv檔並加上標題"
   ]
  },
  {
   "cell_type": "markdown",
   "id": "5e27efac",
   "metadata": {},
   "source": [
    "- **產生九九乘法表的csv檔，接著讀取此九九乘法表的csv檔**\n",
    "- **利用函式csv.DictReader將九九乘法表加上標題「被乘數」、「乘數」與「積」，顯示增加標題的九九乘法表到螢幕上**\n",
    "- **最後利用函式csv.DictWriter將九九乘法表寫入第二個csv檔，並加上標題「被乘數」、「乘數」與「積」**"
   ]
  },
  {
   "cell_type": "code",
   "execution_count": 12,
   "id": "841beb7a",
   "metadata": {},
   "outputs": [
    {
     "name": "stdout",
     "output_type": "stream",
     "text": [
      "[{'被乘數': '1', '乘數': '1', '積': '1'}, {'被乘數': '1', '乘數': '2', '積': '2'}, {'被乘數': '1', '乘數': '3', '積': '3'}, {'被乘數': '1', '乘數': '4', '積': '4'}, {'被乘數': '1', '乘數': '5', '積': '5'}, {'被乘數': '1', '乘數': '6', '積': '6'}, {'被乘數': '1', '乘數': '7', '積': '7'}, {'被乘數': '1', '乘數': '8', '積': '8'}, {'被乘數': '1', '乘數': '9', '積': '9'}, {'被乘數': '2', '乘數': '1', '積': '2'}, {'被乘數': '2', '乘數': '2', '積': '4'}, {'被乘數': '2', '乘數': '3', '積': '6'}, {'被乘數': '2', '乘數': '4', '積': '8'}, {'被乘數': '2', '乘數': '5', '積': '10'}, {'被乘數': '2', '乘數': '6', '積': '12'}, {'被乘數': '2', '乘數': '7', '積': '14'}, {'被乘數': '2', '乘數': '8', '積': '16'}, {'被乘數': '2', '乘數': '9', '積': '18'}, {'被乘數': '3', '乘數': '1', '積': '3'}, {'被乘數': '3', '乘數': '2', '積': '6'}, {'被乘數': '3', '乘數': '3', '積': '9'}, {'被乘數': '3', '乘數': '4', '積': '12'}, {'被乘數': '3', '乘數': '5', '積': '15'}, {'被乘數': '3', '乘數': '6', '積': '18'}, {'被乘數': '3', '乘數': '7', '積': '21'}, {'被乘數': '3', '乘數': '8', '積': '24'}, {'被乘數': '3', '乘數': '9', '積': '27'}, {'被乘數': '4', '乘數': '1', '積': '4'}, {'被乘數': '4', '乘數': '2', '積': '8'}, {'被乘數': '4', '乘數': '3', '積': '12'}, {'被乘數': '4', '乘數': '4', '積': '16'}, {'被乘數': '4', '乘數': '5', '積': '20'}, {'被乘數': '4', '乘數': '6', '積': '24'}, {'被乘數': '4', '乘數': '7', '積': '28'}, {'被乘數': '4', '乘數': '8', '積': '32'}, {'被乘數': '4', '乘數': '9', '積': '36'}, {'被乘數': '5', '乘數': '1', '積': '5'}, {'被乘數': '5', '乘數': '2', '積': '10'}, {'被乘數': '5', '乘數': '3', '積': '15'}, {'被乘數': '5', '乘數': '4', '積': '20'}, {'被乘數': '5', '乘數': '5', '積': '25'}, {'被乘數': '5', '乘數': '6', '積': '30'}, {'被乘數': '5', '乘數': '7', '積': '35'}, {'被乘數': '5', '乘數': '8', '積': '40'}, {'被乘數': '5', '乘數': '9', '積': '45'}, {'被乘數': '6', '乘數': '1', '積': '6'}, {'被乘數': '6', '乘數': '2', '積': '12'}, {'被乘數': '6', '乘數': '3', '積': '18'}, {'被乘數': '6', '乘數': '4', '積': '24'}, {'被乘數': '6', '乘數': '5', '積': '30'}, {'被乘數': '6', '乘數': '6', '積': '36'}, {'被乘數': '6', '乘數': '7', '積': '42'}, {'被乘數': '6', '乘數': '8', '積': '48'}, {'被乘數': '6', '乘數': '9', '積': '54'}, {'被乘數': '7', '乘數': '1', '積': '7'}, {'被乘數': '7', '乘數': '2', '積': '14'}, {'被乘數': '7', '乘數': '3', '積': '21'}, {'被乘數': '7', '乘數': '4', '積': '28'}, {'被乘數': '7', '乘數': '5', '積': '35'}, {'被乘數': '7', '乘數': '6', '積': '42'}, {'被乘數': '7', '乘數': '7', '積': '49'}, {'被乘數': '7', '乘數': '8', '積': '56'}, {'被乘數': '7', '乘數': '9', '積': '63'}, {'被乘數': '8', '乘數': '1', '積': '8'}, {'被乘數': '8', '乘數': '2', '積': '16'}, {'被乘數': '8', '乘數': '3', '積': '24'}, {'被乘數': '8', '乘數': '4', '積': '32'}, {'被乘數': '8', '乘數': '5', '積': '40'}, {'被乘數': '8', '乘數': '6', '積': '48'}, {'被乘數': '8', '乘數': '7', '積': '56'}, {'被乘數': '8', '乘數': '8', '積': '64'}, {'被乘數': '8', '乘數': '9', '積': '72'}, {'被乘數': '9', '乘數': '1', '積': '9'}, {'被乘數': '9', '乘數': '2', '積': '18'}, {'被乘數': '9', '乘數': '3', '積': '27'}, {'被乘數': '9', '乘數': '4', '積': '36'}, {'被乘數': '9', '乘數': '5', '積': '45'}, {'被乘數': '9', '乘數': '6', '積': '54'}, {'被乘數': '9', '乘數': '7', '積': '63'}, {'被乘數': '9', '乘數': '8', '積': '72'}, {'被乘數': '9', '乘數': '9', '積': '81'}]\n"
     ]
    }
   ],
   "source": [
    "import csv\n",
    "with open('99_multiply.csv', mode = 'wt', newline = '') as fout:\n",
    "    writer = csv.writer(fout)\n",
    "    for i in range(1, 10):\n",
    "        for j in range(1, 10):\n",
    "            writer.writerows([(str(i), str(j), str(i*j))])\n",
    "\n",
    "with open('99_multiply.csv', mode = 'rt') as fin:\n",
    "    reader = csv.DictReader(fin, fieldnames = ['被乘數', '乘數', '積'])\n",
    "    rows = [row for row in reader]\n",
    "    print(rows)\n",
    "    fout = open('99_multiply_add_topic.csv', mode = 'wt', newline = '', encoding = 'utf-8')\n",
    "    writer = csv.DictWriter(fout, fieldnames = ['被乘數', '乘數', '積'])\n",
    "    writer.writeheader()\n",
    "    writer.writerows(rows)\n",
    "    fout.close()"
   ]
  },
  {
   "cell_type": "markdown",
   "id": "a9620bfb",
   "metadata": {},
   "source": [
    "# 存取二進位檔"
   ]
  },
  {
   "cell_type": "markdown",
   "id": "b8b3f99c",
   "metadata": {},
   "source": [
    "**這一節要存取二進位檔案**\n",
    "   - 首先要學會開啟檔案\n",
    "   - 讀取檔案\n",
    "   - 寫入檔案與關閉檔案\n",
    "   - 以下介紹產生二進位資料的重要函式"
   ]
  },
  {
   "cell_type": "markdown",
   "id": "92a79913",
   "metadata": {},
   "source": [
    "- **`bytes`**: 不可變的二進位字串\n",
    "- **`bytearray`**: 可以修改的二進位字串"
   ]
  },
  {
   "cell_type": "code",
   "execution_count": 13,
   "id": "d3e9c274",
   "metadata": {},
   "outputs": [
    {
     "name": "stdout",
     "output_type": "stream",
     "text": [
      "b'\\x00\\x01\\x02\\x03\\x04\\x05\\x06\\x07'\n"
     ]
    }
   ],
   "source": [
    "mbytes = bytes(range(0, 8))\n",
    "print(mbytes)"
   ]
  },
  {
   "cell_type": "code",
   "execution_count": 14,
   "id": "1d7c1e76",
   "metadata": {},
   "outputs": [
    {
     "name": "stdout",
     "output_type": "stream",
     "text": [
      "bytearray(b'\\x00\\x01\\x02\\x03\\x04\\x05\\x06\\x07')\n"
     ]
    }
   ],
   "source": [
    "mbytearray = bytearray(range(0, 8))\n",
    "print(mbytearray)"
   ]
  },
  {
   "cell_type": "markdown",
   "id": "a956a1ec",
   "metadata": {},
   "source": [
    "## 產生二進位資料"
   ]
  },
  {
   "cell_type": "markdown",
   "id": "1c69d780",
   "metadata": {},
   "source": [
    "**使用函式`bytes`與`bytearray`產生二進位資料**"
   ]
  },
  {
   "cell_type": "code",
   "execution_count": 18,
   "id": "a172c812",
   "metadata": {},
   "outputs": [
    {
     "name": "stdout",
     "output_type": "stream",
     "text": [
      "b'\\x00\\x01\\x02\\x03\\x04\\x05\\x06\\x07\\x08\\t\\n\\x0b\\x0c\\r\\x0e\\x0f\\x10\\x11\\x12\\x13\\x14\\x15\\x16\\x17\\x18\\x19\\x1a\\x1b\\x1c\\x1d\\x1e\\x1f'\n",
      "========================================================================================================================\n",
      "bytearray(b'\\x00\\x01\\x02\\x03\\x04\\x05\\x06\\x07\\x08\\t\\n\\x0b\\x0c\\r\\x0e\\x0f\\x10\\x11\\x12\\x13\\x14\\x15\\x16\\x17\\x18\\x19\\x1a\\x1b\\x1c\\x1d\\x1e\\x1f')\n"
     ]
    }
   ],
   "source": [
    "mbytes = bytes(range(0, 32))\n",
    "print(mbytes)\n",
    "print('=' * 120)\n",
    "\n",
    "mbytearray = bytearray(range(0, 32))\n",
    "print(mbytearray)"
   ]
  },
  {
   "cell_type": "markdown",
   "id": "dd96631b",
   "metadata": {},
   "source": [
    "## 存取二進位檔案"
   ]
  },
  {
   "cell_type": "markdown",
   "id": "30554b02",
   "metadata": {},
   "source": [
    "**使用函式`write`與函式`read`存取二進位檔案**"
   ]
  },
  {
   "cell_type": "code",
   "execution_count": 19,
   "id": "feb7c710",
   "metadata": {},
   "outputs": [
    {
     "name": "stdout",
     "output_type": "stream",
     "text": [
      "b'\\x00\\x01\\x02\\x03\\x04\\x05\\x06\\x07\\x08\\t\\n\\x0b\\x0c\\r\\x0e\\x0f\\x10\\x11\\x12\\x13\\x14\\x15\\x16\\x17\\x18\\x19\\x1a\\x1b\\x1c\\x1d\\x1e\\x1f'\n"
     ]
    }
   ],
   "source": [
    "bindata = bytes(range(0, 32))\n",
    "with open('binfile', mode = 'wb') as fout:\n",
    "    fout.write(bindata)\n",
    "with open('binfile', mode = 'rb') as fin:\n",
    "    binary = fin.read()\n",
    "    print(binary)"
   ]
  },
  {
   "cell_type": "markdown",
   "id": "4511b291",
   "metadata": {},
   "source": [
    "## 使用模組`pickle`將物件轉換成二進位檔案"
   ]
  },
  {
   "cell_type": "markdown",
   "id": "4e5bbe68",
   "metadata": {},
   "source": [
    "**函式`load`將二進位檔案還原成物件**"
   ]
  },
  {
   "cell_type": "code",
   "execution_count": 22,
   "id": "f8c15916",
   "metadata": {},
   "outputs": [
    {
     "name": "stdout",
     "output_type": "stream",
     "text": [
      "[1, 2, 3, 4, 5, 6, 7, 8, 9]\n"
     ]
    }
   ],
   "source": [
    "import pickle\n",
    "myList = [a for a in range(1, 10)]\n",
    "with open('test.pickle', mode = 'wb') as fout:\n",
    "    pickle.dump(myList, fout) # 使用函式pickle.dump將物件myList寫入檔案fout\n",
    "    \n",
    "with open('test.pickle', mode = 'rb') as fin:\n",
    "    p = pickle.load(fin) # 使用函式pickle.load將二進位檔案fin還原成物件p\n",
    "    print(p)"
   ]
  },
  {
   "cell_type": "markdown",
   "id": "f3da4811",
   "metadata": {},
   "source": [
    "# 習題"
   ]
  },
  {
   "cell_type": "markdown",
   "id": "9cdc7fdb",
   "metadata": {},
   "source": [
    "## 找出大於100MB的檔案"
   ]
  },
  {
   "cell_type": "markdown",
   "id": "904fef9d",
   "metadata": {},
   "source": [
    "**找出指定資料夾中大於100MB的檔案**"
   ]
  },
  {
   "cell_type": "code",
   "execution_count": 3,
   "id": "52fa8f9c",
   "metadata": {},
   "outputs": [
    {
     "name": "stdout",
     "output_type": "stream",
     "text": [
      "C:\\hiberfil.sys\n",
      "C:\\pagefile.sys\n",
      "C:\\$Recycle.Bin\\S-1-5-21-3935977965-1637398792-515658474-1001\\$ROEI9TD\\AndroidTools_Xamarin.1265E87BF2A7C8F279D5\\commandlinetools-win-8512546_latest.zip\n",
      "C:\\$Recycle.Bin\\S-1-5-21-3935977965-1637398792-515658474-1001\\$ROEI9TD\\Microsoft.Android.Sdk.net7.33.0.4.3B4EE3A4D49EAA497E95\\Microsoft.Android.Sdk.Windows.33.0.4-x64.msi\n",
      "C:\\$Recycle.Bin\\S-1-5-21-3935977965-1637398792-515658474-1001\\$ROEI9TD\\Microsoft.ML.ModelBuilder.6ED20329037E3ABB2DC3\\Microsoft.ML.ModelBuilder.vsix\n",
      "C:\\$Recycle.Bin\\S-1-5-21-3935977965-1637398792-515658474-1001\\$ROEI9TD\\Microsoft.NetCore.Toolset.7.0.102.7EE8A1647D6A345354D6\\dotnet-sdk-internal-7.0.102-win-x64.msi\n",
      "C:\\$Recycle.Bin\\S-1-5-21-3935977965-1637398792-515658474-1001\\$ROEI9TD\\Microsoft.VisualStudio.AspNetPackages.Msi.9D50F69D31709CE7B615\\AspNetWebToolsPackagesVS17_ENU.msi\n",
      "C:\\$Recycle.Bin\\S-1-5-21-3935977965-1637398792-515658474-1001\\$ROEI9TD\\Microsoft.VisualStudio.IntelliCode.30D752E02BB86D206F7C\\Microsoft.VisualStudio.IntelliCode.vsix\n",
      "C:\\$Recycle.Bin\\S-1-5-21-3935977965-1637398792-515658474-1001\\$ROEI9TD\\Microsoft.VisualStudio.LiveShare.2022.CA70E3AC087BB7F4DBCA\\Microsoft.VisualStudio.LiveShare.vsix\n",
      "C:\\$Recycle.Bin\\S-1-5-21-3935977965-1637398792-515658474-1001\\$ROEI9TD\\Microsoft.VisualStudio.Web.AzureFunctions.E112F4421E10E297D0DF\\Microsoft.WebTools.Azure.Functions.Vsix.vsix\n",
      "C:\\$Recycle.Bin\\S-1-5-21-3935977965-1637398792-515658474-1001\\$ROEI9TD\\Xamarin.Android.Sdk.34FFB890B96F775B4A1F\\Xamarin.Android.Sdk-13.1.0.1.vsix\n",
      "C:\\$Recycle.Bin\\S-1-5-21-3935977965-1637398792-515658474-1001\\$ROEI9TD\\Xamarin.VisualStudio.Android.Designer.0571B0BE1C85C8833A08\\Xamarin.VisualStudio.Android.Designer.17.4.0.138.vsix\n",
      "C:\\$Recycle.Bin\\S-1-5-21-3935977965-1637398792-515658474-1001\\$ROEI9TD\\Xamarin.VisualStudio.Apple.Sdk.FC8A4D1D1E17D5497691\\Xamarin.VisualStudio.Apple.Sdk.17.4.0.312.vsix\n",
      "C:\\OneDriveTemp\\S-1-5-21-3935977965-1637398792-515658474-1001\\{CDDD96B2-D036-49C5-9A8B-78ACCFD135E4}.vhdx\n",
      "C:\\Program Files\\Avast Software\\Avast\\libcef.dll\n",
      "C:\\Program Files\\Avast Software\\Avast\\setup\\ais_gui_cef_x64-7e3.vpx\n",
      "C:\\Program Files\\Avast Software\\Avast\\setup\\vps_defs_common-c46.vpx\n",
      "C:\\Program Files\\Common Files\\McAfee\\AMContent\\content\\avengine\\med\\4802.0\\medscan.dat\n",
      "C:\\Program Files\\Common Files\\McAfee\\AMContent\\content\\avengine\\med\\4803.0\\medscan.dat\n",
      "C:\\Program Files\\Common Files\\McAfee\\AMContent\\content\\avengine\\med\\4804.0\\medscan.dat\n",
      "C:\\Program Files\\Common Files\\McAfee\\CEF\\libcef.dll\n",
      "C:\\Program Files\\Google\\Chrome\\Application\\110.0.5481.77\\chrome.dll\n",
      "C:\\Program Files\\Google\\Chrome\\Application\\110.0.5481.77\\Installer\\chrome.7z\n",
      "C:\\Program Files\\IBM\\SPSS Statistics\\libcef.dll\n",
      "C:\\Program Files\\LGHUB\\lghub.exe\n",
      "C:\\Program Files\\Microsoft\\jdk-11.0.12.7-hotspot\\lib\\modules\n",
      "C:\\Program Files\\Microsoft Visual Studio\\2022\\Community\\Common7\\IDE\\CommonExtensions\\Microsoft\\ModelBuilder\\AutoMLService\\tensorflow.dll\n",
      "C:\\Program Files\\Microsoft Visual Studio\\2022\\Community\\Common7\\IDE\\ReferenceAssemblies\\Microsoft\\Framework\\MonoAndroid\\v12.1\\Mono.Android.xml\n",
      "C:\\Program Files\\NVIDIA Corporation\\NVIDIA GeForce Experience\\libcef.dll\n",
      "C:\\Program Files\\RStudio\\bin\\quarto\\bin\\tools\\pandoc.exe\n",
      "C:\\Program Files (x86)\\Adobe\\Acrobat Reader DC\\Reader\\AcroCEF\\libcef.dll\n",
      "C:\\Program Files (x86)\\Adobe\\Acrobat Reader DC\\Reader\\acrocef_1\\libcef.dll\n",
      "C:\\Program Files (x86)\\Battle.net\\Battle.net.13859\\libcef.dll\n",
      "C:\\Program Files (x86)\\Battle.net\\Battle.net.13894\\libcef.dll\n",
      "C:\\Program Files (x86)\\Microsoft\\Edge\\Application\\109.0.1518.78\\msedge.dll\n",
      "C:\\Program Files (x86)\\Microsoft\\EdgeCore\\109.0.1518.78\\msedge.dll\n",
      "C:\\Program Files (x86)\\Microsoft\\EdgeWebView\\Application\\109.0.1518.78\\msedge.dll\n",
      "C:\\Program Files (x86)\\Overwolf\\0.217.0.9\\libcef.dll\n",
      "C:\\Program Files (x86)\\Steam\\bin\\cef\\cef.win7x64\\libcef.dll\n",
      "C:\\Program Files (x86)\\Steam\\steamapps\\common\\Apex Legends\\audio\\ship\\general.mbnk\n",
      "C:\\Program Files (x86)\\Steam\\steamapps\\common\\Apex Legends\\audio\\ship\\general_english.mstr\n",
      "C:\\Program Files (x86)\\Steam\\steamapps\\common\\Apex Legends\\audio\\ship\\general_english_patch_1.mstr\n",
      "C:\\Program Files (x86)\\Steam\\steamapps\\common\\Apex Legends\\audio\\ship\\general_stream.mstr\n",
      "C:\\Program Files (x86)\\Steam\\steamapps\\common\\Apex Legends\\audio\\ship\\general_stream_patch_1.mstr\n",
      "C:\\Program Files (x86)\\Steam\\steamapps\\common\\Apex Legends\\media\\frontend.bik\n",
      "C:\\Program Files (x86)\\Steam\\steamapps\\common\\Apex Legends\\media\\intro.bik\n",
      "C:\\Program Files (x86)\\Steam\\steamapps\\common\\Apex Legends\\paks\\Win64\\common.rpak\n",
      "C:\\Program Files (x86)\\Steam\\steamapps\\common\\Apex Legends\\paks\\Win64\\mp_rr_canyonlands_mu3.rpak\n",
      "C:\\Program Files (x86)\\Steam\\steamapps\\common\\Apex Legends\\paks\\Win64\\mp_rr_desertlands_mu3.rpak\n",
      "C:\\Program Files (x86)\\Steam\\steamapps\\common\\Apex Legends\\paks\\Win64\\mp_rr_olympus_mu2.rpak\n",
      "C:\\Program Files (x86)\\Steam\\steamapps\\common\\Apex Legends\\paks\\Win64\\mp_rr_tropic_island.rpak\n",
      "C:\\Program Files (x86)\\Steam\\steamapps\\common\\Apex Legends\\paks\\Win64\\pc_all(01).opt.starpak\n",
      "C:\\Program Files (x86)\\Steam\\steamapps\\common\\Apex Legends\\paks\\Win64\\pc_all(02).opt.starpak\n",
      "C:\\Program Files (x86)\\Steam\\steamapps\\common\\Apex Legends\\paks\\Win64\\pc_all(02).starpak\n",
      "C:\\Program Files (x86)\\Steam\\steamapps\\common\\Apex Legends\\paks\\Win64\\pc_all.opt.starpak\n",
      "C:\\Program Files (x86)\\Steam\\steamapps\\common\\Apex Legends\\paks\\Win64\\pc_all.starpak\n",
      "C:\\Program Files (x86)\\Steam\\steamapps\\common\\Apex Legends\\vpk\\client_mp_rr_canyonlands_mu3.bsp.pak000_000.vpk\n",
      "C:\\Program Files (x86)\\Steam\\steamapps\\common\\Apex Legends\\vpk\\client_mp_rr_canyonlands_mu3.bsp.pak000_001.vpk\n",
      "C:\\Program Files (x86)\\Steam\\steamapps\\common\\Apex Legends\\vpk\\client_mp_rr_desertlands_mu3.bsp.pak000_000.vpk\n",
      "C:\\Program Files (x86)\\Steam\\steamapps\\common\\Apex Legends\\vpk\\client_mp_rr_desertlands_mu3.bsp.pak000_001.vpk\n",
      "C:\\Program Files (x86)\\Steam\\steamapps\\common\\Apex Legends\\vpk\\client_mp_rr_olympus_mu2.bsp.pak000_000.vpk\n",
      "C:\\Program Files (x86)\\Steam\\steamapps\\common\\Apex Legends\\vpk\\client_mp_rr_olympus_mu2.bsp.pak000_001.vpk\n",
      "C:\\Program Files (x86)\\Steam\\steamapps\\common\\Apex Legends\\vpk\\client_mp_rr_tropic_island.bsp.pak000_000.vpk\n",
      "C:\\Program Files (x86)\\Steam\\steamapps\\common\\Apex Legends\\vpk\\client_mp_rr_tropic_island.bsp.pak000_001.vpk\n",
      "C:\\Program Files (x86)\\Steam\\steamapps\\common\\Apex Legends\\vpk\\client_mp_rr_tropic_island.bsp.pak000_002.vpk\n",
      "C:\\Program Files (x86)\\Steam\\steamapps\\common\\Super Bunny Man\\Super Bunny Man_Data\\resources.assets\n",
      "C:\\Program Files (x86)\\Steam\\steamapps\\common\\Super Bunny Man\\Super Bunny Man_Data\\resources.assets.resS\n",
      "C:\\Program Files (x86)\\WildTangent Games\\App\\libcef.dll\n",
      "C:\\ProgramData\\Adobe\\Setup\\{AC76BA86-7AD7-1028-7B44-AC0F074E4100}\\AcroRdrDCUpd1900820071.msp\n",
      "C:\\ProgramData\\Adobe\\Setup\\{AC76BA86-7AD7-1028-7B44-AC0F074E4100}\\Data1.cab\n",
      "C:\\ProgramData\\LGHUB\\depots\\162504\\core\\LGHUB\\lghub.exe\n",
      "C:\\ProgramData\\McAfee\\MCLOGS\\mfehidin006.etl\n",
      "C:\\ProgramData\\Microsoft\\ClickToRun\\ProductReleases\\9F6C6F61-DDD8-4F5A-A73A-286DA8B96018\\x-none.16\\stream.x64.x-none.man.dat\n",
      "C:\\ProgramData\\Microsoft\\VisualStudio\\Packages\\AndroidM2Repo,version=47.0.0.9\\android_m2repository_r47.zip\n",
      "C:\\ProgramData\\Microsoft\\VisualStudio\\Packages\\AndroidNDK_R21E,version=21.4,chip=x64\\android-ndk-r21e-windows-x86_64.zip\n",
      "C:\\ProgramData\\Microsoft\\VisualStudio\\Packages\\AndroidTools,version=25.2.5.9\\tools_r25.2.5-windows.zip\n",
      "C:\\ProgramData\\Microsoft\\VisualStudio\\Packages\\AndroidTools_Xamarin,version=5.1\\commandlinetools-win-7583922_latest.zip\n",
      "C:\\ProgramData\\Microsoft\\VisualStudio\\Packages\\Microsoft.Azure.DataLake.Tools.SDK.Compiler,version=10.0.16299.1,chip=neutral\\Microsoft.Azure.DataLake.Tools.SDK.Compiler.zip\n",
      "C:\\ProgramData\\Microsoft\\VisualStudio\\Packages\\Microsoft.Azure.DataLake.Tools.VisualStudio.Extension,version=2.6.5000.0\\payload.vsix\n",
      "C:\\ProgramData\\Microsoft\\VisualStudio\\Packages\\Microsoft.ML.ModelBuilder,version=16.7.4.2151101\\payload.vsix\n",
      "C:\\ProgramData\\Microsoft\\VisualStudio\\Packages\\Microsoft.NetCore.Toolset.6.0.300,version=17.2.32503.368,machinearch=x64\\dotnet-sdk-internal-6.0.300-win-x64.msi\n",
      "C:\\ProgramData\\Microsoft\\VisualStudio\\Packages\\Microsoft.VisualStudio.AspNetPackages.Msi,version=17.0.20404.0\\AspNetWebToolsPackagesVS17_ENU.msi\n",
      "C:\\ProgramData\\Microsoft\\VisualStudio\\Packages\\Microsoft.VisualStudio.IntelliCode,version=2.2.2137.31885\\payload.vsix\n",
      "C:\\ProgramData\\Microsoft\\VisualStudio\\Packages\\Microsoft.VisualStudio.LiveShare.2022,version=1.0.5545.1\\payload.vsix\n",
      "C:\\ProgramData\\Microsoft\\VisualStudio\\Packages\\Microsoft.VisualStudio.TestTools.TestPlatform.LocalFeed.msi,version=17.0.0.5175695\\Microsoft.VisualStudio.TestTools.TestPlatform.LocalFeed.msi\n",
      "C:\\ProgramData\\Microsoft\\VisualStudio\\Packages\\Microsoft.VisualStudio.Web.AzureFunctions,version=17.2.392.13739,productarch=neutral\\payload.vsix\n",
      "C:\\ProgramData\\Microsoft\\VisualStudio\\Packages\\OpenJDKv11,version=11.0.12.7,chip=x64\\microsoft-jdk-11.0.12.7.1-windows-x64.msi\n",
      "C:\\ProgramData\\Microsoft\\VisualStudio\\Packages\\OpenJDKv8,version=8.0.302.8,chip=x64\\OpenJDK8U-jdk_x64_windows_hotspot_8u302b08.zip\n",
      "C:\\ProgramData\\Microsoft\\VisualStudio\\Packages\\Xamarin.Android.Sdk,version=12.3.0.3\\payload.vsix\n",
      "C:\\ProgramData\\Microsoft\\VisualStudio\\Packages\\Xamarin.VisualStudio.Android.Designer,version=17.2.0.244\\payload.vsix\n",
      "C:\\ProgramData\\Microsoft\\VisualStudio\\Packages\\Xamarin.VisualStudio.Apple.Sdk,version=17.2.0.175\\payload.vsix\n",
      "C:\\ProgramData\\Overwolf\\Setup\\0.217.0.9\\OverwolfSetup.exe\n",
      "C:\\ProgramData\\Package Cache\\{00CCE2B1-A50C-4B99-A01E-3148E8F8C391}v24.7.32463\\dotnet-sdk-internal-6.0.308-win-x64.msi\n",
      "C:\\ProgramData\\Package Cache\\{4A7A1687-E4FF-4412-8143-549AB6A60FFF}v7.2.9.0\\PowerShell-7.2.9-win-x64.msi\n",
      "C:\\Riot Games\\League of Legends\\libcef.dll\n",
      "C:\\Riot Games\\League of Legends\\Game\\DATA\\FINAL\\DATA.wad.client\n",
      "C:\\Riot Games\\League of Legends\\Game\\DATA\\FINAL\\Global.wad.client\n",
      "C:\\Riot Games\\League of Legends\\Game\\DATA\\FINAL\\UI.wad.client\n",
      "C:\\Riot Games\\League of Legends\\Game\\DATA\\FINAL\\Champions\\Kayle.wad.client\n",
      "C:\\Riot Games\\League of Legends\\Game\\DATA\\FINAL\\Champions\\Sona.wad.client\n",
      "C:\\Riot Games\\League of Legends\\Game\\DATA\\FINAL\\Maps\\Shipping\\Common.wad.client\n",
      "C:\\Riot Games\\League of Legends\\Game\\DATA\\FINAL\\Maps\\Shipping\\Map11.wad.client\n",
      "C:\\Riot Games\\League of Legends\\Game\\DATA\\FINAL\\Maps\\Shipping\\Map12.wad.client\n",
      "C:\\Riot Games\\League of Legends\\Game\\DATA\\FINAL\\Maps\\Shipping\\Map12.zh_TW.wad.client\n",
      "C:\\Riot Games\\League of Legends\\Game\\DATA\\FINAL\\Maps\\Shipping\\Map21.wad.client\n",
      "C:\\Riot Games\\League of Legends\\Game\\DATA\\FINAL\\Maps\\Shipping\\Map22.wad.client\n",
      "C:\\Riot Games\\League of Legends\\Plugins\\rcp-be-lol-game-data\\default-assets.wad\n",
      "C:\\Riot Games\\League of Legends\\Plugins\\rcp-fe-lol-loot\\assets.wad\n",
      "C:\\Riot Games\\League of Legends\\Plugins\\rcp-fe-lol-static-assets\\assets.wad\n",
      "C:\\Riot Games\\Riot Client\\UX\\Plugins\\rcp-fe-keystone-react\\assets.wad\n",
      "C:\\Riot Games\\VALORANT\\live\\ShooterGame\\Binaries\\Win64\\VALORANT-Win64-Shipping.exe\n",
      "C:\\Riot Games\\VALORANT\\live\\ShooterGame\\Content\\Paks\\en_US_Audio-WindowsClient.pak\n",
      "C:\\Riot Games\\VALORANT\\live\\ShooterGame\\Content\\Paks\\pakchunk0-WindowsClient.pak\n",
      "C:\\Riot Games\\VALORANT\\live\\ShooterGame\\Content\\Paks\\pakchunk0_s1-WindowsClient.pak\n",
      "C:\\Riot Games\\VALORANT\\live\\ShooterGame\\Content\\Paks\\pakchunk0_s2-WindowsClient.pak\n",
      "C:\\Riot Games\\VALORANT\\live\\ShooterGame\\Content\\Paks\\pakchunk0_s3-WindowsClient.pak\n",
      "C:\\Riot Games\\VALORANT\\live\\ShooterGame\\Content\\Paks\\pakchunk0_s5-WindowsClient.pak\n",
      "C:\\Riot Games\\VALORANT\\live\\ShooterGame\\Content\\Paks\\pakchunk0_s6-WindowsClient.pak\n",
      "C:\\Riot Games\\VALORANT\\live\\ShooterGame\\Content\\Paks\\pakchunk0_s7-WindowsClient.pak\n",
      "C:\\Riot Games\\VALORANT\\live\\ShooterGame\\Content\\Paks\\pakchunk1-WindowsClient.pak\n",
      "C:\\Riot Games\\VALORANT\\live\\ShooterGame\\Content\\Paks\\pakchunk10-WindowsClient.pak\n",
      "C:\\Riot Games\\VALORANT\\live\\ShooterGame\\Content\\Paks\\pakchunk101-WindowsClient.pak\n",
      "C:\\Riot Games\\VALORANT\\live\\ShooterGame\\Content\\Paks\\pakchunk101_s1-WindowsClient.pak\n",
      "C:\\Riot Games\\VALORANT\\live\\ShooterGame\\Content\\Paks\\pakchunk102-WindowsClient.pak\n",
      "C:\\Riot Games\\VALORANT\\live\\ShooterGame\\Content\\Paks\\pakchunk102_s1-WindowsClient.pak\n",
      "C:\\Riot Games\\VALORANT\\live\\ShooterGame\\Content\\Paks\\pakchunk104-WindowsClient.pak\n",
      "C:\\Riot Games\\VALORANT\\live\\ShooterGame\\Content\\Paks\\pakchunk104_s1-WindowsClient.pak\n",
      "C:\\Riot Games\\VALORANT\\live\\ShooterGame\\Content\\Paks\\pakchunk104_s2-WindowsClient.pak\n",
      "C:\\Riot Games\\VALORANT\\live\\ShooterGame\\Content\\Paks\\pakchunk104_s3-WindowsClient.pak\n",
      "C:\\Riot Games\\VALORANT\\live\\ShooterGame\\Content\\Paks\\pakchunk104_s4-WindowsClient.pak\n",
      "C:\\Riot Games\\VALORANT\\live\\ShooterGame\\Content\\Paks\\pakchunk10_s1-WindowsClient.pak\n",
      "C:\\Riot Games\\VALORANT\\live\\ShooterGame\\Content\\Paks\\pakchunk10_s10-WindowsClient.pak\n",
      "C:\\Riot Games\\VALORANT\\live\\ShooterGame\\Content\\Paks\\pakchunk10_s11-WindowsClient.pak\n",
      "C:\\Riot Games\\VALORANT\\live\\ShooterGame\\Content\\Paks\\pakchunk10_s12-WindowsClient.pak\n",
      "C:\\Riot Games\\VALORANT\\live\\ShooterGame\\Content\\Paks\\pakchunk10_s13-WindowsClient.pak\n",
      "C:\\Riot Games\\VALORANT\\live\\ShooterGame\\Content\\Paks\\pakchunk10_s14-WindowsClient.pak\n",
      "C:\\Riot Games\\VALORANT\\live\\ShooterGame\\Content\\Paks\\pakchunk10_s15-WindowsClient.pak\n",
      "C:\\Riot Games\\VALORANT\\live\\ShooterGame\\Content\\Paks\\pakchunk10_s16-WindowsClient.pak\n",
      "C:\\Riot Games\\VALORANT\\live\\ShooterGame\\Content\\Paks\\pakchunk10_s17-WindowsClient.pak\n",
      "C:\\Riot Games\\VALORANT\\live\\ShooterGame\\Content\\Paks\\pakchunk10_s18-WindowsClient.pak\n",
      "C:\\Riot Games\\VALORANT\\live\\ShooterGame\\Content\\Paks\\pakchunk10_s19-WindowsClient.pak\n",
      "C:\\Riot Games\\VALORANT\\live\\ShooterGame\\Content\\Paks\\pakchunk10_s2-WindowsClient.pak\n",
      "C:\\Riot Games\\VALORANT\\live\\ShooterGame\\Content\\Paks\\pakchunk10_s20-WindowsClient.pak\n",
      "C:\\Riot Games\\VALORANT\\live\\ShooterGame\\Content\\Paks\\pakchunk10_s21-WindowsClient.pak\n",
      "C:\\Riot Games\\VALORANT\\live\\ShooterGame\\Content\\Paks\\pakchunk10_s22-WindowsClient.pak\n",
      "C:\\Riot Games\\VALORANT\\live\\ShooterGame\\Content\\Paks\\pakchunk10_s23-WindowsClient.pak\n",
      "C:\\Riot Games\\VALORANT\\live\\ShooterGame\\Content\\Paks\\pakchunk10_s24-WindowsClient.pak\n",
      "C:\\Riot Games\\VALORANT\\live\\ShooterGame\\Content\\Paks\\pakchunk10_s25-WindowsClient.pak\n",
      "C:\\Riot Games\\VALORANT\\live\\ShooterGame\\Content\\Paks\\pakchunk10_s26-WindowsClient.pak\n",
      "C:\\Riot Games\\VALORANT\\live\\ShooterGame\\Content\\Paks\\pakchunk10_s27-WindowsClient.pak\n",
      "C:\\Riot Games\\VALORANT\\live\\ShooterGame\\Content\\Paks\\pakchunk10_s28-WindowsClient.pak\n",
      "C:\\Riot Games\\VALORANT\\live\\ShooterGame\\Content\\Paks\\pakchunk10_s29-WindowsClient.pak\n",
      "C:\\Riot Games\\VALORANT\\live\\ShooterGame\\Content\\Paks\\pakchunk10_s3-WindowsClient.pak\n",
      "C:\\Riot Games\\VALORANT\\live\\ShooterGame\\Content\\Paks\\pakchunk10_s30-WindowsClient.pak\n",
      "C:\\Riot Games\\VALORANT\\live\\ShooterGame\\Content\\Paks\\pakchunk10_s31-WindowsClient.pak\n",
      "C:\\Riot Games\\VALORANT\\live\\ShooterGame\\Content\\Paks\\pakchunk10_s32-WindowsClient.pak\n",
      "C:\\Riot Games\\VALORANT\\live\\ShooterGame\\Content\\Paks\\pakchunk10_s33-WindowsClient.pak\n",
      "C:\\Riot Games\\VALORANT\\live\\ShooterGame\\Content\\Paks\\pakchunk10_s34-WindowsClient.pak\n",
      "C:\\Riot Games\\VALORANT\\live\\ShooterGame\\Content\\Paks\\pakchunk10_s35-WindowsClient.pak\n",
      "C:\\Riot Games\\VALORANT\\live\\ShooterGame\\Content\\Paks\\pakchunk10_s36-WindowsClient.pak\n",
      "C:\\Riot Games\\VALORANT\\live\\ShooterGame\\Content\\Paks\\pakchunk10_s37-WindowsClient.pak\n",
      "C:\\Riot Games\\VALORANT\\live\\ShooterGame\\Content\\Paks\\pakchunk10_s38-WindowsClient.pak\n",
      "C:\\Riot Games\\VALORANT\\live\\ShooterGame\\Content\\Paks\\pakchunk10_s39-WindowsClient.pak\n",
      "C:\\Riot Games\\VALORANT\\live\\ShooterGame\\Content\\Paks\\pakchunk10_s4-WindowsClient.pak\n",
      "C:\\Riot Games\\VALORANT\\live\\ShooterGame\\Content\\Paks\\pakchunk10_s40-WindowsClient.pak\n",
      "C:\\Riot Games\\VALORANT\\live\\ShooterGame\\Content\\Paks\\pakchunk10_s41-WindowsClient.pak\n",
      "C:\\Riot Games\\VALORANT\\live\\ShooterGame\\Content\\Paks\\pakchunk10_s42-WindowsClient.pak\n",
      "C:\\Riot Games\\VALORANT\\live\\ShooterGame\\Content\\Paks\\pakchunk10_s43-WindowsClient.pak\n",
      "C:\\Riot Games\\VALORANT\\live\\ShooterGame\\Content\\Paks\\pakchunk10_s45-WindowsClient.pak\n",
      "C:\\Riot Games\\VALORANT\\live\\ShooterGame\\Content\\Paks\\pakchunk10_s46-WindowsClient.pak\n",
      "C:\\Riot Games\\VALORANT\\live\\ShooterGame\\Content\\Paks\\pakchunk10_s47-WindowsClient.pak\n",
      "C:\\Riot Games\\VALORANT\\live\\ShooterGame\\Content\\Paks\\pakchunk10_s48-WindowsClient.pak\n",
      "C:\\Riot Games\\VALORANT\\live\\ShooterGame\\Content\\Paks\\pakchunk10_s49-WindowsClient.pak\n",
      "C:\\Riot Games\\VALORANT\\live\\ShooterGame\\Content\\Paks\\pakchunk10_s5-WindowsClient.pak\n",
      "C:\\Riot Games\\VALORANT\\live\\ShooterGame\\Content\\Paks\\pakchunk10_s50-WindowsClient.pak\n",
      "C:\\Riot Games\\VALORANT\\live\\ShooterGame\\Content\\Paks\\pakchunk10_s51-WindowsClient.pak\n",
      "C:\\Riot Games\\VALORANT\\live\\ShooterGame\\Content\\Paks\\pakchunk10_s52-WindowsClient.pak\n",
      "C:\\Riot Games\\VALORANT\\live\\ShooterGame\\Content\\Paks\\pakchunk10_s53-WindowsClient.pak\n",
      "C:\\Riot Games\\VALORANT\\live\\ShooterGame\\Content\\Paks\\pakchunk10_s54-WindowsClient.pak\n",
      "C:\\Riot Games\\VALORANT\\live\\ShooterGame\\Content\\Paks\\pakchunk10_s55-WindowsClient.pak\n",
      "C:\\Riot Games\\VALORANT\\live\\ShooterGame\\Content\\Paks\\pakchunk10_s56-WindowsClient.pak\n",
      "C:\\Riot Games\\VALORANT\\live\\ShooterGame\\Content\\Paks\\pakchunk10_s57-WindowsClient.pak\n",
      "C:\\Riot Games\\VALORANT\\live\\ShooterGame\\Content\\Paks\\pakchunk10_s59-WindowsClient.pak\n",
      "C:\\Riot Games\\VALORANT\\live\\ShooterGame\\Content\\Paks\\pakchunk10_s6-WindowsClient.pak\n",
      "C:\\Riot Games\\VALORANT\\live\\ShooterGame\\Content\\Paks\\pakchunk10_s60-WindowsClient.pak\n",
      "C:\\Riot Games\\VALORANT\\live\\ShooterGame\\Content\\Paks\\pakchunk10_s61-WindowsClient.pak\n",
      "C:\\Riot Games\\VALORANT\\live\\ShooterGame\\Content\\Paks\\pakchunk10_s62-WindowsClient.pak\n",
      "C:\\Riot Games\\VALORANT\\live\\ShooterGame\\Content\\Paks\\pakchunk10_s63-WindowsClient.pak\n",
      "C:\\Riot Games\\VALORANT\\live\\ShooterGame\\Content\\Paks\\pakchunk10_s64-WindowsClient.pak\n",
      "C:\\Riot Games\\VALORANT\\live\\ShooterGame\\Content\\Paks\\pakchunk10_s65-WindowsClient.pak\n",
      "C:\\Riot Games\\VALORANT\\live\\ShooterGame\\Content\\Paks\\pakchunk10_s66-WindowsClient.pak\n",
      "C:\\Riot Games\\VALORANT\\live\\ShooterGame\\Content\\Paks\\pakchunk10_s67-WindowsClient.pak\n",
      "C:\\Riot Games\\VALORANT\\live\\ShooterGame\\Content\\Paks\\pakchunk10_s68-WindowsClient.pak\n",
      "C:\\Riot Games\\VALORANT\\live\\ShooterGame\\Content\\Paks\\pakchunk10_s69-WindowsClient.pak\n",
      "C:\\Riot Games\\VALORANT\\live\\ShooterGame\\Content\\Paks\\pakchunk10_s7-WindowsClient.pak\n",
      "C:\\Riot Games\\VALORANT\\live\\ShooterGame\\Content\\Paks\\pakchunk10_s70-WindowsClient.pak\n",
      "C:\\Riot Games\\VALORANT\\live\\ShooterGame\\Content\\Paks\\pakchunk10_s71-WindowsClient.pak\n",
      "C:\\Riot Games\\VALORANT\\live\\ShooterGame\\Content\\Paks\\pakchunk10_s72-WindowsClient.pak\n",
      "C:\\Riot Games\\VALORANT\\live\\ShooterGame\\Content\\Paks\\pakchunk10_s73-WindowsClient.pak\n",
      "C:\\Riot Games\\VALORANT\\live\\ShooterGame\\Content\\Paks\\pakchunk10_s74-WindowsClient.pak\n",
      "C:\\Riot Games\\VALORANT\\live\\ShooterGame\\Content\\Paks\\pakchunk10_s75-WindowsClient.pak\n",
      "C:\\Riot Games\\VALORANT\\live\\ShooterGame\\Content\\Paks\\pakchunk10_s76-WindowsClient.pak\n",
      "C:\\Riot Games\\VALORANT\\live\\ShooterGame\\Content\\Paks\\pakchunk10_s77-WindowsClient.pak\n",
      "C:\\Riot Games\\VALORANT\\live\\ShooterGame\\Content\\Paks\\pakchunk10_s79-WindowsClient.pak\n",
      "C:\\Riot Games\\VALORANT\\live\\ShooterGame\\Content\\Paks\\pakchunk10_s8-WindowsClient.pak\n",
      "C:\\Riot Games\\VALORANT\\live\\ShooterGame\\Content\\Paks\\pakchunk10_s80-WindowsClient.pak\n",
      "C:\\Riot Games\\VALORANT\\live\\ShooterGame\\Content\\Paks\\pakchunk10_s81-WindowsClient.pak\n",
      "C:\\Riot Games\\VALORANT\\live\\ShooterGame\\Content\\Paks\\pakchunk10_s82-WindowsClient.pak\n",
      "C:\\Riot Games\\VALORANT\\live\\ShooterGame\\Content\\Paks\\pakchunk10_s83-WindowsClient.pak\n",
      "C:\\Riot Games\\VALORANT\\live\\ShooterGame\\Content\\Paks\\pakchunk10_s84-WindowsClient.pak\n",
      "C:\\Riot Games\\VALORANT\\live\\ShooterGame\\Content\\Paks\\pakchunk10_s85-WindowsClient.pak\n",
      "C:\\Riot Games\\VALORANT\\live\\ShooterGame\\Content\\Paks\\pakchunk10_s86-WindowsClient.pak\n",
      "C:\\Riot Games\\VALORANT\\live\\ShooterGame\\Content\\Paks\\pakchunk10_s87-WindowsClient.pak\n",
      "C:\\Riot Games\\VALORANT\\live\\ShooterGame\\Content\\Paks\\pakchunk10_s88-WindowsClient.pak\n",
      "C:\\Riot Games\\VALORANT\\live\\ShooterGame\\Content\\Paks\\pakchunk10_s89-WindowsClient.pak\n",
      "C:\\Riot Games\\VALORANT\\live\\ShooterGame\\Content\\Paks\\pakchunk10_s9-WindowsClient.pak\n",
      "C:\\Riot Games\\VALORANT\\live\\ShooterGame\\Content\\Paks\\pakchunk10_s90-WindowsClient.pak\n",
      "C:\\Riot Games\\VALORANT\\live\\ShooterGame\\Content\\Paks\\pakchunk10_s91-WindowsClient.pak\n",
      "C:\\Riot Games\\VALORANT\\live\\ShooterGame\\Content\\Paks\\pakchunk10_s92-WindowsClient.pak\n",
      "C:\\Riot Games\\VALORANT\\live\\ShooterGame\\Content\\Paks\\pakchunk10_s93-WindowsClient.pak\n",
      "C:\\Riot Games\\VALORANT\\live\\ShooterGame\\Content\\Paks\\pakchunk10_s94-WindowsClient.pak\n",
      "C:\\Riot Games\\VALORANT\\live\\ShooterGame\\Content\\Paks\\pakchunk10_s95-WindowsClient.pak\n",
      "C:\\Riot Games\\VALORANT\\live\\ShooterGame\\Content\\Paks\\pakchunk10_s96-WindowsClient.pak\n",
      "C:\\Riot Games\\VALORANT\\live\\ShooterGame\\Content\\Paks\\pakchunk10_s97-WindowsClient.pak\n",
      "C:\\Riot Games\\VALORANT\\live\\ShooterGame\\Content\\Paks\\pakchunk10_s98-WindowsClient.pak\n",
      "C:\\Riot Games\\VALORANT\\live\\ShooterGame\\Content\\Paks\\pakchunk15-WindowsClient.pak\n",
      "C:\\Riot Games\\VALORANT\\live\\ShooterGame\\Content\\Paks\\pakchunk15_s1-WindowsClient.pak\n",
      "C:\\Riot Games\\VALORANT\\live\\ShooterGame\\Content\\Paks\\pakchunk15_s2-WindowsClient.pak\n",
      "C:\\Riot Games\\VALORANT\\live\\ShooterGame\\Content\\Paks\\pakchunk199-WindowsClient.pak\n",
      "C:\\Riot Games\\VALORANT\\live\\ShooterGame\\Content\\Paks\\pakchunk199_s1-WindowsClient.pak\n",
      "C:\\Riot Games\\VALORANT\\live\\ShooterGame\\Content\\Paks\\pakchunk199_s2-WindowsClient.pak\n",
      "C:\\Riot Games\\VALORANT\\live\\ShooterGame\\Content\\Paks\\pakchunk199_s3-WindowsClient.pak\n",
      "C:\\Riot Games\\VALORANT\\live\\ShooterGame\\Content\\Paks\\pakchunk199_s4-WindowsClient.pak\n",
      "C:\\Riot Games\\VALORANT\\live\\ShooterGame\\Content\\Paks\\pakchunk199_s5-WindowsClient.pak\n",
      "C:\\Riot Games\\VALORANT\\live\\ShooterGame\\Content\\Paks\\pakchunk1_s1-WindowsClient.pak\n",
      "C:\\Riot Games\\VALORANT\\live\\ShooterGame\\Content\\Paks\\pakchunk1_s10-WindowsClient.pak\n",
      "C:\\Riot Games\\VALORANT\\live\\ShooterGame\\Content\\Paks\\pakchunk1_s100-WindowsClient.pak\n",
      "C:\\Riot Games\\VALORANT\\live\\ShooterGame\\Content\\Paks\\pakchunk1_s101-WindowsClient.pak\n",
      "C:\\Riot Games\\VALORANT\\live\\ShooterGame\\Content\\Paks\\pakchunk1_s102-WindowsClient.pak\n",
      "C:\\Riot Games\\VALORANT\\live\\ShooterGame\\Content\\Paks\\pakchunk1_s104-WindowsClient.pak\n",
      "C:\\Riot Games\\VALORANT\\live\\ShooterGame\\Content\\Paks\\pakchunk1_s107-WindowsClient.pak\n",
      "C:\\Riot Games\\VALORANT\\live\\ShooterGame\\Content\\Paks\\pakchunk1_s109-WindowsClient.pak\n",
      "C:\\Riot Games\\VALORANT\\live\\ShooterGame\\Content\\Paks\\pakchunk1_s11-WindowsClient.pak\n",
      "C:\\Riot Games\\VALORANT\\live\\ShooterGame\\Content\\Paks\\pakchunk1_s110-WindowsClient.pak\n",
      "C:\\Riot Games\\VALORANT\\live\\ShooterGame\\Content\\Paks\\pakchunk1_s115-WindowsClient.pak\n",
      "C:\\Riot Games\\VALORANT\\live\\ShooterGame\\Content\\Paks\\pakchunk1_s116-WindowsClient.pak\n",
      "C:\\Riot Games\\VALORANT\\live\\ShooterGame\\Content\\Paks\\pakchunk1_s117-WindowsClient.pak\n",
      "C:\\Riot Games\\VALORANT\\live\\ShooterGame\\Content\\Paks\\pakchunk1_s118-WindowsClient.pak\n",
      "C:\\Riot Games\\VALORANT\\live\\ShooterGame\\Content\\Paks\\pakchunk1_s12-WindowsClient.pak\n",
      "C:\\Riot Games\\VALORANT\\live\\ShooterGame\\Content\\Paks\\pakchunk1_s121-WindowsClient.pak\n",
      "C:\\Riot Games\\VALORANT\\live\\ShooterGame\\Content\\Paks\\pakchunk1_s123-WindowsClient.pak\n",
      "C:\\Riot Games\\VALORANT\\live\\ShooterGame\\Content\\Paks\\pakchunk1_s124-WindowsClient.pak\n",
      "C:\\Riot Games\\VALORANT\\live\\ShooterGame\\Content\\Paks\\pakchunk1_s125-WindowsClient.pak\n",
      "C:\\Riot Games\\VALORANT\\live\\ShooterGame\\Content\\Paks\\pakchunk1_s126-WindowsClient.pak\n",
      "C:\\Riot Games\\VALORANT\\live\\ShooterGame\\Content\\Paks\\pakchunk1_s129-WindowsClient.pak\n",
      "C:\\Riot Games\\VALORANT\\live\\ShooterGame\\Content\\Paks\\pakchunk1_s13-WindowsClient.pak\n",
      "C:\\Riot Games\\VALORANT\\live\\ShooterGame\\Content\\Paks\\pakchunk1_s130-WindowsClient.pak\n",
      "C:\\Riot Games\\VALORANT\\live\\ShooterGame\\Content\\Paks\\pakchunk1_s131-WindowsClient.pak\n",
      "C:\\Riot Games\\VALORANT\\live\\ShooterGame\\Content\\Paks\\pakchunk1_s132-WindowsClient.pak\n",
      "C:\\Riot Games\\VALORANT\\live\\ShooterGame\\Content\\Paks\\pakchunk1_s133-WindowsClient.pak\n",
      "C:\\Riot Games\\VALORANT\\live\\ShooterGame\\Content\\Paks\\pakchunk1_s134-WindowsClient.pak\n",
      "C:\\Riot Games\\VALORANT\\live\\ShooterGame\\Content\\Paks\\pakchunk1_s135-WindowsClient.pak\n",
      "C:\\Riot Games\\VALORANT\\live\\ShooterGame\\Content\\Paks\\pakchunk1_s136-WindowsClient.pak\n",
      "C:\\Riot Games\\VALORANT\\live\\ShooterGame\\Content\\Paks\\pakchunk1_s14-WindowsClient.pak\n",
      "C:\\Riot Games\\VALORANT\\live\\ShooterGame\\Content\\Paks\\pakchunk1_s15-WindowsClient.pak\n",
      "C:\\Riot Games\\VALORANT\\live\\ShooterGame\\Content\\Paks\\pakchunk1_s16-WindowsClient.pak\n",
      "C:\\Riot Games\\VALORANT\\live\\ShooterGame\\Content\\Paks\\pakchunk1_s161-WindowsClient.pak\n",
      "C:\\Riot Games\\VALORANT\\live\\ShooterGame\\Content\\Paks\\pakchunk1_s162-WindowsClient.pak\n",
      "C:\\Riot Games\\VALORANT\\live\\ShooterGame\\Content\\Paks\\pakchunk1_s163-WindowsClient.pak\n",
      "C:\\Riot Games\\VALORANT\\live\\ShooterGame\\Content\\Paks\\pakchunk1_s164-WindowsClient.pak\n",
      "C:\\Riot Games\\VALORANT\\live\\ShooterGame\\Content\\Paks\\pakchunk1_s17-WindowsClient.pak\n",
      "C:\\Riot Games\\VALORANT\\live\\ShooterGame\\Content\\Paks\\pakchunk1_s18-WindowsClient.pak\n",
      "C:\\Riot Games\\VALORANT\\live\\ShooterGame\\Content\\Paks\\pakchunk1_s19-WindowsClient.pak\n",
      "C:\\Riot Games\\VALORANT\\live\\ShooterGame\\Content\\Paks\\pakchunk1_s2-WindowsClient.pak\n",
      "C:\\Riot Games\\VALORANT\\live\\ShooterGame\\Content\\Paks\\pakchunk1_s20-WindowsClient.pak\n",
      "C:\\Riot Games\\VALORANT\\live\\ShooterGame\\Content\\Paks\\pakchunk1_s21-WindowsClient.pak\n",
      "C:\\Riot Games\\VALORANT\\live\\ShooterGame\\Content\\Paks\\pakchunk1_s22-WindowsClient.pak\n",
      "C:\\Riot Games\\VALORANT\\live\\ShooterGame\\Content\\Paks\\pakchunk1_s23-WindowsClient.pak\n",
      "C:\\Riot Games\\VALORANT\\live\\ShooterGame\\Content\\Paks\\pakchunk1_s24-WindowsClient.pak\n",
      "C:\\Riot Games\\VALORANT\\live\\ShooterGame\\Content\\Paks\\pakchunk1_s25-WindowsClient.pak\n",
      "C:\\Riot Games\\VALORANT\\live\\ShooterGame\\Content\\Paks\\pakchunk1_s26-WindowsClient.pak\n",
      "C:\\Riot Games\\VALORANT\\live\\ShooterGame\\Content\\Paks\\pakchunk1_s27-WindowsClient.pak\n",
      "C:\\Riot Games\\VALORANT\\live\\ShooterGame\\Content\\Paks\\pakchunk1_s28-WindowsClient.pak\n",
      "C:\\Riot Games\\VALORANT\\live\\ShooterGame\\Content\\Paks\\pakchunk1_s29-WindowsClient.pak\n",
      "C:\\Riot Games\\VALORANT\\live\\ShooterGame\\Content\\Paks\\pakchunk1_s3-WindowsClient.pak\n",
      "C:\\Riot Games\\VALORANT\\live\\ShooterGame\\Content\\Paks\\pakchunk1_s30-WindowsClient.pak\n",
      "C:\\Riot Games\\VALORANT\\live\\ShooterGame\\Content\\Paks\\pakchunk1_s31-WindowsClient.pak\n",
      "C:\\Riot Games\\VALORANT\\live\\ShooterGame\\Content\\Paks\\pakchunk1_s32-WindowsClient.pak\n",
      "C:\\Riot Games\\VALORANT\\live\\ShooterGame\\Content\\Paks\\pakchunk1_s33-WindowsClient.pak\n",
      "C:\\Riot Games\\VALORANT\\live\\ShooterGame\\Content\\Paks\\pakchunk1_s34-WindowsClient.pak\n",
      "C:\\Riot Games\\VALORANT\\live\\ShooterGame\\Content\\Paks\\pakchunk1_s35-WindowsClient.pak\n",
      "C:\\Riot Games\\VALORANT\\live\\ShooterGame\\Content\\Paks\\pakchunk1_s36-WindowsClient.pak\n",
      "C:\\Riot Games\\VALORANT\\live\\ShooterGame\\Content\\Paks\\pakchunk1_s37-WindowsClient.pak\n",
      "C:\\Riot Games\\VALORANT\\live\\ShooterGame\\Content\\Paks\\pakchunk1_s38-WindowsClient.pak\n",
      "C:\\Riot Games\\VALORANT\\live\\ShooterGame\\Content\\Paks\\pakchunk1_s39-WindowsClient.pak\n",
      "C:\\Riot Games\\VALORANT\\live\\ShooterGame\\Content\\Paks\\pakchunk1_s4-WindowsClient.pak\n",
      "C:\\Riot Games\\VALORANT\\live\\ShooterGame\\Content\\Paks\\pakchunk1_s40-WindowsClient.pak\n",
      "C:\\Riot Games\\VALORANT\\live\\ShooterGame\\Content\\Paks\\pakchunk1_s41-WindowsClient.pak\n",
      "C:\\Riot Games\\VALORANT\\live\\ShooterGame\\Content\\Paks\\pakchunk1_s42-WindowsClient.pak\n",
      "C:\\Riot Games\\VALORANT\\live\\ShooterGame\\Content\\Paks\\pakchunk1_s43-WindowsClient.pak\n",
      "C:\\Riot Games\\VALORANT\\live\\ShooterGame\\Content\\Paks\\pakchunk1_s44-WindowsClient.pak\n",
      "C:\\Riot Games\\VALORANT\\live\\ShooterGame\\Content\\Paks\\pakchunk1_s45-WindowsClient.pak\n",
      "C:\\Riot Games\\VALORANT\\live\\ShooterGame\\Content\\Paks\\pakchunk1_s46-WindowsClient.pak\n",
      "C:\\Riot Games\\VALORANT\\live\\ShooterGame\\Content\\Paks\\pakchunk1_s47-WindowsClient.pak\n",
      "C:\\Riot Games\\VALORANT\\live\\ShooterGame\\Content\\Paks\\pakchunk1_s48-WindowsClient.pak\n",
      "C:\\Riot Games\\VALORANT\\live\\ShooterGame\\Content\\Paks\\pakchunk1_s49-WindowsClient.pak\n",
      "C:\\Riot Games\\VALORANT\\live\\ShooterGame\\Content\\Paks\\pakchunk1_s5-WindowsClient.pak\n",
      "C:\\Riot Games\\VALORANT\\live\\ShooterGame\\Content\\Paks\\pakchunk1_s50-WindowsClient.pak\n",
      "C:\\Riot Games\\VALORANT\\live\\ShooterGame\\Content\\Paks\\pakchunk1_s51-WindowsClient.pak\n",
      "C:\\Riot Games\\VALORANT\\live\\ShooterGame\\Content\\Paks\\pakchunk1_s52-WindowsClient.pak\n",
      "C:\\Riot Games\\VALORANT\\live\\ShooterGame\\Content\\Paks\\pakchunk1_s53-WindowsClient.pak\n",
      "C:\\Riot Games\\VALORANT\\live\\ShooterGame\\Content\\Paks\\pakchunk1_s54-WindowsClient.pak\n",
      "C:\\Riot Games\\VALORANT\\live\\ShooterGame\\Content\\Paks\\pakchunk1_s55-WindowsClient.pak\n",
      "C:\\Riot Games\\VALORANT\\live\\ShooterGame\\Content\\Paks\\pakchunk1_s56-WindowsClient.pak\n",
      "C:\\Riot Games\\VALORANT\\live\\ShooterGame\\Content\\Paks\\pakchunk1_s57-WindowsClient.pak\n",
      "C:\\Riot Games\\VALORANT\\live\\ShooterGame\\Content\\Paks\\pakchunk1_s58-WindowsClient.pak\n",
      "C:\\Riot Games\\VALORANT\\live\\ShooterGame\\Content\\Paks\\pakchunk1_s59-WindowsClient.pak\n",
      "C:\\Riot Games\\VALORANT\\live\\ShooterGame\\Content\\Paks\\pakchunk1_s6-WindowsClient.pak\n",
      "C:\\Riot Games\\VALORANT\\live\\ShooterGame\\Content\\Paks\\pakchunk1_s60-WindowsClient.pak\n",
      "C:\\Riot Games\\VALORANT\\live\\ShooterGame\\Content\\Paks\\pakchunk1_s61-WindowsClient.pak\n",
      "C:\\Riot Games\\VALORANT\\live\\ShooterGame\\Content\\Paks\\pakchunk1_s62-WindowsClient.pak\n",
      "C:\\Riot Games\\VALORANT\\live\\ShooterGame\\Content\\Paks\\pakchunk1_s63-WindowsClient.pak\n",
      "C:\\Riot Games\\VALORANT\\live\\ShooterGame\\Content\\Paks\\pakchunk1_s64-WindowsClient.pak\n",
      "C:\\Riot Games\\VALORANT\\live\\ShooterGame\\Content\\Paks\\pakchunk1_s65-WindowsClient.pak\n",
      "C:\\Riot Games\\VALORANT\\live\\ShooterGame\\Content\\Paks\\pakchunk1_s66-WindowsClient.pak\n",
      "C:\\Riot Games\\VALORANT\\live\\ShooterGame\\Content\\Paks\\pakchunk1_s67-WindowsClient.pak\n",
      "C:\\Riot Games\\VALORANT\\live\\ShooterGame\\Content\\Paks\\pakchunk1_s68-WindowsClient.pak\n",
      "C:\\Riot Games\\VALORANT\\live\\ShooterGame\\Content\\Paks\\pakchunk1_s69-WindowsClient.pak\n",
      "C:\\Riot Games\\VALORANT\\live\\ShooterGame\\Content\\Paks\\pakchunk1_s7-WindowsClient.pak\n",
      "C:\\Riot Games\\VALORANT\\live\\ShooterGame\\Content\\Paks\\pakchunk1_s70-WindowsClient.pak\n",
      "C:\\Riot Games\\VALORANT\\live\\ShooterGame\\Content\\Paks\\pakchunk1_s71-WindowsClient.pak\n",
      "C:\\Riot Games\\VALORANT\\live\\ShooterGame\\Content\\Paks\\pakchunk1_s72-WindowsClient.pak\n",
      "C:\\Riot Games\\VALORANT\\live\\ShooterGame\\Content\\Paks\\pakchunk1_s73-WindowsClient.pak\n",
      "C:\\Riot Games\\VALORANT\\live\\ShooterGame\\Content\\Paks\\pakchunk1_s74-WindowsClient.pak\n",
      "C:\\Riot Games\\VALORANT\\live\\ShooterGame\\Content\\Paks\\pakchunk1_s75-WindowsClient.pak\n",
      "C:\\Riot Games\\VALORANT\\live\\ShooterGame\\Content\\Paks\\pakchunk1_s76-WindowsClient.pak\n",
      "C:\\Riot Games\\VALORANT\\live\\ShooterGame\\Content\\Paks\\pakchunk1_s77-WindowsClient.pak\n",
      "C:\\Riot Games\\VALORANT\\live\\ShooterGame\\Content\\Paks\\pakchunk1_s78-WindowsClient.pak\n",
      "C:\\Riot Games\\VALORANT\\live\\ShooterGame\\Content\\Paks\\pakchunk1_s79-WindowsClient.pak\n",
      "C:\\Riot Games\\VALORANT\\live\\ShooterGame\\Content\\Paks\\pakchunk1_s8-WindowsClient.pak\n",
      "C:\\Riot Games\\VALORANT\\live\\ShooterGame\\Content\\Paks\\pakchunk1_s80-WindowsClient.pak\n",
      "C:\\Riot Games\\VALORANT\\live\\ShooterGame\\Content\\Paks\\pakchunk1_s81-WindowsClient.pak\n",
      "C:\\Riot Games\\VALORANT\\live\\ShooterGame\\Content\\Paks\\pakchunk1_s82-WindowsClient.pak\n",
      "C:\\Riot Games\\VALORANT\\live\\ShooterGame\\Content\\Paks\\pakchunk1_s83-WindowsClient.pak\n",
      "C:\\Riot Games\\VALORANT\\live\\ShooterGame\\Content\\Paks\\pakchunk1_s84-WindowsClient.pak\n",
      "C:\\Riot Games\\VALORANT\\live\\ShooterGame\\Content\\Paks\\pakchunk1_s85-WindowsClient.pak\n",
      "C:\\Riot Games\\VALORANT\\live\\ShooterGame\\Content\\Paks\\pakchunk1_s86-WindowsClient.pak\n",
      "C:\\Riot Games\\VALORANT\\live\\ShooterGame\\Content\\Paks\\pakchunk1_s87-WindowsClient.pak\n",
      "C:\\Riot Games\\VALORANT\\live\\ShooterGame\\Content\\Paks\\pakchunk1_s88-WindowsClient.pak\n",
      "C:\\Riot Games\\VALORANT\\live\\ShooterGame\\Content\\Paks\\pakchunk1_s89-WindowsClient.pak\n",
      "C:\\Riot Games\\VALORANT\\live\\ShooterGame\\Content\\Paks\\pakchunk1_s9-WindowsClient.pak\n",
      "C:\\Riot Games\\VALORANT\\live\\ShooterGame\\Content\\Paks\\pakchunk1_s90-WindowsClient.pak\n",
      "C:\\Riot Games\\VALORANT\\live\\ShooterGame\\Content\\Paks\\pakchunk1_s91-WindowsClient.pak\n",
      "C:\\Riot Games\\VALORANT\\live\\ShooterGame\\Content\\Paks\\pakchunk1_s92-WindowsClient.pak\n",
      "C:\\Riot Games\\VALORANT\\live\\ShooterGame\\Content\\Paks\\pakchunk1_s93-WindowsClient.pak\n",
      "C:\\Riot Games\\VALORANT\\live\\ShooterGame\\Content\\Paks\\pakchunk1_s94-WindowsClient.pak\n",
      "C:\\Riot Games\\VALORANT\\live\\ShooterGame\\Content\\Paks\\pakchunk1_s95-WindowsClient.pak\n",
      "C:\\Riot Games\\VALORANT\\live\\ShooterGame\\Content\\Paks\\pakchunk1_s96-WindowsClient.pak\n",
      "C:\\Riot Games\\VALORANT\\live\\ShooterGame\\Content\\Paks\\pakchunk1_s97-WindowsClient.pak\n",
      "C:\\Riot Games\\VALORANT\\live\\ShooterGame\\Content\\Paks\\pakchunk1_s98-WindowsClient.pak\n",
      "C:\\Riot Games\\VALORANT\\live\\ShooterGame\\Content\\Paks\\pakchunk1_s99-WindowsClient.pak\n",
      "C:\\Riot Games\\VALORANT\\live\\ShooterGame\\Content\\Paks\\pakchunk2-WindowsClient.pak\n",
      "C:\\Riot Games\\VALORANT\\live\\ShooterGame\\Content\\Paks\\pakchunk2_s1-WindowsClient.pak\n",
      "C:\\Riot Games\\VALORANT\\live\\ShooterGame\\Content\\Paks\\pakchunk2_s6-WindowsClient.pak\n",
      "C:\\Riot Games\\VALORANT\\live\\ShooterGame\\Content\\Paks\\pakchunk3-WindowsClient.pak\n",
      "C:\\Riot Games\\VALORANT\\live\\ShooterGame\\Content\\Paks\\pakchunk3_s1-WindowsClient.pak\n",
      "C:\\Riot Games\\VALORANT\\live\\ShooterGame\\Content\\Paks\\pakchunk3_s10-WindowsClient.pak\n",
      "C:\\Riot Games\\VALORANT\\live\\ShooterGame\\Content\\Paks\\pakchunk3_s11-WindowsClient.pak\n",
      "C:\\Riot Games\\VALORANT\\live\\ShooterGame\\Content\\Paks\\pakchunk3_s12-WindowsClient.pak\n",
      "C:\\Riot Games\\VALORANT\\live\\ShooterGame\\Content\\Paks\\pakchunk3_s2-WindowsClient.pak\n",
      "C:\\Riot Games\\VALORANT\\live\\ShooterGame\\Content\\Paks\\pakchunk3_s3-WindowsClient.pak\n",
      "C:\\Riot Games\\VALORANT\\live\\ShooterGame\\Content\\Paks\\pakchunk3_s4-WindowsClient.pak\n",
      "C:\\Riot Games\\VALORANT\\live\\ShooterGame\\Content\\Paks\\pakchunk3_s5-WindowsClient.pak\n",
      "C:\\Riot Games\\VALORANT\\live\\ShooterGame\\Content\\Paks\\pakchunk3_s6-WindowsClient.pak\n",
      "C:\\Riot Games\\VALORANT\\live\\ShooterGame\\Content\\Paks\\pakchunk3_s7-WindowsClient.pak\n",
      "C:\\Riot Games\\VALORANT\\live\\ShooterGame\\Content\\Paks\\pakchunk3_s8-WindowsClient.pak\n",
      "C:\\Riot Games\\VALORANT\\live\\ShooterGame\\Content\\Paks\\pakchunk3_s9-WindowsClient.pak\n",
      "C:\\Riot Games\\VALORANT\\live\\ShooterGame\\Content\\Paks\\pakchunk4-WindowsClient.pak\n",
      "C:\\Users\\315\\anaconda3\\Lib\\site-packages\\tensorflow\\python\\_pywrap_tensorflow_internal.pyd\n",
      "C:\\Users\\315\\anaconda3\\Lib\\site-packages\\xgboost\\lib\\xgboost.dll\n",
      "C:\\Users\\315\\anaconda3\\Library\\bin\\onedal_dpc.1.dll\n",
      "C:\\Users\\315\\anaconda3\\pkgs\\mkl-2021.4.0-haa95532_640.conda\n",
      "C:\\Users\\315\\anaconda3\\pkgs\\dal-2021.5.0-haa95532_796\\Library\\bin\\onedal_dpc.1.dll\n",
      "C:\\Users\\315\\AppData\\Local\\Discord\\app-1.0.9010\\Discord.exe\n",
      "C:\\Users\\315\\AppData\\Local\\Google\\Chrome\\User Data\\Profile 1\\Cache\\Cache_Data\\data_3\n",
      "C:\\Users\\315\\AppData\\Local\\LINE\\Data\\db\\qwfbcb7ff25f38b828ebea833266557b.edb\n",
      "C:\\Users\\315\\AppData\\Local\\Packages\\Microsoft.SkypeApp_kzf8qxf38zg5c\\LocalCache\\Roaming\\Microsoft\\Skype for Store\\Cache\\data_3\n",
      "C:\\Users\\315\\AppData\\Local\\pip\\cache\\http\\1\\b\\6\\1\\0\\1b6105bb0babdc2d58d9185c4eb21a8b169d14348e660b01ed28532e\n",
      "C:\\Users\\315\\AppData\\Local\\pip\\cache\\http\\9\\b\\d\\4\\2\\9bd4214721ff04e0718e183445e42fa9ce0868f8fdeae76608b122ed\n",
      "C:\\Users\\315\\AppData\\Local\\Programs\\Microsoft VS Code\\Code.exe\n",
      "C:\\Users\\315\\AppData\\Local\\Temp\\nybcmick\\AndroidTools_Xamarin.1265E87BF2A7C8F279D5\\commandlinetools-win-8512546_latest.zip\n",
      "C:\\Users\\315\\AppData\\Local\\Temp\\nybcmick\\Microsoft.Android.Sdk.net7.33.0.4.3B4EE3A4D49EAA497E95\\Microsoft.Android.Sdk.Windows.33.0.4-x64.msi\n",
      "C:\\Users\\315\\AppData\\Local\\Temp\\nybcmick\\Microsoft.ML.ModelBuilder.6ED20329037E3ABB2DC3\\Microsoft.ML.ModelBuilder.vsix\n",
      "C:\\Users\\315\\AppData\\Local\\Temp\\nybcmick\\Microsoft.NetCore.Toolset.7.0.102.7EE8A1647D6A345354D6\\dotnet-sdk-internal-7.0.102-win-x64.msi\n",
      "C:\\Users\\315\\AppData\\Local\\Temp\\nybcmick\\Microsoft.VisualStudio.AspNetPackages.Msi.9D50F69D31709CE7B615\\AspNetWebToolsPackagesVS17_ENU.msi\n",
      "C:\\Users\\315\\AppData\\Local\\Temp\\nybcmick\\Microsoft.VisualStudio.IntelliCode.30D752E02BB86D206F7C\\Microsoft.VisualStudio.IntelliCode.vsix\n",
      "C:\\Users\\315\\AppData\\Local\\Temp\\nybcmick\\Microsoft.VisualStudio.LiveShare.2022.CA70E3AC087BB7F4DBCA\\Microsoft.VisualStudio.LiveShare.vsix\n",
      "C:\\Users\\315\\AppData\\Local\\Temp\\nybcmick\\Microsoft.VisualStudio.Web.AzureFunctions.E112F4421E10E297D0DF\\Microsoft.WebTools.Azure.Functions.Vsix.vsix\n",
      "C:\\Users\\315\\AppData\\Local\\Temp\\nybcmick\\Xamarin.Android.Sdk.34FFB890B96F775B4A1F\\Xamarin.Android.Sdk-13.1.0.1.vsix\n",
      "C:\\Users\\315\\AppData\\Local\\Temp\\nybcmick\\Xamarin.VisualStudio.Android.Designer.0571B0BE1C85C8833A08\\Xamarin.VisualStudio.Android.Designer.17.4.0.138.vsix\n",
      "C:\\Users\\315\\AppData\\Local\\Temp\\nybcmick\\Xamarin.VisualStudio.Apple.Sdk.FC8A4D1D1E17D5497691\\Xamarin.VisualStudio.Apple.Sdk.17.4.0.312.vsix\n",
      "C:\\Users\\315\\AppData\\Local\\unityhub-updater\\pending\\UnityHubSetup.exe\n",
      "C:\\Users\\315\\AppData\\Roaming\\TabNine\\models\\29b87067.tabninemodel\n",
      "C:\\Users\\315\\AppData\\Roaming\\TabNine\\models\\ba448725.tabninemodel\n",
      "C:\\Users\\315\\AppData\\Roaming\\TabNine\\models\\ce94127b.tabninemodel\n",
      "C:\\Users\\315\\AppData\\Roaming\\Zoom\\logs\\zoomcrash_105702_6596\\ssbcrash_5.9.3.3169_NA_16824320_02212022_105702_Zoom.exe_6596_new_NA_NA.dmp\n",
      "C:\\Users\\315\\OneDrive\\桌面\\tool\\AcroRdrDC1900820071_zh_TW.exe\n",
      "C:\\Users\\315\\OneDrive\\桌面\\tool\\LibreOffice_7.0.1_Win_x64.msi\n",
      "C:\\Users\\315\\OneDrive\\桌面\\tool\\PCC2020_EL_Full.exe\n",
      "C:\\Users\\315\\OneDrive\\桌面\\tool\\WhatsApp.exe\n",
      "C:\\Users\\315\\OneDrive\\桌面\\一年級課程\\智慧金融\\3.7-20220529T064305Z-001.zip\n",
      "C:\\Windows\\Installer\\1554e3.msi\n",
      "C:\\Windows\\Installer\\18d4c72.msp\n",
      "C:\\Windows\\Installer\\1959f68.msp\n",
      "C:\\Windows\\Installer\\24dae5b.msp\n",
      "C:\\Windows\\Installer\\2a275d.msp\n",
      "C:\\Windows\\Installer\\2c89230.msi\n",
      "C:\\Windows\\Installer\\302768.msp\n",
      "C:\\Windows\\Installer\\4e5f5.msi\n",
      "C:\\Windows\\Installer\\4e69a.msp\n",
      "C:\\Windows\\Installer\\84cb20.msi\n",
      "C:\\Windows\\Installer\\87c41.msi\n",
      "C:\\Windows\\Installer\\8b89a.msp\n",
      "C:\\Windows\\Installer\\9e7e5b.msi\n",
      "C:\\Windows\\Installer\\c5068.msp\n",
      "C:\\Windows\\Installer\\ccb9a4.msp\n",
      "C:\\Windows\\Installer\\f2db27.msi\n",
      "C:\\Windows\\Installer\\f2dc13.msi\n",
      "C:\\Windows\\servicing\\LCU\\Package_for_RollupFix~31bf3856ad364e35~amd64~~19041.2364.1.4\\amd64_microsoft-windows-edgechromium_31bf3856ad364e35_10.0.19041.1266_none_74657031110a9d30\\edge.wim\n",
      "C:\\Windows\\servicing\\LCU\\Package_for_RollupFix~31bf3856ad364e35~amd64~~19041.2486.1.5\\amd64_microsoft-windows-edgechromium_31bf3856ad364e35_10.0.19041.1266_none_74657031110a9d30\\edge.wim\n",
      "C:\\Windows\\System32\\MRT.exe\n",
      "C:\\Windows\\System32\\DriverStore\\FileRepository\\nvhm.inf_amd64_4a2f8a62d5686839\\nvoptix.bin\n",
      "C:\\Windows\\WinSxS\\amd64_microsoft-windows-edgechromium_31bf3856ad364e35_10.0.19041.1266_none_74657031110a9d30\\Edge.wim\n",
      "C:\\xampp\\htdocs\\inclass-assignment6\\imdb.sql\n"
     ]
    }
   ],
   "source": [
    "import os\n",
    "path = 'C:\\\\'\n",
    "bigfiles = []\n",
    "for root, dirs, files in os.walk(path):\n",
    "    for file in files:\n",
    "        if os.path.getsize(os.path.join(root, file)) > 100000000:\n",
    "            bigfiles.append(os.path.join(root, file))\n",
    "for file in bigfiles:\n",
    "    print(file)"
   ]
  },
  {
   "cell_type": "markdown",
   "id": "4ea026a4",
   "metadata": {},
   "source": [
    "## 計算文字的出現次數"
   ]
  },
  {
   "cell_type": "markdown",
   "id": "73b1e6b6",
   "metadata": {},
   "source": [
    "**開啟本章範例檔案`poem_try_except.txt`，內容使用唐詩「黃鶴樓」，作者為「崔顥」，找出這首詩的文字與文字的出現次數，依照出現次數由大到小排列，將結果顯示到螢幕上，並寫到檔案`ex2-poem.txt`**"
   ]
  },
  {
   "cell_type": "code",
   "execution_count": 9,
   "id": "18f23473",
   "metadata": {},
   "outputs": [
    {
     "name": "stdout",
     "output_type": "stream",
     "text": [
      "['昔', '人', '已', '乘', '黃', '鶴', '去', '此', '地', '空', '餘', '黃', '鶴', '樓', '黃', '鶴', '一', '去', '不', '復', '返', '白', '雲', '千', '載', '空', '悠', '悠']\n",
      "========================================================================================================================\n",
      "[('空', 2), ('地', 1), ('載', 1), ('此', 1), ('雲', 1), ('人', 1), ('餘', 1), ('乘', 1), ('鶴', 3), ('白', 1), ('不', 1), ('去', 2), ('一', 1), ('返', 1), ('千', 1), ('黃', 3), ('已', 1), ('悠', 2), ('樓', 1), ('昔', 1), ('復', 1)]\n",
      "========================================================================================================================\n",
      "[('鶴', 3), ('黃', 3), ('空', 2), ('去', 2), ('悠', 2), ('地', 1), ('載', 1), ('此', 1), ('雲', 1), ('人', 1), ('餘', 1), ('乘', 1), ('白', 1), ('不', 1), ('一', 1), ('返', 1), ('千', 1), ('已', 1), ('樓', 1), ('昔', 1), ('復', 1)]\n"
     ]
    }
   ],
   "source": [
    "import re\n",
    "with open('poem_try_except.txt', mode = 'rt', encoding = 'utf-8') as fin:\n",
    "    s = fin.read()\n",
    "    s = re.findall('\\w', s) # \\w: 匹配一個英文、數字或底線字元，也可以匹配一個中文字元\n",
    "    print(s)\n",
    "    print('=' * 120)\n",
    "    \n",
    "    wc = [(w, s.count(w)) for w in set(s)]\n",
    "    print(wc)\n",
    "    print('=' * 120)\n",
    "    \n",
    "    swc = sorted(wc, key = lambda x: x[1], reverse = True)\n",
    "    print(swc)\n",
    "    \n",
    "with open('ex2-poem.txt', mode = 'wt', encoding = 'utf-8') as fout:\n",
    "    for w, c in swc:\n",
    "        print(w, c, file = fout)"
   ]
  },
  {
   "cell_type": "markdown",
   "id": "bd6e8939",
   "metadata": {},
   "source": [
    "## 計算文字的出現次數到並儲存到csv檔"
   ]
  },
  {
   "cell_type": "markdown",
   "id": "f92f02c2",
   "metadata": {},
   "source": [
    "**開啟本章範例檔案`poem_try_except.txt`，內容使用唐詩「黃鶴樓」，作者為「崔顥」，找出這首詩的文字與文字的出現次數，依照出現次數由大到小排列，將結果顯示到螢幕上，並寫到檔案`ex3-poem.csv`**"
   ]
  },
  {
   "cell_type": "code",
   "execution_count": 13,
   "id": "cef981de",
   "metadata": {},
   "outputs": [
    {
     "name": "stdout",
     "output_type": "stream",
     "text": [
      "[('鶴', 3), ('黃', 3), ('空', 2), ('去', 2), ('悠', 2), ('地', 1), ('載', 1), ('此', 1), ('雲', 1), ('人', 1), ('餘', 1), ('乘', 1), ('白', 1), ('不', 1), ('一', 1), ('返', 1), ('千', 1), ('已', 1), ('樓', 1), ('昔', 1), ('復', 1)]\n"
     ]
    }
   ],
   "source": [
    "import re\n",
    "import csv\n",
    "with open('poem_try_except.txt', mode = 'rt', encoding = 'utf-8') as fin:\n",
    "    s = fin.read()\n",
    "    s = re.findall('\\w', s)\n",
    "    wc = [(w, s.count(w)) for w in set(s)]\n",
    "    swc = sorted(wc, key = lambda x: x[1], reverse = True)\n",
    "    print(swc)\n",
    "    with open('ex3-poem.csv', mode = 'wt', newline = '') as fout:\n",
    "        writer = csv.writer(fout)\n",
    "        for w, c in swc:\n",
    "            writer.writerows([str(w), str(c)])"
   ]
  },
  {
   "cell_type": "code",
   "execution_count": null,
   "id": "d8ac5814",
   "metadata": {},
   "outputs": [],
   "source": []
  }
 ],
 "metadata": {
  "kernelspec": {
   "display_name": "Python 3 (ipykernel)",
   "language": "python",
   "name": "python3"
  },
  "language_info": {
   "codemirror_mode": {
    "name": "ipython",
    "version": 3
   },
   "file_extension": ".py",
   "mimetype": "text/x-python",
   "name": "python",
   "nbconvert_exporter": "python",
   "pygments_lexer": "ipython3",
   "version": "3.9.12"
  }
 },
 "nbformat": 4,
 "nbformat_minor": 5
}
