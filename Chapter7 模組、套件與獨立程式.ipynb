{
 "cells": [
  {
   "cell_type": "code",
   "execution_count": 1,
   "id": "a0b1e142",
   "metadata": {},
   "outputs": [
    {
     "name": "stdout",
     "output_type": "stream",
     "text": [
      "布\n"
     ]
    }
   ],
   "source": [
    "# Python的模組就是一個檔案\n",
    "# 有了模組之後，其他程式就可以將模組匯入\n",
    "\n",
    "# 一.匯入整個模組:\n",
    "    # 程式中匯入模組guess，使用guess.figure_guess()呼叫模組guess的函式figure_guess\n",
    "\n",
    "import guess\n",
    "computer = guess.figure_guess()\n",
    "print(computer)"
   ]
  },
  {
   "cell_type": "code",
   "execution_count": 2,
   "id": "2fa69015",
   "metadata": {},
   "outputs": [
    {
     "name": "stdout",
     "output_type": "stream",
     "text": [
      "布\n"
     ]
    }
   ],
   "source": [
    "# 二.只匯入模組中想要的函式:\n",
    "    # 使用from 模組名稱 import 函式名稱 匯入模組中的特定函式\n",
    "\n",
    "from guess import figure_guess\n",
    "computer = figure_guess()\n",
    "print(computer)"
   ]
  },
  {
   "cell_type": "code",
   "execution_count": 3,
   "id": "6a28e34c",
   "metadata": {},
   "outputs": [
    {
     "name": "stdout",
     "output_type": "stream",
     "text": [
      "剪刀\n"
     ]
    }
   ],
   "source": [
    "# 三.使用別名匯入模組\n",
    "\n",
    "import guess as gs\n",
    "computer = gs.figure_guess()\n",
    "print(computer)"
   ]
  },
  {
   "cell_type": "code",
   "execution_count": 4,
   "id": "b470cbb6",
   "metadata": {},
   "outputs": [
    {
     "name": "stdout",
     "output_type": "stream",
     "text": [
      "C:\\Users\\315\\python程式設計\n",
      "C:\\Users\\315\\anaconda3\\python39.zip\n",
      "C:\\Users\\315\\anaconda3\\DLLs\n",
      "C:\\Users\\315\\anaconda3\\lib\n",
      "C:\\Users\\315\\anaconda3\n",
      "\n",
      "C:\\Users\\315\\anaconda3\\lib\\site-packages\n",
      "C:\\Users\\315\\anaconda3\\lib\\site-packages\\win32\n",
      "C:\\Users\\315\\anaconda3\\lib\\site-packages\\win32\\lib\n",
      "C:\\Users\\315\\anaconda3\\lib\\site-packages\\Pythonwin\n"
     ]
    }
   ],
   "source": [
    "# 若想要知道Python匯入模組的資料夾路徑與順序，需先匯入模組sys\n",
    "# 讀取sys.path的每一個元素就可以知道\n",
    "\n",
    "import sys\n",
    "for path in sys.path:\n",
    "    print(path)"
   ]
  },
  {
   "cell_type": "markdown",
   "id": "09466b29",
   "metadata": {},
   "source": [
    "## 套件"
   ]
  },
  {
   "cell_type": "markdown",
   "id": "6bc23e22",
   "metadata": {},
   "source": [
    "**多個模組(檔案)放在同一個資料夾下，在該資料夾下新增一個檔案，該檔案名稱為`__init__.py`，該資料夾就形成套件**"
   ]
  },
  {
   "cell_type": "code",
   "execution_count": 5,
   "id": "010a0a76",
   "metadata": {},
   "outputs": [
    {
     "name": "stdout",
     "output_type": "stream",
     "text": [
      "5\n",
      "D5\n",
      "6\n",
      "S6\n"
     ]
    }
   ],
   "source": [
    "# 套件的使用: from 套件名稱 import 模組名稱1, 模組名稱2 匯入套件中的特定模組\n",
    "\n",
    "from game import dice, poker\n",
    "for i in range(2):\n",
    "    print(dice.dice())\n",
    "    print(poker.poker())"
   ]
  },
  {
   "cell_type": "markdown",
   "id": "a99f5109",
   "metadata": {},
   "source": [
    "## 腳本程式"
   ]
  },
  {
   "cell_type": "markdown",
   "id": "887cd538",
   "metadata": {},
   "source": [
    "**腳本程式可以當成模組被匯入，也可以成為腳本程式，使用`if __name__ == '__main__':`，串接在此判斷條件後的程式碼，在腳本程式被當成模組被匯入時，不會被執行，只有在腳本程式獨立執行時才會執行**"
   ]
  },
  {
   "cell_type": "code",
   "execution_count": 6,
   "id": "8e9e2e33",
   "metadata": {},
   "outputs": [
    {
     "name": "stdout",
     "output_type": "stream",
     "text": [
      "請輸入剪刀 石頭 布 ?剪刀\n",
      "電腦出 石頭\n",
      "電腦獲勝\n",
      "請輸入剪刀 石頭 布 ?石頭\n",
      "電腦出 布\n",
      "電腦獲勝\n",
      "請輸入剪刀 石頭 布 ?布\n",
      "電腦出 剪刀\n",
      "電腦獲勝\n"
     ]
    }
   ],
   "source": [
    "# 實作腳本程式\n",
    "# 製作一個'剪刀 石頭 布'的小遊戲\n",
    "\n",
    "from guess import figure_guess\n",
    "def run():\n",
    "    computer = figure_guess()\n",
    "    my = input('請輸入剪刀 石頭 布 ?')\n",
    "    print('電腦出', computer)\n",
    "    \n",
    "    if my == '剪刀':\n",
    "        if computer == '剪刀':\n",
    "            print('平手')\n",
    "        elif computer == '石頭':\n",
    "            print('電腦獲勝')\n",
    "        else:\n",
    "            print('玩家獲勝')\n",
    "    elif my == '石頭':\n",
    "        if computer == '剪刀':\n",
    "            print('玩家獲勝')\n",
    "        elif computer == '石頭':\n",
    "            print('平手')\n",
    "        else:\n",
    "            print('電腦獲勝')\n",
    "    else:\n",
    "        if computer == '剪刀':\n",
    "            print('電腦獲勝')\n",
    "        elif computer == '石頭':\n",
    "            print('玩家獲勝')\n",
    "        else:\n",
    "            print('平手')\n",
    "            \n",
    "if __name__ == '__main__':\n",
    "    for i in range(3):\n",
    "        run()\n",
    "else:\n",
    "    print('我不是獨立執行的python程式')"
   ]
  },
  {
   "cell_type": "code",
   "execution_count": 7,
   "id": "f4989965",
   "metadata": {},
   "outputs": [
    {
     "name": "stdout",
     "output_type": "stream",
     "text": [
      "C:\\Users\\315\\anaconda3\\lib\\site-packages\\ipykernel_launcher.py\n",
      "-f\n",
      "C:\\Users\\315\\AppData\\Roaming\\jupyter\\runtime\\kernel-4805c5c7-e25f-450c-ae33-e52105ad8532.json\n"
     ]
    }
   ],
   "source": [
    "# 執行python腳本程式時，可以於執行腳本程式命令列後方加入引數\n",
    "\n",
    "import sys\n",
    "for i in sys.argv:\n",
    "    print(i)"
   ]
  },
  {
   "cell_type": "code",
   "execution_count": 8,
   "id": "f2f2aa08",
   "metadata": {},
   "outputs": [
    {
     "name": "stdout",
     "output_type": "stream",
     "text": [
      "[2, 18, 29, 39, 41, 43]\n"
     ]
    }
   ],
   "source": [
    "# 使用 `import樂透模組` 匯入模組進行開獎\n",
    "\n",
    "import exlotto\n",
    "nums = exlotto.lotto(48, 6)\n",
    "nums = sorted(nums)\n",
    "print(nums)"
   ]
  },
  {
   "cell_type": "code",
   "execution_count": 9,
   "id": "d2fda554",
   "metadata": {},
   "outputs": [
    {
     "name": "stdout",
     "output_type": "stream",
     "text": [
      "[17, 34, 41, 43, 44, 46]\n"
     ]
    }
   ],
   "source": [
    "# 使用`from樂透模組 import 函式名稱` 匯入模組中函式進行開獎\n",
    "\n",
    "from exlotto import lotto\n",
    "nums = lotto(48, 6)\n",
    "nums = sorted(nums)\n",
    "print(nums)"
   ]
  },
  {
   "cell_type": "code",
   "execution_count": 10,
   "id": "caccd3c2",
   "metadata": {},
   "outputs": [
    {
     "name": "stdout",
     "output_type": "stream",
     "text": [
      "[9, 26, 29, 32, 41, 48]\n"
     ]
    }
   ],
   "source": [
    "# 使用 `import 樂透模組 as 模組名稱別名` 匯入模組進行開獎\n",
    "\n",
    "import exlotto as lot\n",
    "nums = lot.lotto(48, 6)\n",
    "nums = sorted(nums)\n",
    "print(nums)"
   ]
  },
  {
   "cell_type": "code",
   "execution_count": 11,
   "id": "81a64a20",
   "metadata": {},
   "outputs": [
    {
     "name": "stdout",
     "output_type": "stream",
     "text": [
      "[5, 21, 26, 30, 36, 42]\n",
      "80621173\n"
     ]
    }
   ],
   "source": [
    "# 使用套件執行統一發票開獎與樂透開獎\n",
    "\n",
    "from prize import exlotto, exreciept\n",
    "# 樂透中獎號碼\n",
    "nums = exlotto.lotto(48, 6)\n",
    "nums = sorted(nums)\n",
    "print(nums)\n",
    "\n",
    "# 8位數統一發票號碼\n",
    "Uniform_invoice = exreciept.reciept()\n",
    "print(Uniform_invoice)"
   ]
  },
  {
   "cell_type": "code",
   "execution_count": null,
   "id": "090b4a99",
   "metadata": {},
   "outputs": [],
   "source": []
  }
 ],
 "metadata": {
  "kernelspec": {
   "display_name": "Python 3 (ipykernel)",
   "language": "python",
   "name": "python3"
  },
  "language_info": {
   "codemirror_mode": {
    "name": "ipython",
    "version": 3
   },
   "file_extension": ".py",
   "mimetype": "text/x-python",
   "name": "python",
   "nbconvert_exporter": "python",
   "pygments_lexer": "ipython3",
   "version": "3.9.12"
  }
 },
 "nbformat": 4,
 "nbformat_minor": 5
}
