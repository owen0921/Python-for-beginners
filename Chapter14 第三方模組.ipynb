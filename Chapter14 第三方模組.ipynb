{
 "cells": [
  {
   "cell_type": "markdown",
   "id": "6fe2c228",
   "metadata": {},
   "source": [
    "# 推薦的第三方模組"
   ]
  },
  {
   "cell_type": "markdown",
   "id": "7e2953c3",
   "metadata": {},
   "source": [
    "**Python除了內建許多函式庫外，網路上有許多好用的第三方模組(third-party module)，當需要利用Python解決問題時，內建函式庫可能沒有提供對應的功能，可以使用網路上的第三方模組所提供的功能解決問題**"
   ]
  },
  {
   "cell_type": "markdown",
   "id": "1ac4dfc6",
   "metadata": {},
   "source": [
    "- **圖片**\n",
    "    - `Pillow` : 使用Python Imaging Library(PIL)進行圖片處理\n",
    "    - `PyQrcode` : 可以產生QR code的圖片\n",
    "    - `Wand` : 使用ImageMagick進行圖片處理，需安裝ImageMagick的函式庫"
   ]
  },
  {
   "cell_type": "markdown",
   "id": "e5425489",
   "metadata": {},
   "source": [
    "- **使用者圖形介面(GUI)**\n",
    "    - `Tkinter` : Python內建於標準函式庫的使用者圖形介面模組，模組Tkinter讓Python可以使用TK製作出操作介面\n",
    "    - `PyQt` : 模組PyQt讓Python可以使用Qt製作出操作介面\n",
    "    - `PyGObject` : 模組PyGobject讓Python可以使用GTK+製作出操作介面"
   ]
  },
  {
   "cell_type": "markdown",
   "id": "27b6856c",
   "metadata": {},
   "source": [
    "- **科學計算**\n",
    "    - `Numpy` : 用於科學計算，提供儲存多維陣列的結構，適合用於陣列的運算、線性代數、Fourier transform等\n",
    "    - `SciPy` : 用於科學計算，提供更多功能，例如:積分計算、解出微分方程式、線性回歸、最佳化等功能\n",
    "    - `Matplotlib` : 將數值資料轉換成圖片\n",
    "    - `Pandas` : 用於數據分析，提供容易操作的資料結構與分析工具"
   ]
  },
  {
   "cell_type": "markdown",
   "id": "a3a06988",
   "metadata": {},
   "source": [
    "- **PDF**\n",
    "    - `PDFMiner` : 從PDF檔案擷取內容與轉換成其他格式\n",
    "    - `PyPDF2` : 用於分割與合併PDF檔案"
   ]
  },
  {
   "cell_type": "markdown",
   "id": "0128d112",
   "metadata": {},
   "source": [
    "- **自然語言處理**\n",
    "    - `Jieba` : 將中文句子進行字詞分割"
   ]
  },
  {
   "cell_type": "markdown",
   "id": "f84c9dd2",
   "metadata": {},
   "source": [
    "- **關聯式資料庫**\n",
    "    - `SQLAlchemy` : 可以連線與操作各種SQL資料庫\n",
    "    - `PyMySQL` : 模組PyMySQL讓Python可以操作MySQL資料庫\n",
    "    - `psycopg2` : 模組psycopg2讓Python可以操作PostgreSQL資料庫\n",
    "    - `pymssql` : 模組pymssql讓Python可以操作Microsoft SQL Server資料庫"
   ]
  },
  {
   "cell_type": "markdown",
   "id": "3e551a36",
   "metadata": {},
   "source": [
    "- **NoSQL**\n",
    "    - `HappyBase` : 模組HappyBase讓Python可以操作Apache HBase資料庫\n",
    "    - `cassandra-python-driver` : 模組cassandra-python-driver讓Python可以操作Cassandra資料庫\n",
    "    - `PyMongo` : 模組PyMongo讓Python可以操作MongoDB資料庫\n",
    "    - `redis-py` : 模組redis-py讓Python可以操作Redis資料庫"
   ]
  },
  {
   "cell_type": "markdown",
   "id": "a381a883",
   "metadata": {},
   "source": [
    "- **網頁**\n",
    "    - `Requests` : 擷取指定網址的網頁資料\n",
    "    - `Scrapy` : 可以一次抓取整個網站的資料\n",
    "    - `BeautifulSoup4` : 用於分析與修改HTML或XML格式的資料"
   ]
  },
  {
   "cell_type": "markdown",
   "id": "3e1dc5b8",
   "metadata": {},
   "source": [
    "- **網頁框架**\n",
    "    - `Django` : 最受歡迎的網頁框架模組之一，功能完整與容易擴充"
   ]
  },
  {
   "cell_type": "markdown",
   "id": "18d4000e",
   "metadata": {},
   "source": [
    "- **遊戲製作**\n",
    "    - `PyGame` : 製作2D遊戲，提供許多專門用來製作遊戲的模組\n",
    "    - `Panda3D` : 製作3D遊戲"
   ]
  },
  {
   "cell_type": "markdown",
   "id": "03aaab01",
   "metadata": {},
   "source": [
    "# 圖片處理模組"
   ]
  },
  {
   "cell_type": "markdown",
   "id": "a974f977",
   "metadata": {},
   "source": [
    "## Pillow"
   ]
  },
  {
   "cell_type": "markdown",
   "id": "f1161ec6",
   "metadata": {},
   "source": [
    "**`Pillow`專門用於圖片處理，可以一次處理多張圖片，例如:縮放圖片、轉檔、旋轉圖片、剪裁圖片、合併圖片、修改圖片顏色、圖片強化、套用濾鏡等功能**"
   ]
  },
  {
   "cell_type": "markdown",
   "id": "ec270077",
   "metadata": {},
   "source": [
    "### Pillow範例一 : 讀取圖檔資訊與顯示圖片"
   ]
  },
  {
   "cell_type": "markdown",
   "id": "d7e04993",
   "metadata": {},
   "source": [
    "**使用套件`PIL`顯示圖片到螢幕上與讀取圖片檔案資訊，例如:格式、大小與色彩模式，需在程式資料夾下準備一張圖片`Python.jpg`，也可以選用其他圖片，只要輸入該圖檔檔案名稱，並將圖片移動到程式所在資料夾下**"
   ]
  },
  {
   "cell_type": "code",
   "execution_count": 8,
   "id": "c1beca78",
   "metadata": {},
   "outputs": [
    {
     "name": "stdout",
     "output_type": "stream",
     "text": [
      "PNG (1400, 607) P\n"
     ]
    },
    {
     "data": {
      "image/png": "[encoded data removed]",
      "text/plain": [
       "<PIL.PngImagePlugin.PngImageFile image mode=P size=1400x607 at 0x19490AE79A0>"
      ]
     },
     "execution_count": 8,
     "metadata": {},
     "output_type": "execute_result"
    }
   ],
   "source": [
    "from PIL import Image\n",
    "\n",
    "im = Image.open('python.jpg')\n",
    "print(im.format, im.size, im.mode)\n",
    "im"
   ]
  },
  {
   "cell_type": "markdown",
   "id": "7d48796d",
   "metadata": {},
   "source": [
    "### Pillow範例二 : 讀取資料夾下圖片製作縮圖並轉換圖檔格式"
   ]
  },
  {
   "cell_type": "markdown",
   "id": "3b2733e9",
   "metadata": {},
   "source": [
    "**讀取資料夾下圖片製作縮圖，並轉換圖檔格式為PNG，需在指定資料夾下準備至少一張的JPG圖檔**"
   ]
  },
  {
   "cell_type": "code",
   "execution_count": 11,
   "id": "b6b537f8",
   "metadata": {},
   "outputs": [
    {
     "name": "stdout",
     "output_type": "stream",
     "text": [
      "C:\\test\\NumPy_logo.jpg PNG (1200, 540)\n",
      "C:\\test\\Pandas_logo.jpg PNG (1200, 485)\n",
      "C:\\test\\Python.jpg PNG (1400, 607)\n"
     ]
    }
   ],
   "source": [
    "import fnmatch\n",
    "import os\n",
    "from PIL import Image\n",
    "\n",
    "path = 'C:\\\\test'\n",
    "matches = []\n",
    "\n",
    "for root, dirs, files in os.walk(path):\n",
    "    for file in fnmatch.filter(files, '*.jpg'):\n",
    "        matches.append((root, file))\n",
    "\n",
    "for(mdir, mfile) in matches:\n",
    "    im = Image.open(mdir + '\\\\' + mfile)\n",
    "    print(mdir + '\\\\' + mfile, im.format, im.size)\n",
    "    im2 = im.resize((int(im.size[0] * 0.5), int(im.size[1] * 0.5))) #im.size[0]是寬度\n",
    "    \n",
    "    #函式os.path.splitext以mfile為輸入，表示將mfile的檔案名稱部分以`.`進行分割\n",
    "    #使用分割結果的第一個元素，表示取出mfile的檔案名稱\n",
    "    outfile = mdir + '\\\\' + os.path.splitext(mfile)[0] + '.png'\n",
    "    \n",
    "    #使用函式save，將圖檔以PNG格式輸出到檔案outfile所指定的絕對檔案路徑下\n",
    "    im2.save(outfile, 'PNG')"
   ]
  },
  {
   "cell_type": "markdown",
   "id": "0ceb6fda",
   "metadata": {},
   "source": [
    "## 使用`PyQRCode`產生QR Code"
   ]
  },
  {
   "cell_type": "markdown",
   "id": "76d0d835",
   "metadata": {},
   "source": [
    "### PyQRCode範例 : 產生QR Code"
   ]
  },
  {
   "cell_type": "markdown",
   "id": "67b9b10d",
   "metadata": {},
   "source": [
    "**使用套件`PyQRCode`產生Python網址`https://www.python.org/`的QR Code圖片**"
   ]
  },
  {
   "cell_type": "code",
   "execution_count": 15,
   "id": "eb4a63d7",
   "metadata": {},
   "outputs": [],
   "source": [
    "import pyqrcode as pqc\n",
    "url = pqc.QRCode('https://www.python.org/', error = 'H') #容錯設定為`H`，表示30%以下的錯誤仍可以正確辨識\n",
    "url.png('url2.png', scale = 2)\n",
    "url.png('url3.png', scale = 3)"
   ]
  },
  {
   "cell_type": "code",
   "execution_count": 16,
   "id": "52d9679a",
   "metadata": {},
   "outputs": [
    {
     "data": {
      "image/png": "[encoded data removed]",
      "text/plain": [
       "<PIL.PngImagePlugin.PngImageFile image mode=1 size=74x74 at 0x19491BE4850>"
      ]
     },
     "execution_count": 16,
     "metadata": {},
     "output_type": "execute_result"
    }
   ],
   "source": [
    "from PIL import Image\n",
    "\n",
    "im = Image.open('url2.png')\n",
    "im"
   ]
  },
  {
   "cell_type": "code",
   "execution_count": 17,
   "id": "e721425b",
   "metadata": {},
   "outputs": [
    {
     "data": {
      "image/png": "[encoded data removed]",
      "text/plain": [
       "<PIL.PngImagePlugin.PngImageFile image mode=1 size=111x111 at 0x19490A49100>"
      ]
     },
     "execution_count": 17,
     "metadata": {},
     "output_type": "execute_result"
    }
   ],
   "source": [
    "im = Image.open('url3.png')\n",
    "im"
   ]
  },
  {
   "cell_type": "markdown",
   "id": "0f6dfb3c",
   "metadata": {},
   "source": [
    "# 數學相關模組"
   ]
  },
  {
   "cell_type": "markdown",
   "id": "ec03c69e",
   "metadata": {},
   "source": [
    "**數學相關第三方模組非常多，常用模組有`Numpy`、`SciPy`與`Matplotlib`，模組`Numpy`與`SciPy`提供許多科學計算功能，`Matplotlib`可以將`Numpy`與`SciPy`的計算結果轉換成圖片，以下單元簡單介紹使用`Numpy`進行矩陣運算、使用`SciPy`計算二維空間的任兩點的距離、使用`Matplotlib`進行繪圖等應用**"
   ]
  },
  {
   "cell_type": "markdown",
   "id": "15be2e84",
   "metadata": {},
   "source": [
    "## Numpy"
   ]
  },
  {
   "cell_type": "markdown",
   "id": "2a0cea98",
   "metadata": {},
   "source": [
    "### Numpy範例一 : 矩陣運算"
   ]
  },
  {
   "cell_type": "markdown",
   "id": "6c3d74da",
   "metadata": {},
   "source": [
    "**使用套件`Numpy`進行矩陣的相加、相減與相乘運算**"
   ]
  },
  {
   "cell_type": "code",
   "execution_count": 18,
   "id": "4f950f50",
   "metadata": {},
   "outputs": [],
   "source": [
    "import numpy as np\n",
    "\n",
    "x = np.array([[2,3], [1,4]], dtype = np.float64)\n",
    "y = np.array([[4,2], [1,3]], dtype = np.float64)"
   ]
  },
  {
   "cell_type": "code",
   "execution_count": 22,
   "id": "1ed7548b",
   "metadata": {},
   "outputs": [
    {
     "data": {
      "text/plain": [
       "array([[2., 3.],\n",
       "       [1., 4.]])"
      ]
     },
     "execution_count": 22,
     "metadata": {},
     "output_type": "execute_result"
    }
   ],
   "source": [
    "x"
   ]
  },
  {
   "cell_type": "code",
   "execution_count": 23,
   "id": "4bcb38ee",
   "metadata": {},
   "outputs": [
    {
     "data": {
      "text/plain": [
       "array([[4., 2.],\n",
       "       [1., 3.]])"
      ]
     },
     "execution_count": 23,
     "metadata": {},
     "output_type": "execute_result"
    }
   ],
   "source": [
    "y"
   ]
  },
  {
   "cell_type": "code",
   "execution_count": 24,
   "id": "e9023ba0",
   "metadata": {},
   "outputs": [
    {
     "data": {
      "text/plain": [
       "array([[6., 5.],\n",
       "       [2., 7.]])"
      ]
     },
     "execution_count": 24,
     "metadata": {},
     "output_type": "execute_result"
    }
   ],
   "source": [
    "x + y"
   ]
  },
  {
   "cell_type": "code",
   "execution_count": 25,
   "id": "2df54bee",
   "metadata": {},
   "outputs": [
    {
     "data": {
      "text/plain": [
       "array([[6., 5.],\n",
       "       [2., 7.]])"
      ]
     },
     "execution_count": 25,
     "metadata": {},
     "output_type": "execute_result"
    }
   ],
   "source": [
    "np.add(x, y)"
   ]
  },
  {
   "cell_type": "code",
   "execution_count": 26,
   "id": "311af358",
   "metadata": {},
   "outputs": [
    {
     "data": {
      "text/plain": [
       "array([[-2.,  1.],\n",
       "       [ 0.,  1.]])"
      ]
     },
     "execution_count": 26,
     "metadata": {},
     "output_type": "execute_result"
    }
   ],
   "source": [
    "x - y"
   ]
  },
  {
   "cell_type": "code",
   "execution_count": 27,
   "id": "e704fdc8",
   "metadata": {},
   "outputs": [
    {
     "data": {
      "text/plain": [
       "array([[-2.,  1.],\n",
       "       [ 0.,  1.]])"
      ]
     },
     "execution_count": 27,
     "metadata": {},
     "output_type": "execute_result"
    }
   ],
   "source": [
    "np.subtract(x, y)"
   ]
  },
  {
   "cell_type": "code",
   "execution_count": 29,
   "id": "14189e6f",
   "metadata": {},
   "outputs": [
    {
     "data": {
      "text/plain": [
       "array([[11., 13.],\n",
       "       [ 8., 14.]])"
      ]
     },
     "execution_count": 29,
     "metadata": {},
     "output_type": "execute_result"
    }
   ],
   "source": [
    "np.dot(x, y)"
   ]
  },
  {
   "cell_type": "markdown",
   "id": "bb930a96",
   "metadata": {},
   "source": [
    "### Numpy範例二 : 產生矩陣與矩陣統計"
   ]
  },
  {
   "cell_type": "markdown",
   "id": "3df9e3b5",
   "metadata": {},
   "source": [
    "**使用套件`Numpy`產生矩陣資料，並進行統計**"
   ]
  },
  {
   "cell_type": "code",
   "execution_count": 30,
   "id": "20cfbff8",
   "metadata": {},
   "outputs": [],
   "source": [
    "import numpy as np\n",
    "\n",
    "a = np.ones(6, dtype = np.int32)\n",
    "b = np.linspace(0, np.pi, 6) #函式linspace將0到pi之間產生6個邊界值儲存到串列"
   ]
  },
  {
   "cell_type": "code",
   "execution_count": 31,
   "id": "11d3adff",
   "metadata": {},
   "outputs": [
    {
     "data": {
      "text/plain": [
       "array([1, 1, 1, 1, 1, 1])"
      ]
     },
     "execution_count": 31,
     "metadata": {},
     "output_type": "execute_result"
    }
   ],
   "source": [
    "a"
   ]
  },
  {
   "cell_type": "code",
   "execution_count": 32,
   "id": "520891a9",
   "metadata": {},
   "outputs": [
    {
     "data": {
      "text/plain": [
       "array([0.        , 0.62831853, 1.25663706, 1.88495559, 2.51327412,\n",
       "       3.14159265])"
      ]
     },
     "execution_count": 32,
     "metadata": {},
     "output_type": "execute_result"
    }
   ],
   "source": [
    "b"
   ]
  },
  {
   "cell_type": "code",
   "execution_count": 33,
   "id": "ba919ef8",
   "metadata": {},
   "outputs": [
    {
     "data": {
      "text/plain": [
       "array([1.        , 1.62831853, 2.25663706, 2.88495559, 3.51327412,\n",
       "       4.14159265])"
      ]
     },
     "execution_count": 33,
     "metadata": {},
     "output_type": "execute_result"
    }
   ],
   "source": [
    "a + b"
   ]
  },
  {
   "cell_type": "code",
   "execution_count": 35,
   "id": "6f409007",
   "metadata": {},
   "outputs": [
    {
     "data": {
      "text/plain": [
       "array([[0.62413626, 0.31887099, 0.53803054, 0.67545106],\n",
       "       [0.98591472, 0.47006921, 0.16256385, 0.3995974 ]])"
      ]
     },
     "execution_count": 35,
     "metadata": {},
     "output_type": "execute_result"
    }
   ],
   "source": [
    "#np.random.random產生 2 rows and 4 columns of matrix，每個元素的數值介於0跟1之間\n",
    "\n",
    "a = np.random.random((2, 4)) \n",
    "a"
   ]
  },
  {
   "cell_type": "code",
   "execution_count": 36,
   "id": "cb914f27",
   "metadata": {},
   "outputs": [
    {
     "name": "stdout",
     "output_type": "stream",
     "text": [
      "4.174634021539037 0.9859147200285051 0.162563852253927 0.5218292526923797\n"
     ]
    }
   ],
   "source": [
    "print(a.sum(), a.max(), a.min(), a.mean())"
   ]
  },
  {
   "cell_type": "code",
   "execution_count": 40,
   "id": "18e59968",
   "metadata": {},
   "outputs": [
    {
     "data": {
      "text/plain": [
       "array([[1, 2, 3, 4],\n",
       "       [5, 6, 7, 8]])"
      ]
     },
     "execution_count": 40,
     "metadata": {},
     "output_type": "execute_result"
    }
   ],
   "source": [
    "#np.arange產生1到8的數字，重新編排成 2 rows and 4 columns of matrix\n",
    "\n",
    "b = np.arange(1, 9, 1).reshape(2, 4)\n",
    "b"
   ]
  },
  {
   "cell_type": "markdown",
   "id": "a531d959",
   "metadata": {},
   "source": [
    "## SciPy"
   ]
  },
  {
   "cell_type": "markdown",
   "id": "3e9516e5",
   "metadata": {},
   "source": [
    "## SciPy範例 : 計算任兩點的距離"
   ]
  },
  {
   "cell_type": "markdown",
   "id": "efcda3e2",
   "metadata": {},
   "source": [
    "**使用套件`SciPy`計算平面上4個點的任兩點距離**"
   ]
  },
  {
   "cell_type": "code",
   "execution_count": 41,
   "id": "cf72d031",
   "metadata": {},
   "outputs": [
    {
     "data": {
      "text/plain": [
       "array([[0, 0],\n",
       "       [3, 5],\n",
       "       [5, 2],\n",
       "       [5, 5]])"
      ]
     },
     "execution_count": 41,
     "metadata": {},
     "output_type": "execute_result"
    }
   ],
   "source": [
    "import numpy as np\n",
    "from scipy.spatial.distance import pdist, squareform\n",
    "\n",
    "x = np.array([[0,0], [3,5], [5,2], [5,5]])\n",
    "x"
   ]
  },
  {
   "cell_type": "code",
   "execution_count": 45,
   "id": "ae745b3c",
   "metadata": {},
   "outputs": [
    {
     "data": {
      "text/plain": [
       "array([[0.        , 5.83095189, 5.38516481, 7.07106781],\n",
       "       [5.83095189, 0.        , 3.60555128, 2.        ],\n",
       "       [5.38516481, 3.60555128, 0.        , 3.        ],\n",
       "       [7.07106781, 2.        , 3.        , 0.        ]])"
      ]
     },
     "execution_count": 45,
     "metadata": {},
     "output_type": "execute_result"
    }
   ],
   "source": [
    "#使用函式pdist求n維空間的任兩點的距離，輸入`euclidean`表示求歐幾里德(Euclidean)距離\n",
    "#接著使用函式squareform轉換成二維的矩陣\n",
    "\n",
    "d = squareform(pdist(x, 'euclidean'))\n",
    "d"
   ]
  },
  {
   "cell_type": "markdown",
   "id": "af892f54",
   "metadata": {},
   "source": [
    "## 使用Matplotlib進行繪圖"
   ]
  },
  {
   "cell_type": "markdown",
   "id": "1c0b3a66",
   "metadata": {},
   "source": [
    "### Matplotlib範例 : 製作函式sin的圖形"
   ]
  },
  {
   "cell_type": "markdown",
   "id": "31316121",
   "metadata": {},
   "source": [
    "**使用套件`Matplotlib`繪出函式sin的圖形**"
   ]
  },
  {
   "cell_type": "code",
   "execution_count": 48,
   "id": "b3d8ae31",
   "metadata": {},
   "outputs": [
    {
     "data": {
      "image/png": "[encoded data removed]",
      "text/plain": [
       "<Figure size 432x288 with 1 Axes>"
      ]
     },
     "metadata": {
      "needs_background": "light"
     },
     "output_type": "display_data"
    }
   ],
   "source": [
    "import matplotlib.pyplot as plt\n",
    "%matplotlib inline\n",
    "import numpy as np\n",
    "\n",
    "x = np.arange(0, 10, 0.1)\n",
    "y = np.sin(x)\n",
    "plt.plot(x, y)\n",
    "plt.show()"
   ]
  },
  {
   "cell_type": "markdown",
   "id": "2604d32c",
   "metadata": {},
   "source": [
    "# 習題"
   ]
  },
  {
   "cell_type": "markdown",
   "id": "4861603a",
   "metadata": {},
   "source": [
    "## 將圖片進行縮圖轉換成TIF圖檔"
   ]
  },
  {
   "cell_type": "markdown",
   "id": "4622194e",
   "metadata": {},
   "source": [
    "**將指定資料夾下的JPG圖檔，將原圖縮圖成寬度的3/10與高度的3/10，並轉換成TIF檔案**"
   ]
  },
  {
   "cell_type": "code",
   "execution_count": 49,
   "id": "3607efbc",
   "metadata": {},
   "outputs": [],
   "source": [
    "import fnmatch\n",
    "import os\n",
    "from PIL import Image\n",
    "\n",
    "path = 'C:\\\\test'\n",
    "matches = []\n",
    "\n",
    "for root, dirs, files in os.walk(path):\n",
    "    for file in fnmatch.filter(files, '*.jpg'):\n",
    "        matches.append((root, file))\n",
    "        \n",
    "for (mdir, mfile) in matches:\n",
    "    im = Image.open(mdir + '\\\\' + mfile)\n",
    "    im2 = im.resize((int(im.size[0] * 0.3), int(im.size[1] * 0.3)))\n",
    "    outfile = mdir + '\\\\' + os.path.splitext(mfile)[0] + '.tif'\n",
    "    im2.save(outfile, 'TIFF')"
   ]
  },
  {
   "cell_type": "markdown",
   "id": "8ed4ea18",
   "metadata": {},
   "source": [
    "## 製作網址QR Code"
   ]
  },
  {
   "cell_type": "markdown",
   "id": "aac8aaa0",
   "metadata": {},
   "source": [
    "**將自訂的網址，例如:`https://www.google.com.tw`，轉換成QR Code的圖片，自行決定QR Code圖片的容錯能力與大小**"
   ]
  },
  {
   "cell_type": "code",
   "execution_count": 53,
   "id": "381647e6",
   "metadata": {},
   "outputs": [],
   "source": [
    "import pyqrcode\n",
    "\n",
    "url = pyqrcode.QRCode('https://www.google.com.tw', error = 'H')\n",
    "url.png('google.png', scale = 3)"
   ]
  },
  {
   "cell_type": "code",
   "execution_count": 54,
   "id": "7c7bdb85",
   "metadata": {},
   "outputs": [
    {
     "data": {
      "image/png": "[encoded data removed]",
      "text/plain": [
       "<PIL.PngImagePlugin.PngImageFile image mode=1 size=123x123 at 0x19493727FA0>"
      ]
     },
     "execution_count": 54,
     "metadata": {},
     "output_type": "execute_result"
    }
   ],
   "source": [
    "from PIL import Image\n",
    "\n",
    "im = Image.open('google.png')\n",
    "im"
   ]
  },
  {
   "cell_type": "markdown",
   "id": "b60250c1",
   "metadata": {},
   "source": [
    "## 求三角形的邊長"
   ]
  },
  {
   "cell_type": "markdown",
   "id": "537ba1ef",
   "metadata": {},
   "source": [
    "**使用模組`Scipy`與`Numpy`找出二維空間的三個點所形成三角形的三邊長，三個點的座標分別是(0,0)、(3,5)、(5,2)**"
   ]
  },
  {
   "cell_type": "code",
   "execution_count": 63,
   "id": "6af411c2",
   "metadata": {},
   "outputs": [
    {
     "name": "stdout",
     "output_type": "stream",
     "text": [
      "{5.385164807134504, 3.605551275463989, 5.830951894845301}\n"
     ]
    }
   ],
   "source": [
    "import numpy as np\n",
    "from scipy.spatial.distance import pdist, squareform\n",
    "\n",
    "x = np.array([[0,0], [3,5], [5,2]])\n",
    "d = squareform(pdist(x, 'euclidean'))\n",
    "dis = [d for d in d.reshape(1,9).tolist()[0] if d > 0]\n",
    "print(set(dis))"
   ]
  },
  {
   "cell_type": "markdown",
   "id": "fe325a2d",
   "metadata": {},
   "source": [
    "## 製作函式cos的圖形"
   ]
  },
  {
   "cell_type": "markdown",
   "id": "470f01fd",
   "metadata": {},
   "source": [
    "**使用模組`Matplotlib`與`Numpy`製作函式cos的圖形**"
   ]
  },
  {
   "cell_type": "code",
   "execution_count": 64,
   "id": "66a7a9be",
   "metadata": {},
   "outputs": [
    {
     "data": {
      "image/png": "[encoded data removed]",
      "text/plain": [
       "<Figure size 432x288 with 1 Axes>"
      ]
     },
     "metadata": {
      "needs_background": "light"
     },
     "output_type": "display_data"
    }
   ],
   "source": [
    "import matplotlib.pyplot as plt\n",
    "%matplotlib inline\n",
    "import numpy as np\n",
    "\n",
    "x = np.arange(0, 10, 0.1)\n",
    "y = np.cos(x)\n",
    "plt.plot(x, y)\n",
    "plt.show()"
   ]
  },
  {
   "cell_type": "code",
   "execution_count": null,
   "id": "1ce8f708",
   "metadata": {},
   "outputs": [],
   "source": []
  }
 ],
 "metadata": {
  "kernelspec": {
   "display_name": "Python 3 (ipykernel)",
   "language": "python",
   "name": "python3"
  },
  "language_info": {
   "codemirror_mode": {
    "name": "ipython",
    "version": 3
   },
   "file_extension": ".py",
   "mimetype": "text/x-python",
   "name": "python",
   "nbconvert_exporter": "python",
   "pygments_lexer": "ipython3",
   "version": "3.9.12"
  }
 },
 "nbformat": 4,
 "nbformat_minor": 5
}
