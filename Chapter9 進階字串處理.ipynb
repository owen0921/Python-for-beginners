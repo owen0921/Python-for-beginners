{
 "cells": [
  {
   "cell_type": "markdown",
   "id": "0a6cbbce",
   "metadata": {},
   "source": [
    "# ASCII編碼"
   ]
  },
  {
   "cell_type": "markdown",
   "id": "0652b549",
   "metadata": {},
   "source": [
    "- ASCII編碼是最早的電腦系統編碼\n",
    "- 包含大小寫字母、數字、英文標點符號、數學運算符號與控制符號等等\n",
    "- 總共有128個字"
   ]
  },
  {
   "cell_type": "markdown",
   "id": "40b7b810",
   "metadata": {},
   "source": [
    "## 模組string"
   ]
  },
  {
   "cell_type": "markdown",
   "id": "482ba519",
   "metadata": {},
   "source": [
    "**模組string提供ASCII字碼，相似功能的字元分在一起，如以下分類**"
   ]
  },
  {
   "cell_type": "code",
   "execution_count": 1,
   "id": "59008776",
   "metadata": {},
   "outputs": [
    {
     "name": "stdout",
     "output_type": "stream",
     "text": [
      "ascii_letters為abcdefghijklmnopqrstuvwxyzABCDEFGHIJKLMNOPQRSTUVWXYZ\n",
      "========================================\n",
      "ascii_lowercase為abcdefghijklmnopqrstuvwxyz\n",
      "========================================\n",
      "ascii_uppercase為ABCDEFGHIJKLMNOPQRSTUVWXYZ\n",
      "========================================\n",
      "digits為0123456789\n",
      "========================================\n",
      "hexdigits為0123456789abcdefABCDEF\n",
      "========================================\n",
      "octdigits為01234567\n",
      "========================================\n",
      "punctuation(標點符號)為!\"#$%&'()*+,-./:;<=>?@[\\]^_`{|}~\n",
      "========================================\n",
      "printable.encode(\"ascii\")為b'0123456789abcdefghijklmnopqrstuvwxyzABCDEFGHIJKLMNOPQRSTUVWXYZ!\"#$%&\\'()*+,-./:;<=>?@[\\\\]^_`{|}~ \\t\\n\\r\\x0b\\x0c'\n",
      "========================================\n",
      "whitespace.encode(\"ascii\")為b' \\t\\n\\r\\x0b\\x0c'\n"
     ]
    }
   ],
   "source": [
    "import string\n",
    "print(f'ascii_letters為{string.ascii_letters}')\n",
    "print('=' * 40)\n",
    "print(f'ascii_lowercase為{string.ascii_lowercase}')\n",
    "print('=' * 40)\n",
    "print(f'ascii_uppercase為{string.ascii_uppercase}')\n",
    "print('=' * 40)\n",
    "print(f'digits為{string.digits}')\n",
    "print('=' * 40)\n",
    "print(f'hexdigits為{string.hexdigits}') # 16進位\n",
    "print('=' * 40)\n",
    "print(f'octdigits為{string.octdigits}') # 8進位\n",
    "print('=' * 40)\n",
    "print(f'punctuation(標點符號)為{string.punctuation}')\n",
    "print('=' * 40)\n",
    "\n",
    "\n",
    "# 最後6個空白字元只有space可以顯示，其餘無法顯示，所以使用函式encode，將ascii字元轉換成byte的16進位表示\n",
    "# 最後5個空白字元轉換成 \\t\\n\\r\\x0b\\x0c\n",
    "print(f'printable.encode(\"ascii\")為{string.printable.encode(\"ascii\")}')\n",
    "print('=' * 40)\n",
    "print(f'whitespace.encode(\"ascii\")為{string.whitespace.encode(\"ascii\")}')"
   ]
  },
  {
   "cell_type": "markdown",
   "id": "7fe06c85",
   "metadata": {},
   "source": [
    "## 密碼隨機產生器"
   ]
  },
  {
   "cell_type": "markdown",
   "id": "1cc9a99a",
   "metadata": {},
   "source": [
    "**隨機產生長度為8到12的密碼，密碼由大小寫英文字母與數字所組成**"
   ]
  },
  {
   "cell_type": "code",
   "execution_count": 2,
   "id": "e00dfb58",
   "metadata": {},
   "outputs": [
    {
     "name": "stdout",
     "output_type": "stream",
     "text": [
      "隨機產生的密碼為NVzfGMDOQ1K\n"
     ]
    }
   ],
   "source": [
    "import random\n",
    "import string\n",
    "chs = string.ascii_letters + string.digits\n",
    "pwd = ''\n",
    "for i in range(random.randint(8, 12)):\n",
    "    pwd += random.choice(chs)\n",
    "print(f'隨機產生的密碼為{pwd}')"
   ]
  },
  {
   "cell_type": "markdown",
   "id": "4693e276",
   "metadata": {},
   "source": [
    "# Unicode編碼"
   ]
  },
  {
   "cell_type": "markdown",
   "id": "2691772f",
   "metadata": {},
   "source": [
    "- Unicode編碼整合全世界各個國家的文字編碼，讓Unicode編碼可以通行全世界，支援多語言環境\n",
    "- 不用每個國家都自訂一種編碼，讓資訊系統可以更簡單進行文字編碼與儲存\n",
    "- Python3的預設文字編碼為Unicode編碼"
   ]
  },
  {
   "cell_type": "markdown",
   "id": "1e0d4260",
   "metadata": {},
   "source": [
    "## Unicode字元的表示"
   ]
  },
  {
   "cell_type": "markdown",
   "id": "af170e65",
   "metadata": {},
   "source": [
    "**一個Unicode字元可以經由16進位編碼表示，也可以使用標準名稱表示，其中16進位編碼又可以分成4個16進位或8個16進位表示**\n",
    "- 使用`\\u`表示使用4個16進位表示\n",
    "- 使用`\\U`表示使用8個16進位表示\n",
    "- 使用`\\N`表示使用標準名稱"
   ]
  },
  {
   "cell_type": "markdown",
   "id": "3df2ef7a",
   "metadata": {},
   "source": [
    "- 使用模組`unicodedata`中的函式`name`，將Unicode字元轉換成Unicode標準名稱\n",
    "- 使用函式`lookup`將Unicode標準名稱轉換成Unicode字元"
   ]
  },
  {
   "cell_type": "code",
   "execution_count": 3,
   "id": "6f57bc64",
   "metadata": {},
   "outputs": [
    {
     "name": "stdout",
     "output_type": "stream",
     "text": [
      "value = 我, name = CJK UNIFIED IDEOGRAPH-6211\n",
      "name = CJK UNIFIED IDEOGRAPH-6211, value = 我\n",
      "==================================================\n",
      "value = 我, name = CJK UNIFIED IDEOGRAPH-6211\n",
      "name = CJK UNIFIED IDEOGRAPH-6211, value = 我\n",
      "==================================================\n",
      "value = 我, name = CJK UNIFIED IDEOGRAPH-6211\n",
      "name = CJK UNIFIED IDEOGRAPH-6211, value = 我\n",
      "==================================================\n",
      "value = 我, name = CJK UNIFIED IDEOGRAPH-6211\n",
      "name = CJK UNIFIED IDEOGRAPH-6211, value = 我\n"
     ]
    }
   ],
   "source": [
    "import unicodedata\n",
    "def unicode_name(value):\n",
    "    name = unicodedata.name(value)\n",
    "    print(f'value = {value}, name = {name}')\n",
    "    return name\n",
    "def unicode_lookup(name):\n",
    "    value = unicodedata.lookup(name)\n",
    "    print(f'name = {name}, value = {value}')\n",
    "    return value\n",
    "\n",
    "name = unicode_name('我')\n",
    "value = unicode_lookup(name)\n",
    "print('=' * 50)\n",
    "\n",
    "name = unicode_name('\\u6211')\n",
    "value = unicode_lookup(name)\n",
    "print('=' * 50)\n",
    "\n",
    "name = unicode_name('\\U00006211')\n",
    "value = unicode_lookup(name)\n",
    "print('=' * 50)\n",
    "\n",
    "name = unicode_name('\\N{CJK UNIFIED IDEOGRAPH-6211}')\n",
    "value = unicode_lookup(name)"
   ]
  },
  {
   "cell_type": "markdown",
   "id": "d3599432",
   "metadata": {},
   "source": [
    "## 編碼與解碼"
   ]
  },
  {
   "cell_type": "markdown",
   "id": "2324cc0c",
   "metadata": {},
   "source": [
    "### 編碼(encode)"
   ]
  },
  {
   "cell_type": "markdown",
   "id": "38110432",
   "metadata": {},
   "source": [
    "- 將字串轉換成位元組(byte)稱作`編碼(encode)`\n",
    "- 將已編碼的位元組(byte)還原回原來的字串稱作`解碼(decode)`\n",
    "- 目前最常使用的是UTF-8編碼，由Unicode編碼轉換而來，讓每個Unicode字元由1到4個位元組表示\n",
    "- ASCII使用1個位元組表示\n",
    "- 拉丁文、希臘文、阿拉伯文等使用2個位元組表示\n",
    "- 大部分的中文使用3個位元組表示\n",
    "- 古義大利字母(Old ltalic)、日文假名補充(Kana Supplement)、音樂符號(Musical Symbols)等使用4個位元組表示"
   ]
  },
  {
   "cell_type": "markdown",
   "id": "6396e064",
   "metadata": {},
   "source": [
    "**Python提供函式`encode`可以將字串根據指定的編碼轉換成16進位表示，1個位元組(byte)可以使用2個16進位表示**"
   ]
  },
  {
   "cell_type": "markdown",
   "id": "b484a038",
   "metadata": {},
   "source": [
    "**函式`encode`所支援的常見編碼，如下表**"
   ]
  },
  {
   "cell_type": "markdown",
   "id": "92c91058",
   "metadata": {},
   "source": [
    "- `字串.encode('ascii')`: 7位元的ASCII\n",
    "- `字串.encode('utf-8')`: 將Unicode編碼轉換成可變長度的編碼，以1到4個位元組表示一個Unicode字元\n",
    "- `字串.encode('unicode-escape')`: 將Unicode編碼使用`\\u`與`\\U`表示\n",
    "- `字串.encode('latin-1')`: 也就是ISO 8859-1，以ascii為基礎，支援使用於歐洲的語言\n",
    "- 任何字串加上`.encode('unicode-escape')`就可以轉換成Unicode編碼"
   ]
  },
  {
   "cell_type": "code",
   "execution_count": 4,
   "id": "2761bc3f",
   "metadata": {},
   "outputs": [
    {
     "name": "stdout",
     "output_type": "stream",
     "text": [
      "b'\\\\u6211'\n"
     ]
    }
   ],
   "source": [
    "# 找出`我`的Unicode編碼\n",
    "print('我'.encode('unicode-escape'))"
   ]
  },
  {
   "cell_type": "markdown",
   "id": "574ec5da",
   "metadata": {},
   "source": [
    "### 解碼(decode)"
   ]
  },
  {
   "cell_type": "markdown",
   "id": "c4d2afc4",
   "metadata": {},
   "source": [
    "- Python提供函式`decode`可以將16進位表示的位元組解碼回原來的字串，也需指定解碼代碼\n",
    "- 解碼代碼與編碼代碼要相同\n",
    "- 編碼時指定的編碼代碼，解碼時也要使用相同的代碼進行解碼"
   ]
  },
  {
   "cell_type": "code",
   "execution_count": 5,
   "id": "be095c88",
   "metadata": {},
   "outputs": [
    {
     "name": "stdout",
     "output_type": "stream",
     "text": [
      "b'\\\\u6211' 我\n"
     ]
    }
   ],
   "source": [
    "# 將 我 進行Unicode編碼與解碼\n",
    "byte = '我'.encode('unicode-escape')\n",
    "s = byte.decode('unicode-escape')\n",
    "print(byte, s)"
   ]
  },
  {
   "cell_type": "markdown",
   "id": "8956c76e",
   "metadata": {},
   "source": [
    "- 將`我`使用utf-8進行編碼結果為`\\xe6\\x88\\x91`\n",
    "- 使用函式len測量字串`我`的長度會發現長度為1\n",
    "- 使用utf-8進行編碼後為`\\xe6\\x88\\x91`，長度為3\n",
    "- 編碼後字串長度以byte計算，所以長度變長"
   ]
  },
  {
   "cell_type": "code",
   "execution_count": 6,
   "id": "8b4ad2f1",
   "metadata": {},
   "outputs": [
    {
     "name": "stdout",
     "output_type": "stream",
     "text": [
      "1\n",
      "b'\\xe6\\x88\\x91' 3\n"
     ]
    }
   ],
   "source": [
    "# 使用函式len計算字串長度\n",
    "print(len('我'))\n",
    "byte = '我'.encode('utf-8')\n",
    "print(byte, len(byte))"
   ]
  },
  {
   "cell_type": "code",
   "execution_count": 7,
   "id": "efb6fece",
   "metadata": {},
   "outputs": [
    {
     "name": "stdout",
     "output_type": "stream",
     "text": [
      "b'\\\\u6211'\n",
      "========================================\n",
      "將我經由utf-8編碼後為b'\\xe6\\x88\\x91'\n",
      "將b'\\xe6\\x88\\x91'經由utf-8解碼後為我\n",
      "我的長度為1\n",
      "b'\\xe6\\x88\\x91'的長度為3\n",
      "========================================\n",
      "將我經由utf-8編碼後為b'\\xe6\\x88\\x91'\n",
      "將b'\\xe6\\x88\\x91'經由utf-8解碼後為我\n",
      "我的長度為1\n",
      "b'\\xe6\\x88\\x91'的長度為3\n"
     ]
    }
   ],
   "source": [
    "print('我'.encode('unicode-escape'))\n",
    "print('=' * 40)\n",
    "def utf8(data):\n",
    "    data_byte = data.encode('utf-8')\n",
    "    data2 = data_byte.decode('utf-8')\n",
    "    print(f'將{data}經由utf-8編碼後為{data_byte}')\n",
    "    print(f'將{data_byte}經由utf-8解碼後為{data2}')\n",
    "    print(f'{data}的長度為{len(data)}')\n",
    "    print(f'{data_byte}的長度為{len(data_byte)}')\n",
    "    \n",
    "utf8('我')\n",
    "print('=' * 40)\n",
    "utf8('\\u6211')"
   ]
  },
  {
   "cell_type": "markdown",
   "id": "cfba9820",
   "metadata": {},
   "source": [
    "# 正規表示式(regular expression)"
   ]
  },
  {
   "cell_type": "markdown",
   "id": "77b30086",
   "metadata": {},
   "source": [
    "- 使用正規表示式找尋特定字串是否存在\n",
    "- 找尋符合條件的字串，進行字串取代\n",
    "- 正規表示式常用於字串的分析與擷取\n",
    "- Python提供正規表示式的功能，需要匯入模組`re`"
   ]
  },
  {
   "cell_type": "markdown",
   "id": "d8150afb",
   "metadata": {},
   "source": [
    "**模組`re`提供的重要函式如下**"
   ]
  },
  {
   "cell_type": "markdown",
   "id": "c57386c9",
   "metadata": {},
   "source": [
    "- match(pattern, string): 找出string的開頭是否符合pattern格式，若找不到回傳None，若找到則回傳match物件\n",
    "- search(pattern, string): 找出string中第一個符合pattern格式的字串，若找不到回傳None，若找到則回傳match物件\n",
    "- findall(pattern, string): 找出string中所有符合pattern格式的字串，回傳串列(list)\n",
    "- split(pattern, string): 將string使用pattern格式進行分割，最後回傳串列\n",
    "- sub(pattern, repl, string): 將string中符合pattern格式的字串以字串repl取代，最後回傳取代後的字串"
   ]
  },
  {
   "cell_type": "markdown",
   "id": "98db28cc",
   "metadata": {},
   "source": [
    "- 搜尋符合pattern格式的字串，pattern格式可以使用`.`表示任何字元\n",
    "- 使用`*`串接在字元後面，表示該字元任何數量都符合\n",
    "- 所以使用`.*`表示任何字串都符合，而且越長越好"
   ]
  },
  {
   "cell_type": "code",
   "execution_count": 8,
   "id": "35e3bef1",
   "metadata": {},
   "outputs": [
    {
     "name": "stdout",
     "output_type": "stream",
     "text": [
      "昔人已乘黃鶴去，此地空餘黃鶴\n"
     ]
    }
   ],
   "source": [
    "# 使用 .*黃鶴 找尋符合條件的最長字串\n",
    "\n",
    "import re\n",
    "s = '昔人已乘黃鶴去，此地空餘黃鶴樓。'\n",
    "ans = re.match('.*黃鶴', s)\n",
    "if ans:\n",
    "    print(ans.group())\n",
    "else:\n",
    "    print('找不到開頭是「.*黃鶴」')"
   ]
  },
  {
   "cell_type": "code",
   "execution_count": 9,
   "id": "48ad7d5d",
   "metadata": {},
   "outputs": [
    {
     "name": "stdout",
     "output_type": "stream",
     "text": [
      "昔人已乘黃鶴去，此地空餘黃鶴樓。黃鶴一去不復返，白雲千載空悠悠。\n",
      "========================================\n",
      "昔人\n",
      "========================================\n",
      "找不到開頭是 黃鶴\n",
      "========================================\n",
      "昔人已乘黃鶴去，此地空餘黃鶴樓。黃鶴\n",
      "========================================\n",
      "黃鶴\n",
      "========================================\n",
      "['黃鶴', '黃鶴', '黃鶴']\n",
      "========================================\n",
      "['昔人已乘黃鶴去', '此地空餘黃鶴樓。黃鶴一去不復返', '白雲千載空悠悠。']\n",
      "========================================\n",
      "昔人已乘黃鶴去，此地空餘黃鶴樓;黃鶴一去不復返，白雲千載空悠悠;\n"
     ]
    }
   ],
   "source": [
    "import re\n",
    "s = '昔人已乘黃鶴去，此地空餘黃鶴樓。\\\n",
    "黃鶴一去不復返，白雲千載空悠悠。'\n",
    "print(s)\n",
    "print('=' * 40)\n",
    "\n",
    "ans = re.match('昔人', s)\n",
    "if ans:\n",
    "    print(ans.group())\n",
    "    print('=' * 40)\n",
    "else:\n",
    "    print(f'找不到開頭是 昔人')\n",
    "\n",
    "ans = re.match('黃鶴', s)\n",
    "if ans:\n",
    "    print(ans.group())\n",
    "    print('=' * 40)\n",
    "else:\n",
    "    print('找不到開頭是 黃鶴')\n",
    "    print('=' * 40)\n",
    "\n",
    "ans = re.match('.*黃鶴', s)\n",
    "if ans:\n",
    "    print(ans.group())\n",
    "    print('=' * 40)\n",
    "else:\n",
    "    print('找不到開頭是 .*黃鶴')\n",
    "\n",
    "ans = re.search('黃鶴', s)\n",
    "if ans:\n",
    "    print(ans.group())\n",
    "    print('=' * 40)\n",
    "else:\n",
    "    print('找不到 黃鶴')\n",
    "\n",
    "ans = re.findall('黃鶴', s)\n",
    "if ans:\n",
    "    print(ans)\n",
    "    print('=' * 40)\n",
    "else:\n",
    "    print('找不到 黃鶴')\n",
    "\n",
    "ans = re.split('，', s)\n",
    "print(ans)\n",
    "print('=' * 40)\n",
    "\n",
    "ans = re.sub('。', ';', s)\n",
    "print(ans)"
   ]
  },
  {
   "cell_type": "markdown",
   "id": "8314b374",
   "metadata": {},
   "source": [
    "## 正規表示式的關鍵字"
   ]
  },
  {
   "cell_type": "markdown",
   "id": "310e7bc7",
   "metadata": {},
   "source": [
    "**正規表示式定義了一些關鍵字，這些關鍵字對字元進行分類，是否為數字，是否為單字，是否為空白字符等。**"
   ]
  },
  {
   "cell_type": "markdown",
   "id": "a0f3393b",
   "metadata": {},
   "source": [
    "- `\\d`: 匹配一個數字\n",
    "- `\\D`: 匹配一個非數字\n",
    "- `\\s`: 匹配一個空白字符\n",
    "- `\\S`: 匹配一個非空白字符\n",
    "- `\\w`: 匹配一個英文、數字或底線字元，也可以匹配一個中文字元\n",
    "- `\\W`: 匹配不是一個英文、數字或底線字元，也可以匹配一個中文的標點符號\n",
    "- `\\b`: 匹配`\\w`與`\\W`的邊界\n",
    "- `\\B`: 匹配不在`\\w`與`\\W`的邊界"
   ]
  },
  {
   "cell_type": "markdown",
   "id": "4ca91196",
   "metadata": {},
   "source": [
    "**`\\b`有另外一種解釋為backspace，若要指定為正規表示式的匹配`\\w`與`\\W`的邊界，需在前面加上`r`，變成`r\\b`確定一定是正規表示式的匹配`\\w`與`\\W`的邊界，而非backspace**"
   ]
  },
  {
   "cell_type": "code",
   "execution_count": 10,
   "id": "4d732672",
   "metadata": {},
   "outputs": [
    {
     "name": "stdout",
     "output_type": "stream",
     "text": [
      "['0', '1', '2', '3', '4', '5', '6', '7', '8', '9']\n",
      "================================================================================\n",
      "['a', 'b', 'c', 'd', 'e', 'f', 'g', 'h', 'i', 'j', 'k', 'l', 'm', 'n', 'o', 'p', 'q', 'r', 's', 't', 'u', 'v', 'w', 'x', 'y', 'z', 'A', 'B', 'C', 'D', 'E', 'F', 'G', 'H', 'I', 'J', 'K', 'L', 'M', 'N', 'O', 'P', 'Q', 'R', 'S', 'T', 'U', 'V', 'W', 'X', 'Y', 'Z', '!', '\"', '#', '$', '%', '&', \"'\", '(', ')', '*', '+', ',', '-', '.', '/', ':', ';', '<', '=', '>', '?', '@', '[', '\\\\', ']', '^', '_', '`', '{', '|', '}', '~', ' ', '\\t', '\\n', '\\r', '\\x0b', '\\x0c']\n",
      "================================================================================\n",
      "[' ', '\\t', '\\n', '\\r', '\\x0b', '\\x0c']\n",
      "================================================================================\n",
      "['0', '1', '2', '3', '4', '5', '6', '7', '8', '9', 'a', 'b', 'c', 'd', 'e', 'f', 'g', 'h', 'i', 'j', 'k', 'l', 'm', 'n', 'o', 'p', 'q', 'r', 's', 't', 'u', 'v', 'w', 'x', 'y', 'z', 'A', 'B', 'C', 'D', 'E', 'F', 'G', 'H', 'I', 'J', 'K', 'L', 'M', 'N', 'O', 'P', 'Q', 'R', 'S', 'T', 'U', 'V', 'W', 'X', 'Y', 'Z', '!', '\"', '#', '$', '%', '&', \"'\", '(', ')', '*', '+', ',', '-', '.', '/', ':', ';', '<', '=', '>', '?', '@', '[', '\\\\', ']', '^', '_', '`', '{', '|', '}', '~']\n",
      "================================================================================\n",
      "['0', '1', '2', '3', '4', '5', '6', '7', '8', '9', 'a', 'b', 'c', 'd', 'e', 'f', 'g', 'h', 'i', 'j', 'k', 'l', 'm', 'n', 'o', 'p', 'q', 'r', 's', 't', 'u', 'v', 'w', 'x', 'y', 'z', 'A', 'B', 'C', 'D', 'E', 'F', 'G', 'H', 'I', 'J', 'K', 'L', 'M', 'N', 'O', 'P', 'Q', 'R', 'S', 'T', 'U', 'V', 'W', 'X', 'Y', 'Z', '_']\n",
      "================================================================================\n",
      "['!', '\"', '#', '$', '%', '&', \"'\", '(', ')', '*', '+', ',', '-', '.', '/', ':', ';', '<', '=', '>', '?', '@', '[', '\\\\', ']', '^', '`', '{', '|', '}', '~', ' ', '\\t', '\\n', '\\r', '\\x0b', '\\x0c']\n",
      "================================================================================\n",
      "['', '']\n",
      "================================================================================\n",
      "['', '', '']\n"
     ]
    }
   ],
   "source": [
    "import string\n",
    "import re\n",
    "pr = string.printable\n",
    "\n",
    "print(re.findall('\\d', pr))\n",
    "print('=' * 80)\n",
    "\n",
    "print(re.findall('\\D', pr))\n",
    "print('=' * 80)\n",
    "\n",
    "print(re.findall('\\s', pr))\n",
    "print('=' * 80)\n",
    "\n",
    "print(re.findall('\\S', pr))\n",
    "print('=' * 80)\n",
    "\n",
    "print(re.findall('\\w', pr))\n",
    "print('=' * 80)\n",
    "\n",
    "print(re.findall('\\W', pr))\n",
    "print('=' * 80)\n",
    "\n",
    "print(re.findall(r'\\b', 'abcd'))\n",
    "print('=' * 80)\n",
    "\n",
    "print(re.findall('\\B', 'abcd'))"
   ]
  },
  {
   "cell_type": "markdown",
   "id": "752ec8cb",
   "metadata": {},
   "source": [
    "**正規表示式定義了另一些關鍵字，這些關鍵字表示出現的位置、出現的次數與有哪些字元符合條件等。**"
   ]
  },
  {
   "cell_type": "markdown",
   "id": "61952085",
   "metadata": {},
   "source": [
    "- `^`: 位置在開頭\n",
    "- `$`: 位置在結尾\n",
    "- `.`: 配對除了Enter(\\n)以外的字元\n",
    "- `x|y`: 配對x或y\n",
    "- `[xy]`: 配對x或y，x與y可以以任何字元取代，可以不只兩個字元，例如:[xyz]表示x、y或z\n",
    "- `[^xy]`: 不是x且不是y，x與y可以以任何字元取代，可以不只兩個字元\n",
    "- `x*`: 配對零個或多個x，越多越好，x可以以任何字元取代\n",
    "- `x*?`: 配對零個或多個x，越少越好，x可以以任何字元取代\n",
    "- `x+`: 配對1個或多個x，越多越好，x可以以任何字元取代\n",
    "- `[0-9]+`: 配對1個或多個的0到9的數字，越多越好\n",
    "- `[A-Za-z]`: 配對1個或多個的大小寫字母，越多越好\n",
    "- `x+?`: 配對1個或多個x，越少越好，x可以以任何字元取代\n",
    "- `x{a}`: 配對連續a個x，x可以以任何字元取代\n",
    "- `x{a, b}`: 配對連續a到b個x，越多越好，x可以以任何字元取代\n",
    "- `x{a, b}?`: 配對連續a到b個x，越少越好，x可以以任何字元取代\n",
    "- `left(?=right)`: 配對left，若後面有right\n",
    "- `left(?!right)`: 配對left，若後面沒有right\n",
    "- `(?<=left)right`: 配對right，若right之前有left\n",
    "- `(?<!left)right`: 配對right，若right之前沒有left"
   ]
  },
  {
   "cell_type": "code",
   "execution_count": 11,
   "id": "5a5c293d",
   "metadata": {},
   "outputs": [
    {
     "name": "stdout",
     "output_type": "stream",
     "text": [
      "昔人已乘黃鶴去，此地空餘黃鶴樓。黃鶴一去不復返，白雲千載空悠悠。\n",
      "========================================\n",
      "['昔人']\n",
      "========================================\n",
      "['空悠悠。']\n",
      "========================================\n",
      "['黃', '黃', '黃', '白']\n",
      "========================================\n",
      "['，', '。', '，', '。']\n",
      "========================================\n",
      "['黃鶴樓。']\n",
      "========================================\n",
      "['黃鶴去，', '黃鶴樓。']\n",
      "========================================\n",
      "['昔', '人', '已', '乘', '去', '，', '此', '地', '空', '餘', '樓', '。', '一', '去', '不', '復', '返', '，', '白', '雲', '千', '載', '空', '悠', '悠', '。']\n"
     ]
    }
   ],
   "source": [
    "import re\n",
    "s = '昔人已乘黃鶴去，此地空餘黃鶴樓。\\\n",
    "黃鶴一去不復返，白雲千載空悠悠。'\n",
    "print(s)\n",
    "print('=' * 40)\n",
    "\n",
    "ans = re.findall('^昔人', s)\n",
    "print(ans)\n",
    "print('=' * 40)\n",
    "\n",
    "ans = re.findall('空悠悠。$', s)\n",
    "print(ans)\n",
    "print('=' * 40)\n",
    "\n",
    "ans = re.findall('[黃白]', s)\n",
    "print(ans)\n",
    "print('=' * 40)\n",
    "\n",
    "ans = re.findall('\\W', s)\n",
    "print(ans)\n",
    "print('=' * 40)\n",
    "\n",
    "ans = re.findall('黃鶴樓\\W', s)\n",
    "print(ans)\n",
    "print('=' * 40)\n",
    "\n",
    "ans = re.findall('黃鶴.\\W', s)\n",
    "print(ans)\n",
    "print('=' * 40)\n",
    "\n",
    "ans = re.findall('[^黃鶴]', s)\n",
    "print(ans)"
   ]
  },
  {
   "cell_type": "code",
   "execution_count": 12,
   "id": "4fc5d505",
   "metadata": {},
   "outputs": [
    {
     "name": "stdout",
     "output_type": "stream",
     "text": [
      "昔人已乘黃鶴去，此地空餘黃鶴樓。黃鶴一去不復返，白雲千載空悠悠。\n",
      "========================================\n",
      "[一去]? ['', '', '', '', '', '', '去', '', '', '', '', '', '', '', '', '', '', '', '一', '去', '', '', '', '', '', '', '', '', '', '', '', '', '']\n",
      "========================================\n",
      "[一去]* ['', '', '', '', '', '', '去', '', '', '', '', '', '', '', '', '', '', '', '一去', '', '', '', '', '', '', '', '', '', '', '', '', '']\n",
      "========================================\n",
      "[一去]*? ['', '', '', '', '', '', '', '去', '', '', '', '', '', '', '', '', '', '', '', '', '一', '', '去', '', '', '', '', '', '', '', '', '', '', '', '', '']\n",
      "========================================\n",
      "[黃鶴樓]+ ['黃鶴', '黃鶴樓', '黃鶴']\n",
      "========================================\n",
      "[黃鶴樓]+? ['黃', '鶴', '黃', '鶴', '樓', '黃', '鶴']\n",
      "========================================\n",
      "[黃鶴樓]{2} ['黃鶴', '黃鶴', '黃鶴']\n",
      "========================================\n",
      "[黃鶴樓]{1,2} ['黃鶴', '黃鶴', '樓', '黃鶴']\n",
      "========================================\n",
      "[黃鶴樓]{1,2}? ['黃', '鶴', '黃', '鶴', '樓', '黃', '鶴']\n",
      "========================================\n",
      "黃鶴(?=樓) ['黃鶴']\n",
      "========================================\n",
      "黃鶴(?!樓) ['黃鶴', '黃鶴']\n",
      "========================================\n",
      "(?<=黃鶴)樓 ['樓']\n",
      "========================================\n",
      "(?<!黃鶴)樓 []\n"
     ]
    }
   ],
   "source": [
    "# 進階正規表示式程式\n",
    "\n",
    "import re\n",
    "s = '昔人已乘黃鶴去，此地空餘黃鶴樓。\\\n",
    "黃鶴一去不復返，白雲千載空悠悠。'\n",
    "print(s)\n",
    "print('=' * 40)\n",
    "\n",
    "ans = re.findall('[一去]?', s)\n",
    "print(f'[一去]? {ans}')\n",
    "print('=' * 40)\n",
    "\n",
    "ans = re.findall('[一去]*', s)\n",
    "print(f'[一去]* {ans}')\n",
    "print('=' * 40)\n",
    "\n",
    "ans = re.findall('[一去]*?', s)\n",
    "print(f'[一去]*? {ans}')\n",
    "print('=' * 40)\n",
    "\n",
    "ans = re.findall('[黃鶴樓]+', s)\n",
    "print(f'[黃鶴樓]+ {ans}')\n",
    "print('=' * 40)\n",
    "\n",
    "ans = re.findall('[黃鶴樓]+?', s)\n",
    "print(f'[黃鶴樓]+? {ans}')\n",
    "print('=' * 40)\n",
    "\n",
    "ans = re.findall('[黃鶴樓]{2}', s)\n",
    "print('[黃鶴樓]{2}', ans)\n",
    "print('=' * 40)\n",
    "\n",
    "ans = re.findall('[黃鶴樓]{1,2}', s)\n",
    "print('[黃鶴樓]{1,2}', ans)\n",
    "print('=' * 40)\n",
    "\n",
    "ans = re.findall('[黃鶴樓]{1,2}?', s)\n",
    "print('[黃鶴樓]{1,2}?', ans)\n",
    "print('=' * 40)\n",
    "\n",
    "ans = re.findall('黃鶴(?=樓)', s)\n",
    "print(f'黃鶴(?=樓) {ans}')\n",
    "print('=' * 40)\n",
    "\n",
    "ans = re.findall('黃鶴(?!樓)', s)\n",
    "print(f'黃鶴(?!樓) {ans}')\n",
    "print('=' * 40)\n",
    "\n",
    "ans = re.findall('(?<=黃鶴)樓', s)\n",
    "print(f'(?<=黃鶴)樓 {ans}')\n",
    "print('=' * 40)\n",
    "\n",
    "ans = re.findall('(?<!黃鶴)樓', s)\n",
    "print(f'(?<!黃鶴)樓 {ans}')"
   ]
  },
  {
   "cell_type": "code",
   "execution_count": 13,
   "id": "1a63335b",
   "metadata": {},
   "outputs": [
    {
     "name": "stdout",
     "output_type": "stream",
     "text": [
      "程\n",
      "CJK UNIFIED IDEOGRAPH-7A0B\n",
      "b'\\xe7\\xa8\\x8b'\n"
     ]
    }
   ],
   "source": [
    "# 查詢Unicode字元\n",
    "\n",
    "import unicodedata\n",
    "def unicode_name(value):\n",
    "    name = unicodedata.name(value)\n",
    "    return name\n",
    "\n",
    "ch = '\\u7a0b'\n",
    "print(ch)\n",
    "print(unicode_name(ch))\n",
    "print(ch.encode(encoding = 'utf-8'))"
   ]
  },
  {
   "cell_type": "code",
   "execution_count": 14,
   "id": "6ba6c924",
   "metadata": {},
   "outputs": [
    {
     "name": "stdout",
     "output_type": "stream",
     "text": [
      "['123', '123.456', '-456']\n"
     ]
    }
   ],
   "source": [
    "# 配對整數與浮點數\n",
    "\n",
    "import re\n",
    "s = '123  ab 123.456 1d2.df -456'\n",
    "nums = re.findall('-?\\d+\\.?\\d+', s)\n",
    "print(nums)"
   ]
  },
  {
   "cell_type": "code",
   "execution_count": 15,
   "id": "f5b8d7e3",
   "metadata": {},
   "outputs": [
    {
     "name": "stdout",
     "output_type": "stream",
     "text": [
      "['The', 'best', 'fish', 'swim', 'near', 'the', 'bottom']\n"
     ]
    }
   ],
   "source": [
    "# 配對英文單字\n",
    "\n",
    "import re\n",
    "s = 'The best fish swim near the bottom.'\n",
    "words = re.findall('[A-Za-z]+', s)\n",
    "print(words)"
   ]
  },
  {
   "cell_type": "code",
   "execution_count": 16,
   "id": "8aa7d015",
   "metadata": {},
   "outputs": [
    {
     "name": "stdout",
     "output_type": "stream",
     "text": [
      "['英文諺語', 'The', 'best', 'fish', 'swim', 'near', 'the', 'bottom', '中文意思為', '好酒沉甕底']\n"
     ]
    }
   ],
   "source": [
    "# 配對中文句子與英文單字\n",
    "\n",
    "import re\n",
    "s = '英文諺語「The best fish swim near the bottom.」，中文意思為「好酒沉甕底」。'\n",
    "words = re.findall('\\w+', s)\n",
    "print(words)"
   ]
  },
  {
   "cell_type": "code",
   "execution_count": 17,
   "id": "74532aee",
   "metadata": {},
   "outputs": [
    {
     "name": "stdout",
     "output_type": "stream",
     "text": [
      "['Z123456789']\n"
     ]
    }
   ],
   "source": [
    "# 配對身份證字號\n",
    "# 身份證字號由大小寫字母，接著數字1或數字2，最後串接8個數字\n",
    "\n",
    "import re\n",
    "s = 'B342232223 Z123456789 Z1234543'\n",
    "id_card = re.findall('[A-Z][12][0-9]{8}', s)\n",
    "print(id_card)"
   ]
  },
  {
   "cell_type": "code",
   "execution_count": 18,
   "id": "cd0003b2",
   "metadata": {},
   "outputs": [
    {
     "name": "stdout",
     "output_type": "stream",
     "text": [
      "['1234-567-789']\n"
     ]
    }
   ],
   "source": [
    "# 配對電話\n",
    "# 假設電話由4個數字，串接 - ，串接3個數字，串接 - ，串接3個數字組成\n",
    "\n",
    "import re\n",
    "s = '1234-567-789 123-444-555 1234-55-5555'\n",
    "phone_number = re.findall('\\d{4}-\\d{3}-\\d{3}', s)\n",
    "print(phone_number)"
   ]
  },
  {
   "cell_type": "code",
   "execution_count": 19,
   "id": "44abae91",
   "metadata": {},
   "outputs": [
    {
     "name": "stdout",
     "output_type": "stream",
     "text": [
      "['aaa@xxx.go']\n"
     ]
    }
   ],
   "source": [
    "# 配對電子郵件\n",
    "# 電子郵件帳號由英文字母與數字組成，串接 @ ，串接英文、數字與字元「.」\n",
    "\n",
    "import re\n",
    "s = 'asss@ aaa@xxx.go ase2ss.xxx.go'\n",
    "email = re.findall('[a-zA-Z0-9]+@[a-zA-Z0-9\\.]+', s)\n",
    "print(email)"
   ]
  },
  {
   "cell_type": "code",
   "execution_count": null,
   "id": "db3cb157",
   "metadata": {},
   "outputs": [],
   "source": []
  }
 ],
 "metadata": {
  "kernelspec": {
   "display_name": "Python 3 (ipykernel)",
   "language": "python",
   "name": "python3"
  },
  "language_info": {
   "codemirror_mode": {
    "name": "ipython",
    "version": 3
   },
   "file_extension": ".py",
   "mimetype": "text/x-python",
   "name": "python",
   "nbconvert_exporter": "python",
   "pygments_lexer": "ipython3",
   "version": "3.9.12"
  }
 },
 "nbformat": 4,
 "nbformat_minor": 5
}
