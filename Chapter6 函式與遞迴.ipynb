{
 "cells": [
  {
   "cell_type": "code",
   "execution_count": 1,
   "id": "7a895730",
   "metadata": {},
   "outputs": [
    {
     "name": "stdout",
     "output_type": "stream",
     "text": [
      "Please enter the length of the rectangle: 4\n",
      "Please enter the width of the rectangle: 5\n",
      "The area of the rectangle is 20.\n"
     ]
    }
   ],
   "source": [
    "# 計算長方形面積\n",
    "\n",
    "def Area(x, y):\n",
    "    return(x * y)\n",
    "\n",
    "a = int(input('Please enter the length of the rectangle: '))\n",
    "b = int(input('Please enter the width of the rectangle: '))\n",
    "ans = Area(a,b)\n",
    "print(f'The area of the rectangle is {ans}.')"
   ]
  },
  {
   "cell_type": "code",
   "execution_count": 2,
   "id": "b34fc672",
   "metadata": {},
   "outputs": [
    {
     "name": "stdout",
     "output_type": "stream",
     "text": [
      "10\n",
      "5\n"
     ]
    }
   ],
   "source": [
    "# 區域變數與全域變數\n",
    "\n",
    "g = 5\n",
    "def f2():\n",
    "    g = 10\n",
    "    print(g) # 函式會優先取用區域內的變數\n",
    "\n",
    "f2()\n",
    "print(g)"
   ]
  },
  {
   "cell_type": "code",
   "execution_count": 3,
   "id": "46684138",
   "metadata": {},
   "outputs": [
    {
     "name": "stdout",
     "output_type": "stream",
     "text": [
      "5\n",
      "10\n",
      "10\n"
     ]
    }
   ],
   "source": [
    "g = 5\n",
    "def f():\n",
    "    global g # 用global宣告區域變數，該區域變數將明確指向全域變數\n",
    "    print(g)\n",
    "    g = 10\n",
    "    print(g)\n",
    "    \n",
    "f()\n",
    "print(g)"
   ]
  },
  {
   "cell_type": "markdown",
   "id": "848f2c0a",
   "metadata": {},
   "source": [
    "## 函式範例練習"
   ]
  },
  {
   "cell_type": "code",
   "execution_count": 4,
   "id": "8994b621",
   "metadata": {},
   "outputs": [
    {
     "name": "stdout",
     "output_type": "stream",
     "text": [
      "Please enter your weight: 175\n",
      "Please enter your height: 75\n",
      "BMI為0.03111111111111111\n",
      "體重過輕\n"
     ]
    }
   ],
   "source": [
    "# 計算BMI\n",
    "\n",
    "def BMI(w, h):\n",
    "    return(w / (h ** 2))\n",
    "\n",
    "w = float(input('Please enter your weight: '))\n",
    "h = float(input('Please enter your height: '))\n",
    "bmi = BMI(w, h)\n",
    "print(f'BMI為{bmi}')\n",
    "if(bmi < 18):\n",
    "    print('體重過輕')\n",
    "elif(bmi < 24):\n",
    "    print('體重正常')\n",
    "elif(bmi < 27):\n",
    "    print('體重過重')\n",
    "else:\n",
    "    print('體重肥胖')"
   ]
  },
  {
   "cell_type": "code",
   "execution_count": 5,
   "id": "d17ba2cc",
   "metadata": {},
   "outputs": [
    {
     "name": "stdout",
     "output_type": "stream",
     "text": [
      "2 is a prime.\n",
      "3 is a prime.\n",
      "5 is a prime.\n",
      "7 is a prime.\n",
      "11 is a prime.\n",
      "13 is a prime.\n",
      "17 is a prime.\n",
      "19 is a prime.\n",
      "23 is a prime.\n",
      "29 is a prime.\n",
      "31 is a prime.\n",
      "37 is a prime.\n",
      "41 is a prime.\n",
      "43 is a prime.\n",
      "47 is a prime.\n",
      "53 is a prime.\n",
      "59 is a prime.\n",
      "61 is a prime.\n",
      "67 is a prime.\n",
      "71 is a prime.\n",
      "73 is a prime.\n",
      "79 is a prime.\n",
      "83 is a prime.\n",
      "89 is a prime.\n",
      "97 is a prime.\n"
     ]
    }
   ],
   "source": [
    "# 求質數\n",
    "\n",
    "import math\n",
    "def isPrime(num):\n",
    "    for i in range(2, int(math.sqrt(num) + 1)):\n",
    "        if(num % i == 0):\n",
    "            return False\n",
    "    return True\n",
    "\n",
    "for i in range(2, 101):\n",
    "    if isPrime(i):\n",
    "        print(f'{i} is a prime.')"
   ]
  },
  {
   "cell_type": "code",
   "execution_count": 6,
   "id": "d0e81a1c",
   "metadata": {},
   "outputs": [
    {
     "name": "stdout",
     "output_type": "stream",
     "text": [
      "2 is a prime.\n",
      "3 is a prime.\n",
      "5 is a prime.\n",
      "7 is a prime.\n",
      "11 is a prime.\n",
      "13 is a prime.\n",
      "17 is a prime.\n",
      "19 is a prime.\n",
      "23 is a prime.\n",
      "29 is a prime.\n",
      "31 is a prime.\n",
      "37 is a prime.\n",
      "41 is a prime.\n",
      "43 is a prime.\n",
      "47 is a prime.\n",
      "53 is a prime.\n",
      "59 is a prime.\n",
      "61 is a prime.\n",
      "67 is a prime.\n",
      "71 is a prime.\n",
      "73 is a prime.\n",
      "79 is a prime.\n",
      "83 is a prime.\n",
      "89 is a prime.\n",
      "97 is a prime.\n"
     ]
    }
   ],
   "source": [
    "# 求質數\n",
    "\n",
    "import math\n",
    "def isPrime(num):\n",
    "    i = 2\n",
    "    while i <= math.sqrt(num):\n",
    "        if(num % i == 0):\n",
    "            return False\n",
    "        i += 1\n",
    "    return True\n",
    "\n",
    "for i in range(2,101):\n",
    "    if isPrime(i):\n",
    "        print(f'{i} is a prime.')"
   ]
  },
  {
   "cell_type": "code",
   "execution_count": 7,
   "id": "e7fa59c0",
   "metadata": {},
   "outputs": [
    {
     "name": "stdout",
     "output_type": "stream",
     "text": [
      "Hi\n"
     ]
    }
   ],
   "source": [
    "# 函式中有預設值的輸入參數一定要放在後面，預設值要是不可以變的常數\n",
    "\n",
    "def f(s, count = 1):\n",
    "    print(s * count)\n",
    "    \n",
    "f('Hi')"
   ]
  },
  {
   "cell_type": "code",
   "execution_count": 8,
   "id": "b17f73f2",
   "metadata": {},
   "outputs": [
    {
     "name": "stdout",
     "output_type": "stream",
     "text": [
      "HiHiHi\n"
     ]
    }
   ],
   "source": [
    "def f(s, count = 1):\n",
    "    print(s * count)\n",
    "\n",
    "f('Hi',3)"
   ]
  },
  {
   "cell_type": "code",
   "execution_count": 9,
   "id": "7244eda4",
   "metadata": {},
   "outputs": [
    {
     "name": "stdout",
     "output_type": "stream",
     "text": [
      "x= 1 y= 2 z= 9\n",
      "x= 1 y= 2 z= 3\n",
      "x= 3 y= 4 z= 9\n",
      "x= 6 y= 5 z= 9\n"
     ]
    }
   ],
   "source": [
    "# 可以指定參數與輸入值的對應，這時就可以不用依照順序\n",
    "\n",
    "def func(x, y, z = 9):\n",
    "    print('x=', x, 'y=', y, 'z=', z)\n",
    "    \n",
    "func(1,2)\n",
    "func(1,2,3)\n",
    "func(x = 3, y = 4)\n",
    "func(y = 5, x = 6)"
   ]
  },
  {
   "cell_type": "code",
   "execution_count": 10,
   "id": "7f5a5103",
   "metadata": {},
   "outputs": [
    {
     "name": "stdout",
     "output_type": "stream",
     "text": [
      "2023 3 4\n"
     ]
    }
   ],
   "source": [
    "# 函式回傳值可以使用tuple回傳多個資料\n",
    "\n",
    "from datetime import datetime\n",
    "def ymd():\n",
    "    now = datetime.now()\n",
    "    return(now.year, now.month, now.day)\n",
    "\n",
    "y, m, d = ymd() # tuple uppacking\n",
    "print(y, m, d)"
   ]
  },
  {
   "cell_type": "markdown",
   "id": "55492517",
   "metadata": {},
   "source": [
    "## 函式的進階輸入---位置引數與關鍵字引數"
   ]
  },
  {
   "cell_type": "code",
   "execution_count": 11,
   "id": "17bdb090",
   "metadata": {},
   "outputs": [
    {
     "name": "stdout",
     "output_type": "stream",
     "text": [
      "位置引數為 (1, 2, 3)\n"
     ]
    }
   ],
   "source": [
    "# 位置引數(positional arguments):函數的輸入變數前使用*\n",
    "# 會將函數內多個輸入值群組化成tuple，慣例使用args為位置引數名稱\n",
    "\n",
    "def func1(*args):\n",
    "    print('位置引數為', args)\n",
    "\n",
    "func1(1,2,3)"
   ]
  },
  {
   "cell_type": "code",
   "execution_count": 12,
   "id": "a5e68d68",
   "metadata": {},
   "outputs": [
    {
     "name": "stdout",
     "output_type": "stream",
     "text": [
      "關鍵字引數為 {'a': 1, 'b': 2}\n"
     ]
    }
   ],
   "source": [
    "# 關鍵字引數(keyword arguments):函數的輸入變數前使用**\n",
    "# 會將函數內多個輸入值群組化成dictionary，慣例使用kwargs為關鍵字引數名稱\n",
    "\n",
    "def func2(**kwargs):\n",
    "    print('關鍵字引數為', kwargs)\n",
    "    \n",
    "func2(a = 1, b = 2)"
   ]
  },
  {
   "cell_type": "code",
   "execution_count": 13,
   "id": "2f052ad4",
   "metadata": {},
   "outputs": [
    {
     "name": "stdout",
     "output_type": "stream",
     "text": [
      "start= 1\n",
      "位置引數= (2, 3)\n",
      "關鍵字引數= {'a': 4, 'b': 5}\n"
     ]
    }
   ],
   "source": [
    "# 參數，位置引數，關鍵字引數可以一起使用\n",
    "\n",
    "def func3(start, *args, **kwargs):\n",
    "    print('start=', start)\n",
    "    print('位置引數=', args) #印出tuple\n",
    "    print('關鍵字引數=', kwargs) # 印出dictionary\n",
    "    \n",
    "func3(1, 2, 3, a = 4, b = 5)"
   ]
  },
  {
   "cell_type": "code",
   "execution_count": 14,
   "id": "6d520c94",
   "metadata": {},
   "outputs": [
    {
     "name": "stdout",
     "output_type": "stream",
     "text": [
      "Help on function min_of_two_number in module __main__:\n",
      "\n",
      "min_of_two_number(a, b)\n",
      "    使用min_of_two_number可以找出a與b較小的值\n",
      "    Args:\n",
      "        a: 輸入的第一個參數\n",
      "        b: 輸入的第二個參數\n",
      "        \n",
      "    Returns:\n",
      "        回傳a與b中較小的值\n",
      "\n",
      "使用min_of_two_number可以找出a與b較小的值\n",
      "    Args:\n",
      "        a: 輸入的第一個參數\n",
      "        b: 輸入的第二個參數\n",
      "        \n",
      "    Returns:\n",
      "        回傳a與b中較小的值\n",
      "    \n"
     ]
    }
   ],
   "source": [
    "# 函式的說明文件\n",
    "# 可以在函式下方使用'''...'''撰寫函式的說明文件，讓後續維護程式的人可以快速了解函式的用途與功能\n",
    "\n",
    "def min_of_two_number(a, b):\n",
    "    '''使用min_of_two_number可以找出a與b較小的值\n",
    "    Args:\n",
    "        a: 輸入的第一個參數\n",
    "        b: 輸入的第二個參數\n",
    "        \n",
    "    Returns:\n",
    "        回傳a與b中較小的值\n",
    "    '''\n",
    "    if a > b:\n",
    "        return b\n",
    "    else:\n",
    "        return a\n",
    "\n",
    "help(min_of_two_number) # 可以讀取函式的說明文件\n",
    "print(min_of_two_number.__doc__) # 可以讀取函式的說明文件"
   ]
  },
  {
   "cell_type": "code",
   "execution_count": 15,
   "id": "7e30f9fb",
   "metadata": {},
   "outputs": [
    {
     "name": "stdout",
     "output_type": "stream",
     "text": [
      "k = 30\n"
     ]
    }
   ],
   "source": [
    "# 函式視為物件\n",
    "# 以函式名稱當成物件，函式名稱加上()才會執行該函式\n",
    "\n",
    "def add(a, b):\n",
    "    return a + b\n",
    "\n",
    "def run(func, x, y):\n",
    "    return func(x, y)\n",
    "\n",
    "'''函式run的第一個參數func為函式物件，使用func()呼叫執行func所指定的函式\n",
    "   run函式以run(add, 10, 20)執行，則func會使用函式物件add取代，\n",
    "   run函式中的func(x, y)相當於add(x, y)'''\n",
    "\n",
    "k = run(add, 10, 20)\n",
    "print(f'k = {k}')"
   ]
  },
  {
   "cell_type": "code",
   "execution_count": 16,
   "id": "823a8d8a",
   "metadata": {},
   "outputs": [
    {
     "data": {
      "text/plain": [
       "<function __main__.<lambda>(a, b)>"
      ]
     },
     "execution_count": 16,
     "metadata": {},
     "output_type": "execute_result"
    }
   ],
   "source": [
    "# 函式lambda\n",
    "# lambda 輸入的函式:函式的定義\n",
    "# 範例\n",
    "\n",
    "def add(a, b):\n",
    "    return a + b\n",
    "# 轉換成lambda\n",
    "lambda a, b: a + b"
   ]
  },
  {
   "cell_type": "code",
   "execution_count": 17,
   "id": "2873db4f",
   "metadata": {},
   "outputs": [
    {
     "name": "stdout",
     "output_type": "stream",
     "text": [
      "k = 30\n"
     ]
    }
   ],
   "source": [
    "def run(func, x, y):\n",
    "    return func(x, y)\n",
    "\n",
    "k = run(lambda a, b: a + b, 10, 20)\n",
    "print(f'k = {k}')"
   ]
  },
  {
   "cell_type": "markdown",
   "id": "ebfe33fc",
   "metadata": {},
   "source": [
    "## 產生器(generator)"
   ]
  },
  {
   "cell_type": "code",
   "execution_count": 18,
   "id": "82198068",
   "metadata": {},
   "outputs": [
    {
     "name": "stdout",
     "output_type": "stream",
     "text": [
      "<generator object irange at 0x000001D2064DFCF0>\n",
      "====================\n",
      "1\n",
      "2\n",
      "3\n",
      "4\n",
      "====================\n",
      "4\n",
      "3\n",
      "2\n"
     ]
    }
   ],
   "source": [
    "# 產生器可以產生一個序列的資料\n",
    "# 產生器要使用yield回傳資料，而非使用return回傳資料\n",
    "# 使用yield回傳資料會紀錄上一次回傳時函式的狀態，不會從頭到尾都執行\n",
    "# 使用產生器的好處是不用一次產生所有資料，當產生的資料量很大時會占用很多記憶體空間\n",
    "# 產生器會一次產生一個資料，紀錄上一次執行的狀態，需要時再產生下一個資料\n",
    "\n",
    "def irange(start, stop, step = 1):\n",
    "    if start < stop: # 若為遞增數列\n",
    "        i = start\n",
    "        while i < stop:\n",
    "            yield i\n",
    "            i += step\n",
    "    else: #若為遞減數列\n",
    "        i = start\n",
    "        while i > stop:\n",
    "            yield i\n",
    "            i += step\n",
    "            \n",
    "x = irange(1, 10)\n",
    "print(x)\n",
    "\n",
    "print('=' * 20)\n",
    "\n",
    "for i in irange(1, 5, 1):\n",
    "    print(i)\n",
    "    \n",
    "print('=' * 20)\n",
    "\n",
    "for i in irange(4, 1, -1):\n",
    "    print(i)"
   ]
  },
  {
   "cell_type": "markdown",
   "id": "21a23c08",
   "metadata": {},
   "source": [
    "## 內部函式"
   ]
  },
  {
   "cell_type": "code",
   "execution_count": 19,
   "id": "6fe7ce73",
   "metadata": {},
   "outputs": [
    {
     "name": "stdout",
     "output_type": "stream",
     "text": [
      "Hello,John\n",
      "Hello,你好\n"
     ]
    }
   ],
   "source": [
    "# 函式內部的函式稱作內部函式\n",
    "# 內部函式用於函式內會一直重複利用到的功能，可以獨立出來寫成一個函式\n",
    "\n",
    "def hello(msg):\n",
    "    def say(text):\n",
    "        return 'Hello,' + text\n",
    "    print(say(msg))\n",
    "    print(say('你好'))\n",
    "    \n",
    "hello('John')"
   ]
  },
  {
   "cell_type": "markdown",
   "id": "492c45e0",
   "metadata": {},
   "source": [
    "## closure函式"
   ]
  },
  {
   "cell_type": "code",
   "execution_count": 20,
   "id": "25bcaf15",
   "metadata": {},
   "outputs": [
    {
     "name": "stdout",
     "output_type": "stream",
     "text": [
      "Hello,Owen\n",
      "Hi,Ian\n"
     ]
    }
   ],
   "source": [
    "# 在函式內動態建立一個函式，回傳該函式，稱作closure\n",
    "# 使用closure的好處是可以看到外部函式的變數，讓程式碼集中在外部函式內，\n",
    "# 而非宣告定義在外部函式之外，避免程式碼分散不易閱讀\n",
    "\n",
    "\n",
    "# 內部函式say稱作closure函式，\n",
    "# 使用closure函式的好處是內部函式say(closure函式)能夠存取外部函式hello的參數msg\n",
    "# 呼叫函式hello回傳函式物件say到變數\n",
    "\n",
    "def hello(msg):\n",
    "    def say(hi):\n",
    "        return hi + msg\n",
    "    return say\n",
    "\n",
    "# 變數x, y都是函式物件\n",
    "x = hello('Owen')\n",
    "y = hello('Ian')\n",
    "\n",
    "# 使用x(),y()執行closure函式回傳字串，再利用函式print列印出來\n",
    "print(x('Hello,'))\n",
    "print(y('Hi,'))"
   ]
  },
  {
   "cell_type": "markdown",
   "id": "c18888a4",
   "metadata": {},
   "source": [
    "## Decorator(裝飾器)"
   ]
  },
  {
   "cell_type": "code",
   "execution_count": 21,
   "id": "dd7170fc",
   "metadata": {},
   "outputs": [
    {
     "name": "stdout",
     "output_type": "stream",
     "text": [
      "正在執行的函式 add\n",
      "函式的說明文件為 回傳a加b的結果\n",
      "位置引數為 (1,)\n",
      "關鍵字引數為 {'b': 2}\n",
      "3\n",
      "正在執行的函式 add\n",
      "函式的說明文件為 回傳a + b + c的結果\n",
      "位置引數為 (1, 2)\n",
      "關鍵字引數為 {'c': 3}\n",
      "6\n"
     ]
    }
   ],
   "source": [
    "# 裝飾器為一種函式，允許輸入一個函式，回傳另一個函式\n",
    "# 常用於將一個自訂函式改裝成另一個函式，可以用於顯示除錯訊息\n",
    "\n",
    "def debug(func1):\n",
    "    def func2(*args, **kwargs):\n",
    "        print('正在執行的函式', func1.__name__)\n",
    "        print('函式的說明文件為', func1.__doc__)\n",
    "        print('位置引數為', args)\n",
    "        print('關鍵字引數為', kwargs)\n",
    "        return func1(*args, **kwargs)\n",
    "    return func2\n",
    "\n",
    "def add(a, b):\n",
    "    '回傳a加b的結果'\n",
    "    return a + b\n",
    "\n",
    "add = debug(add)\n",
    "print(add(1, b = 2))\n",
    "\n",
    "\n",
    "# 輸入的函式物件add與回傳的函式物件add，是指向不同的函式物件\n",
    "# 經由裝飾器可以將函式物件轉換成另一個函式物件\n",
    "\n",
    "# 也可以利用`@`簡化裝飾器的使用步驟，在需要裝飾器的函式的上一行，\n",
    "# 使用`@`串接裝飾器名稱，就可以達成使用裝飾器改變下一行所定義的函式\n",
    "\n",
    "@debug\n",
    "def add(a, b, c):\n",
    "    '回傳a + b + c的結果'\n",
    "    return a + b + c\n",
    "print(add(1, 2, c = 3))"
   ]
  },
  {
   "cell_type": "code",
   "execution_count": 22,
   "id": "474c2771",
   "metadata": {},
   "outputs": [
    {
     "name": "stdout",
     "output_type": "stream",
     "text": [
      "Please enter a number: 5\n",
      "5! is 120\n"
     ]
    }
   ],
   "source": [
    "# n階乘\n",
    "\n",
    "def fac(num):\n",
    "    if(num == 1):\n",
    "        return 1\n",
    "    else:\n",
    "        return num * fac(num - 1)\n",
    "\n",
    "num = int(input('Please enter a number: '))\n",
    "ans = fac(num)\n",
    "print(f'{num}! is {ans}')"
   ]
  },
  {
   "cell_type": "code",
   "execution_count": 23,
   "id": "8dafd77f",
   "metadata": {},
   "outputs": [
    {
     "name": "stdout",
     "output_type": "stream",
     "text": [
      "Please enter a number of m: 6\n",
      "Please enter a number of n: 4\n",
      "6 與 4 的最大公因數相當於 4 與 6\n",
      "4 與 6 的最大公因數相當於 2 與 4\n",
      "2 與 4 的最大公因數相當於 0 與 2\n",
      "m與n的最大公因數為2\n"
     ]
    }
   ],
   "source": [
    "# 最大公因數(利用輾轉相除法)\n",
    "\n",
    "def gcd(m, n):\n",
    "    if(m == 0):\n",
    "        return n\n",
    "    else:\n",
    "        print(m, '與', n, '的最大公因數相當於', n % m, '與', m)\n",
    "        return gcd(n % m, m)\n",
    "    \n",
    "m = int(input('Please enter a number of m: '))\n",
    "n = int(input('Please enter a number of n: '))\n",
    "ans = gcd(m, n)\n",
    "print(f'm與n的最大公因數為{ans}')"
   ]
  },
  {
   "cell_type": "code",
   "execution_count": 24,
   "id": "4db499d5",
   "metadata": {},
   "outputs": [
    {
     "name": "stdout",
     "output_type": "stream",
     "text": [
      "Please enter your password: owen493515\n",
      "非常安全的密碼\n"
     ]
    }
   ],
   "source": [
    "# 檢查密碼\n",
    "\n",
    "def check(pwd):\n",
    "    if pwd.isdigit():\n",
    "        if len(pwd) < 6:\n",
    "            print('不安全的密碼')\n",
    "        else:\n",
    "            print('可能是安全的密碼')\n",
    "    elif pwd.isalpha():\n",
    "        if len(pwd) < 6:\n",
    "            print('不安全的密碼')\n",
    "        else:\n",
    "            print('可能是安全的密碼')\n",
    "    elif len(pwd) < 6:\n",
    "        print('不安全的密碼')\n",
    "    elif len(pwd) < 10:\n",
    "        print('安全的密碼')\n",
    "    else:\n",
    "        print('非常安全的密碼')\n",
    "        \n",
    "pwd = input('Please enter your password: ')\n",
    "check(pwd)"
   ]
  },
  {
   "cell_type": "code",
   "execution_count": 25,
   "id": "003b6e6e",
   "metadata": {},
   "outputs": [
    {
     "name": "stdout",
     "output_type": "stream",
     "text": [
      "Please enter the value of m: 7\n",
      "Please enter the value of n: 5\n",
      "Please enter the graphic you want to print: @\n",
      "@@@@@\n",
      "@@@@@\n",
      "@@@@@\n",
      "@@@@@\n",
      "@@@@@\n",
      "@@@@@\n",
      "@@@@@\n"
     ]
    }
   ],
   "source": [
    "# 印出m列n行個字元\n",
    "\n",
    "def print_graphic(m, n, graphic):\n",
    "    for i in range(m):\n",
    "        for j in range(n):\n",
    "            print(graphic, sep = '', end = '')\n",
    "        print()\n",
    "    \n",
    "\n",
    "m = int(input('Please enter the value of m: '))\n",
    "n = int(input('Please enter the value of n: '))\n",
    "graphic = input('Please enter the graphic you want to print: ')\n",
    "print_graphic(m, n, graphic)"
   ]
  },
  {
   "cell_type": "code",
   "execution_count": 26,
   "id": "db431efb",
   "metadata": {},
   "outputs": [
    {
     "name": "stdout",
     "output_type": "stream",
     "text": [
      "[('Tony', 80, 80, 160), ('Mary', 70, 85, 155), ('Tina', 60, 70, 130), ('John', 60, 70, 130)]\n"
     ]
    }
   ],
   "source": [
    "# 多鍵值排序\n",
    "\n",
    "score = [('Tina', 60, 70, 130), ('Tony', 80, 80, 160), ('Mary', 70, 85, 155), ('John', 60, 70, 130)]\n",
    "sort_score = sorted(score, key = lambda x: x[3], reverse = True)\n",
    "print(sort_score)"
   ]
  },
  {
   "cell_type": "code",
   "execution_count": 27,
   "id": "64d8fb1e",
   "metadata": {},
   "outputs": [
    {
     "name": "stdout",
     "output_type": "stream",
     "text": [
      "Please enter a number: 9\n",
      "1\n",
      "2\n",
      "6\n",
      "24\n",
      "120\n",
      "720\n",
      "5040\n",
      "40320\n",
      "362880\n"
     ]
    }
   ],
   "source": [
    "# N階乘產生器\n",
    "# 產生器yield可以產生一個序列的資料\n",
    "\n",
    "def print_fac(num):\n",
    "    result = 1\n",
    "    for i in range(1, num + 1):\n",
    "        result *= i\n",
    "        yield result\n",
    "        \n",
    "num = int(input('Please enter a number: '))\n",
    "for i in print_fac(num):\n",
    "    print(i)"
   ]
  },
  {
   "cell_type": "code",
   "execution_count": 28,
   "id": "cfa009f9",
   "metadata": {},
   "outputs": [
    {
     "name": "stdout",
     "output_type": "stream",
     "text": [
      "Please enter a number: 8\n",
      "1+2+3...+8 = 36\n"
     ]
    }
   ],
   "source": [
    "# 加總\n",
    "\n",
    "def add(num):\n",
    "    if num == 1:\n",
    "        return 1\n",
    "    else:\n",
    "        return num + add(num - 1)\n",
    "    \n",
    "num = int(input('Please enter a number: '))\n",
    "sum_of_num = add(num)\n",
    "print(f'1+2+3...+{num} = {sum_of_num}')"
   ]
  },
  {
   "cell_type": "code",
   "execution_count": 29,
   "id": "491013d7",
   "metadata": {},
   "outputs": [
    {
     "name": "stdout",
     "output_type": "stream",
     "text": [
      "Please enter the value of m: 5\n",
      "Please enter the value of n: 3\n",
      "5取3個的組合結果為10\n"
     ]
    }
   ],
   "source": [
    "# 組合\n",
    "\n",
    "def c(m, n):\n",
    "    if(n == 0 or m == n):\n",
    "        return 1\n",
    "    else:\n",
    "        return c(m - 1, n) + c(m - 1, n - 1)\n",
    "    \n",
    "m = int(input('Please enter the value of m: '))\n",
    "n = int(input('Please enter the value of n: '))\n",
    "\n",
    "if(m < n):\n",
    "    m, n = n, m\n",
    "\n",
    "result = c(m, n)\n",
    "print(f'{m}取{n}個的組合結果為{result}')"
   ]
  },
  {
   "cell_type": "code",
   "execution_count": 30,
   "id": "ca659eb9",
   "metadata": {},
   "outputs": [
    {
     "name": "stdout",
     "output_type": "stream",
     "text": [
      "Please enter a string: owen\n",
      "<p>Hello,owen</p>\n"
     ]
    }
   ],
   "source": [
    "# HTML裝飾器\n",
    "\n",
    "def p_deco(func):\n",
    "    def p_tag(s):\n",
    "        return '<p>' + str(func(s)) + '</p>'\n",
    "    return p_tag\n",
    "\n",
    "@p_deco\n",
    "def phtml(s):\n",
    "    return 'Hello,' + s\n",
    "\n",
    "s = input('Please enter a string: ')\n",
    "print(phtml(s))"
   ]
  },
  {
   "cell_type": "markdown",
   "id": "67951b51",
   "metadata": {},
   "source": [
    "**Please write a C function combn(n, k) that computes combination, 𝐶𝑘𝑛\n",
    ", given two positive integers n and k (n choose k), where n ≥ k ≥ 0. For example combn(10, 2) = 45.**\n"
   ]
  },
  {
   "cell_type": "markdown",
   "id": "d56ad169",
   "metadata": {},
   "source": [
    "**What is the value of 𝐶95\n",
    "100 . Please use your function combn() to generate the \n",
    "result.**"
   ]
  },
  {
   "cell_type": "code",
   "execution_count": 31,
   "id": "432578bd",
   "metadata": {},
   "outputs": [
    {
     "name": "stdout",
     "output_type": "stream",
     "text": [
      "The value of the test is 45\n",
      "The value of the test1 is 75287520\n"
     ]
    }
   ],
   "source": [
    "def combn(n, k):\n",
    "    if(k == 0 or n == k):\n",
    "        return 1\n",
    "    else:\n",
    "        return combn(n - 1, k) + combn(n - 1, k - 1)\n",
    "\n",
    "test = combn(10, 2)\n",
    "print(f'The value of the test is {test}')\n",
    "\n",
    "test1 = combn(100, 95)\n",
    "print(f'The value of the test1 is {test1}')"
   ]
  },
  {
   "cell_type": "markdown",
   "id": "5e9ddd76",
   "metadata": {},
   "source": [
    "**Please write a C function dbinom() that implements binomial probability mass \n",
    "function to compute the probability of getting exactly k successes in n (success/failure) \n",
    "trials with the probability of success p, as: \n",
    "𝑑𝑏𝑖𝑛om(k, n, p)=𝐶𝑘\n",
    "𝑛 p\n",
    "k\n",
    "(1-p)\n",
    "n-k**"
   ]
  },
  {
   "cell_type": "code",
   "execution_count": 32,
   "id": "3a491f64",
   "metadata": {},
   "outputs": [
    {
     "name": "stdout",
     "output_type": "stream",
     "text": [
      "dbinom(5, 10, 0.3) = 0.10291934519999994\n"
     ]
    }
   ],
   "source": [
    "def combn(n, k):\n",
    "    if(k == 0 or n == k):\n",
    "        return 1\n",
    "    else:\n",
    "        return combn(n - 1, k) + combn(n - 1, k - 1)\n",
    "    \n",
    "def dbinom(n, k, p):\n",
    "    c = combn(n, k)\n",
    "    prob = (p ** k) * ((1 - p) ** (n - k))\n",
    "    result = c * prob\n",
    "    print(f'dbinom({k}, {n}, {p}) = {result}')\n",
    "    \n",
    "dbinom(10, 5, 0.3)"
   ]
  },
  {
   "cell_type": "code",
   "execution_count": null,
   "id": "e2442710",
   "metadata": {},
   "outputs": [],
   "source": []
  }
 ],
 "metadata": {
  "kernelspec": {
   "display_name": "Python 3 (ipykernel)",
   "language": "python",
   "name": "python3"
  },
  "language_info": {
   "codemirror_mode": {
    "name": "ipython",
    "version": 3
   },
   "file_extension": ".py",
   "mimetype": "text/x-python",
   "name": "python",
   "nbconvert_exporter": "python",
   "pygments_lexer": "ipython3",
   "version": "3.9.12"
  }
 },
 "nbformat": 4,
 "nbformat_minor": 5
}
