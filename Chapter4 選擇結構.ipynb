{
 "cells": [
  {
   "cell_type": "code",
   "execution_count": 1,
   "id": "ed9b733f",
   "metadata": {},
   "outputs": [
    {
     "name": "stdout",
     "output_type": "stream",
     "text": [
      "請輸入眼睛度數 :0.8\n",
      "近視\n"
     ]
    }
   ],
   "source": [
    "# 近視判斷\n",
    "\n",
    "eye = float(input('請輸入眼睛度數 :'))\n",
    "if eye < 0.9:\n",
    "    print('近視')\n",
    "else:\n",
    "    print('視力正常')"
   ]
  },
  {
   "cell_type": "code",
   "execution_count": 2,
   "id": "802909fe",
   "metadata": {},
   "outputs": [
    {
     "name": "stdout",
     "output_type": "stream",
     "text": [
      "Please enter the value of x :-1\n",
      "Please enter the value of y :-1\n",
      "位於第三象限\n"
     ]
    }
   ],
   "source": [
    "# 象限判斷\n",
    "\n",
    "x = float(input('Please enter the value of x :'))\n",
    "y = float(input('Please enter the value of y :'))\n",
    "\n",
    "if (x > 0 and y > 0):\n",
    "    print('位於第一象限')\n",
    "elif (x < 0 and y > 0):\n",
    "    print('位於第二象限')\n",
    "elif (x < 0 and y < 0):\n",
    "    print('位於第三象限')\n",
    "elif (x > 0 and y < 0):\n",
    "    print('位於第四象限')\n",
    "else:\n",
    "    print('位於座標軸上')"
   ]
  },
  {
   "cell_type": "code",
   "execution_count": 3,
   "id": "b135a9ea",
   "metadata": {},
   "outputs": [
    {
     "name": "stdout",
     "output_type": "stream",
     "text": [
      "請輸入體溫:36.5\n",
      "體溫正常\n"
     ]
    }
   ],
   "source": [
    "# 體溫與發燒\n",
    "\n",
    "temp = float(input('請輸入體溫:'))\n",
    "\n",
    "if(temp < 36):\n",
    "    print('體溫過低')\n",
    "elif(temp < 38):\n",
    "    print('體溫正常')\n",
    "elif(temp < 39):\n",
    "    print('體溫有點燒')\n",
    "else:\n",
    "    print('體溫很燒')"
   ]
  },
  {
   "cell_type": "code",
   "execution_count": 4,
   "id": "66767da5",
   "metadata": {},
   "outputs": [
    {
     "name": "stdout",
     "output_type": "stream",
     "text": [
      "請輸入年份:2012\n",
      "2012是閏年\n"
     ]
    }
   ],
   "source": [
    "# 閏年判斷\n",
    "\n",
    "year = int(input('請輸入年份:'))\n",
    "\n",
    "if(year % 400 == 0):\n",
    "    print(f'{year}是閏年')\n",
    "elif(year % 100 == 0):\n",
    "    print(f'{year}不是閏年')\n",
    "elif(year % 4 == 0):\n",
    "    print(f'{year}是閏年')\n",
    "else:\n",
    "    print(f'{year}不是閏年')"
   ]
  },
  {
   "cell_type": "code",
   "execution_count": null,
   "id": "b960cf97",
   "metadata": {},
   "outputs": [],
   "source": []
  }
 ],
 "metadata": {
  "kernelspec": {
   "display_name": "Python 3 (ipykernel)",
   "language": "python",
   "name": "python3"
  },
  "language_info": {
   "codemirror_mode": {
    "name": "ipython",
    "version": 3
   },
   "file_extension": ".py",
   "mimetype": "text/x-python",
   "name": "python",
   "nbconvert_exporter": "python",
   "pygments_lexer": "ipython3",
   "version": "3.9.12"
  }
 },
 "nbformat": 4,
 "nbformat_minor": 5
}
