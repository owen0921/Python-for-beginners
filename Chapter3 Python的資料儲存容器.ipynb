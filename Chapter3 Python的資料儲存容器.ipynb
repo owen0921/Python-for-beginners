{
 "cells": [
  {
   "cell_type": "code",
   "execution_count": 1,
   "id": "8039b938",
   "metadata": {},
   "outputs": [
    {
     "name": "stdout",
     "output_type": "stream",
     "text": [
      "[1, 2, 3, 4]\n",
      "[1, 2, 3, 4]\n",
      "[1, 2, 19, 4]\n",
      "[1, 2, 19, 4]\n",
      "[1, 2, 18, 4]\n",
      "[1, 2, 18, 4]\n"
     ]
    }
   ],
   "source": [
    "# 若用list1 = list2, 表示list1和list2指向相同的物件, 當list1或list2有修改時, 兩個list都會改變\n",
    "\n",
    "list1 = [1,2,3,4]\n",
    "list2 = list1\n",
    "print(list1)\n",
    "print(list2)\n",
    "\n",
    "list1[2] = 19\n",
    "print(list1)\n",
    "print(list2)\n",
    "\n",
    "list2[2] = 18\n",
    "print(list1)\n",
    "print(list2)"
   ]
  },
  {
   "cell_type": "code",
   "execution_count": 2,
   "id": "787634be",
   "metadata": {},
   "outputs": [
    {
     "name": "stdout",
     "output_type": "stream",
     "text": [
      "[1, 2, 3, 4]\n",
      "[1, 2, 19, 4]\n",
      "[1, 2, 3, 4]\n",
      "[1, 2, 19, 4]\n"
     ]
    }
   ],
   "source": [
    "# 使用[:]與函式copy拷貝串列, 會將串列複製一份, 是兩個不同的物件, 佔有不同的記憶體空間, 修改時兩者不會互相影響\n",
    "\n",
    "list1 = [1,2,3,4]\n",
    "list3 = list1[:]\n",
    "list3[2] = 19\n",
    "print(list1)\n",
    "print(list3)\n",
    "\n",
    "list4 = list1.copy()\n",
    "list4[2] = 19\n",
    "print(list1)\n",
    "print(list4)"
   ]
  },
  {
   "cell_type": "code",
   "execution_count": 3,
   "id": "b308886a",
   "metadata": {},
   "outputs": [
    {
     "name": "stdout",
     "output_type": "stream",
     "text": [
      "你好的英文為 Hello\n",
      "你好嗎的英文為 None\n",
      "你好嗎的英文為 not in the dictionary\n"
     ]
    }
   ],
   "source": [
    "lang = {'早安':'Good Morning', '你好': 'Hello'}\n",
    "print('你好的英文為', lang.get('你好'))\n",
    "print('你好嗎的英文為', lang.get('你好嗎'))\n",
    "print('你好嗎的英文為', lang.get('你好嗎', 'not in the dictionary'))"
   ]
  },
  {
   "cell_type": "code",
   "execution_count": 4,
   "id": "e49ba6de",
   "metadata": {},
   "outputs": [
    {
     "name": "stdout",
     "output_type": "stream",
     "text": [
      "{'早安': 'Good Morning', '你好': 'Hello'}\n",
      "{'早安': 'Good Morning', '你好': 'HI'}\n",
      "{'早安': 'Good Morning', '你好': 'HI', '學生': 'Student'}\n"
     ]
    }
   ],
   "source": [
    "# 修改dictionary中的元素\n",
    "lang = {'早安':'Good Morning', '你好': 'Hello'}\n",
    "print(lang)\n",
    "\n",
    "lang['你好'] = 'HI'\n",
    "print(lang)\n",
    "\n",
    "# 新增元素至dictionary\n",
    "lang['學生'] = 'Student'\n",
    "print(lang)"
   ]
  },
  {
   "cell_type": "code",
   "execution_count": 5,
   "id": "89a7e74f",
   "metadata": {},
   "outputs": [
    {
     "name": "stdout",
     "output_type": "stream",
     "text": [
      "{'你好': 'Hello'}\n",
      "{}\n"
     ]
    }
   ],
   "source": [
    "# 刪除dictionary中的元素\n",
    "lang = {'早安':'Good Morning', '你好': 'Hello'}\n",
    "del lang['早安']\n",
    "print(lang)\n",
    "\n",
    "# 清空整個dictionary\n",
    "lang = {'早安':'Good Morning', '你好': 'Hello'}\n",
    "lang.clear()\n",
    "print(lang)"
   ]
  },
  {
   "cell_type": "code",
   "execution_count": 6,
   "id": "2217f5c4",
   "metadata": {},
   "outputs": [
    {
     "name": "stdout",
     "output_type": "stream",
     "text": [
      "{'你好': 'Hello', '學生': 'Student'}\n",
      "{'早安': 'Good Morning', '你好': 'HI'}\n"
     ]
    }
   ],
   "source": [
    "# 使用函式update將兩個字典合併成一個字典, 若有重複的\"鍵\", 會將dict2的\"鍵\"與\"值\"取代dict1的\"鍵\"與\"值\"\n",
    "\n",
    "lang1 = {'你好':'Hello'}\n",
    "lang2 = {'學生':'Student'}\n",
    "lang1.update(lang2)\n",
    "print(lang1)\n",
    "\n",
    "lang1 = {'早安':'Good Morning', '你好': 'Hello'}\n",
    "lang2 = {'你好':'HI'}\n",
    "lang1.update(lang2)\n",
    "print(lang1)"
   ]
  },
  {
   "cell_type": "code",
   "execution_count": 7,
   "id": "3e39785f",
   "metadata": {},
   "outputs": [
    {
     "name": "stdout",
     "output_type": "stream",
     "text": [
      "中文為早安, 英文為Good Morning\n",
      "中文為你好, 英文為Hello\n",
      "早安\n",
      "你好\n",
      "Good Morning\n",
      "Hello\n"
     ]
    }
   ],
   "source": [
    "# 使用for讀取字典中每個元素\n",
    "# 函式items回傳\"鍵\"與\"值\"\n",
    "# 函式keys回傳\"鍵\"\n",
    "# 函式values回傳\"值\"\n",
    "\n",
    "lang = {'早安':'Good Morning', '你好': 'Hello'}\n",
    "for ch, en in lang.items():\n",
    "    print(f'中文為{ch}, 英文為{en}')\n",
    "\n",
    "for ch in lang.keys():\n",
    "    print(ch)\n",
    "\n",
    "for en in lang.values():\n",
    "    print(en)"
   ]
  },
  {
   "cell_type": "code",
   "execution_count": 8,
   "id": "30fb3d0c",
   "metadata": {},
   "outputs": [
    {
     "name": "stdout",
     "output_type": "stream",
     "text": [
      "{1, 2, 3, 4}\n",
      "{1, 2, 'b', 'a'}\n",
      "{'banana', 'apple'}\n",
      "{'早安', '你好'}\n",
      "{'e', 'r', 'a', 'c'}\n"
     ]
    }
   ],
   "source": [
    "# set會自動刪除重複的元素\n",
    "\n",
    "s = {1,2,3,4}\n",
    "print(s)\n",
    "\n",
    "s = set(('a', 1, 'b', 2))\n",
    "print(s)\n",
    "\n",
    "s = set(['apple', 'banana', 'apple'])\n",
    "print(s)\n",
    "\n",
    "s = set({'早安':'Good Morning', '你好':'Hello'})\n",
    "print(s)\n",
    "\n",
    "s1 = set('racecar')\n",
    "print(s1)"
   ]
  },
  {
   "cell_type": "code",
   "execution_count": 9,
   "id": "fee7afc6",
   "metadata": {},
   "outputs": [
    {
     "name": "stdout",
     "output_type": "stream",
     "text": [
      "{'t', 'e', 'r', 'i', 'g'}\n",
      "{'t', 'e', 'r', 'i', 'z', 'g'}\n",
      "{'e', 'r', 'i', 'z', 'g'}\n"
     ]
    }
   ],
   "source": [
    "# 使用函式add新增集合元素\n",
    "# 使用函式remove刪除集合元素\n",
    "\n",
    "s = set('tiger')\n",
    "print(s)\n",
    "\n",
    "s.add('z')\n",
    "print(s)\n",
    "\n",
    "s.remove('t')\n",
    "print(s)"
   ]
  },
  {
   "cell_type": "code",
   "execution_count": 10,
   "id": "ff339863",
   "metadata": {},
   "outputs": [
    {
     "name": "stdout",
     "output_type": "stream",
     "text": [
      "True\n",
      "True\n",
      "False\n",
      "False\n"
     ]
    }
   ],
   "source": [
    "# 集合的比較\n",
    "\n",
    "# 子集合(<=), A<=B相當於A.issubset(B)\n",
    "a = set('tiger')\n",
    "b = set('tigers')\n",
    "print(a <= b)\n",
    "\n",
    "# 真子集合(<)\n",
    "a = set('tiger')\n",
    "b = set('tigers')\n",
    "print(a < b)\n",
    "\n",
    "# 超集合(>=), A>=B相當於A.issuperset(B)\n",
    "a = set('tiger')\n",
    "b = set('tigers')\n",
    "print(a >= b)\n",
    "\n",
    "# 真超集合\n",
    "a = set('tiger')\n",
    "b = set('tigers')\n",
    "print(a > b)"
   ]
  },
  {
   "cell_type": "code",
   "execution_count": 11,
   "id": "185f8c5e",
   "metadata": {},
   "outputs": [
    {
     "name": "stdout",
     "output_type": "stream",
     "text": [
      "Please enter the work 打球\n",
      "Please enter the work 閱讀\n",
      "Please enter the work 吃飯\n",
      "Please enter the work 借書\n",
      "Please enter the work 寫程式\n",
      "打球 閱讀 ['吃飯', '借書', '寫程式']\n",
      "寫程式 ['吃飯', '借書']\n"
     ]
    }
   ],
   "source": [
    "# 待辦事項\n",
    "\n",
    "to_do_list = []\n",
    "\n",
    "for i in range(5):\n",
    "    work = input('Please enter the work ')\n",
    "    to_do_list.append(work)\n",
    "    \n",
    "print(to_do_list.pop(0), to_do_list.pop(0), to_do_list)\n",
    "print(to_do_list.pop(), to_do_list)"
   ]
  },
  {
   "cell_type": "code",
   "execution_count": 12,
   "id": "6f4fa4a2",
   "metadata": {},
   "outputs": [
    {
     "name": "stdout",
     "output_type": "stream",
     "text": [
      "dict_keys(['dog', 'fish', 'cat', 'pig'])\n",
      "{'dog': '狗', 'fish': '魚', 'cat': '貓', 'pig': '豬'}\n",
      "Please enter the word dog\n",
      "狗\n"
     ]
    }
   ],
   "source": [
    "# 製作英翻中字典\n",
    "\n",
    "dic = {'dog':'狗', 'fish':'魚', 'cat':'貓', 'pig':'豬'}\n",
    "print(dic.keys())\n",
    "print(dic)\n",
    "word = input('Please enter the word ')\n",
    "print(dic.get(word, 'Not in the dictionary!'))"
   ]
  },
  {
   "cell_type": "code",
   "execution_count": 13,
   "id": "5d341e29",
   "metadata": {},
   "outputs": [
    {
     "name": "stdout",
     "output_type": "stream",
     "text": [
      "{'落', '風', '春', '鳥', '聲', '處', '曉', '覺', '來', '少', '花', '啼', '夜', '聞', '知', '多', '雨', '不', '眠'}\n"
     ]
    }
   ],
   "source": [
    "# 找出一首詩的所有字\n",
    "\n",
    "poem = '春眠不覺曉，處處聞啼鳥，夜來風雨聲，花落知多少。'\n",
    "poem = set(poem)\n",
    "poem.remove('，')\n",
    "poem.remove('。')\n",
    "print(poem)"
   ]
  },
  {
   "cell_type": "code",
   "execution_count": 14,
   "id": "2ae5ec0b",
   "metadata": {},
   "outputs": [
    {
     "name": "stdout",
     "output_type": "stream",
     "text": [
      "['January', 'February', 'March', 'April', 'May', 'June', 'July', 'August', 'September', 'October', 'November', 'December']\n",
      "['Sunday', 'Monday', 'Tuesday', 'Wednesday', 'Thursday', 'Friday', 'Saturday']\n",
      "August\n",
      "Friday\n"
     ]
    }
   ],
   "source": [
    "# 複雜的結構\n",
    "\n",
    "week_name = ['Sunday', 'Monday', 'Tuesday', 'Wednesday', 'Thursday', 'Friday', 'Saturday']\n",
    "month_name = ['January', 'February', 'March', 'April', 'May', 'June', 'July', 'August',\n",
    "        'September', 'October', 'November', 'December']\n",
    "\n",
    "dic = {'week':week_name, 'month':month_name}\n",
    "\n",
    "print(dic['month'])\n",
    "print(dic['week'])\n",
    "print(dic['month'][7])\n",
    "print(dic['week'][5])"
   ]
  },
  {
   "cell_type": "code",
   "execution_count": 15,
   "id": "9daca5a4",
   "metadata": {},
   "outputs": [
    {
     "name": "stdout",
     "output_type": "stream",
     "text": [
      "Please enter a sentence an apple a day keeps the doctor away\n",
      "['away', 'doctor', 'the', 'keeps', 'day', 'a', 'apple', 'an']\n"
     ]
    }
   ],
   "source": [
    "# 存取串列中元素\n",
    "\n",
    "s = input('Please enter a sentence ')\n",
    "s.strip()\n",
    "s.strip('.')\n",
    "words = s.split(' ')\n",
    "print(words[::-1])"
   ]
  },
  {
   "cell_type": "code",
   "execution_count": 16,
   "id": "17d793f0",
   "metadata": {},
   "outputs": [
    {
     "name": "stdout",
     "output_type": "stream",
     "text": [
      "英文和數學都及格 {'Mary', 'Fiona', 'Claire', 'Ben'}\n",
      "數學不及格 {'Bert', 'John', 'Bill', 'Tina'}\n",
      "英文及格且數學不及格 {'John', 'Bill'}\n"
     ]
    }
   ],
   "source": [
    "# 找出及格的人\n",
    "\n",
    "total = set(['John', 'Mary', 'Tina', 'Fiona', 'Claire', 'Eva', 'Ben', 'Bill', 'Bert'])\n",
    "pass_english = set(['John', 'Mary', 'Fiona', 'Claire', 'Ben', 'Bill'])\n",
    "pass_math = set(['Mary', 'Fiona', 'Claire', 'Eva', 'Ben'])\n",
    "\n",
    "both_pass = (pass_english & pass_math)\n",
    "print(f'英文和數學都及格 {both_pass}')\n",
    "\n",
    "not_pass_math = (total - pass_math)\n",
    "print(f'數學不及格 {not_pass_math}')\n",
    "\n",
    "pass_english_not_math = (pass_english & not_pass_math)\n",
    "print(f'英文及格且數學不及格 {pass_english_not_math}')"
   ]
  },
  {
   "cell_type": "code",
   "execution_count": 17,
   "id": "074f852b",
   "metadata": {},
   "outputs": [
    {
     "name": "stdout",
     "output_type": "stream",
     "text": [
      "{'多', '春', '來'}\n"
     ]
    }
   ],
   "source": [
    "# 找出兩首詩共同的字\n",
    "\n",
    "poem1 = set('紅豆生南國，春來發幾枝?願君多采擷，此物最相思。')\n",
    "poem2 = set('春眠不覺曉，處處聞啼鳥。夜來風雨聲，花落知多少。')\n",
    "\n",
    "poem1.remove('，')\n",
    "poem1.remove('?')\n",
    "poem1.remove('。')\n",
    "\n",
    "poem2.remove('，')\n",
    "poem2.remove('。')\n",
    "\n",
    "print(poem1 & poem2)"
   ]
  },
  {
   "cell_type": "code",
   "execution_count": 18,
   "id": "d06995cd",
   "metadata": {},
   "outputs": [
    {
     "name": "stdout",
     "output_type": "stream",
     "text": [
      "Please enter the name John\n",
      "Please enter the email john@xxx.tw\n",
      "Please enter the name Claire\n",
      "Please enter the email claire@xxx.tw\n",
      "Please enter the name Fiona\n",
      "Please enter the email fiona@xxx.tw\n",
      "{'John': 'john@xxx.tw', 'Claire': 'claire@xxx.tw', 'Fiona': 'fiona@xxx.tw'}\n",
      "請輸入要查詢電子郵件的姓名 Claire\n",
      "claire@xxx.tw\n",
      "請輸入要刪除資料的姓名 John\n",
      "{'Claire': 'claire@xxx.tw', 'Fiona': 'fiona@xxx.tw'}\n"
     ]
    }
   ],
   "source": [
    "# 製作電子郵件通訊錄\n",
    "\n",
    "mail = dict()\n",
    "\n",
    "for i in range(3):\n",
    "    name = input('Please enter the name ')\n",
    "    email = input('Please enter the email ')\n",
    "    mail[name] = email # dictionary新增資料\n",
    "\n",
    "print(mail)\n",
    "name_inquire = input('請輸入要查詢電子郵件的姓名 ')\n",
    "print(mail[name_inquire]) # dictionary查詢資料\n",
    "\n",
    "name_del = input('請輸入要刪除資料的姓名 ')\n",
    "del mail[name_del]\n",
    "print(mail)"
   ]
  },
  {
   "cell_type": "code",
   "execution_count": null,
   "id": "982542ca",
   "metadata": {},
   "outputs": [],
   "source": []
  }
 ],
 "metadata": {
  "kernelspec": {
   "display_name": "Python 3 (ipykernel)",
   "language": "python",
   "name": "python3"
  },
  "language_info": {
   "codemirror_mode": {
    "name": "ipython",
    "version": 3
   },
   "file_extension": ".py",
   "mimetype": "text/x-python",
   "name": "python",
   "nbconvert_exporter": "python",
   "pygments_lexer": "ipython3",
   "version": "3.9.12"
  }
 },
 "nbformat": 4,
 "nbformat_minor": 5
}
