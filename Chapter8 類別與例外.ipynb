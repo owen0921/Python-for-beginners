{
 "cells": [
  {
   "cell_type": "markdown",
   "id": "99869b2d",
   "metadata": {},
   "source": [
    "# 類別"
   ]
  },
  {
   "cell_type": "markdown",
   "id": "35b83f3b",
   "metadata": {},
   "source": [
    "## 實作類別"
   ]
  },
  {
   "cell_type": "code",
   "execution_count": 1,
   "id": "b204f678",
   "metadata": {},
   "outputs": [
    {
     "name": "stdout",
     "output_type": "stream",
     "text": [
      "<__main__.Animal object at 0x000002B26CEE17F0>\n",
      "動物\n"
     ]
    }
   ],
   "source": [
    "# 函式`__init__`表示宣告類別時會自動執行的函式，第一個參數為self，表示自己\n",
    "# 第二個參數為輸入類別的資料，可以在宣告屬於該類別的物件時，同時傳入資料到該物件\n",
    "\n",
    "class Animal():\n",
    "    def __init__(self, name):\n",
    "        self.name = name\n",
    "        \n",
    "a = Animal('動物')\n",
    "print(a)\n",
    "print(a.name)"
   ]
  },
  {
   "cell_type": "markdown",
   "id": "bd64ef1c",
   "metadata": {},
   "source": [
    "## 繼承"
   ]
  },
  {
   "cell_type": "markdown",
   "id": "baeedf95",
   "metadata": {},
   "source": [
    "- 可以繼承原有的類別，修改延伸出新的類別\n",
    "- 原有的類別稱為`基礎類別(base class)`或`雙親類別(parent class)`\n",
    "- 新的類別稱為`衍生類別(derived class)`或`子類別(child class)`\n",
    "- 衍生類別自動擁有基礎類別的變數與函式\n",
    "- 使用`class 衍生類別 (基礎類別)`來定義類別間的繼承關係\n",
    "- 在衍生類別中使用`super().基礎類別的函式`可以呼叫基礎類別的函式"
   ]
  },
  {
   "cell_type": "code",
   "execution_count": 2,
   "id": "1eb0e82b",
   "metadata": {},
   "outputs": [
    {
     "name": "stdout",
     "output_type": "stream",
     "text": [
      "動物\n",
      "小狗小白\n"
     ]
    }
   ],
   "source": [
    "class Animal():\n",
    "    def __init__(self, name):\n",
    "        self.name = name\n",
    "class Dog(Animal):\n",
    "    def __init__(self, name):\n",
    "        super().__init__('小狗' + name)\n",
    "        \n",
    "a = Animal('動物')\n",
    "d = Dog('小白')\n",
    "print(a.name)\n",
    "print(d.name)"
   ]
  },
  {
   "cell_type": "markdown",
   "id": "1a9d0a5f",
   "metadata": {},
   "source": [
    "## 覆寫函式"
   ]
  },
  {
   "cell_type": "markdown",
   "id": "33f1552b",
   "metadata": {},
   "source": [
    "- 衍生類別可以繼承基礎類別的資料與函式，在衍生類別內重新改寫基礎類別的函式，讓衍生類別與基礎類別的相同函式有不同功能"
   ]
  },
  {
   "cell_type": "code",
   "execution_count": 3,
   "id": "76d89b8d",
   "metadata": {},
   "outputs": [
    {
     "name": "stdout",
     "output_type": "stream",
     "text": [
      "小狗小黑\n",
      "汪汪叫\n"
     ]
    }
   ],
   "source": [
    "class Animal():\n",
    "    def __init__(self, name):\n",
    "        self.name = name\n",
    "    def sound(self):\n",
    "        pass # 不執行任何動作\n",
    "class Dog(Animal):\n",
    "    def __init__(self, name):\n",
    "        super().__init__('小狗' + name)\n",
    "    def sound(self):\n",
    "        return '汪汪叫'\n",
    "\n",
    "d = Dog('小黑')\n",
    "print(d.name)\n",
    "print(d.sound())"
   ]
  },
  {
   "cell_type": "markdown",
   "id": "40f9c826",
   "metadata": {},
   "source": [
    "## 新增參數的覆寫函式"
   ]
  },
  {
   "cell_type": "markdown",
   "id": "a54146d2",
   "metadata": {},
   "source": [
    "- 在覆寫函式時，可以新增參數"
   ]
  },
  {
   "cell_type": "code",
   "execution_count": 4,
   "id": "4cbbfbb1",
   "metadata": {},
   "outputs": [
    {
     "name": "stdout",
     "output_type": "stream",
     "text": [
      "小狗小黑 有 4 條腿\n",
      "小狗小黑 汪汪叫\n"
     ]
    }
   ],
   "source": [
    "class Animal():\n",
    "    def __init__(self, name):\n",
    "        self.name = name\n",
    "    def sound(self):\n",
    "        pass\n",
    "class Dog(Animal):\n",
    "    def __init__(self, name, leg):\n",
    "        super().__init__('小狗' + name)\n",
    "        self.leg = leg\n",
    "    def sound(self):\n",
    "        return '汪汪叫'\n",
    "    \n",
    "d = Dog('小黑', 4)\n",
    "print(f'{d.name} 有 {d.leg} 條腿')\n",
    "print(d.name, d.sound())"
   ]
  },
  {
   "cell_type": "markdown",
   "id": "5ab2c644",
   "metadata": {},
   "source": [
    "## 新增函式"
   ]
  },
  {
   "cell_type": "markdown",
   "id": "2077579d",
   "metadata": {},
   "source": [
    "- 在衍生類別內可以新增基礎類別沒有的函式"
   ]
  },
  {
   "cell_type": "code",
   "execution_count": 5,
   "id": "0c49a16f",
   "metadata": {},
   "outputs": [
    {
     "name": "stdout",
     "output_type": "stream",
     "text": [
      "小狗小黑 汪汪叫\n",
      "小狗小黑在馬路上行走\n"
     ]
    }
   ],
   "source": [
    "class Animal():\n",
    "    def __init__(self, name):\n",
    "        self.name = name\n",
    "    def sound(self):\n",
    "        pass\n",
    "class Dog(Animal):\n",
    "    def __init__(self, name):\n",
    "        super().__init__('小狗' + name)\n",
    "    def sound(self):\n",
    "        return '汪汪叫'\n",
    "    def move(self):\n",
    "        print(self.name + '在馬路上行走')\n",
    "\n",
    "d = Dog('小黑')\n",
    "print(d.name, d.sound())\n",
    "d.move()"
   ]
  },
  {
   "cell_type": "markdown",
   "id": "d357dafd",
   "metadata": {},
   "source": [
    "## 多型(polymorphism)"
   ]
  },
  {
   "cell_type": "markdown",
   "id": "9d973fb7",
   "metadata": {},
   "source": [
    "- 多個類別可以定義相同的函式名稱\n",
    "- 相同函式名稱在不同類別可以定義各自特有的功能\n",
    "- 經由呼叫函式物件的函式名稱，傳入不同的物件都定義此相同函式名稱而產生不同的功能\n",
    "- 在Python中這些類別不一定要有繼承關係"
   ]
  },
  {
   "cell_type": "code",
   "execution_count": 6,
   "id": "79792e19",
   "metadata": {},
   "outputs": [
    {
     "name": "stdout",
     "output_type": "stream",
     "text": [
      "動物 正在 None\n",
      "小狗小黑 正在 汪汪叫\n",
      "小鳥小黃 正在 啾啾叫\n"
     ]
    }
   ],
   "source": [
    "class Animal():\n",
    "    def __init__(self, name):\n",
    "        self.name = name\n",
    "    def who(self):\n",
    "        return self.name\n",
    "    def sound(self):\n",
    "        pass\n",
    "\n",
    "class Dog(Animal):\n",
    "    def __init__(self, name):\n",
    "        super().__init__('小狗' + name)\n",
    "    def sound(self):\n",
    "        return '汪汪叫'\n",
    "\n",
    "class Bird():\n",
    "    def __init__(self, name):\n",
    "        self.name = '小鳥' + name\n",
    "    def who(self):\n",
    "        return self.name\n",
    "    def sound(self):\n",
    "        return '啾啾叫'\n",
    "    \n",
    "def talk(obj):\n",
    "    print(f'{obj.who()} 正在 {obj.sound()}')\n",
    "    \n",
    "a = Animal('動物')\n",
    "talk(a)\n",
    "\n",
    "d = Dog('小黑')\n",
    "talk(d)\n",
    "\n",
    "b = Bird('小黃')\n",
    "talk(b)"
   ]
  },
  {
   "cell_type": "markdown",
   "id": "7eb42841",
   "metadata": {},
   "source": [
    "## 類別內無法直接存取的變數"
   ]
  },
  {
   "cell_type": "markdown",
   "id": "033ffa3f",
   "metadata": {},
   "source": [
    "- 在類別內的變數，若在變數名稱前加上`__`，該變數無法直接使用`類別物件.__變數名稱`進行存取\n",
    "- 達到資料保護的目的\n",
    "- 需要在類別內定義函式，回傳`self.__變數名稱`才能存取變數"
   ]
  },
  {
   "cell_type": "code",
   "execution_count": 7,
   "id": "178d88e5",
   "metadata": {},
   "outputs": [
    {
     "name": "stdout",
     "output_type": "stream",
     "text": [
      "小狗小黑有4條腿\n"
     ]
    }
   ],
   "source": [
    "class Animal():\n",
    "    def __init__(self, name):\n",
    "        self.__name = name\n",
    "    def sound(self):\n",
    "        pass\n",
    "    def show_name(self):\n",
    "        return self.__name\n",
    "class Dog(Animal):\n",
    "    def __init__(self, name, leg):\n",
    "        super().__init__('小狗' + name)\n",
    "        self.leg = leg\n",
    "    def sound(self):\n",
    "        return '汪汪叫'\n",
    "\n",
    "d = Dog('小黑', 4)\n",
    "# print(d.__name, '有', d.leg, '條腿')  會報錯\n",
    "print(f'{d.show_name()}有{d.leg}條腿')"
   ]
  },
  {
   "cell_type": "markdown",
   "id": "22c1c8d0",
   "metadata": {},
   "source": [
    "## 特殊函式(special method)"
   ]
  },
  {
   "cell_type": "markdown",
   "id": "d6fca71d",
   "metadata": {},
   "source": [
    "- 存在於類別內的特殊函式，Python會讓運算子或內建函式可以與特殊函式自動對應\n",
    "- EX:判斷兩物件是否相等的運算子`==`會自動與類別內特殊函式`__eq__`對應\n",
    "- 在類別內重新定義特殊函式`__eq__`，類別中使用運算子`==`的運算就會直接使用特殊函式`__eq__`進行是否相等的判斷"
   ]
  },
  {
   "cell_type": "code",
   "execution_count": 8,
   "id": "f7c4f0d8",
   "metadata": {},
   "outputs": [
    {
     "name": "stdout",
     "output_type": "stream",
     "text": [
      "True\n",
      "True\n",
      "False\n",
      "False\n"
     ]
    }
   ],
   "source": [
    "class Animal():\n",
    "    def __init__(self, name):\n",
    "        self.__name = name\n",
    "    def sound(self):\n",
    "        pass\n",
    "    def show_name(self):\n",
    "        return self.__name\n",
    "    def eq(self, other):\n",
    "        return self.__name == other.show_name()\n",
    "    def __eq__(self, other):\n",
    "        return self.__name == other.show_name()\n",
    "class Dog(Animal):\n",
    "    def __init__(self, name, leg):\n",
    "        super().__init__('小狗' + name)\n",
    "        self.leg = leg\n",
    "    def sound(self):\n",
    "        return '汪汪叫'\n",
    "    \n",
    "d1 = Dog('小黑', 4)\n",
    "d2 = Dog('小黑', 4)\n",
    "print(d1.eq(d2))\n",
    "print(d1 == d2)\n",
    "\n",
    "d3 = Dog('小白', 4)\n",
    "print(d1.eq(d3))\n",
    "print(d1 == d3) # 使用運算子==，會自動呼叫函式__eq__進行判斷"
   ]
  },
  {
   "cell_type": "markdown",
   "id": "481e54e1",
   "metadata": {},
   "source": [
    "### 特殊函式與運算子的對應"
   ]
  },
  {
   "cell_type": "code",
   "execution_count": 9,
   "id": "743beade",
   "metadata": {},
   "outputs": [
    {
     "data": {
      "text/html": [
       "<div>\n",
       "<style scoped>\n",
       "    .dataframe tbody tr th:only-of-type {\n",
       "        vertical-align: middle;\n",
       "    }\n",
       "\n",
       "    .dataframe tbody tr th {\n",
       "        vertical-align: top;\n",
       "    }\n",
       "\n",
       "    .dataframe thead th {\n",
       "        text-align: right;\n",
       "    }\n",
       "</style>\n",
       "<table border=\"1\" class=\"dataframe\">\n",
       "  <thead>\n",
       "    <tr style=\"text-align: right;\">\n",
       "      <th></th>\n",
       "      <th>特殊函式</th>\n",
       "      <th>對應運算子</th>\n",
       "    </tr>\n",
       "  </thead>\n",
       "  <tbody>\n",
       "    <tr>\n",
       "      <th>0</th>\n",
       "      <td>__eq__(self, other)</td>\n",
       "      <td>self == other</td>\n",
       "    </tr>\n",
       "    <tr>\n",
       "      <th>1</th>\n",
       "      <td>__ne__(self, other)</td>\n",
       "      <td>self != other</td>\n",
       "    </tr>\n",
       "    <tr>\n",
       "      <th>2</th>\n",
       "      <td>__gt__(self, other)</td>\n",
       "      <td>self &gt; other</td>\n",
       "    </tr>\n",
       "    <tr>\n",
       "      <th>3</th>\n",
       "      <td>__ge__(self, other)</td>\n",
       "      <td>self &gt;= other</td>\n",
       "    </tr>\n",
       "    <tr>\n",
       "      <th>4</th>\n",
       "      <td>__lt__(self, other)</td>\n",
       "      <td>self &lt; other</td>\n",
       "    </tr>\n",
       "    <tr>\n",
       "      <th>5</th>\n",
       "      <td>__le__(self, other)</td>\n",
       "      <td>self &lt;= other</td>\n",
       "    </tr>\n",
       "    <tr>\n",
       "      <th>6</th>\n",
       "      <td>__add__(self, other)</td>\n",
       "      <td>self + other</td>\n",
       "    </tr>\n",
       "    <tr>\n",
       "      <th>7</th>\n",
       "      <td>__sub__(self, other)</td>\n",
       "      <td>self - other</td>\n",
       "    </tr>\n",
       "    <tr>\n",
       "      <th>8</th>\n",
       "      <td>__mul__(self, other)</td>\n",
       "      <td>self * other</td>\n",
       "    </tr>\n",
       "    <tr>\n",
       "      <th>9</th>\n",
       "      <td>__truediv__(self, other)</td>\n",
       "      <td>self / other</td>\n",
       "    </tr>\n",
       "    <tr>\n",
       "      <th>10</th>\n",
       "      <td>__floordiv__(self, other)</td>\n",
       "      <td>self // other</td>\n",
       "    </tr>\n",
       "    <tr>\n",
       "      <th>11</th>\n",
       "      <td>__mod__(self, other)</td>\n",
       "      <td>self % other</td>\n",
       "    </tr>\n",
       "    <tr>\n",
       "      <th>12</th>\n",
       "      <td>__pow__(self, other)</td>\n",
       "      <td>self ** other</td>\n",
       "    </tr>\n",
       "    <tr>\n",
       "      <th>13</th>\n",
       "      <td>__lshift__(self, other)</td>\n",
       "      <td>self &lt;&lt; other</td>\n",
       "    </tr>\n",
       "    <tr>\n",
       "      <th>14</th>\n",
       "      <td>__rshift__(self, other)</td>\n",
       "      <td>self &gt;&gt; other</td>\n",
       "    </tr>\n",
       "    <tr>\n",
       "      <th>15</th>\n",
       "      <td>__and__(self, other)</td>\n",
       "      <td>self &amp; other</td>\n",
       "    </tr>\n",
       "    <tr>\n",
       "      <th>16</th>\n",
       "      <td>__or__(self, other)</td>\n",
       "      <td>self | other</td>\n",
       "    </tr>\n",
       "    <tr>\n",
       "      <th>17</th>\n",
       "      <td>__xor__(self, other)</td>\n",
       "      <td>self ^ other</td>\n",
       "    </tr>\n",
       "    <tr>\n",
       "      <th>18</th>\n",
       "      <td>__len__(self)</td>\n",
       "      <td>len(self)</td>\n",
       "    </tr>\n",
       "    <tr>\n",
       "      <th>19</th>\n",
       "      <td>__str__(self)</td>\n",
       "      <td>str(self)</td>\n",
       "    </tr>\n",
       "    <tr>\n",
       "      <th>20</th>\n",
       "      <td>__repr__(self)</td>\n",
       "      <td>repr(self)</td>\n",
       "    </tr>\n",
       "  </tbody>\n",
       "</table>\n",
       "</div>"
      ],
      "text/plain": [
       "                         特殊函式          對應運算子\n",
       "0         __eq__(self, other)  self == other\n",
       "1         __ne__(self, other)  self != other\n",
       "2         __gt__(self, other)   self > other\n",
       "3         __ge__(self, other)  self >= other\n",
       "4         __lt__(self, other)   self < other\n",
       "5         __le__(self, other)  self <= other\n",
       "6        __add__(self, other)   self + other\n",
       "7        __sub__(self, other)   self - other\n",
       "8        __mul__(self, other)   self * other\n",
       "9    __truediv__(self, other)   self / other\n",
       "10  __floordiv__(self, other)  self // other\n",
       "11       __mod__(self, other)   self % other\n",
       "12       __pow__(self, other)  self ** other\n",
       "13    __lshift__(self, other)  self << other\n",
       "14    __rshift__(self, other)  self >> other\n",
       "15       __and__(self, other)   self & other\n",
       "16        __or__(self, other)   self | other\n",
       "17       __xor__(self, other)   self ^ other\n",
       "18              __len__(self)      len(self)\n",
       "19              __str__(self)      str(self)\n",
       "20             __repr__(self)     repr(self)"
      ]
     },
     "execution_count": 9,
     "metadata": {},
     "output_type": "execute_result"
    }
   ],
   "source": [
    "import pandas as pd\n",
    "import numpy as np\n",
    "df = pd.read_csv(r\"special_method.csv\", encoding = 'utf8', engine = 'python')\n",
    "df"
   ]
  },
  {
   "cell_type": "markdown",
   "id": "01ee603d",
   "metadata": {},
   "source": [
    "## 組合(composition)"
   ]
  },
  {
   "cell_type": "markdown",
   "id": "3ae2d04b",
   "metadata": {},
   "source": [
    "- 類別與類別之間不全然都是繼承關係，也有可能是類別A是類別B的一部分\n",
    "- 腳是動物的一部分，但腳不是動物，腳無法繼承動物\n",
    "- 使用組合，在動物類別初始化時，將腳當成參數傳入，讓腳成為動物的一部分"
   ]
  },
  {
   "cell_type": "code",
   "execution_count": 10,
   "id": "2498cac8",
   "metadata": {},
   "outputs": [
    {
     "name": "stdout",
     "output_type": "stream",
     "text": [
      "小狗有4隻短短的腿\n"
     ]
    }
   ],
   "source": [
    "class Leg():\n",
    "    def __init__(self, num, look):\n",
    "        self.num = num\n",
    "        self.look = look\n",
    "class Animal():\n",
    "    def __init__(self, name, leg):\n",
    "        self.__name = name\n",
    "        self.leg = leg\n",
    "    def show_name(self):\n",
    "        return self.__name\n",
    "    def show(self):\n",
    "        print(f'{self.show_name()}有{self.leg.num}隻{self.leg.look}腿')\n",
    "        \n",
    "leg = Leg(4, '短短的')\n",
    "a = Animal('小狗', leg)\n",
    "a.show()"
   ]
  },
  {
   "cell_type": "markdown",
   "id": "a0d52cbd",
   "metadata": {},
   "source": [
    "## 類別方法(class method)"
   ]
  },
  {
   "cell_type": "markdown",
   "id": "b25656b4",
   "metadata": {},
   "source": [
    "- 目前介紹的類別內方法，都屬於實例方法(instance method)，此方法的第一個參數都是self\n",
    "- 類別方法(class method)作用對象為類別，會影響整個類別，也會影響類別所產生的物件\n",
    "- 類別方法的第一個參數通常取名為cls，需在類別中函式的前一行使用裝飾器`@classmethod`"
   ]
  },
  {
   "cell_type": "code",
   "execution_count": 11,
   "id": "e9e1245d",
   "metadata": {},
   "outputs": [
    {
     "name": "stdout",
     "output_type": "stream",
     "text": [
      "現在有1隻動物\n",
      "現在有2隻動物\n",
      "現在有3隻動物\n",
      "現在有2隻動物\n"
     ]
    }
   ],
   "source": [
    "# count是類別變數，以此類別宣告的所有物件共用一個類別變數\n",
    "# 類別變數count使用Animal.count或cls.count進行存取\n",
    "\n",
    "class Animal():\n",
    "    count = 0 \n",
    "    def __init__(self):\n",
    "        Animal.count += 1\n",
    "    def kill(self):\n",
    "        Animal.count -= 1\n",
    "    @classmethod\n",
    "    def show_count(cls):\n",
    "        print(f'現在有{cls.count}隻動物')\n",
    "    \n",
    "a = Animal()\n",
    "Animal.show_count()\n",
    "b = Animal()\n",
    "Animal.show_count()\n",
    "c = Animal()\n",
    "Animal.show_count()\n",
    "\n",
    "a.kill()\n",
    "Animal.show_count()"
   ]
  },
  {
   "cell_type": "markdown",
   "id": "8ee9a48c",
   "metadata": {},
   "source": [
    "## 靜態方法(static method)"
   ]
  },
  {
   "cell_type": "markdown",
   "id": "7effb962",
   "metadata": {},
   "source": [
    "- 靜態方法(static method)讓類別不需要建立物件，就可以直接使用該類別的靜態方法\n",
    "- 需在類別中函式的前一行使用裝飾器`@staticmethod`"
   ]
  },
  {
   "cell_type": "code",
   "execution_count": 12,
   "id": "10023588",
   "metadata": {},
   "outputs": [
    {
     "name": "stdout",
     "output_type": "stream",
     "text": [
      "Hello\n"
     ]
    }
   ],
   "source": [
    "class Say():\n",
    "    @staticmethod\n",
    "    def hello():\n",
    "        print('Hello')\n",
    "        \n",
    "Say.hello()"
   ]
  },
  {
   "cell_type": "markdown",
   "id": "9833d9a7",
   "metadata": {},
   "source": [
    "# 例外(exception)"
   ]
  },
  {
   "cell_type": "markdown",
   "id": "8ec087a5",
   "metadata": {},
   "source": [
    "**在執行程式的過程中產生錯誤，程式會中斷執行，發出例外訊息，以下介紹例外的程式區塊，與實作自訂的例外類別**"
   ]
  },
  {
   "cell_type": "markdown",
   "id": "a3fa07d4",
   "metadata": {},
   "source": [
    "## try-except"
   ]
  },
  {
   "cell_type": "markdown",
   "id": "f66b5d52",
   "metadata": {},
   "source": [
    "- 使用程式區塊`try-except`，可以攔截例外\n",
    "- 在try區塊中撰寫可能發生錯誤的程式\n",
    "- 若發生錯誤，則會跳到except區塊執行進行後續的處理"
   ]
  },
  {
   "cell_type": "code",
   "execution_count": 13,
   "id": "71e189b0",
   "metadata": {},
   "outputs": [
    {
     "name": "stdout",
     "output_type": "stream",
     "text": [
      "Please enter your password: owen493515\n"
     ]
    }
   ],
   "source": [
    "try:\n",
    "    pwd = input('Please enter your password: ')\n",
    "except:\n",
    "    print('Error Happens!') # 若輸入ctrl+D，則會跳到except區塊去執行"
   ]
  },
  {
   "cell_type": "markdown",
   "id": "10a6d10c",
   "metadata": {},
   "source": [
    "## try-except-else"
   ]
  },
  {
   "cell_type": "markdown",
   "id": "4d2fe8d1",
   "metadata": {},
   "source": [
    "- 在try區塊中撰寫可能發生錯誤的程式\n",
    "- 若發生錯誤，則會跳到except區塊執行進行後續的處理\n",
    "- 若沒有發生錯誤，則會跳到else區塊執行"
   ]
  },
  {
   "cell_type": "markdown",
   "id": "ca0a7850",
   "metadata": {},
   "source": [
    "**except後可以接指定錯誤類型，以下為常見錯誤類型**\n",
    "- KeyboardInterrupt: 當使用者輸入中斷(Ctrl+C)時，發出此錯誤\n",
    "- ZeroDivisionError: 除以0時，發出此錯誤\n",
    "- EOFError: 接受到EOF(end of file)訊息時，發出此錯誤\n",
    "- NameError: 區域變數或全域變數找不到時，發出此錯誤\n",
    "- OSError: 與作業系統有關的錯誤\n",
    "- FileNotFoundError: 檔案或資料夾找不到時，發出此錯誤\n",
    "- ValueError: 輸入資料與程式預期資料型別不同時，發出此錯誤"
   ]
  },
  {
   "cell_type": "code",
   "execution_count": 14,
   "id": "b9ee7edd",
   "metadata": {},
   "outputs": [
    {
     "name": "stdout",
     "output_type": "stream",
     "text": [
      "Please enter your password: owen493515\n",
      "Your password is owen493515.\n"
     ]
    }
   ],
   "source": [
    "try:\n",
    "    pwd = input('Please enter your password: ')\n",
    "except EOFError:\n",
    "    print('input EOF!')\n",
    "else:\n",
    "    print(f'Your password is {pwd}.')"
   ]
  },
  {
   "cell_type": "markdown",
   "id": "0a851fb3",
   "metadata": {},
   "source": [
    "## try-except-as-else"
   ]
  },
  {
   "cell_type": "markdown",
   "id": "951b1656",
   "metadata": {},
   "source": [
    "- 在try區塊中撰寫可能發生錯誤的程式\n",
    "- 若發生錯誤，則會跳到except區塊執行進行後續的處理\n",
    "- 在except後面接上as就會將錯誤類別轉換成對應的錯誤類別物件\n",
    "- except區塊個數可以有很多個，區分各種錯誤的類型\n",
    "- except區塊內撰寫對應的錯誤處理程式\n",
    "- 若沒有發生錯誤，則會跳到else區塊執行"
   ]
  },
  {
   "cell_type": "code",
   "execution_count": 15,
   "id": "17f0b55e",
   "metadata": {},
   "outputs": [
    {
     "name": "stdout",
     "output_type": "stream",
     "text": [
      "請輸入整數: aaa\n",
      "發生ValueError錯誤 invalid literal for int() with base 10: 'aaa'\n"
     ]
    }
   ],
   "source": [
    "try:\n",
    "    num = int(input('請輸入整數: '))\n",
    "except EOFError:\n",
    "    print('輸入EOF')\n",
    "except ValueError as ve:\n",
    "    print('發生ValueError錯誤', ve)\n",
    "except Exception as e:  # 若其他錯誤，則發生Exception錯誤，並命名為e\n",
    "    print('發生其他錯誤', e)\n",
    "else:\n",
    "    print(f'輸入整數為{num}')"
   ]
  },
  {
   "cell_type": "markdown",
   "id": "7ac486c3",
   "metadata": {},
   "source": [
    "## try-except-as-else與自訂例外類別"
   ]
  },
  {
   "cell_type": "markdown",
   "id": "a33d574d",
   "metadata": {},
   "source": [
    "- 可以自訂例外類別，自訂例外類別需要繼承系統例外類別Exception，該類別就會成為例外類別\n",
    "- 可以傳入參數到自訂例外類別，將錯誤資訊儲存在自訂例外類別\n",
    "- 使用指令`raise`發出例外，接著由except進行例外處理"
   ]
  },
  {
   "cell_type": "code",
   "execution_count": 16,
   "id": "1c87d91b",
   "metadata": {},
   "outputs": [
    {
     "name": "stdout",
     "output_type": "stream",
     "text": [
      "請輸入密碼，長度至少為8個字元: owen\n",
      "密碼 owen 長度為 4 密碼長度不足\n"
     ]
    }
   ],
   "source": [
    "class PwdException(Exception):\n",
    "    def __init__(self, pwd, pwd_len):\n",
    "        super().__init__(self) # 呼叫基礎類別Expection的函式__init__\n",
    "        self.pwd = pwd\n",
    "        self.pwd_len = pwd_len\n",
    "        \n",
    "try:\n",
    "    pwd = input('請輸入密碼，長度至少為8個字元: ')\n",
    "    if len(pwd) < 8:\n",
    "        raise PwdException(pwd, len(pwd))\n",
    "except EOFError:\n",
    "    print('輸入EOF')\n",
    "except PwdException as pex:\n",
    "    print(f'密碼 {pex.pwd} 長度為 {pex.pwd_len} 密碼長度不足')\n",
    "else:\n",
    "    print(f'輸入密碼為{pwd}')"
   ]
  },
  {
   "cell_type": "markdown",
   "id": "830fe74a",
   "metadata": {},
   "source": [
    "## try-except-as-else-finally與自訂例外類別"
   ]
  },
  {
   "cell_type": "markdown",
   "id": "7aac7986",
   "metadata": {},
   "source": [
    "- 在try區塊中撰寫可能發生錯誤的程式\n",
    "- 若發生錯誤，則會跳到except區塊執行進行後續的處理\n",
    "- 在except後面接上as就會將錯誤類別轉換成對應的錯誤類別物件\n",
    "- except區塊個數可以有很多個，區分各種錯誤的類型\n",
    "- except區塊內撰寫對應的錯誤處理程式\n",
    "- 若沒有發生錯誤，則會跳到else區塊執行\n",
    "- 不管有沒有發生錯誤，最後都要執行finally區塊"
   ]
  },
  {
   "cell_type": "code",
   "execution_count": 17,
   "id": "d3e1e607",
   "metadata": {},
   "outputs": [
    {
     "name": "stdout",
     "output_type": "stream",
     "text": [
      "請輸入密碼，長度至少為8個字元: owen493515\n",
      "輸入密碼為owen493515\n",
      "請妥善保管密碼\n"
     ]
    }
   ],
   "source": [
    "class PwdException(Exception):\n",
    "    def __init__(self, pwd, pwd_len):\n",
    "        super().__init__(self)\n",
    "        self.pwd = pwd\n",
    "        self.pwd_len = pwd_len\n",
    "try:\n",
    "    pwd = input('請輸入密碼，長度至少為8個字元: ')\n",
    "    if len(pwd) < 8:\n",
    "        raise PwdException(pwd, len(pwd))\n",
    "except EOFError:\n",
    "    print('輸入EOF')\n",
    "except PwdException as pex:\n",
    "    print(f'密碼為 {pex.pwd} 長度為 {pex.pwd_len} 密碼長度不足')\n",
    "else:\n",
    "    print(f'輸入密碼為{pwd}')\n",
    "finally:\n",
    "    print('請妥善保管密碼')"
   ]
  },
  {
   "cell_type": "code",
   "execution_count": 18,
   "id": "9cdf54e3",
   "metadata": {},
   "outputs": [
    {
     "name": "stdout",
     "output_type": "stream",
     "text": [
      "形狀\n",
      "三角形 周長為 12\n"
     ]
    }
   ],
   "source": [
    "# 形狀類別\n",
    "\n",
    "class Shape():\n",
    "    def __init__(self, name):\n",
    "        self.name = name\n",
    "    def length(self):\n",
    "        pass\n",
    "class Tri(Shape):\n",
    "    def __init__(self, name, a, b, c):\n",
    "        super().__init__(name) # 功能如同self.name = name\n",
    "        self.a = a\n",
    "        self.b = b\n",
    "        self.c = c\n",
    "    def length(self):\n",
    "        return self.a + self.b + self.c\n",
    "    \n",
    "a = Shape('形狀')\n",
    "t = Tri('三角形', 3, 4, 5)\n",
    "print(a.name)\n",
    "print(f'{t.name} 周長為 {t.length()}')"
   ]
  },
  {
   "cell_type": "code",
   "execution_count": 19,
   "id": "fc8f7603",
   "metadata": {},
   "outputs": [
    {
     "name": "stdout",
     "output_type": "stream",
     "text": [
      "形狀\n",
      "三角形 周長為 12\n",
      "長方形 周長為 18\n",
      "圓形 周長為 31.400000000000002\n"
     ]
    }
   ],
   "source": [
    "# 形狀類別-長方形與圓形\n",
    "\n",
    "class Shape():\n",
    "    def __init__(self, name):\n",
    "        self.name = name\n",
    "    def lenght(self):\n",
    "        pass\n",
    "class Tri(Shape): # 三角形\n",
    "    def __init__(self, name, a, b, c):\n",
    "        super().__init__(name)\n",
    "        self.a = a\n",
    "        self.b = b\n",
    "        self.c = c\n",
    "    def length(self):\n",
    "        return (self.a + self.b + self.c)\n",
    "class Rec(Shape): # 長方形\n",
    "    def __init__(self, name, height, width):\n",
    "        super().__init__(name)\n",
    "        self.height = height\n",
    "        self.width = width\n",
    "    def length(self):\n",
    "        return ((self.height + self.width) * 2)\n",
    "class Cir(Shape): # 圓形\n",
    "    def __init__(self, name, radius):\n",
    "        super().__init__(name)\n",
    "        self.radius = radius\n",
    "    def length(self):\n",
    "        return (self.radius * (3.14) * 2)\n",
    "    \n",
    "a = Shape('形狀')\n",
    "t = Tri('三角形', 3, 4, 5)\n",
    "r = Rec('長方形', 4, 5)\n",
    "c = Cir('圓形', 5)\n",
    "print(a.name)\n",
    "print(f'{t.name} 周長為 {t.length()}')\n",
    "print(f'{r.name} 周長為 {r.length()}')\n",
    "print(f'{c.name} 周長為 {c.length()}')"
   ]
  },
  {
   "cell_type": "code",
   "execution_count": 20,
   "id": "6947c185",
   "metadata": {},
   "outputs": [
    {
     "name": "stdout",
     "output_type": "stream",
     "text": [
      "三角形 面積為 6.0\n",
      "長方形 面積為 20\n",
      "圓形 面積為 78.5\n"
     ]
    }
   ],
   "source": [
    "# 形狀類別-新增函式與多型\n",
    "\n",
    "import math\n",
    "class Shape():\n",
    "    def __init__(self, name):\n",
    "        self.name = name\n",
    "    def lenght(self):\n",
    "        pass\n",
    "class Tri(Shape): # 三角形\n",
    "    def __init__(self, name, a, b, c):\n",
    "        super().__init__(name)\n",
    "        self.a = a\n",
    "        self.b = b\n",
    "        self.c = c\n",
    "    def length(self):\n",
    "        return (self.a + self.b + self.c)\n",
    "    def area(self):\n",
    "        s = self.length() / 2\n",
    "        return math.sqrt(s * (s - self.a) * (s - self.b) * (s - self.c))\n",
    "class Rec(Shape): # 長方形\n",
    "    def __init__(self, name, height, width):\n",
    "        super().__init__(name)\n",
    "        self.height = height\n",
    "        self.width = width\n",
    "    def length(self):\n",
    "        return ((self.height + self.width) * 2)\n",
    "    def area(self):\n",
    "        return (self.height * self.width)\n",
    "class Cir(Shape): # 圓形\n",
    "    def __init__(self, name, radius):\n",
    "        super().__init__(name)\n",
    "        self.radius = radius\n",
    "    def length(self):\n",
    "        return (self.radius * (3.14) * 2)\n",
    "    def area(self):\n",
    "        return ((self.radius ** 2) * 3.14)\n",
    "    \n",
    "def poly(obj): # 以多型(polymorphism)的方式顯示形狀的面積到螢幕上\n",
    "    print(f'{obj.name} 面積為 {obj.area()}')\n",
    "    \n",
    "a = Shape('形狀')\n",
    "t = Tri('三角形', 3, 4, 5)\n",
    "r = Rec('長方形', 4, 5)\n",
    "c = Cir('圓形', 5)\n",
    "poly(t)\n",
    "poly(r)\n",
    "poly(c)"
   ]
  },
  {
   "cell_type": "code",
   "execution_count": 21,
   "id": "fb7219fd",
   "metadata": {},
   "outputs": [
    {
     "name": "stdout",
     "output_type": "stream",
     "text": [
      "三角形 面積為 6.0\n",
      "三角形 面積為 6.0\n",
      "True\n"
     ]
    }
   ],
   "source": [
    "# 形狀類別-特殊方法()\n",
    "\n",
    "import math\n",
    "class Shape():\n",
    "    def __init__(self, name):\n",
    "        self.name = name\n",
    "    def lenght(self):\n",
    "        pass\n",
    "class Tri(Shape): # 三角形\n",
    "    def __init__(self, name, a, b, c):\n",
    "        super().__init__(name)\n",
    "        self.a = a\n",
    "        self.b = b\n",
    "        self.c = c\n",
    "    def length(self):\n",
    "        return (self.a + self.b + self.c)\n",
    "    def area(self):\n",
    "        s = self.length() / 2\n",
    "        return math.sqrt(s * (s - self.a) * (s - self.b) * (s - self.c))\n",
    "    def __eq__(self, other):\n",
    "        return self.area() == other.area()\n",
    "class Rec(Shape): # 長方形\n",
    "    def __init__(self, name, height, width):\n",
    "        super().__init__(name)\n",
    "        self.height = height\n",
    "        self.width = width\n",
    "    def length(self):\n",
    "        return ((self.height + self.width) * 2)\n",
    "    def area(self):\n",
    "        return (self.height * self.width)\n",
    "    def __eq__(self, other):\n",
    "        return self.area() == other.area()\n",
    "class Cir(Shape): # 圓形\n",
    "    def __init__(self, name, radius):\n",
    "        super().__init__(name)\n",
    "        self.radius = radius\n",
    "    def length(self):\n",
    "        return (self.radius * (3.14) * 2)\n",
    "    def area(self):\n",
    "        return ((self.radius ** 2) * 3.14)\n",
    "    def __eq__(self, other):\n",
    "        return self.area() == other.area()\n",
    "    \n",
    "t1 = Tri('三角形', 3, 4, 5)\n",
    "t2 = Tri('三角形', 4, 3, 5)\n",
    "print(f'{t1.name} 面積為 {t1.area()}')\n",
    "print(f'{t2.name} 面積為 {t2.area()}')\n",
    "print(t1 == t2) # 會呼叫類別中的函式__eq__"
   ]
  },
  {
   "cell_type": "code",
   "execution_count": 22,
   "id": "4cce0d3d",
   "metadata": {},
   "outputs": [
    {
     "name": "stdout",
     "output_type": "stream",
     "text": [
      "請輸入要存取的索引值?5\n",
      "輸入索引值超出範圍\n"
     ]
    }
   ],
   "source": [
    "# 自訂例外類別\n",
    "\n",
    "class NegativeIndex(Exception):\n",
    "    def __init__(self, index):\n",
    "        super().__init__(self)\n",
    "        self.index = index\n",
    "try:\n",
    "    a = [1, 2, 3, 4]\n",
    "    index = int(input('請輸入要存取的索引值?'))\n",
    "    if index < 0:\n",
    "        raise NegativeIndex(index)\n",
    "    else:\n",
    "        print(a[index])\n",
    "except IndexError:\n",
    "    print('輸入索引值超出範圍')\n",
    "except NegativeIndex as nex:\n",
    "    print(f'輸入索引值 {nex.index} 索引值為負值')"
   ]
  },
  {
   "cell_type": "code",
   "execution_count": null,
   "id": "a975aec4",
   "metadata": {},
   "outputs": [],
   "source": []
  }
 ],
 "metadata": {
  "kernelspec": {
   "display_name": "Python 3 (ipykernel)",
   "language": "python",
   "name": "python3"
  },
  "language_info": {
   "codemirror_mode": {
    "name": "ipython",
    "version": 3
   },
   "file_extension": ".py",
   "mimetype": "text/x-python",
   "name": "python",
   "nbconvert_exporter": "python",
   "pygments_lexer": "ipython3",
   "version": "3.9.12"
  }
 },
 "nbformat": 4,
 "nbformat_minor": 5
}
