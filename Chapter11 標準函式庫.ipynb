{
 "cells": [
  {
   "cell_type": "markdown",
   "id": "5c41b022",
   "metadata": {},
   "source": [
    "**在寫程式過程中可以先找一下標準函式庫是否已經有類似功能的程式，可以節省撰寫程式的時間，這樣的哲學在Python中稱為`內建電池(batteries included)`**"
   ]
  },
  {
   "cell_type": "markdown",
   "id": "0d419f75",
   "metadata": {},
   "source": [
    "# 系統相關的模組"
   ]
  },
  {
   "cell_type": "markdown",
   "id": "836b78a9",
   "metadata": {},
   "source": [
    "**模組`os`除了檔案與資料夾管理功能外，還有一些功能尚未介紹，以下介紹模組`os`的其他重要函式**"
   ]
  },
  {
   "cell_type": "markdown",
   "id": "d6586f69",
   "metadata": {},
   "source": [
    "- `os.system(command)`: 讓系統執行command所指定的指令，Windows作業系統中指令是任何可以在`命令提示字元`執行的程式，Linux作業系統中指令是任何可以在`Shell`執行的程式\n",
    "- `os.getenv(key)` : 查詢系統key所對應的值"
   ]
  },
  {
   "cell_type": "code",
   "execution_count": 1,
   "id": "e078e9af",
   "metadata": {},
   "outputs": [
    {
     "data": {
      "text/plain": [
       "0"
      ]
     },
     "execution_count": 1,
     "metadata": {},
     "output_type": "execute_result"
    }
   ],
   "source": [
    "import os\n",
    "os.system('dir') # 列出目前所在目錄的檔案與資料夾"
   ]
  },
  {
   "cell_type": "code",
   "execution_count": 2,
   "id": "b612a119",
   "metadata": {},
   "outputs": [
    {
     "name": "stdout",
     "output_type": "stream",
     "text": [
      "315\n"
     ]
    }
   ],
   "source": [
    "print(os.getenv('USERNAME'))"
   ]
  },
  {
   "cell_type": "markdown",
   "id": "de3d7265",
   "metadata": {},
   "source": [
    "**若要顯示程式目前的區域變數與全域變數，需使用以下系統函式，函式locals顯示區域變數，而函式globals顯示全域變數**"
   ]
  },
  {
   "cell_type": "markdown",
   "id": "32bcdcf2",
   "metadata": {},
   "source": [
    "- `locals()` : 系統使用字典儲存區域變數\n",
    "- `globals()` : 系統使用字典儲存全域變數"
   ]
  },
  {
   "cell_type": "code",
   "execution_count": 3,
   "id": "396a44ed",
   "metadata": {},
   "outputs": [
    {
     "name": "stdout",
     "output_type": "stream",
     "text": [
      "{'__name__': '__main__', '__doc__': 'Automatically created module for IPython interactive environment', '__package__': None, '__loader__': None, '__spec__': None, '__builtin__': <module 'builtins' (built-in)>, '__builtins__': <module 'builtins' (built-in)>, '_ih': ['', \"import os\\nos.system('dir') # 列出目前所在目錄的檔案與資料夾\", \"print(os.getenv('USERNAME'))\", 'print(locals())'], '_oh': {1: 0}, '_dh': [WindowsPath('C:/Users/315/python程式設計')], 'In': ['', \"import os\\nos.system('dir') # 列出目前所在目錄的檔案與資料夾\", \"print(os.getenv('USERNAME'))\", 'print(locals())'], 'Out': {1: 0}, 'get_ipython': <bound method InteractiveShell.get_ipython of <ipykernel.zmqshell.ZMQInteractiveShell object at 0x0000029BAD5C3F70>>, 'exit': <IPython.core.autocall.ZMQExitAutocall object at 0x0000029BAD630B50>, 'quit': <IPython.core.autocall.ZMQExitAutocall object at 0x0000029BAD630B50>, '_': 0, '__': '', '___': '', '_i': \"print(os.getenv('USERNAME'))\", '_ii': \"import os\\nos.system('dir') # 列出目前所在目錄的檔案與資料夾\", '_iii': '', '_i1': \"import os\\nos.system('dir') # 列出目前所在目錄的檔案與資料夾\", 'os': <module 'os' from 'C:\\\\Users\\\\315\\\\anaconda3\\\\lib\\\\os.py'>, '_1': 0, '_i2': \"print(os.getenv('USERNAME'))\", '_i3': 'print(locals())'}\n"
     ]
    }
   ],
   "source": [
    "print(locals())"
   ]
  },
  {
   "cell_type": "code",
   "execution_count": 4,
   "id": "dd4d9969",
   "metadata": {},
   "outputs": [
    {
     "name": "stdout",
     "output_type": "stream",
     "text": [
      "{'__name__': '__main__', '__doc__': 'Automatically created module for IPython interactive environment', '__package__': None, '__loader__': None, '__spec__': None, '__builtin__': <module 'builtins' (built-in)>, '__builtins__': <module 'builtins' (built-in)>, '_ih': ['', \"import os\\nos.system('dir') # 列出目前所在目錄的檔案與資料夾\", \"print(os.getenv('USERNAME'))\", 'print(locals())', 'print(globals())'], '_oh': {1: 0}, '_dh': [WindowsPath('C:/Users/315/python程式設計')], 'In': ['', \"import os\\nos.system('dir') # 列出目前所在目錄的檔案與資料夾\", \"print(os.getenv('USERNAME'))\", 'print(locals())', 'print(globals())'], 'Out': {1: 0}, 'get_ipython': <bound method InteractiveShell.get_ipython of <ipykernel.zmqshell.ZMQInteractiveShell object at 0x0000029BAD5C3F70>>, 'exit': <IPython.core.autocall.ZMQExitAutocall object at 0x0000029BAD630B50>, 'quit': <IPython.core.autocall.ZMQExitAutocall object at 0x0000029BAD630B50>, '_': 0, '__': '', '___': '', '_i': 'print(locals())', '_ii': \"print(os.getenv('USERNAME'))\", '_iii': \"import os\\nos.system('dir') # 列出目前所在目錄的檔案與資料夾\", '_i1': \"import os\\nos.system('dir') # 列出目前所在目錄的檔案與資料夾\", 'os': <module 'os' from 'C:\\\\Users\\\\315\\\\anaconda3\\\\lib\\\\os.py'>, '_1': 0, '_i2': \"print(os.getenv('USERNAME'))\", '_i3': 'print(locals())', '_i4': 'print(globals())'}\n"
     ]
    }
   ],
   "source": [
    "print(globals())"
   ]
  },
  {
   "cell_type": "markdown",
   "id": "a911ce9d",
   "metadata": {},
   "source": [
    "**模組`pprint`會自動將顯示的內容排列得更好看，以下介紹模組`pprint`的重要函式**"
   ]
  },
  {
   "cell_type": "markdown",
   "id": "dc152be0",
   "metadata": {},
   "source": [
    "- `pprint.pprint(data)` : 將data顯示在螢幕上"
   ]
  },
  {
   "cell_type": "code",
   "execution_count": 5,
   "id": "e534cac2",
   "metadata": {},
   "outputs": [
    {
     "name": "stdout",
     "output_type": "stream",
     "text": [
      "{'In': ['',\n",
      "        \"import os\\nos.system('dir') # 列出目前所在目錄的檔案與資料夾\",\n",
      "        \"print(os.getenv('USERNAME'))\",\n",
      "        'print(locals())',\n",
      "        'print(globals())',\n",
      "        'import pprint\\npprint.pprint(locals())'],\n",
      " 'Out': {1: 0},\n",
      " '_': 0,\n",
      " '_1': 0,\n",
      " '__': '',\n",
      " '___': '',\n",
      " '__builtin__': <module 'builtins' (built-in)>,\n",
      " '__builtins__': <module 'builtins' (built-in)>,\n",
      " '__doc__': 'Automatically created module for IPython interactive environment',\n",
      " '__loader__': None,\n",
      " '__name__': '__main__',\n",
      " '__package__': None,\n",
      " '__spec__': None,\n",
      " '_dh': [WindowsPath('C:/Users/315/python程式設計')],\n",
      " '_i': 'print(globals())',\n",
      " '_i1': \"import os\\nos.system('dir') # 列出目前所在目錄的檔案與資料夾\",\n",
      " '_i2': \"print(os.getenv('USERNAME'))\",\n",
      " '_i3': 'print(locals())',\n",
      " '_i4': 'print(globals())',\n",
      " '_i5': 'import pprint\\npprint.pprint(locals())',\n",
      " '_ih': ['',\n",
      "         \"import os\\nos.system('dir') # 列出目前所在目錄的檔案與資料夾\",\n",
      "         \"print(os.getenv('USERNAME'))\",\n",
      "         'print(locals())',\n",
      "         'print(globals())',\n",
      "         'import pprint\\npprint.pprint(locals())'],\n",
      " '_ii': 'print(locals())',\n",
      " '_iii': \"print(os.getenv('USERNAME'))\",\n",
      " '_oh': {1: 0},\n",
      " 'exit': <IPython.core.autocall.ZMQExitAutocall object at 0x0000029BAD630B50>,\n",
      " 'get_ipython': <bound method InteractiveShell.get_ipython of <ipykernel.zmqshell.ZMQInteractiveShell object at 0x0000029BAD5C3F70>>,\n",
      " 'os': <module 'os' from 'C:\\\\Users\\\\315\\\\anaconda3\\\\lib\\\\os.py'>,\n",
      " 'pprint': <module 'pprint' from 'C:\\\\Users\\\\315\\\\anaconda3\\\\lib\\\\pprint.py'>,\n",
      " 'quit': <IPython.core.autocall.ZMQExitAutocall object at 0x0000029BAD630B50>}\n"
     ]
    }
   ],
   "source": [
    "import pprint\n",
    "pprint.pprint(locals())"
   ]
  },
  {
   "cell_type": "code",
   "execution_count": 6,
   "id": "b1896f51",
   "metadata": {},
   "outputs": [
    {
     "name": "stdout",
     "output_type": "stream",
     "text": [
      "{'In': ['',\n",
      "        \"import os\\nos.system('dir') # 列出目前所在目錄的檔案與資料夾\",\n",
      "        \"print(os.getenv('USERNAME'))\",\n",
      "        'print(locals())',\n",
      "        'print(globals())',\n",
      "        'import pprint\\npprint.pprint(locals())',\n",
      "        'pprint.pprint(globals())'],\n",
      " 'Out': {1: 0},\n",
      " '_': 0,\n",
      " '_1': 0,\n",
      " '__': '',\n",
      " '___': '',\n",
      " '__builtin__': <module 'builtins' (built-in)>,\n",
      " '__builtins__': <module 'builtins' (built-in)>,\n",
      " '__doc__': 'Automatically created module for IPython interactive environment',\n",
      " '__loader__': None,\n",
      " '__name__': '__main__',\n",
      " '__package__': None,\n",
      " '__spec__': None,\n",
      " '_dh': [WindowsPath('C:/Users/315/python程式設計')],\n",
      " '_i': 'import pprint\\npprint.pprint(locals())',\n",
      " '_i1': \"import os\\nos.system('dir') # 列出目前所在目錄的檔案與資料夾\",\n",
      " '_i2': \"print(os.getenv('USERNAME'))\",\n",
      " '_i3': 'print(locals())',\n",
      " '_i4': 'print(globals())',\n",
      " '_i5': 'import pprint\\npprint.pprint(locals())',\n",
      " '_i6': 'pprint.pprint(globals())',\n",
      " '_ih': ['',\n",
      "         \"import os\\nos.system('dir') # 列出目前所在目錄的檔案與資料夾\",\n",
      "         \"print(os.getenv('USERNAME'))\",\n",
      "         'print(locals())',\n",
      "         'print(globals())',\n",
      "         'import pprint\\npprint.pprint(locals())',\n",
      "         'pprint.pprint(globals())'],\n",
      " '_ii': 'print(globals())',\n",
      " '_iii': 'print(locals())',\n",
      " '_oh': {1: 0},\n",
      " 'exit': <IPython.core.autocall.ZMQExitAutocall object at 0x0000029BAD630B50>,\n",
      " 'get_ipython': <bound method InteractiveShell.get_ipython of <ipykernel.zmqshell.ZMQInteractiveShell object at 0x0000029BAD5C3F70>>,\n",
      " 'os': <module 'os' from 'C:\\\\Users\\\\315\\\\anaconda3\\\\lib\\\\os.py'>,\n",
      " 'pprint': <module 'pprint' from 'C:\\\\Users\\\\315\\\\anaconda3\\\\lib\\\\pprint.py'>,\n",
      " 'quit': <IPython.core.autocall.ZMQExitAutocall object at 0x0000029BAD630B50>}\n"
     ]
    }
   ],
   "source": [
    "pprint.pprint(globals())"
   ]
  },
  {
   "cell_type": "markdown",
   "id": "b3699d42",
   "metadata": {},
   "source": [
    "## 執行指令與顯示環境變數"
   ]
  },
  {
   "cell_type": "markdown",
   "id": "5c646155",
   "metadata": {},
   "source": [
    "**使用`os.system`執行指令，接著利用`os.getenv`讀取系統環境變數**"
   ]
  },
  {
   "cell_type": "code",
   "execution_count": 7,
   "id": "65b7a6f9",
   "metadata": {},
   "outputs": [
    {
     "name": "stdout",
     "output_type": "stream",
     "text": [
      "LAPTOP-MD4BICJV\n",
      "C:\n",
      "\\Users\\315\n",
      "315\n"
     ]
    }
   ],
   "source": [
    "import os\n",
    "os.system('dir')\n",
    "print(os.getenv('COMPUTERNAME')) # 顯示電腦名稱\n",
    "print(os.getenv('HOMEDRIVE')) # 顯示家目錄所在磁碟機\n",
    "print(os.getenv('HOMEPATH')) # 顯示家目錄所在路徑\n",
    "print(os.getenv('USERNAME')) # 顯示使用者名稱"
   ]
  },
  {
   "cell_type": "markdown",
   "id": "64464dd4",
   "metadata": {},
   "source": [
    "## 使用`pprint`顯示區域變數與全域變數"
   ]
  },
  {
   "cell_type": "markdown",
   "id": "46918feb",
   "metadata": {},
   "source": [
    "**使用`print`與`pprint.pprint`分別顯示區域變數與全域變數，比較兩者的差異**"
   ]
  },
  {
   "cell_type": "code",
   "execution_count": 8,
   "id": "188a4da5",
   "metadata": {},
   "outputs": [
    {
     "name": "stdout",
     "output_type": "stream",
     "text": [
      "在函式外，顯示全域變數 {'__name__': '__main__', '__doc__': 'Automatically created module for IPython interactive environment', '__package__': None, '__loader__': None, '__spec__': None, '__builtin__': <module 'builtins' (built-in)>, '__builtins__': <module 'builtins' (built-in)>, '_ih': ['', \"import os\\nos.system('dir') # 列出目前所在目錄的檔案與資料夾\", \"print(os.getenv('USERNAME'))\", 'print(locals())', 'print(globals())', 'import pprint\\npprint.pprint(locals())', 'pprint.pprint(globals())', \"import os\\nos.system('dir')\\nprint(os.getenv('COMPUTERNAME')) # 顯示電腦名稱\\nprint(os.getenv('HOMEDRIVE')) # 顯示家目錄所在磁碟機\\nprint(os.getenv('HOMEPATH')) # 顯示家目錄所在路徑\\nprint(os.getenv('USERNAME')) # 顯示使用者名稱\", \"import pprint\\nprint('在函式外，顯示全域變數', globals())\\nprint('=' * 80)\\nprint('在函式外，顯示區域變數', locals())\\n\\ndef add(x, y):\\n    sum_ = x + y\\n    print('在函式內，顯示全域變數')\\n    pprint.pprint(globals())\\n    print('在函式內，顯示區域變數')\\n    pprint.pprint(locals())\\n    return sum_\\nans = add(1, 2)\"], '_oh': {1: 0}, '_dh': [WindowsPath('C:/Users/315/python程式設計')], 'In': ['', \"import os\\nos.system('dir') # 列出目前所在目錄的檔案與資料夾\", \"print(os.getenv('USERNAME'))\", 'print(locals())', 'print(globals())', 'import pprint\\npprint.pprint(locals())', 'pprint.pprint(globals())', \"import os\\nos.system('dir')\\nprint(os.getenv('COMPUTERNAME')) # 顯示電腦名稱\\nprint(os.getenv('HOMEDRIVE')) # 顯示家目錄所在磁碟機\\nprint(os.getenv('HOMEPATH')) # 顯示家目錄所在路徑\\nprint(os.getenv('USERNAME')) # 顯示使用者名稱\", \"import pprint\\nprint('在函式外，顯示全域變數', globals())\\nprint('=' * 80)\\nprint('在函式外，顯示區域變數', locals())\\n\\ndef add(x, y):\\n    sum_ = x + y\\n    print('在函式內，顯示全域變數')\\n    pprint.pprint(globals())\\n    print('在函式內，顯示區域變數')\\n    pprint.pprint(locals())\\n    return sum_\\nans = add(1, 2)\"], 'Out': {1: 0}, 'get_ipython': <bound method InteractiveShell.get_ipython of <ipykernel.zmqshell.ZMQInteractiveShell object at 0x0000029BAD5C3F70>>, 'exit': <IPython.core.autocall.ZMQExitAutocall object at 0x0000029BAD630B50>, 'quit': <IPython.core.autocall.ZMQExitAutocall object at 0x0000029BAD630B50>, '_': 0, '__': '', '___': '', '_i': \"import os\\nos.system('dir')\\nprint(os.getenv('COMPUTERNAME')) # 顯示電腦名稱\\nprint(os.getenv('HOMEDRIVE')) # 顯示家目錄所在磁碟機\\nprint(os.getenv('HOMEPATH')) # 顯示家目錄所在路徑\\nprint(os.getenv('USERNAME')) # 顯示使用者名稱\", '_ii': 'pprint.pprint(globals())', '_iii': 'import pprint\\npprint.pprint(locals())', '_i1': \"import os\\nos.system('dir') # 列出目前所在目錄的檔案與資料夾\", 'os': <module 'os' from 'C:\\\\Users\\\\315\\\\anaconda3\\\\lib\\\\os.py'>, '_1': 0, '_i2': \"print(os.getenv('USERNAME'))\", '_i3': 'print(locals())', '_i4': 'print(globals())', '_i5': 'import pprint\\npprint.pprint(locals())', 'pprint': <module 'pprint' from 'C:\\\\Users\\\\315\\\\anaconda3\\\\lib\\\\pprint.py'>, '_i6': 'pprint.pprint(globals())', '_i7': \"import os\\nos.system('dir')\\nprint(os.getenv('COMPUTERNAME')) # 顯示電腦名稱\\nprint(os.getenv('HOMEDRIVE')) # 顯示家目錄所在磁碟機\\nprint(os.getenv('HOMEPATH')) # 顯示家目錄所在路徑\\nprint(os.getenv('USERNAME')) # 顯示使用者名稱\", '_i8': \"import pprint\\nprint('在函式外，顯示全域變數', globals())\\nprint('=' * 80)\\nprint('在函式外，顯示區域變數', locals())\\n\\ndef add(x, y):\\n    sum_ = x + y\\n    print('在函式內，顯示全域變數')\\n    pprint.pprint(globals())\\n    print('在函式內，顯示區域變數')\\n    pprint.pprint(locals())\\n    return sum_\\nans = add(1, 2)\"}\n",
      "================================================================================\n",
      "在函式外，顯示區域變數 {'__name__': '__main__', '__doc__': 'Automatically created module for IPython interactive environment', '__package__': None, '__loader__': None, '__spec__': None, '__builtin__': <module 'builtins' (built-in)>, '__builtins__': <module 'builtins' (built-in)>, '_ih': ['', \"import os\\nos.system('dir') # 列出目前所在目錄的檔案與資料夾\", \"print(os.getenv('USERNAME'))\", 'print(locals())', 'print(globals())', 'import pprint\\npprint.pprint(locals())', 'pprint.pprint(globals())', \"import os\\nos.system('dir')\\nprint(os.getenv('COMPUTERNAME')) # 顯示電腦名稱\\nprint(os.getenv('HOMEDRIVE')) # 顯示家目錄所在磁碟機\\nprint(os.getenv('HOMEPATH')) # 顯示家目錄所在路徑\\nprint(os.getenv('USERNAME')) # 顯示使用者名稱\", \"import pprint\\nprint('在函式外，顯示全域變數', globals())\\nprint('=' * 80)\\nprint('在函式外，顯示區域變數', locals())\\n\\ndef add(x, y):\\n    sum_ = x + y\\n    print('在函式內，顯示全域變數')\\n    pprint.pprint(globals())\\n    print('在函式內，顯示區域變數')\\n    pprint.pprint(locals())\\n    return sum_\\nans = add(1, 2)\"], '_oh': {1: 0}, '_dh': [WindowsPath('C:/Users/315/python程式設計')], 'In': ['', \"import os\\nos.system('dir') # 列出目前所在目錄的檔案與資料夾\", \"print(os.getenv('USERNAME'))\", 'print(locals())', 'print(globals())', 'import pprint\\npprint.pprint(locals())', 'pprint.pprint(globals())', \"import os\\nos.system('dir')\\nprint(os.getenv('COMPUTERNAME')) # 顯示電腦名稱\\nprint(os.getenv('HOMEDRIVE')) # 顯示家目錄所在磁碟機\\nprint(os.getenv('HOMEPATH')) # 顯示家目錄所在路徑\\nprint(os.getenv('USERNAME')) # 顯示使用者名稱\", \"import pprint\\nprint('在函式外，顯示全域變數', globals())\\nprint('=' * 80)\\nprint('在函式外，顯示區域變數', locals())\\n\\ndef add(x, y):\\n    sum_ = x + y\\n    print('在函式內，顯示全域變數')\\n    pprint.pprint(globals())\\n    print('在函式內，顯示區域變數')\\n    pprint.pprint(locals())\\n    return sum_\\nans = add(1, 2)\"], 'Out': {1: 0}, 'get_ipython': <bound method InteractiveShell.get_ipython of <ipykernel.zmqshell.ZMQInteractiveShell object at 0x0000029BAD5C3F70>>, 'exit': <IPython.core.autocall.ZMQExitAutocall object at 0x0000029BAD630B50>, 'quit': <IPython.core.autocall.ZMQExitAutocall object at 0x0000029BAD630B50>, '_': 0, '__': '', '___': '', '_i': \"import os\\nos.system('dir')\\nprint(os.getenv('COMPUTERNAME')) # 顯示電腦名稱\\nprint(os.getenv('HOMEDRIVE')) # 顯示家目錄所在磁碟機\\nprint(os.getenv('HOMEPATH')) # 顯示家目錄所在路徑\\nprint(os.getenv('USERNAME')) # 顯示使用者名稱\", '_ii': 'pprint.pprint(globals())', '_iii': 'import pprint\\npprint.pprint(locals())', '_i1': \"import os\\nos.system('dir') # 列出目前所在目錄的檔案與資料夾\", 'os': <module 'os' from 'C:\\\\Users\\\\315\\\\anaconda3\\\\lib\\\\os.py'>, '_1': 0, '_i2': \"print(os.getenv('USERNAME'))\", '_i3': 'print(locals())', '_i4': 'print(globals())', '_i5': 'import pprint\\npprint.pprint(locals())', 'pprint': <module 'pprint' from 'C:\\\\Users\\\\315\\\\anaconda3\\\\lib\\\\pprint.py'>, '_i6': 'pprint.pprint(globals())', '_i7': \"import os\\nos.system('dir')\\nprint(os.getenv('COMPUTERNAME')) # 顯示電腦名稱\\nprint(os.getenv('HOMEDRIVE')) # 顯示家目錄所在磁碟機\\nprint(os.getenv('HOMEPATH')) # 顯示家目錄所在路徑\\nprint(os.getenv('USERNAME')) # 顯示使用者名稱\", '_i8': \"import pprint\\nprint('在函式外，顯示全域變數', globals())\\nprint('=' * 80)\\nprint('在函式外，顯示區域變數', locals())\\n\\ndef add(x, y):\\n    sum_ = x + y\\n    print('在函式內，顯示全域變數')\\n    pprint.pprint(globals())\\n    print('在函式內，顯示區域變數')\\n    pprint.pprint(locals())\\n    return sum_\\nans = add(1, 2)\"}\n",
      "在函式內，顯示全域變數\n",
      "{'In': ['',\n",
      "        \"import os\\nos.system('dir') # 列出目前所在目錄的檔案與資料夾\",\n",
      "        \"print(os.getenv('USERNAME'))\",\n",
      "        'print(locals())',\n",
      "        'print(globals())',\n",
      "        'import pprint\\npprint.pprint(locals())',\n",
      "        'pprint.pprint(globals())',\n",
      "        'import os\\n'\n",
      "        \"os.system('dir')\\n\"\n",
      "        \"print(os.getenv('COMPUTERNAME')) # 顯示電腦名稱\\n\"\n",
      "        \"print(os.getenv('HOMEDRIVE')) # 顯示家目錄所在磁碟機\\n\"\n",
      "        \"print(os.getenv('HOMEPATH')) # 顯示家目錄所在路徑\\n\"\n",
      "        \"print(os.getenv('USERNAME')) # 顯示使用者名稱\",\n",
      "        'import pprint\\n'\n",
      "        \"print('在函式外，顯示全域變數', globals())\\n\"\n",
      "        \"print('=' * 80)\\n\"\n",
      "        \"print('在函式外，顯示區域變數', locals())\\n\"\n",
      "        '\\n'\n",
      "        'def add(x, y):\\n'\n",
      "        '    sum_ = x + y\\n'\n",
      "        \"    print('在函式內，顯示全域變數')\\n\"\n",
      "        '    pprint.pprint(globals())\\n'\n",
      "        \"    print('在函式內，顯示區域變數')\\n\"\n",
      "        '    pprint.pprint(locals())\\n'\n",
      "        '    return sum_\\n'\n",
      "        'ans = add(1, 2)'],\n",
      " 'Out': {1: 0},\n",
      " '_': 0,\n",
      " '_1': 0,\n",
      " '__': '',\n",
      " '___': '',\n",
      " '__builtin__': <module 'builtins' (built-in)>,\n",
      " '__builtins__': <module 'builtins' (built-in)>,\n",
      " '__doc__': 'Automatically created module for IPython interactive environment',\n",
      " '__loader__': None,\n",
      " '__name__': '__main__',\n",
      " '__package__': None,\n",
      " '__spec__': None,\n",
      " '_dh': [WindowsPath('C:/Users/315/python程式設計')],\n",
      " '_i': 'import os\\n'\n",
      "       \"os.system('dir')\\n\"\n",
      "       \"print(os.getenv('COMPUTERNAME')) # 顯示電腦名稱\\n\"\n",
      "       \"print(os.getenv('HOMEDRIVE')) # 顯示家目錄所在磁碟機\\n\"\n",
      "       \"print(os.getenv('HOMEPATH')) # 顯示家目錄所在路徑\\n\"\n",
      "       \"print(os.getenv('USERNAME')) # 顯示使用者名稱\",\n",
      " '_i1': \"import os\\nos.system('dir') # 列出目前所在目錄的檔案與資料夾\",\n",
      " '_i2': \"print(os.getenv('USERNAME'))\",\n",
      " '_i3': 'print(locals())',\n",
      " '_i4': 'print(globals())',\n",
      " '_i5': 'import pprint\\npprint.pprint(locals())',\n",
      " '_i6': 'pprint.pprint(globals())',\n",
      " '_i7': 'import os\\n'\n",
      "        \"os.system('dir')\\n\"\n",
      "        \"print(os.getenv('COMPUTERNAME')) # 顯示電腦名稱\\n\"\n",
      "        \"print(os.getenv('HOMEDRIVE')) # 顯示家目錄所在磁碟機\\n\"\n",
      "        \"print(os.getenv('HOMEPATH')) # 顯示家目錄所在路徑\\n\"\n",
      "        \"print(os.getenv('USERNAME')) # 顯示使用者名稱\",\n",
      " '_i8': 'import pprint\\n'\n",
      "        \"print('在函式外，顯示全域變數', globals())\\n\"\n",
      "        \"print('=' * 80)\\n\"\n",
      "        \"print('在函式外，顯示區域變數', locals())\\n\"\n",
      "        '\\n'\n",
      "        'def add(x, y):\\n'\n",
      "        '    sum_ = x + y\\n'\n",
      "        \"    print('在函式內，顯示全域變數')\\n\"\n",
      "        '    pprint.pprint(globals())\\n'\n",
      "        \"    print('在函式內，顯示區域變數')\\n\"\n",
      "        '    pprint.pprint(locals())\\n'\n",
      "        '    return sum_\\n'\n",
      "        'ans = add(1, 2)',\n",
      " '_ih': ['',\n",
      "         \"import os\\nos.system('dir') # 列出目前所在目錄的檔案與資料夾\",\n",
      "         \"print(os.getenv('USERNAME'))\",\n",
      "         'print(locals())',\n",
      "         'print(globals())',\n",
      "         'import pprint\\npprint.pprint(locals())',\n",
      "         'pprint.pprint(globals())',\n",
      "         'import os\\n'\n",
      "         \"os.system('dir')\\n\"\n",
      "         \"print(os.getenv('COMPUTERNAME')) # 顯示電腦名稱\\n\"\n",
      "         \"print(os.getenv('HOMEDRIVE')) # 顯示家目錄所在磁碟機\\n\"\n",
      "         \"print(os.getenv('HOMEPATH')) # 顯示家目錄所在路徑\\n\"\n",
      "         \"print(os.getenv('USERNAME')) # 顯示使用者名稱\",\n",
      "         'import pprint\\n'\n",
      "         \"print('在函式外，顯示全域變數', globals())\\n\"\n",
      "         \"print('=' * 80)\\n\"\n",
      "         \"print('在函式外，顯示區域變數', locals())\\n\"\n",
      "         '\\n'\n",
      "         'def add(x, y):\\n'\n",
      "         '    sum_ = x + y\\n'\n",
      "         \"    print('在函式內，顯示全域變數')\\n\"\n",
      "         '    pprint.pprint(globals())\\n'\n",
      "         \"    print('在函式內，顯示區域變數')\\n\"\n",
      "         '    pprint.pprint(locals())\\n'\n",
      "         '    return sum_\\n'\n",
      "         'ans = add(1, 2)'],\n",
      " '_ii': 'pprint.pprint(globals())',\n",
      " '_iii': 'import pprint\\npprint.pprint(locals())',\n",
      " '_oh': {1: 0},\n",
      " 'add': <function add at 0x0000029BAD703160>,\n",
      " 'exit': <IPython.core.autocall.ZMQExitAutocall object at 0x0000029BAD630B50>,\n",
      " 'get_ipython': <bound method InteractiveShell.get_ipython of <ipykernel.zmqshell.ZMQInteractiveShell object at 0x0000029BAD5C3F70>>,\n",
      " 'os': <module 'os' from 'C:\\\\Users\\\\315\\\\anaconda3\\\\lib\\\\os.py'>,\n",
      " 'pprint': <module 'pprint' from 'C:\\\\Users\\\\315\\\\anaconda3\\\\lib\\\\pprint.py'>,\n",
      " 'quit': <IPython.core.autocall.ZMQExitAutocall object at 0x0000029BAD630B50>}\n",
      "在函式內，顯示區域變數\n",
      "{'sum_': 3, 'x': 1, 'y': 2}\n"
     ]
    }
   ],
   "source": [
    "import pprint\n",
    "print('在函式外，顯示全域變數', globals())\n",
    "print('=' * 80)\n",
    "print('在函式外，顯示區域變數', locals())\n",
    "\n",
    "def add(x, y):\n",
    "    sum_ = x + y\n",
    "    print('在函式內，顯示全域變數')\n",
    "    pprint.pprint(globals())\n",
    "    print('在函式內，顯示區域變數')\n",
    "    pprint.pprint(locals())\n",
    "    return sum_\n",
    "ans = add(1, 2)"
   ]
  },
  {
   "cell_type": "markdown",
   "id": "929fda2a",
   "metadata": {},
   "source": [
    "# 可迭代的函式庫"
   ]
  },
  {
   "cell_type": "markdown",
   "id": "deea89e6",
   "metadata": {},
   "source": [
    "**Python提供許多可以處理可迭代物件的模組和函式，包括模組`itertools`, 函式`enumerate`, `zip`, `filter`, `map`與`reduce`等等**"
   ]
  },
  {
   "cell_type": "markdown",
   "id": "2c6ff3e1",
   "metadata": {},
   "source": [
    "## 模組itertools"
   ]
  },
  {
   "cell_type": "markdown",
   "id": "95a5ee9e",
   "metadata": {},
   "source": [
    "- **itertools.count(start, [step]) : 產生資料列，起始數字為start，每次遞增step**\n",
    "- **itertools.cycle(iterable) : 使用iterable不斷循環產生資料列**\n",
    "- **itertools.repeat(object, [times]) : 使用object重複times次產生資料列**\n",
    "- **itertools.accumulate(iterable, [func]) : 將iterable物件使用函式func進行運算**\n",
    "- **itertools.chain(*iterables) : 將多個iterable物件，依序取出每個iterable的所有元素，串接成新的數列**\n",
    "- **itertools.permutations(iterable, r = None) : 從iterable取r個元素的所有排列，若r = None，則排列所有元素**\n",
    "- **itertools.combinations(iterable, r) : 從iterable取r個元素的所有組合**"
   ]
  },
  {
   "cell_type": "code",
   "execution_count": 9,
   "id": "a4ec38de",
   "metadata": {},
   "outputs": [],
   "source": [
    "import itertools #引進模組"
   ]
  },
  {
   "cell_type": "code",
   "execution_count": 10,
   "id": "21e0fa5d",
   "metadata": {},
   "outputs": [
    {
     "name": "stdout",
     "output_type": "stream",
     "text": [
      "1\n",
      "3\n",
      "5\n",
      "7\n",
      "9\n"
     ]
    }
   ],
   "source": [
    "nums = itertools.count(1, 2)\n",
    "for i in range(5):\n",
    "    num = nums.__next__() #取出nums的下一個元素指定給變數num\n",
    "    print(num)"
   ]
  },
  {
   "cell_type": "code",
   "execution_count": 11,
   "id": "540f94c4",
   "metadata": {},
   "outputs": [
    {
     "name": "stdout",
     "output_type": "stream",
     "text": [
      "1\n",
      "2\n",
      "3\n",
      "1\n",
      "2\n",
      "3\n"
     ]
    }
   ],
   "source": [
    "nums = [1,2,3]\n",
    "cyclenums = itertools.cycle(nums)\n",
    "for i in range(6):\n",
    "    num = cyclenums.__next__()\n",
    "    print(num)"
   ]
  },
  {
   "cell_type": "code",
   "execution_count": 12,
   "id": "7ff6dbb6",
   "metadata": {},
   "outputs": [
    {
     "name": "stdout",
     "output_type": "stream",
     "text": [
      "[1, 2, 3]\n",
      "[1, 2, 3]\n",
      "[1, 2, 3]\n"
     ]
    }
   ],
   "source": [
    "nums = [1,2,3]\n",
    "repeatnums = itertools.repeat(nums, 3)\n",
    "for i in range(3):\n",
    "    num = repeatnums.__next__()\n",
    "    print(num)"
   ]
  },
  {
   "cell_type": "code",
   "execution_count": 13,
   "id": "3c47d711",
   "metadata": {},
   "outputs": [
    {
     "name": "stdout",
     "output_type": "stream",
     "text": [
      "[1, 2, 3, 4, 5]\n",
      "[1, 3, 6, 10, 15]\n",
      "[1, 2, 6, 24, 120]\n"
     ]
    }
   ],
   "source": [
    "#accumulate(p [,func])\n",
    "#Results:p0, p0+p1, p0+p1+p2, …\n",
    "\n",
    "nums = [i for i in range(1, 6)]\n",
    "print(nums)\n",
    "sums = itertools.accumulate(nums)\n",
    "print(list(sums))\n",
    "sums = itertools.accumulate(nums, lambda x, y : x * y)\n",
    "print(list(sums))"
   ]
  },
  {
   "cell_type": "code",
   "execution_count": 14,
   "id": "2615c59f",
   "metadata": {},
   "outputs": [
    {
     "name": "stdout",
     "output_type": "stream",
     "text": [
      "['P', 'y', 't', 'h', 'o', 'n']\n",
      "['A', 'B', 'C', 'D', 'E']\n"
     ]
    }
   ],
   "source": [
    "s = itertools.chain('Py', 'thon')\n",
    "print(list(s))\n",
    "\n",
    "a = itertools.chain('AB', 'CDE')\n",
    "print(list(a))"
   ]
  },
  {
   "cell_type": "code",
   "execution_count": 15,
   "id": "5a984603",
   "metadata": {},
   "outputs": [
    {
     "name": "stdout",
     "output_type": "stream",
     "text": [
      "[('A', 'B'), ('A', 'C'), ('B', 'A'), ('B', 'C'), ('C', 'A'), ('C', 'B')]\n",
      "================================================================================\n",
      "[('A', 'B'), ('A', 'C'), ('B', 'C')]\n"
     ]
    }
   ],
   "source": [
    "perm = itertools.permutations('ABC', 2) #從字串ABC中挑選2個字元的所有排列可能性\n",
    "print(list(perm))\n",
    "\n",
    "print('=' * 80)\n",
    "\n",
    "comb = itertools.combinations('ABC', 2) #從字串ABC中挑選2個字元的所有組合可能性\n",
    "print(list(comb))"
   ]
  },
  {
   "cell_type": "markdown",
   "id": "daec013c",
   "metadata": {},
   "source": [
    "## enumerate與zip"
   ]
  },
  {
   "cell_type": "markdown",
   "id": "b3350183",
   "metadata": {},
   "source": [
    "**函式`enumerate`將可迭代物件的每一個元素給予編號，函式`zip`可以自動配對兩個以上可迭代物件的每個元素，一個一個依序對應產生新的物件**"
   ]
  },
  {
   "cell_type": "markdown",
   "id": "01e4f7ed",
   "metadata": {},
   "source": [
    "- **enumerate(sequence, start = 0) : 將sequence中元素進行編號，由start開始編號**\n",
    "- **zip([iterable, ...]) : 將所輸入的多個iterable，每個iterable中依序由前到後每次取出一個組成一個tuple，這些tuple組成zip物件**"
   ]
  },
  {
   "cell_type": "code",
   "execution_count": 16,
   "id": "6912c5d7",
   "metadata": {},
   "outputs": [
    {
     "name": "stdout",
     "output_type": "stream",
     "text": [
      "1 星期天\n",
      "2 星期一\n",
      "3 星期二\n",
      "4 星期三\n",
      "5 星期四\n",
      "6 星期五\n",
      "7 星期六\n",
      "星期天 休息\n",
      "星期一 游泳\n",
      "星期二 跑步\n",
      "星期三 籃球\n",
      "星期四 桌球\n",
      "星期五 羽球\n",
      "星期六 棒球\n"
     ]
    }
   ],
   "source": [
    "days = ['星期天', '星期一', '星期二', '星期三', '星期四', '星期五', '星期六']\n",
    "p = enumerate(days, start = 1)\n",
    "for c, day in p:\n",
    "    print(c, day)\n",
    "    \n",
    "do = ['休息', '游泳', '跑步', '籃球', '桌球', '羽球', '棒球', '壘球']\n",
    "week = zip(days, do)\n",
    "for day, sport in week:\n",
    "    print(day, sport)"
   ]
  },
  {
   "cell_type": "markdown",
   "id": "33672ff3",
   "metadata": {},
   "source": [
    "## filter、map與reduce"
   ]
  },
  {
   "cell_type": "markdown",
   "id": "9a7186f7",
   "metadata": {},
   "source": [
    "**函式`filter`過濾可迭代物件，只保留符合條件的元素 ; 函式`map`將多個可迭代物件根據輸入`map`的函式進行運算，回傳一個可迭代物件 ; 模組`functools`的函式`reduce`將輸入的可迭代物件由左到右，使用輸入`reduce`的函式每次取可迭代物件的最左邊兩個進行運算，將運算結果與第3個物件進行運算，依此類推直到輸入的可迭代物件的所有元素都計算過，回傳計算結果**"
   ]
  },
  {
   "cell_type": "markdown",
   "id": "196dfa25",
   "metadata": {},
   "source": [
    "- **filter(function, iterable) : 使用function作用到iterable的每個元素，將結果為True的元素保留下來**\n",
    "- **map(function, iterable, ...) : 使用function作用到一個以上iterable的每個元素，function若接收到兩個參數，iterable就需要兩個，最後回傳function作用到iterable的結果**\n",
    "- **functools.reduce(function, iterable[, initializer]) : function需要能輸入兩個參數，使用function作用到iterable由左到右的每個元素。如果有initializer，則計算結果的初始值設定為initializer，將第1個元素與第2個元素輸入到function，產生的數字與第3個元素輸入到function，產生的數字與第4個元素輸入到function，依此類推直到輸入的可迭代物件的所有元素都計算過，回傳此計算結果**"
   ]
  },
  {
   "cell_type": "code",
   "execution_count": 17,
   "id": "971804e6",
   "metadata": {},
   "outputs": [
    {
     "name": "stdout",
     "output_type": "stream",
     "text": [
      "[1, 3, 5, 7, 9]\n",
      "[2, 4, 6, 8]\n"
     ]
    }
   ],
   "source": [
    "nums = [i for i in range(1, 10)]\n",
    "nums2 = filter(lambda x : x % 2, nums)\n",
    "print(list(nums2))\n",
    "\n",
    "nums3 = filter(lambda x : x % 2 == 0, nums)\n",
    "print(list(nums3))"
   ]
  },
  {
   "cell_type": "code",
   "execution_count": 18,
   "id": "8ad2cc14",
   "metadata": {},
   "outputs": [
    {
     "name": "stdout",
     "output_type": "stream",
     "text": [
      "[2, 4, 6, 8, 10]\n",
      "[6, 14, 24, 36, 50]\n"
     ]
    }
   ],
   "source": [
    "nums = [i for i in range(1, 6)]\n",
    "\n",
    "def double(x):\n",
    "    return 2 * x\n",
    "\n",
    "nums2 = map(double, nums)\n",
    "print(list(nums2))\n",
    "\n",
    "a = [i for i in range(1, 6)]\n",
    "b = [i for i in range(6, 11)]\n",
    "c = map(lambda x, y : x * y, a, b)\n",
    "print(list(c))"
   ]
  },
  {
   "cell_type": "code",
   "execution_count": 19,
   "id": "6f01ecf4",
   "metadata": {},
   "outputs": [
    {
     "name": "stdout",
     "output_type": "stream",
     "text": [
      "45\n",
      "48\n"
     ]
    }
   ],
   "source": [
    "import functools\n",
    "num = functools.reduce(lambda x, y : x + y, range(1, 10)) #預設初始值為0\n",
    "print(num)\n",
    "\n",
    "num2 = functools.reduce(lambda x, y : x + y, range(1, 10), 3) #初始值為3\n",
    "print(num2)"
   ]
  },
  {
   "cell_type": "markdown",
   "id": "d118e2bd",
   "metadata": {},
   "source": [
    "## 篩選法求質數範例"
   ]
  },
  {
   "cell_type": "markdown",
   "id": "974809d5",
   "metadata": {},
   "source": [
    "**使用`篩選法(Sieve of Eratosthenes)`求數值2到1000的所有質數，相當於依序將2的倍數數字刪除，接著將3個倍數刪除，將5的倍數刪除，將7的倍數數字刪除，...，最後還剩下的數字就都是質數**"
   ]
  },
  {
   "cell_type": "code",
   "execution_count": 20,
   "id": "073f717b",
   "metadata": {},
   "outputs": [
    {
     "name": "stdout",
     "output_type": "stream",
     "text": [
      "2  3  5  7  11  13  17  19  23  29  31  37  41  43  47  53  59  61  67  71  73  79  83  89  97  101  103  107  109  113  127  131  137  139  149  151  157  163  167  173  179  181  191  193  197  199  211  223  227  229  233  239  241  251  257  263  269  271  277  281  283  293  307  311  313  317  331  337  347  349  353  359  367  373  379  383  389  397  401  409  419  421  431  433  439  443  449  457  461  463  467  479  487  491  499  503  509  521  523  541  547  557  563  569  571  577  587  593  599  601  607  613  617  619  631  641  643  647  653  659  661  673  677  683  691  701  709  719  727  733  739  743  751  757  761  769  773  787  797  809  811  821  823  827  829  839  853  857  859  863  877  881  883  887  907  911  919  929  937  941  947  953  967  971  977  983  991  997  "
     ]
    }
   ],
   "source": [
    "import itertools\n",
    "\n",
    "def iter_primes():\n",
    "    numbers = itertools.count(2) #從2開始產生無窮數列\n",
    "    while True:\n",
    "        prime = numbers.__next__() #設定prime為numbers的下一個數字\n",
    "        yield prime #使用yield回傳prime，yield會回到上一次狀態繼續執行\n",
    "        numbers = filter(prime.__rmod__, numbers) #使用函式filter去掉numbers中prime的倍數\n",
    "        \n",
    "for p in iter_primes():\n",
    "    if p > 1000:\n",
    "        break\n",
    "    print(p, ' ', end = '')"
   ]
  },
  {
   "cell_type": "markdown",
   "id": "1d9305b9",
   "metadata": {},
   "source": [
    "**利用普通方法找尋質數**"
   ]
  },
  {
   "cell_type": "code",
   "execution_count": 21,
   "id": "3e971964",
   "metadata": {},
   "outputs": [
    {
     "name": "stdout",
     "output_type": "stream",
     "text": [
      "[2, 3, 5, 7, 11, 13, 17, 19, 23, 29, 31, 37, 41, 43, 47, 53, 59, 61, 67, 71, 73, 79, 83, 89, 97, 101, 103, 107, 109, 113, 127, 131, 137, 139, 149, 151, 157, 163, 167, 173, 179, 181, 191, 193, 197, 199, 211, 223, 227, 229, 233, 239, 241, 251, 257, 263, 269, 271, 277, 281, 283, 293, 307, 311, 313, 317, 331, 337, 347, 349, 353, 359, 367, 373, 379, 383, 389, 397, 401, 409, 419, 421, 431, 433, 439, 443, 449, 457, 461, 463, 467, 479, 487, 491, 499, 503, 509, 521, 523, 541, 547, 557, 563, 569, 571, 577, 587, 593, 599, 601, 607, 613, 617, 619, 631, 641, 643, 647, 653, 659, 661, 673, 677, 683, 691, 701, 709, 719, 727, 733, 739, 743, 751, 757, 761, 769, 773, 787, 797, 809, 811, 821, 823, 827, 829, 839, 853, 857, 859, 863, 877, 881, 883, 887, 907, 911, 919, 929, 937, 941, 947, 953, 967, 971, 977, 983, 991, 997]  "
     ]
    }
   ],
   "source": [
    "def is_prime(n):\n",
    "    if n <= 1:\n",
    "        return False\n",
    "    for i in range(2, int(n ** 0.5) + 1):\n",
    "        if n % i == 0:\n",
    "            return False\n",
    "    return True\n",
    "\n",
    "primes = []\n",
    "for num in range(2, 1001):\n",
    "    if is_prime(num):\n",
    "        primes.append(num)\n",
    "    \n",
    "print(primes, ' ', end = '')"
   ]
  },
  {
   "cell_type": "markdown",
   "id": "5593f7f0",
   "metadata": {},
   "source": [
    "# 時間函式庫"
   ]
  },
  {
   "cell_type": "markdown",
   "id": "d899e0be",
   "metadata": {},
   "source": [
    "**時間函式庫包含模組`datetime`, `data`與`time`等等，用於顯示目前時間與計算經過的時間，以下分別介紹**"
   ]
  },
  {
   "cell_type": "markdown",
   "id": "f5996f53",
   "metadata": {},
   "source": [
    "## 模組datetime與date"
   ]
  },
  {
   "cell_type": "markdown",
   "id": "edfef682",
   "metadata": {},
   "source": [
    "**模組`datetime`處理日期與時間有關的功能，可以回傳目前的日期與時間，與建立新的datetime物件，而模組`date`處理日期有關的功能，可以回傳目前的日期**"
   ]
  },
  {
   "cell_type": "markdown",
   "id": "5893f10a",
   "metadata": {},
   "source": [
    "- **datetime.now() : 回傳目前的日期與時間**\n",
    "- **datetime.datetime(year, month, day, hour = 0, minute = 0, second = 0, microsecond = 0) : 使用year, month, day, hour, minute, second, microsecond建立datetime物件**\n",
    "- **date.today() : 回傳目前的日期**"
   ]
  },
  {
   "cell_type": "code",
   "execution_count": 22,
   "id": "acf5ea60",
   "metadata": {},
   "outputs": [
    {
     "name": "stdout",
     "output_type": "stream",
     "text": [
      "2023-06-21\n",
      "2023-06-21 12:37:10.722106\n",
      "2023 6 21\n",
      "12 37 10 722106\n"
     ]
    }
   ],
   "source": [
    "from datetime import datetime, date\n",
    "now = date.today()\n",
    "print(now)\n",
    "\n",
    "now2 = datetime.now()\n",
    "print(now2)\n",
    "\n",
    "print(now2.year, now2.month, now2.day)\n",
    "print(now2.hour, now2.minute, now2.second, now2.microsecond)"
   ]
  },
  {
   "cell_type": "code",
   "execution_count": 23,
   "id": "e739cf69",
   "metadata": {},
   "outputs": [
    {
     "name": "stdout",
     "output_type": "stream",
     "text": [
      "1995-01-01 21:30:00\n"
     ]
    }
   ],
   "source": [
    "#建立新的datetime物件\n",
    "\n",
    "from datetime import datetime\n",
    "b = datetime(1995, 1, 1, 21, 30, 0, 0)\n",
    "print(b)"
   ]
  },
  {
   "cell_type": "markdown",
   "id": "69d6d418",
   "metadata": {},
   "source": [
    "## 模組time"
   ]
  },
  {
   "cell_type": "markdown",
   "id": "6563a3df",
   "metadata": {},
   "source": [
    "**模組`time`可以回傳累計從1970年1月1日凌晨0點0分0秒到目前為止的秒數，稱作「epoch」，顯示目前的時間，與依照指定的格式顯示時間等功能**"
   ]
  },
  {
   "cell_type": "markdown",
   "id": "e0683487",
   "metadata": {},
   "source": [
    "- **time.time() : 累計從1970年1月1日凌晨0點0分0秒到目前為止的秒數**\n",
    "- **time.ctime([secs]) : 將累計秒數secs轉換為以「年月日時分秒」表示的時間，若沒有輸入secs，則預設以呼叫time.time()的回傳值為輸入**\n",
    "- **time.localtime([secs]) : 將累計秒數secs轉換為以物件struct_time表示的時間，若沒有輸入secs，則以呼叫time.time()的回傳值為輸入**\n",
    "- **time.strftime(format[,t] : t為struct_time物件，以format格式顯示出來，若沒有輸入t，則以呼叫time.localtime()的回傳值為輸入**"
   ]
  },
  {
   "cell_type": "markdown",
   "id": "003b8fe6",
   "metadata": {},
   "source": [
    "**函式time.strftime的參數format的格式如下表**\n",
    "- **`%a` : 縮寫的星期**\n",
    "- **`%A` : 不縮寫的星期**\n",
    "- **`%y` : 顯示西元最後兩位**\n",
    "- **`%Y` : 顯示西元的四位數**\n",
    "- **`%m` : 以01到12顯示月份**\n",
    "- **`%b` : 縮寫的月份**\n",
    "- **`%B` : 不縮寫的月份**\n",
    "- **`%d` : 以01到31顯示日期**\n",
    "- **`%j` : 以001到366顯示一年的第幾天**\n",
    "- **`%H` : 以00到23(24小時制)顯示小時**\n",
    "- **`%I` : 以01到12(12小時制)顯示小時**\n",
    "- **`%p` : 顯示AM或PM**\n",
    "- **`%M` : 以00到59顯示分鐘**\n",
    "- **`%S` : 以00到61顯示秒**"
   ]
  },
  {
   "cell_type": "code",
   "execution_count": 24,
   "id": "182f7240",
   "metadata": {},
   "outputs": [
    {
     "name": "stdout",
     "output_type": "stream",
     "text": [
      "1687322230.7559552\n",
      "Wed Jun 21 12:37:10 2023\n",
      "time.struct_time(tm_year=2023, tm_mon=6, tm_mday=21, tm_hour=12, tm_min=37, tm_sec=10, tm_wday=2, tm_yday=172, tm_isdst=0)\n",
      "現在時間為 2023-06-21(Wed) 12 37 10\n",
      "現在時間為 2023-June-21(Wednesday) PM 12 37 10\n"
     ]
    }
   ],
   "source": [
    "import time\n",
    "now = time.time()\n",
    "print(now)\n",
    "\n",
    "print(time.ctime())\n",
    "\n",
    "t = time.localtime()\n",
    "print(t)\n",
    "\n",
    "fmt = \"%Y-%m-%d(%a) %H %M %S\"\n",
    "print('現在時間為', time.strftime(fmt))\n",
    "\n",
    "fmt2 = \"%Y-%B-%d(%A) %p %I %M %S\"\n",
    "print('現在時間為', time.strftime(fmt2))"
   ]
  },
  {
   "cell_type": "markdown",
   "id": "7b3cf896",
   "metadata": {},
   "source": [
    "## 模組timedelta"
   ]
  },
  {
   "cell_type": "markdown",
   "id": "ededec15",
   "metadata": {},
   "source": [
    "**模組`timedelta`表示經過的時間間隔，將物件datetime加上模組timedelta，就可以計算物件datetime經過模組timedelta後的時間**"
   ]
  },
  {
   "cell_type": "markdown",
   "id": "b4589a79",
   "metadata": {},
   "source": [
    "- **`datetime.timedelta(days = 0, seconds = 0, microseconds = 0, milliseconds = 0, minutes = 0, hours = 0, weeks = 0)` : 表示兩個時間點的差距，days, seconds, microseconds, milliseconds, minutes, hours與weeks初始化物件timedelta**"
   ]
  },
  {
   "cell_type": "code",
   "execution_count": 25,
   "id": "bae6e384",
   "metadata": {},
   "outputs": [
    {
     "name": "stdout",
     "output_type": "stream",
     "text": [
      "2002-09-21 09:30:00\n",
      "2030-02-06 09:30:00\n"
     ]
    }
   ],
   "source": [
    "#假設生日為西元2002年9月21日晚上9點30分，請計算10000天後的日期與時間\n",
    "\n",
    "from datetime import datetime, timedelta\n",
    "birthday = datetime(2002, 9, 21, 9, 30, 0, 0)\n",
    "print(birthday)\n",
    "\n",
    "day10000 = timedelta(days = 10000)\n",
    "someday = birthday + day10000\n",
    "print(someday)"
   ]
  },
  {
   "cell_type": "markdown",
   "id": "c979ebc3",
   "metadata": {},
   "source": [
    "## 使用模組time計算程式執行時間"
   ]
  },
  {
   "cell_type": "markdown",
   "id": "74878b8c",
   "metadata": {},
   "source": [
    "**想要知道程式區塊執行所需時間，要在程式區塊前後加上模組time的函式time，將結果指定給兩個變數，將後者減去前者就可以知道執行時間**"
   ]
  },
  {
   "cell_type": "code",
   "execution_count": 26,
   "id": "237d71be",
   "metadata": {},
   "outputs": [
    {
     "name": "stdout",
     "output_type": "stream",
     "text": [
      "執行所需時間為 0.5961034297943115 秒\n"
     ]
    }
   ],
   "source": [
    "import time as t\n",
    "def count():\n",
    "    st = t.time()\n",
    "    [x for x in range(10000000)]\n",
    "    et = t.time()\n",
    "    print('執行所需時間為', et - st, '秒')\n",
    "count()"
   ]
  },
  {
   "cell_type": "markdown",
   "id": "267ee430",
   "metadata": {},
   "source": [
    "# collections套件"
   ]
  },
  {
   "cell_type": "markdown",
   "id": "4ab3dfb5",
   "metadata": {},
   "source": [
    "**套件`collections`包含模組`OrderDict`, `deque`, `Counter`等，各有用途，以下分別介紹**"
   ]
  },
  {
   "cell_type": "markdown",
   "id": "0fd3aeb6",
   "metadata": {},
   "source": [
    "## 模組OrderDict"
   ]
  },
  {
   "cell_type": "markdown",
   "id": "1042a095",
   "metadata": {},
   "source": [
    "**模組`OrderDict`是能夠紀錄每個鍵與值建立順序的字典，可以依照順序顯示出來**"
   ]
  },
  {
   "cell_type": "markdown",
   "id": "54d87eba",
   "metadata": {},
   "source": [
    "- **`collections.OrderDict([items])` : 使用items建立具有順序性的OrderDict物件**"
   ]
  },
  {
   "cell_type": "code",
   "execution_count": 27,
   "id": "9249aaa7",
   "metadata": {},
   "outputs": [
    {
     "name": "stdout",
     "output_type": "stream",
     "text": [
      "{'星期天': '休息', '星期一': '游泳', '星期二': '跑步', '星期三': '籃球', '星期四': '桌球', '星期五': '羽球', '星期六': '棒球'}\n",
      "================================================================================\n",
      "OrderedDict([('星期天', '休息'), ('星期一', '游泳'), ('星期二', '跑步'), ('星期三', '籃球'), ('星期四', '桌球'), ('星期五', '羽球'), ('星期六', '棒球')])\n"
     ]
    }
   ],
   "source": [
    "#可以比較函式dict與OrderDict建立字典的差異\n",
    "\n",
    "import collections\n",
    "days = ['星期天', '星期一', '星期二', '星期三', '星期四', '星期五', '星期六']   \n",
    "sport = ['休息', '游泳', '跑步', '籃球', '桌球', '羽球', '棒球', '壘球']\n",
    "week = zip(days, sport)\n",
    "\n",
    "d1 = dict(week)\n",
    "print(d1)\n",
    "print('=' * 80)\n",
    "\n",
    "week = zip(days, sport)\n",
    "d2 = collections.OrderedDict(week)\n",
    "print(d2)"
   ]
  },
  {
   "cell_type": "markdown",
   "id": "a6b77549",
   "metadata": {},
   "source": [
    "## 模組deque"
   ]
  },
  {
   "cell_type": "markdown",
   "id": "da93e10e",
   "metadata": {},
   "source": [
    "**套件`collections`中模組`deque`能夠將資料分別從左右兩邊插入與取出，向左或向右旋轉n筆資料，計算某項資料出現的次數，反轉所有資料等功能，以下介紹模組`deque`的常用函式**"
   ]
  },
  {
   "cell_type": "markdown",
   "id": "ae11385b",
   "metadata": {},
   "source": [
    "- **`collections.deque(iterable)` : 使用iterable建立deque物件**\n",
    "- **`deque.pop()` : 從deque中刪除最右邊的元素**\n",
    "- **`deque.popleft()` : 從deque中刪除最左邊的元素**\n",
    "- **`deque.append(x)` : 將x加到deque的右邊**\n",
    "- **`deque.appendleft(x)` : 將x加到deque的左邊**\n",
    "- **`deque.remove(x)` : 從deque中第一個遇到數值為x的元素刪除，若沒有發現數值為x的元素，將發出ValueError錯誤**\n",
    "- **`deque.count(x)` : 計算deque中數值x出現的次數**\n",
    "- **`deque.rotate(n)` : 當n值大於0，則deque中所有元素向右旋轉n個元素，超過部分依序補到deque的左邊，當n值小於0，則deque中所有元素向左旋轉n個元素，超過部分依序補到deque的右邊**\n",
    "- **`deque.reverse()` : 將deque所有元素反轉**"
   ]
  },
  {
   "cell_type": "code",
   "execution_count": 28,
   "id": "01beb35b",
   "metadata": {},
   "outputs": [
    {
     "name": "stdout",
     "output_type": "stream",
     "text": [
      "deque([1, 2, 3, 4, 5])\n",
      "deque([5, 1, 2, 3, 4])\n",
      "deque([1, 2, 3, 4, 5])\n",
      "deque([1, 2, 3, 4])\n",
      "deque([2, 3, 4])\n",
      "deque([2, 3, 4, 8])\n",
      "deque([8, 2, 3, 4, 8])\n",
      "2\n",
      "deque([8, 4, 3, 2, 8])\n"
     ]
    }
   ],
   "source": [
    "from collections import deque\n",
    "nums = [i for i in range(1, 6)]\n",
    "dq = deque(nums)\n",
    "print(dq)\n",
    "\n",
    "dq.rotate(1)\n",
    "print(dq)\n",
    "\n",
    "dq.rotate(-1)\n",
    "print(dq)\n",
    "\n",
    "dq.pop()\n",
    "print(dq)\n",
    "\n",
    "dq.popleft()\n",
    "print(dq)\n",
    "\n",
    "dq.append(8)\n",
    "print(dq)\n",
    "\n",
    "dq.appendleft(8)\n",
    "print(dq)\n",
    "\n",
    "print(dq.count(8))\n",
    "\n",
    "dq.reverse()\n",
    "print(dq)"
   ]
  },
  {
   "cell_type": "markdown",
   "id": "fb9c4cb3",
   "metadata": {},
   "source": [
    "## 模組Counter"
   ]
  },
  {
   "cell_type": "markdown",
   "id": "af6f68c6",
   "metadata": {},
   "source": [
    "套件`collections`中模組`Counter`能夠分類各類元素的個數, 各類元素出現次數中最多或最少的個數，以下介紹模組Counter的常用函式"
   ]
  },
  {
   "cell_type": "markdown",
   "id": "8f36ac1f",
   "metadata": {},
   "source": [
    "- **`collections.Counter([iterable | mapping])` : 可以使用iterable或mapping初始化Counter物件**\n",
    "- **`Counter.elements()` : 將Counter物件依照元素與出現次數還原回原始串列，串列中每個元素都要符合出現頻率的次數**\n",
    "- **`Counter.values()` : Counter物件相當於字典，顯示Counter物件對應的出現次數**\n",
    "- **`Counter.keys()` : Counter物件相當於字典，顯示Counter物件對應的鍵**\n",
    "- **`Counter.most_common([n])` : 顯示Counter物件最常出現的前n個元素與出現次數，當沒有提供n值，則顯示所有元素與出現次數**"
   ]
  },
  {
   "cell_type": "code",
   "execution_count": 29,
   "id": "1c51c6e0",
   "metadata": {},
   "outputs": [
    {
     "name": "stdout",
     "output_type": "stream",
     "text": [
      "Counter({'P': 1, 'y': 1, 't': 1, 'h': 1, 'o': 1, 'n': 1})\n",
      "Counter({'b': 3, 'a': 2})\n",
      "Counter({'b': 3, 'a': 2})\n",
      "Counter({'b': 3, 'a': 2})\n"
     ]
    }
   ],
   "source": [
    "#初始化Counter\n",
    "\n",
    "from collections import Counter\n",
    "c = Counter('Python')\n",
    "print(c)\n",
    "\n",
    "x = ['a', 'a', 'b', 'b', 'b']\n",
    "c2 = Counter(x)\n",
    "print(c2)\n",
    "\n",
    "c3 = Counter({'a' : 2, 'b' : 3})\n",
    "print(c3)\n",
    "\n",
    "c4 = Counter(a = 2, b = 3)\n",
    "print(c4)"
   ]
  },
  {
   "cell_type": "code",
   "execution_count": 30,
   "id": "d1ba2cb8",
   "metadata": {},
   "outputs": [
    {
     "name": "stdout",
     "output_type": "stream",
     "text": [
      "Counter({'b': 3, 'a': 2, 'c': 1})\n",
      "['a', 'a', 'b', 'b', 'b', 'c']\n",
      "dict_values([2, 3, 1])\n",
      "dict_keys(['a', 'b', 'c'])\n",
      "[('b', 3), ('a', 2), ('c', 1)]\n",
      "[('b', 3)]\n",
      "[('c', 1), ('a', 2), ('b', 3)]\n",
      "[('c', 1)]\n"
     ]
    }
   ],
   "source": [
    "#計算出現最多次數與最少次數\n",
    "\n",
    "from collections import Counter\n",
    "c = Counter(a = 2, b = 3, c = 1)\n",
    "print(c)\n",
    "\n",
    "print(list(c.elements()))\n",
    "\n",
    "print(c.values())\n",
    "\n",
    "print(c.keys())\n",
    "\n",
    "print(c.most_common())\n",
    "print(c.most_common(1))\n",
    "\n",
    "print(c.most_common()[::-1]) #後方加上[::-1]表示依照出現次數由低到高顯示物件c所有元素與出現次數\n",
    "print(c.most_common()[:-2:-1]) #後方加上[:-2:-1]表示顯示物件c中出現最少次數的元素與出現次數"
   ]
  },
  {
   "cell_type": "markdown",
   "id": "3e32dd4a",
   "metadata": {},
   "source": [
    "**以下介紹模組Counter的運算子，這些運算子用於將兩個Counter物件進行運算**"
   ]
  },
  {
   "cell_type": "markdown",
   "id": "34531229",
   "metadata": {},
   "source": [
    "- **`a + b` : a與b的所有元素與出現次數進行累加**\n",
    "- **`a - b` : a的元素與次數，減去b的元素與次數**\n",
    "- **`a & b` : a與b兩者都有的元素與次數，次數取較少者**\n",
    "- **`a | b` : a或b只要一個有就可以納入，次數取較多者**"
   ]
  },
  {
   "cell_type": "code",
   "execution_count": 31,
   "id": "d3c70246",
   "metadata": {},
   "outputs": [
    {
     "name": "stdout",
     "output_type": "stream",
     "text": [
      "Counter({'b': 5, 'a': 2, 'c': 1})\n",
      "Counter({'a': 2, 'b': 1})\n",
      "Counter({'b': 2})\n",
      "Counter({'b': 3, 'a': 2, 'c': 1})\n"
     ]
    }
   ],
   "source": [
    "from collections import Counter\n",
    "a = Counter(a = 2, b = 3)\n",
    "b = Counter(b = 2, c = 1)\n",
    "print(a + b)\n",
    "\n",
    "print(a - b)\n",
    "\n",
    "print(a & b)\n",
    "\n",
    "print(a | b)"
   ]
  },
  {
   "cell_type": "markdown",
   "id": "6411e4eb",
   "metadata": {},
   "source": [
    "## 找出文字檔中出現次數最多的五個字"
   ]
  },
  {
   "cell_type": "markdown",
   "id": "1d657598",
   "metadata": {},
   "source": [
    "**在Python中執行`import this`，會出現Python的禪學，作者為Tim Peters，將此段話儲存到zen.txt，請開啟檔案將檔案內容讀取出來，全部轉換成小寫字母，並分析出所有的單字，找出出現次數最多的5個單字**"
   ]
  },
  {
   "cell_type": "code",
   "execution_count": 32,
   "id": "dd5b246a",
   "metadata": {},
   "outputs": [
    {
     "name": "stdout",
     "output_type": "stream",
     "text": [
      "The Zen of Python, by Tim Peters\n",
      "\n",
      "Beautiful is better than ugly.\n",
      "Explicit is better than implicit.\n",
      "Simple is better than complex.\n",
      "Complex is better than complicated.\n",
      "Flat is better than nested.\n",
      "Sparse is better than dense.\n",
      "Readability counts.\n",
      "Special cases aren't special enough to break the rules.\n",
      "Although practicality beats purity.\n",
      "Errors should never pass silently.\n",
      "Unless explicitly silenced.\n",
      "In the face of ambiguity, refuse the temptation to guess.\n",
      "There should be one-- and preferably only one --obvious way to do it.\n",
      "Although that way may not be obvious at first unless you're Dutch.\n",
      "Now is better than never.\n",
      "Although never is often better than *right* now.\n",
      "If the implementation is hard to explain, it's a bad idea.\n",
      "If the implementation is easy to explain, it may be a good idea.\n",
      "Namespaces are one honking great idea -- let's do more of those!\n"
     ]
    }
   ],
   "source": [
    "import this"
   ]
  },
  {
   "cell_type": "code",
   "execution_count": 33,
   "id": "2c013d4b",
   "metadata": {},
   "outputs": [],
   "source": [
    "s = 'The Zen of Python, by Tim Peters\\\n",
    "Beautiful is better than ugly.\\\n",
    "Explicit is better than implicit.\\\n",
    "Simple is better than complex.\\\n",
    "Complex is better than complicated.\\\n",
    "Flat is better than nested.\\\n",
    "Sparse is better than dense.\\\n",
    "Readability counts.\\\n",
    "Special cases are not special enough to break the rules.\\\n",
    "Although practicality beats purity.\\\n",
    "Errors should never pass silently.\\\n",
    "Unless explicitly silenced.\\\n",
    "In the face of ambiguity, refuse the temptation to guess.\\\n",
    "There should be one-- and preferably only one --obvious way to do it.\\\n",
    "Although that way may not be obvious at first unless you are Dutch.\\\n",
    "Now is better than never.\\\n",
    "Although never is often better than *right* now.\\\n",
    "If the implementation is hard to explain, it is a bad idea.\\\n",
    "If the implementation is easy to explain, it may be a good idea.\\\n",
    "Namespaces are one honking great idea -- let us do more of those!'\n",
    "\n",
    "with open('zen.txt', mode = 'wt', encoding = 'utf-8') as fout:\n",
    "    fout.write(s)"
   ]
  },
  {
   "cell_type": "code",
   "execution_count": 34,
   "id": "2397340a",
   "metadata": {},
   "outputs": [
    {
     "name": "stdout",
     "output_type": "stream",
     "text": [
      "[('is', 11), ('better', 8), ('than', 8), ('the', 6), ('to', 5)]\n"
     ]
    }
   ],
   "source": [
    "from collections import Counter\n",
    "import re\n",
    "with open('zen.txt', mode = 'rt', encoding = 'utf-8') as fout:\n",
    "    s = fout.read().lower()\n",
    "    words = re.findall(r'[\\w\\']+', s)\n",
    "    c = Counter(words)\n",
    "    print(c.most_common(5))"
   ]
  },
  {
   "cell_type": "markdown",
   "id": "a6f32df5",
   "metadata": {},
   "source": [
    "# 綜合應用--備份資料夾"
   ]
  },
  {
   "cell_type": "code",
   "execution_count": 45,
   "id": "47cc66ec",
   "metadata": {},
   "outputs": [
    {
     "name": "stdout",
     "output_type": "stream",
     "text": [
      "檔案C:\\test\\test.txt已成功備份至C:\\test2!\n"
     ]
    }
   ],
   "source": [
    "import shutil\n",
    "from datetime import date\n",
    "\n",
    "def backup_file(source_path, destination_path):\n",
    "    try:\n",
    "        #獲取今天日期\n",
    "        now = date.today()\n",
    "        \n",
    "        #將日期格式化為YYYY-MM-DD的字串\n",
    "        fmt = '%Y-%m-%d'\n",
    "        date_str = now.strftime(fmt)\n",
    "        \n",
    "        #將日期加入目標檔案路徑\n",
    "        destination_path_with_date = destination_path.replace('.txt', f'_{date_str}.txt')\n",
    "        \n",
    "        shutil.copy(source_path, destination_path_with_date)\n",
    "        print(f'檔案{source_path}已成功備份至{destination_path_with_date}!')\n",
    "    except IOError as e:\n",
    "        print(f'備份檔案發生錯誤:{e}')\n",
    "\n",
    "#設定來源檔案路徑和目標檔案路徑\n",
    "source_file = 'C:\\\\test\\\\test.txt'\n",
    "destination_file = 'C:\\\\test2'\n",
    "\n",
    "#呼叫backup_file\n",
    "backup_file(source_file, destination_file)"
   ]
  },
  {
   "cell_type": "markdown",
   "id": "1be4689f",
   "metadata": {},
   "source": [
    "## 習題"
   ]
  },
  {
   "cell_type": "markdown",
   "id": "624e8118",
   "metadata": {},
   "source": [
    "### 韓信點兵"
   ]
  },
  {
   "cell_type": "markdown",
   "id": "3a26f05f",
   "metadata": {},
   "source": [
    "**找出1到2000的所有數字滿足五個五個一數餘2，七個七個一數餘1，十一個十一個一數餘4**"
   ]
  },
  {
   "cell_type": "code",
   "execution_count": 48,
   "id": "9993df71",
   "metadata": {},
   "outputs": [
    {
     "name": "stdout",
     "output_type": "stream",
     "text": [
      "[92, 477, 862, 1247, 1632]\n"
     ]
    }
   ],
   "source": [
    "# 函式filter過濾可迭代物件，只保留符合條件的元素\n",
    "\n",
    "nums = [i for i in range(1, 2001)]\n",
    "nums_new = filter(lambda x : x % 5 == 2 and x % 7 == 1 and x % 11 == 4, nums)\n",
    "print(list(nums_new))"
   ]
  },
  {
   "cell_type": "markdown",
   "id": "aa3f7da8",
   "metadata": {},
   "source": [
    "### 星期與英文的對應"
   ]
  },
  {
   "cell_type": "markdown",
   "id": "b59aef2c",
   "metadata": {},
   "source": [
    "**使用OrderedDict產生星期與英文的對應**"
   ]
  },
  {
   "cell_type": "code",
   "execution_count": 57,
   "id": "d39a9fe7",
   "metadata": {},
   "outputs": [
    {
     "name": "stdout",
     "output_type": "stream",
     "text": [
      "OrderedDict([('星期一', 'Monday'), ('星期二', 'Tuesday'), ('星期三', 'Wednesday'), ('星期四', 'Thursday'), ('星期五', 'Friday'), ('星期六', 'Saturday'), ('星期日', 'Sunday')])\n",
      "========================================\n",
      "星期一 Monday\n",
      "星期二 Tuesday\n",
      "星期三 Wednesday\n",
      "星期四 Thursday\n",
      "星期五 Friday\n",
      "星期六 Saturday\n",
      "星期日 Sunday\n"
     ]
    }
   ],
   "source": [
    "import collections\n",
    "\n",
    "days = ['星期一', '星期二', '星期三', '星期四', '星期五', '星期六', '星期日']\n",
    "eng = ['Monday', 'Tuesday', 'Wednesday', 'Thursday', 'Friday', 'Saturday', 'Sunday']\n",
    "week = collections.OrderedDict(zip(days, eng))\n",
    "print(week)\n",
    "print('=' * 40)\n",
    "\n",
    "week = zip(days, eng)\n",
    "for day, eng in week:\n",
    "    print(day, eng)\n"
   ]
  },
  {
   "cell_type": "markdown",
   "id": "c8958558",
   "metadata": {},
   "source": [
    "### 顯示下個星期的日曆"
   ]
  },
  {
   "cell_type": "markdown",
   "id": "35f37f7f",
   "metadata": {},
   "source": [
    "**使用模組datetime計算目前時間下一個星期的日曆**"
   ]
  },
  {
   "cell_type": "code",
   "execution_count": 63,
   "id": "6502685b",
   "metadata": {},
   "outputs": [
    {
     "name": "stdout",
     "output_type": "stream",
     "text": [
      "2023-06-28(Wed)\n",
      "2023-06-29(Thu)\n",
      "2023-06-30(Fri)\n",
      "2023-07-01(Sat)\n",
      "2023-07-02(Sun)\n",
      "2023-07-03(Mon)\n",
      "2023-07-04(Tue)\n"
     ]
    }
   ],
   "source": [
    "from datetime import datetime, timedelta\n",
    "now = datetime.now()\n",
    "for i in range(7, 14):\n",
    "    di = timedelta(days = i)\n",
    "    nextday = now + di\n",
    "    \n",
    "    fmt = '%Y-%m-%d(%a)'\n",
    "    print(nextday.strftime(fmt))"
   ]
  },
  {
   "cell_type": "markdown",
   "id": "4ebdc63b",
   "metadata": {},
   "source": [
    "### 樂透包牌"
   ]
  },
  {
   "cell_type": "markdown",
   "id": "e7222b1d",
   "metadata": {},
   "source": [
    "**從10個數字4,6,7,8,11,24,35,37,40,48取6個數字，求所有組合的可能性，使用函式enumerate進行編號**"
   ]
  },
  {
   "cell_type": "code",
   "execution_count": 65,
   "id": "b5734db5",
   "metadata": {},
   "outputs": [
    {
     "name": "stdout",
     "output_type": "stream",
     "text": [
      "1 (4, 6, 7, 8, 11, 24)\n",
      "2 (4, 6, 7, 8, 11, 35)\n",
      "3 (4, 6, 7, 8, 11, 37)\n",
      "4 (4, 6, 7, 8, 11, 40)\n",
      "5 (4, 6, 7, 8, 11, 48)\n",
      "6 (4, 6, 7, 8, 24, 35)\n",
      "7 (4, 6, 7, 8, 24, 37)\n",
      "8 (4, 6, 7, 8, 24, 40)\n",
      "9 (4, 6, 7, 8, 24, 48)\n",
      "10 (4, 6, 7, 8, 35, 37)\n",
      "11 (4, 6, 7, 8, 35, 40)\n",
      "12 (4, 6, 7, 8, 35, 48)\n",
      "13 (4, 6, 7, 8, 37, 40)\n",
      "14 (4, 6, 7, 8, 37, 48)\n",
      "15 (4, 6, 7, 8, 40, 48)\n",
      "16 (4, 6, 7, 11, 24, 35)\n",
      "17 (4, 6, 7, 11, 24, 37)\n",
      "18 (4, 6, 7, 11, 24, 40)\n",
      "19 (4, 6, 7, 11, 24, 48)\n",
      "20 (4, 6, 7, 11, 35, 37)\n",
      "21 (4, 6, 7, 11, 35, 40)\n",
      "22 (4, 6, 7, 11, 35, 48)\n",
      "23 (4, 6, 7, 11, 37, 40)\n",
      "24 (4, 6, 7, 11, 37, 48)\n",
      "25 (4, 6, 7, 11, 40, 48)\n",
      "26 (4, 6, 7, 24, 35, 37)\n",
      "27 (4, 6, 7, 24, 35, 40)\n",
      "28 (4, 6, 7, 24, 35, 48)\n",
      "29 (4, 6, 7, 24, 37, 40)\n",
      "30 (4, 6, 7, 24, 37, 48)\n",
      "31 (4, 6, 7, 24, 40, 48)\n",
      "32 (4, 6, 7, 35, 37, 40)\n",
      "33 (4, 6, 7, 35, 37, 48)\n",
      "34 (4, 6, 7, 35, 40, 48)\n",
      "35 (4, 6, 7, 37, 40, 48)\n",
      "36 (4, 6, 8, 11, 24, 35)\n",
      "37 (4, 6, 8, 11, 24, 37)\n",
      "38 (4, 6, 8, 11, 24, 40)\n",
      "39 (4, 6, 8, 11, 24, 48)\n",
      "40 (4, 6, 8, 11, 35, 37)\n",
      "41 (4, 6, 8, 11, 35, 40)\n",
      "42 (4, 6, 8, 11, 35, 48)\n",
      "43 (4, 6, 8, 11, 37, 40)\n",
      "44 (4, 6, 8, 11, 37, 48)\n",
      "45 (4, 6, 8, 11, 40, 48)\n",
      "46 (4, 6, 8, 24, 35, 37)\n",
      "47 (4, 6, 8, 24, 35, 40)\n",
      "48 (4, 6, 8, 24, 35, 48)\n",
      "49 (4, 6, 8, 24, 37, 40)\n",
      "50 (4, 6, 8, 24, 37, 48)\n",
      "51 (4, 6, 8, 24, 40, 48)\n",
      "52 (4, 6, 8, 35, 37, 40)\n",
      "53 (4, 6, 8, 35, 37, 48)\n",
      "54 (4, 6, 8, 35, 40, 48)\n",
      "55 (4, 6, 8, 37, 40, 48)\n",
      "56 (4, 6, 11, 24, 35, 37)\n",
      "57 (4, 6, 11, 24, 35, 40)\n",
      "58 (4, 6, 11, 24, 35, 48)\n",
      "59 (4, 6, 11, 24, 37, 40)\n",
      "60 (4, 6, 11, 24, 37, 48)\n",
      "61 (4, 6, 11, 24, 40, 48)\n",
      "62 (4, 6, 11, 35, 37, 40)\n",
      "63 (4, 6, 11, 35, 37, 48)\n",
      "64 (4, 6, 11, 35, 40, 48)\n",
      "65 (4, 6, 11, 37, 40, 48)\n",
      "66 (4, 6, 24, 35, 37, 40)\n",
      "67 (4, 6, 24, 35, 37, 48)\n",
      "68 (4, 6, 24, 35, 40, 48)\n",
      "69 (4, 6, 24, 37, 40, 48)\n",
      "70 (4, 6, 35, 37, 40, 48)\n",
      "71 (4, 7, 8, 11, 24, 35)\n",
      "72 (4, 7, 8, 11, 24, 37)\n",
      "73 (4, 7, 8, 11, 24, 40)\n",
      "74 (4, 7, 8, 11, 24, 48)\n",
      "75 (4, 7, 8, 11, 35, 37)\n",
      "76 (4, 7, 8, 11, 35, 40)\n",
      "77 (4, 7, 8, 11, 35, 48)\n",
      "78 (4, 7, 8, 11, 37, 40)\n",
      "79 (4, 7, 8, 11, 37, 48)\n",
      "80 (4, 7, 8, 11, 40, 48)\n",
      "81 (4, 7, 8, 24, 35, 37)\n",
      "82 (4, 7, 8, 24, 35, 40)\n",
      "83 (4, 7, 8, 24, 35, 48)\n",
      "84 (4, 7, 8, 24, 37, 40)\n",
      "85 (4, 7, 8, 24, 37, 48)\n",
      "86 (4, 7, 8, 24, 40, 48)\n",
      "87 (4, 7, 8, 35, 37, 40)\n",
      "88 (4, 7, 8, 35, 37, 48)\n",
      "89 (4, 7, 8, 35, 40, 48)\n",
      "90 (4, 7, 8, 37, 40, 48)\n",
      "91 (4, 7, 11, 24, 35, 37)\n",
      "92 (4, 7, 11, 24, 35, 40)\n",
      "93 (4, 7, 11, 24, 35, 48)\n",
      "94 (4, 7, 11, 24, 37, 40)\n",
      "95 (4, 7, 11, 24, 37, 48)\n",
      "96 (4, 7, 11, 24, 40, 48)\n",
      "97 (4, 7, 11, 35, 37, 40)\n",
      "98 (4, 7, 11, 35, 37, 48)\n",
      "99 (4, 7, 11, 35, 40, 48)\n",
      "100 (4, 7, 11, 37, 40, 48)\n",
      "101 (4, 7, 24, 35, 37, 40)\n",
      "102 (4, 7, 24, 35, 37, 48)\n",
      "103 (4, 7, 24, 35, 40, 48)\n",
      "104 (4, 7, 24, 37, 40, 48)\n",
      "105 (4, 7, 35, 37, 40, 48)\n",
      "106 (4, 8, 11, 24, 35, 37)\n",
      "107 (4, 8, 11, 24, 35, 40)\n",
      "108 (4, 8, 11, 24, 35, 48)\n",
      "109 (4, 8, 11, 24, 37, 40)\n",
      "110 (4, 8, 11, 24, 37, 48)\n",
      "111 (4, 8, 11, 24, 40, 48)\n",
      "112 (4, 8, 11, 35, 37, 40)\n",
      "113 (4, 8, 11, 35, 37, 48)\n",
      "114 (4, 8, 11, 35, 40, 48)\n",
      "115 (4, 8, 11, 37, 40, 48)\n",
      "116 (4, 8, 24, 35, 37, 40)\n",
      "117 (4, 8, 24, 35, 37, 48)\n",
      "118 (4, 8, 24, 35, 40, 48)\n",
      "119 (4, 8, 24, 37, 40, 48)\n",
      "120 (4, 8, 35, 37, 40, 48)\n",
      "121 (4, 11, 24, 35, 37, 40)\n",
      "122 (4, 11, 24, 35, 37, 48)\n",
      "123 (4, 11, 24, 35, 40, 48)\n",
      "124 (4, 11, 24, 37, 40, 48)\n",
      "125 (4, 11, 35, 37, 40, 48)\n",
      "126 (4, 24, 35, 37, 40, 48)\n",
      "127 (6, 7, 8, 11, 24, 35)\n",
      "128 (6, 7, 8, 11, 24, 37)\n",
      "129 (6, 7, 8, 11, 24, 40)\n",
      "130 (6, 7, 8, 11, 24, 48)\n",
      "131 (6, 7, 8, 11, 35, 37)\n",
      "132 (6, 7, 8, 11, 35, 40)\n",
      "133 (6, 7, 8, 11, 35, 48)\n",
      "134 (6, 7, 8, 11, 37, 40)\n",
      "135 (6, 7, 8, 11, 37, 48)\n",
      "136 (6, 7, 8, 11, 40, 48)\n",
      "137 (6, 7, 8, 24, 35, 37)\n",
      "138 (6, 7, 8, 24, 35, 40)\n",
      "139 (6, 7, 8, 24, 35, 48)\n",
      "140 (6, 7, 8, 24, 37, 40)\n",
      "141 (6, 7, 8, 24, 37, 48)\n",
      "142 (6, 7, 8, 24, 40, 48)\n",
      "143 (6, 7, 8, 35, 37, 40)\n",
      "144 (6, 7, 8, 35, 37, 48)\n",
      "145 (6, 7, 8, 35, 40, 48)\n",
      "146 (6, 7, 8, 37, 40, 48)\n",
      "147 (6, 7, 11, 24, 35, 37)\n",
      "148 (6, 7, 11, 24, 35, 40)\n",
      "149 (6, 7, 11, 24, 35, 48)\n",
      "150 (6, 7, 11, 24, 37, 40)\n",
      "151 (6, 7, 11, 24, 37, 48)\n",
      "152 (6, 7, 11, 24, 40, 48)\n",
      "153 (6, 7, 11, 35, 37, 40)\n",
      "154 (6, 7, 11, 35, 37, 48)\n",
      "155 (6, 7, 11, 35, 40, 48)\n",
      "156 (6, 7, 11, 37, 40, 48)\n",
      "157 (6, 7, 24, 35, 37, 40)\n",
      "158 (6, 7, 24, 35, 37, 48)\n",
      "159 (6, 7, 24, 35, 40, 48)\n",
      "160 (6, 7, 24, 37, 40, 48)\n",
      "161 (6, 7, 35, 37, 40, 48)\n",
      "162 (6, 8, 11, 24, 35, 37)\n",
      "163 (6, 8, 11, 24, 35, 40)\n",
      "164 (6, 8, 11, 24, 35, 48)\n",
      "165 (6, 8, 11, 24, 37, 40)\n",
      "166 (6, 8, 11, 24, 37, 48)\n",
      "167 (6, 8, 11, 24, 40, 48)\n",
      "168 (6, 8, 11, 35, 37, 40)\n",
      "169 (6, 8, 11, 35, 37, 48)\n",
      "170 (6, 8, 11, 35, 40, 48)\n",
      "171 (6, 8, 11, 37, 40, 48)\n",
      "172 (6, 8, 24, 35, 37, 40)\n",
      "173 (6, 8, 24, 35, 37, 48)\n",
      "174 (6, 8, 24, 35, 40, 48)\n",
      "175 (6, 8, 24, 37, 40, 48)\n",
      "176 (6, 8, 35, 37, 40, 48)\n",
      "177 (6, 11, 24, 35, 37, 40)\n",
      "178 (6, 11, 24, 35, 37, 48)\n",
      "179 (6, 11, 24, 35, 40, 48)\n",
      "180 (6, 11, 24, 37, 40, 48)\n",
      "181 (6, 11, 35, 37, 40, 48)\n",
      "182 (6, 24, 35, 37, 40, 48)\n",
      "183 (7, 8, 11, 24, 35, 37)\n",
      "184 (7, 8, 11, 24, 35, 40)\n",
      "185 (7, 8, 11, 24, 35, 48)\n",
      "186 (7, 8, 11, 24, 37, 40)\n",
      "187 (7, 8, 11, 24, 37, 48)\n",
      "188 (7, 8, 11, 24, 40, 48)\n",
      "189 (7, 8, 11, 35, 37, 40)\n",
      "190 (7, 8, 11, 35, 37, 48)\n",
      "191 (7, 8, 11, 35, 40, 48)\n",
      "192 (7, 8, 11, 37, 40, 48)\n",
      "193 (7, 8, 24, 35, 37, 40)\n",
      "194 (7, 8, 24, 35, 37, 48)\n",
      "195 (7, 8, 24, 35, 40, 48)\n",
      "196 (7, 8, 24, 37, 40, 48)\n",
      "197 (7, 8, 35, 37, 40, 48)\n",
      "198 (7, 11, 24, 35, 37, 40)\n",
      "199 (7, 11, 24, 35, 37, 48)\n",
      "200 (7, 11, 24, 35, 40, 48)\n",
      "201 (7, 11, 24, 37, 40, 48)\n",
      "202 (7, 11, 35, 37, 40, 48)\n",
      "203 (7, 24, 35, 37, 40, 48)\n",
      "204 (8, 11, 24, 35, 37, 40)\n",
      "205 (8, 11, 24, 35, 37, 48)\n",
      "206 (8, 11, 24, 35, 40, 48)\n",
      "207 (8, 11, 24, 37, 40, 48)\n",
      "208 (8, 11, 35, 37, 40, 48)\n",
      "209 (8, 24, 35, 37, 40, 48)\n",
      "210 (11, 24, 35, 37, 40, 48)\n"
     ]
    }
   ],
   "source": [
    "#enumerate(sequence, start = 0) : 將sequence中元素進行編號，由start開始編號\n",
    "\n",
    "import itertools\n",
    "nums = [4,6,7,8,11,24,35,37,40,48]\n",
    "comb = itertools.combinations(nums, 6)\n",
    "\n",
    "for count, data in enumerate(list(comb), start = 1):\n",
    "    print(count, data)"
   ]
  },
  {
   "cell_type": "markdown",
   "id": "0ba8013a",
   "metadata": {},
   "source": [
    "### 找出一首詩中出現頻率最多的兩個字"
   ]
  },
  {
   "cell_type": "markdown",
   "id": "f30c31af",
   "metadata": {},
   "source": [
    "**使用模組`re`去除詩的標點符號，經由模組`Counter`計算出現頻率最多的2個字，本題以`李白的將進酒`為範例**"
   ]
  },
  {
   "cell_type": "code",
   "execution_count": 77,
   "id": "cd8b7a74",
   "metadata": {},
   "outputs": [
    {
     "name": "stdout",
     "output_type": "stream",
     "text": [
      "[('君', 6), ('不', 5)]\n"
     ]
    }
   ],
   "source": [
    "from collections import Counter\n",
    "import re\n",
    "\n",
    "s = '君不見黃河之水天上來，奔流到海不復回。\\\n",
    "君不見高堂明鏡悲白髮，朝如青絲暮成雪。\\\n",
    "人生得意須盡歡，莫使金樽空對月。\\\n",
    "天生我材必有用，千金散盡還復來。\\\n",
    "烹羊宰牛且為樂，會須一飲三百杯。\\\n",
    "岑夫子，丹丘生，將進酒，君莫停。\\\n",
    "與君歌一曲，請君為我側耳聽。\\\n",
    "鐘鼓饌玉不足貴，但願長醉不復醒。\\\n",
    "古來聖賢皆寂寞，惟有飲者留其名。\\\n",
    "陳王昔時宴平樂，斗酒十千恣讙謔。\\\n",
    "主人何為言少錢，徑須沽取對君酌。\\\n",
    "五花馬，千金裘，呼兒將出換美酒，\\\n",
    "與爾同消萬古愁。'\n",
    "\n",
    "s2 = re.findall(r'\\w', s) #在字串s中尋找所有的字母、數字和底線字符，並將它們存放在 s2 的列表中\n",
    "wc = Counter(s2)\n",
    "print(wc.most_common(2))"
   ]
  },
  {
   "cell_type": "code",
   "execution_count": null,
   "id": "e95e479d",
   "metadata": {},
   "outputs": [],
   "source": []
  }
 ],
 "metadata": {
  "kernelspec": {
   "display_name": "Python 3 (ipykernel)",
   "language": "python",
   "name": "python3"
  },
  "language_info": {
   "codemirror_mode": {
    "name": "ipython",
    "version": 3
   },
   "file_extension": ".py",
   "mimetype": "text/x-python",
   "name": "python",
   "nbconvert_exporter": "python",
   "pygments_lexer": "ipython3",
   "version": "3.9.12"
  }
 },
 "nbformat": 4,
 "nbformat_minor": 5
}
