{
 "cells": [
  {
   "cell_type": "markdown",
   "id": "35cac47d",
   "metadata": {},
   "source": [
    "# 存取SQLite"
   ]
  },
  {
   "cell_type": "markdown",
   "id": "96c10452",
   "metadata": {},
   "source": [
    "**SQLite為檔案型的關聯式資料庫，使用一個檔案當成資料庫，不用安裝資料庫伺服器，就可以練習SQL語法操作資料庫，因為SQLite資料庫的資料存取速度不是很好，當所需儲存的資料不多，就可以使用SQLite資料庫。Python提供模組`sqlite3`實作SQLite資料庫，以下介紹模組`sqlite3`的重要函式。**"
   ]
  },
  {
   "cell_type": "markdown",
   "id": "27276bdd",
   "metadata": {},
   "source": [
    "**模組`sqlite3`用於管理SQLite資料庫，經由模組`sqlite3`所提供的函式來連線資料庫，進行資料庫的新增、刪除與更新資料。以下介紹模組`sqlite3`的重要函式。**"
   ]
  },
  {
   "cell_type": "markdown",
   "id": "b92fc9fd",
   "metadata": {},
   "source": [
    "- **`sqlite3.connect(file)` : 連線檔案file為SQLite資料庫，回傳物件sqlite3.Connection**\n",
    "- **`sqlite3.Connection.cursor()` : 將物件sqlite3.Connection經由函式cursor，回傳物件sqlite3.Cursor**\n",
    "- **`sqlite3.Cursor.execute(sql)` : 經由物件sqlite3.Cursor執行SQL語法，管理指定的SQLite資料庫**\n",
    "- **`sqlite3.Cursor.fetchall()` : 配合sqlite3.Cursor.execute(sql)中的SQL語法所選取的資料，使用函式fetchall()，取出所有資料儲存到串列**\n",
    "- **`sqlite3.Cursor.close()` : 關閉指定的物件Cursor**"
   ]
  },
  {
   "cell_type": "markdown",
   "id": "bc6838dc",
   "metadata": {},
   "source": [
    "## 使用模組`sqlite3`管理SQLite資料庫"
   ]
  },
  {
   "cell_type": "markdown",
   "id": "a5181c19",
   "metadata": {},
   "source": [
    "**使用模組`sqlite3`新增資料庫school，新增資料表stu，用於儲存學生學號、姓名、身分證字號與電話，並練習新增一筆資料到資料表stu**"
   ]
  },
  {
   "cell_type": "code",
   "execution_count": 2,
   "id": "61ac0b0a",
   "metadata": {},
   "outputs": [
    {
     "name": "stdout",
     "output_type": "stream",
     "text": [
      "[(104001, 'Claire', 'B342222', '1245667')]\n"
     ]
    }
   ],
   "source": [
    "import sqlite3\n",
    "\n",
    "con = sqlite3.connect('school.db')\n",
    "cur = con.cursor()\n",
    "\n",
    "cur.execute(\"DROP TABLE stu\")\n",
    "\n",
    "cur.execute(\"\"\"CREATE TABLE stu(\n",
    "                stuId InTEGER PRIMARY KEY,\n",
    "                name VARCHAR(50) not null,\n",
    "                pId VARCHAR(20) not null,\n",
    "                phone VARCHAR(20) not null)\"\"\")\n",
    "\n",
    "cur.execute(\"INSERT INTO stu VALUES (104001, 'Claire', 'B342222', '1245667')\")\n",
    "\n",
    "cur.execute(\"SELECT * FROM stu\")\n",
    "\n",
    "rows = cur.fetchall()\n",
    "print(rows)\n",
    "cur.close()"
   ]
  },
  {
   "cell_type": "markdown",
   "id": "6c1b704b",
   "metadata": {},
   "source": [
    "# 使用`SQLAlchemy`與`PyMysql`存取Mysql"
   ]
  },
  {
   "cell_type": "markdown",
   "id": "d9b32d85",
   "metadata": {},
   "source": [
    "**模組`SQLAlchemy`用於連線資料庫，而模組`PyMysql`是模組`SQLAlchemy`連線資料庫時，所指定的Mysql資料庫驅動程式。模組`SQLAlchemy`的重要函式如下:**"
   ]
  },
  {
   "cell_type": "markdown",
   "id": "6e9afd29",
   "metadata": {},
   "source": [
    "- **`sqlalchemy.create_engine(db)` : 利用物件Sqlalchemy的函式`create_engine`，以連線字串db為輸入，連線指定的資料庫，回傳物件Connection**\n",
    "    - **註:連線字串db格式為`資料庫類型+驅動程式://使用者名稱:密碼@主機名稱[:Mysql的連接渠道]/資料庫名稱`**\n",
    "- **`sqlalchemy.engine.Connection.execute(sql)` : 利用物件Connection的函式`execute`執行指定的sql，回傳物件ResultProxy**\n",
    "- **`sqlalchemy.engine.ResultProxy.fetchall()` : 利用物件ResultProxy的函式`fetchall`取出物件ResultProxy的所有資料到串列**"
   ]
  },
  {
   "cell_type": "markdown",
   "id": "4ac9eb09",
   "metadata": {},
   "source": [
    "## 使用模組`SQLAlchemy`與`PyMysql`管理Mysql資料庫"
   ]
  },
  {
   "cell_type": "markdown",
   "id": "61292bfd",
   "metadata": {},
   "source": [
    "**使用模組`SQLAlchemy`與`PyMysql`連線Mysql資料庫，建立資料庫school與資料表stu，插入資料到資料表stu，取出資料表stu的所有資料，最後刪除資料表stu與資料庫school**"
   ]
  },
  {
   "cell_type": "code",
   "execution_count": 3,
   "id": "d797a0b1",
   "metadata": {},
   "outputs": [
    {
     "name": "stdout",
     "output_type": "stream",
     "text": [
      "連接成功\n"
     ]
    }
   ],
   "source": [
    "import pymysql\n",
    "\n",
    "try:\n",
    "    connect_db = pymysql.connect(host=\"localhost\", user=\"root\", password=\"\", \n",
    "                                 database=\"school\", charset='utf8' )\n",
    "    print('連接成功')\n",
    "    \n",
    "except pymysql.Error as e:\n",
    "    print('連接失敗' + str(e))"
   ]
  },
  {
   "cell_type": "code",
   "execution_count": 4,
   "id": "f861193a",
   "metadata": {
    "scrolled": true
   },
   "outputs": [
    {
     "name": "stdout",
     "output_type": "stream",
     "text": [
      "(104001, 'Claire', 'B342222', '1245667')\n"
     ]
    }
   ],
   "source": [
    "with connect_db.cursor() as cursor:\n",
    "    cursor.execute('CREATE DATABASE IF NOT EXISTS school')\n",
    "    cursor.execute('USE school')\n",
    "    \n",
    "    sql = \"\"\"CREATE TABLE stu(\n",
    "            stuId INTEGER PRIMARY KEY,\n",
    "            name VARCHAR(50) not null,\n",
    "            pId VARCHAR(20) not null,\n",
    "            phone VARCHAR(20) not null)\"\"\"\n",
    "    # 執行 SQL 指令\n",
    "    cursor.execute(sql)\n",
    "    \n",
    "    sql = \"INSERT INTO stu VALUES (104001, 'Claire', 'B342222', '1245667')\"\n",
    "    # 執行 SQL 指令\n",
    "    cursor.execute(sql)\n",
    "    \n",
    "    # 取出全部資料\n",
    "    cursor.execute(\"SELECT * FROM stu\")\n",
    "    rows = cursor.fetchall()\n",
    "    for row in rows:\n",
    "        print(row)\n",
    "\n",
    "    cursor.execute('DROP TABLE IF EXISTS stu')\n",
    "    cursor.execute('DROP DATABASE IF EXISTS school')\n",
    "    \n",
    "# 關閉 SQL 連線\n",
    "connect_db.close()"
   ]
  },
  {
   "cell_type": "markdown",
   "id": "bd8d9e93",
   "metadata": {},
   "source": [
    "# 習題"
   ]
  },
  {
   "cell_type": "markdown",
   "id": "10d760a9",
   "metadata": {},
   "source": [
    "## 查詢學生成績"
   ]
  },
  {
   "cell_type": "markdown",
   "id": "2f6f68ee",
   "metadata": {},
   "source": [
    "**使用SQL語法`SELECT FROM WHERE`，結合學生基本資料表與成績表查詢學生成績，學生成績由姓名(name)、學期(sem)、科目(sub)與成績(score)組成**"
   ]
  },
  {
   "cell_type": "code",
   "execution_count": 5,
   "id": "422be1d3",
   "metadata": {},
   "outputs": [
    {
     "name": "stdout",
     "output_type": "stream",
     "text": [
      "連接成功\n"
     ]
    }
   ],
   "source": [
    "import pymysql\n",
    "\n",
    "try:\n",
    "    connect_db = pymysql.connect(host=\"localhost\", user=\"root\", password=\"\", \n",
    "                                 database=\"practice\", charset='utf8' )\n",
    "    print('連接成功')\n",
    "    \n",
    "except pymysql.Error as e:\n",
    "    print('連接失敗' + str(e))"
   ]
  },
  {
   "cell_type": "code",
   "execution_count": 6,
   "id": "c698f12d",
   "metadata": {},
   "outputs": [
    {
     "name": "stdout",
     "output_type": "stream",
     "text": [
      "('Claire', '1041', 'CH', 95)\n",
      "('Claire', '1041', 'EN', 83)\n",
      "('John', '1041', 'CH', 65)\n",
      "('John', '1041', 'EN', 96)\n"
     ]
    }
   ],
   "source": [
    "with connect_db.cursor() as cursor:\n",
    "    # 創建學生資料表\n",
    "    sql = \"\"\"CREATE TABLE stu(\n",
    "            stuId INTEGER PRIMARY KEY,\n",
    "            name VARCHAR(50) not null,\n",
    "            pId VARCHAR(20) not null,\n",
    "            phone VARCHAR(20) not null)\"\"\"\n",
    "    # 執行 SQL 指令\n",
    "    cursor.execute(sql)\n",
    "    \n",
    "    sql = \"INSERT INTO stu VALUES (104001, 'Claire', 'B342222', '1245667')\"\n",
    "    # 執行 SQL 指令\n",
    "    cursor.execute(sql)\n",
    "    \n",
    "    sql = \"INSERT INTO stu VALUES (104002, 'John', 'J224122', '222455')\"\n",
    "    # 執行 SQL 指令\n",
    "    cursor.execute(sql)\n",
    "    #--------------------------------------------------------------------------------\n",
    "    \n",
    "    # 創建成績表\n",
    "    sql = \"\"\"CREATE TABLE score(\n",
    "            stuId INTEGER not null,\n",
    "            sem VARCHAR(50) not null,\n",
    "            sub VARCHAR(20) not null,\n",
    "            score INT not null)\"\"\"\n",
    "    # 執行 SQL 指令\n",
    "    cursor.execute(sql)\n",
    "    \n",
    "    sql = \"INSERT INTO score VALUES (104001, '1041', 'CH', 95)\"\n",
    "    # 執行 SQL 指令\n",
    "    cursor.execute(sql)\n",
    "    \n",
    "    sql = \"INSERT INTO score VALUES (104001, '1041', 'EN', 83)\"\n",
    "    # 執行 SQL 指令\n",
    "    cursor.execute(sql)\n",
    "    \n",
    "    sql = \"INSERT INTO score VALUES (104002, '1041', 'CH', 65)\"\n",
    "    # 執行 SQL 指令\n",
    "    cursor.execute(sql)\n",
    "    \n",
    "    sql = \"INSERT INTO score VALUES (104002, '1041', 'EN', 96)\"\n",
    "    # 執行 SQL 指令\n",
    "    cursor.execute(sql)\n",
    "    \n",
    "    #--------------------------------------------------------------------------------\n",
    "    # 查詢成績\n",
    "    sql = \"SELECT stu.name, score.sem, score.sub, score.score FROM\\\n",
    "            stu, score WHERE stu.stuId = score.stuId\"\n",
    "    cursor.execute(sql)\n",
    "    rows = cursor.fetchall()\n",
    "    for row in rows:\n",
    "        print(row)\n",
    "    \n",
    "    #--------------------------------------------------------------------------------\n",
    "    #刪除資料表與資料庫\n",
    "#     cursor.execute('DROP TABLE IF EXISTS stu')\n",
    "#     cursor.execute('DROP TABLE IF EXISTS score')\n",
    "#     cursor.execute('DROP DATABASE IF EXISTS practice')\n",
    "    \n",
    "# 關閉 SQL 連線\n",
    "connect_db.close()"
   ]
  },
  {
   "cell_type": "markdown",
   "id": "c98d1bf8",
   "metadata": {},
   "source": [
    "## 修改學生成績"
   ]
  },
  {
   "cell_type": "markdown",
   "id": "6203db42",
   "metadata": {},
   "source": [
    "**學生基本資料表與成績表同上題，修改成績表中學號為`104001`，學期為`1041`，科目為`EN`的成績，由83改成89，使用`UPDATE SET WHERE`修改成績**"
   ]
  },
  {
   "cell_type": "code",
   "execution_count": 7,
   "id": "1b692a6d",
   "metadata": {},
   "outputs": [
    {
     "name": "stdout",
     "output_type": "stream",
     "text": [
      "連接成功\n"
     ]
    }
   ],
   "source": [
    "import pymysql\n",
    "\n",
    "try:\n",
    "    connect_db = pymysql.connect(host=\"localhost\", user=\"root\", password=\"\", \n",
    "                                 database=\"practice\", charset='utf8' )\n",
    "    print('連接成功')\n",
    "    \n",
    "except pymysql.Error as e:\n",
    "    print('連接失敗' + str(e))"
   ]
  },
  {
   "cell_type": "code",
   "execution_count": 8,
   "id": "b97c62c8",
   "metadata": {},
   "outputs": [],
   "source": [
    "with connect_db.cursor() as cursor:\n",
    "    # 查詢成績\n",
    "    sql = \"SELECT stu.name, score.sem, score.sub, score.score FROM\\\n",
    "            stu, score WHERE stu.stuId = score.stuId\"\n",
    "    cursor.execute(sql)\n",
    "    rows = cursor.fetchall()\n",
    "    for row in rows:\n",
    "        print(row)\n",
    "    \n",
    "    # 修改成績\n",
    "    sql = \"UPDATE score SET score=89 WHERE stuId=104001 and sem='1041' and sub='EN'\"\n",
    "    # 執行 SQL 指令\n",
    "    cursor.execute(sql)\n",
    "    \n",
    "    #--------------------------------------------------------------------------------\n",
    "    # 查詢成績\n",
    "    sql = \"SELECT stu.name, score.sem, score.sub, score.score FROM\\\n",
    "            stu, score WHERE stu.stuId = score.stuId\"\n",
    "    cursor.execute(sql)\n",
    "    rows = cursor.fetchall()\n",
    "    for row in rows:\n",
    "        print(row)\n",
    "    \n",
    "    #--------------------------------------------------------------------------------\n",
    "    #刪除資料表與資料庫\n",
    "#     cursor.execute('DROP TABLE IF EXISTS stu')\n",
    "#     cursor.execute('DROP TABLE IF EXISTS score')\n",
    "#     cursor.execute('DROP DATABASE IF EXISTS practice')\n",
    "    \n",
    "# 關閉 SQL 連線\n",
    "connect_db.close()"
   ]
  },
  {
   "cell_type": "code",
   "execution_count": null,
   "id": "d7d29078",
   "metadata": {},
   "outputs": [],
   "source": []
  }
 ],
 "metadata": {
  "kernelspec": {
   "display_name": "Python 3 (ipykernel)",
   "language": "python",
   "name": "python3"
  },
  "language_info": {
   "codemirror_mode": {
    "name": "ipython",
    "version": 3
   },
   "file_extension": ".py",
   "mimetype": "text/x-python",
   "name": "python",
   "nbconvert_exporter": "python",
   "pygments_lexer": "ipython3",
   "version": "3.9.12"
  }
 },
 "nbformat": 4,
 "nbformat_minor": 5
}
