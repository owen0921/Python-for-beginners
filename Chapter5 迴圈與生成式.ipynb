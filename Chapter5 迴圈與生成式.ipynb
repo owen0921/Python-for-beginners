{
 "cells": [
  {
   "cell_type": "code",
   "execution_count": 1,
   "id": "d343c4c2",
   "metadata": {},
   "outputs": [
    {
     "name": "stdout",
     "output_type": "stream",
     "text": [
      "Please enter the start number : 65\n",
      "Please enter the end number : 70\n",
      "A\n",
      "B\n",
      "C\n",
      "D\n",
      "E\n"
     ]
    }
   ],
   "source": [
    "# 產生ASCII碼\n",
    "\n",
    "start = int(input('Please enter the start number : '))\n",
    "end = int(input('Please enter the end number : '))\n",
    "for i in range(start, end):\n",
    "    print(chr(i)) # chr將整數轉換成對應的ASCII字元"
   ]
  },
  {
   "cell_type": "code",
   "execution_count": 2,
   "id": "8c2316cf",
   "metadata": {},
   "outputs": [
    {
     "name": "stdout",
     "output_type": "stream",
     "text": [
      "Please enter the start number : 3\n",
      "Please enter the end number : 13\n",
      "Please enter the increase or decrease number : 3\n",
      "i is 3. The sum is 3\n",
      "i is 6. The sum is 9\n",
      "i is 9. The sum is 18\n",
      "i is 12. The sum is 30\n"
     ]
    }
   ],
   "source": [
    "# 加總\n",
    "\n",
    "s = int(input('Please enter the start number : '))\n",
    "e = int(input('Please enter the end number : '))\n",
    "inc = int(input('Please enter the increase or decrease number : '))\n",
    "\n",
    "sum = 0\n",
    "for i in range(s, e, inc):\n",
    "    sum += i\n",
    "    print(f'i is {i}. The sum is {sum}')"
   ]
  },
  {
   "cell_type": "code",
   "execution_count": 3,
   "id": "7f86111d",
   "metadata": {},
   "outputs": [
    {
     "name": "stdout",
     "output_type": "stream",
     "text": [
      "Please enter a number : 10\n",
      "4階乘為24大於10\n"
     ]
    }
   ],
   "source": [
    "# 階乘計算\n",
    "\n",
    "i = 1\n",
    "fac = 1\n",
    "M = int(input('Please enter a number : '))\n",
    "\n",
    "while(fac < M):\n",
    "    i += 1\n",
    "    fac *= i\n",
    "print(f'{i}階乘為{fac}大於{M}')"
   ]
  },
  {
   "cell_type": "code",
   "execution_count": 4,
   "id": "257f8fb4",
   "metadata": {},
   "outputs": [
    {
     "name": "stdout",
     "output_type": "stream",
     "text": [
      "請輸入數字 : 50\n",
      "猜大一點\n",
      "請輸入數字 : 75\n",
      "猜小一點\n",
      "請輸入數字 : 60\n",
      "恭喜答對!\n"
     ]
    }
   ],
   "source": [
    "# 猜數字\n",
    "\n",
    "import random\n",
    "target = random.randint(1,99)\n",
    "guess = 0\n",
    "\n",
    "while target != guess:\n",
    "    guess = int(input('請輸入數字 : '))\n",
    "    if target < guess:\n",
    "        print('猜小一點')\n",
    "    elif target > guess:\n",
    "        print('猜大一點')\n",
    "    else:\n",
    "        print('恭喜答對!')"
   ]
  },
  {
   "cell_type": "code",
   "execution_count": 5,
   "id": "3dde3841",
   "metadata": {},
   "outputs": [
    {
     "name": "stdout",
     "output_type": "stream",
     "text": [
      "Please enter a number : 37\n",
      "This is a prime.\n"
     ]
    }
   ],
   "source": [
    "# 質數判斷\n",
    "\n",
    "num = int(input('Please enter a number : '))\n",
    "i = 2\n",
    "isPrime = True\n",
    "\n",
    "while i < num:\n",
    "    if (num % i == 0):\n",
    "        isPrime = False\n",
    "        break\n",
    "    else:\n",
    "        i += 1\n",
    "\n",
    "if isPrime:\n",
    "    print('This is a prime.')\n",
    "else:\n",
    "    print('This is not a prime.')"
   ]
  },
  {
   "cell_type": "code",
   "execution_count": 6,
   "id": "2bb08ee9",
   "metadata": {},
   "outputs": [
    {
     "name": "stdout",
     "output_type": "stream",
     "text": [
      "Please enter a number : 37\n",
      "This is a prime.\n"
     ]
    }
   ],
   "source": [
    "# 質數判斷(函式)\n",
    "\n",
    "def isPrime(num):\n",
    "    for i in range(2, num):\n",
    "        if(num % i == 0):\n",
    "            return False\n",
    "    return True\n",
    "\n",
    "num = int(input('Please enter a number : '))\n",
    "if(isPrime(num)):\n",
    "    print('This is a prime.')\n",
    "else:\n",
    "    print('This is not a prime.')"
   ]
  },
  {
   "cell_type": "code",
   "execution_count": 7,
   "id": "5a860411",
   "metadata": {},
   "outputs": [
    {
     "name": "stdout",
     "output_type": "stream",
     "text": [
      "1*1=1\t1*2=2\t1*3=3\t1*4=4\t1*5=5\t1*6=6\t1*7=7\t1*8=8\t1*9=9\t2*1=2\t2*2=4\t2*3=6\t2*4=8\t2*5=10\t2*6=12\t2*7=14\t2*8=16\t2*9=18\t3*1=3\t3*2=6\t3*3=9\t3*4=12\t3*5=15\t3*6=18\t3*7=21\t3*8=24\t3*9=27\t4*1=4\t4*2=8\t4*3=12\t4*4=16\t4*5=20\t4*6=24\t4*7=28\t4*8=32\t4*9=36\t5*1=5\t5*2=10\t5*3=15\t5*4=20\t5*5=25\t5*6=30\t5*7=35\t5*8=40\t5*9=45\t6*1=6\t6*2=12\t6*3=18\t6*4=24\t6*5=30\t6*6=36\t6*7=42\t6*8=48\t6*9=54\t7*1=7\t7*2=14\t7*3=21\t7*4=28\t7*5=35\t7*6=42\t7*7=49\t7*8=56\t7*9=63\t8*1=8\t8*2=16\t8*3=24\t8*4=32\t8*5=40\t8*6=48\t8*7=56\t8*8=64\t8*9=72\t9*1=9\t9*2=18\t9*3=27\t9*4=36\t9*5=45\t9*6=54\t9*7=63\t9*8=72\t9*9=81\t"
     ]
    }
   ],
   "source": [
    "# 九九乘法表\n",
    "\n",
    "for i in range(1,10):\n",
    "    for j in range(1,10):\n",
    "        print(i, '*', j, '=', i * j, '\\t', sep = '', end = '')"
   ]
  },
  {
   "cell_type": "code",
   "execution_count": 8,
   "id": "1ac19f10",
   "metadata": {},
   "outputs": [
    {
     "name": "stdout",
     "output_type": "stream",
     "text": [
      "2是質數\n",
      "3是質數\n",
      "5是質數\n",
      "7是質數\n",
      "11是質數\n",
      "13是質數\n",
      "17是質數\n",
      "19是質數\n",
      "23是質數\n",
      "29是質數\n",
      "31是質數\n",
      "37是質數\n",
      "41是質數\n",
      "43是質數\n",
      "47是質數\n",
      "53是質數\n",
      "59是質數\n",
      "61是質數\n",
      "67是質數\n",
      "71是質數\n",
      "73是質數\n",
      "79是質數\n",
      "83是質數\n",
      "89是質數\n",
      "97是質數\n",
      "101是質數\n",
      "103是質數\n",
      "107是質數\n",
      "109是質數\n",
      "113是質數\n",
      "127是質數\n",
      "131是質數\n",
      "137是質數\n",
      "139是質數\n",
      "149是質數\n",
      "151是質數\n",
      "157是質數\n",
      "163是質數\n",
      "167是質數\n",
      "173是質數\n",
      "179是質數\n",
      "181是質數\n",
      "191是質數\n",
      "193是質數\n",
      "197是質數\n",
      "199是質數\n",
      "211是質數\n",
      "223是質數\n",
      "227是質數\n",
      "229是質數\n",
      "233是質數\n",
      "239是質數\n",
      "241是質數\n",
      "251是質數\n",
      "257是質數\n",
      "263是質數\n",
      "269是質數\n",
      "271是質數\n",
      "277是質數\n",
      "281是質數\n",
      "283是質數\n",
      "293是質數\n",
      "307是質數\n",
      "311是質數\n",
      "313是質數\n",
      "317是質數\n",
      "331是質數\n",
      "337是質數\n",
      "347是質數\n",
      "349是質數\n",
      "353是質數\n",
      "359是質數\n",
      "367是質數\n",
      "373是質數\n",
      "379是質數\n",
      "383是質數\n",
      "389是質數\n",
      "397是質數\n",
      "401是質數\n",
      "409是質數\n",
      "419是質數\n",
      "421是質數\n",
      "431是質數\n",
      "433是質數\n",
      "439是質數\n",
      "443是質數\n",
      "449是質數\n",
      "457是質數\n",
      "461是質數\n",
      "463是質數\n",
      "467是質數\n",
      "479是質數\n",
      "487是質數\n",
      "491是質數\n",
      "499是質數\n",
      "503是質數\n",
      "509是質數\n",
      "521是質數\n",
      "523是質數\n",
      "541是質數\n",
      "547是質數\n",
      "557是質數\n",
      "563是質數\n",
      "569是質數\n",
      "571是質數\n",
      "577是質數\n",
      "587是質數\n",
      "593是質數\n",
      "599是質數\n",
      "601是質數\n",
      "607是質數\n",
      "613是質數\n",
      "617是質數\n",
      "619是質數\n",
      "631是質數\n",
      "641是質數\n",
      "643是質數\n",
      "647是質數\n",
      "653是質數\n",
      "659是質數\n",
      "661是質數\n",
      "673是質數\n",
      "677是質數\n",
      "683是質數\n",
      "691是質數\n",
      "701是質數\n",
      "709是質數\n",
      "719是質數\n",
      "727是質數\n",
      "733是質數\n",
      "739是質數\n",
      "743是質數\n",
      "751是質數\n",
      "757是質數\n",
      "761是質數\n",
      "769是質數\n",
      "773是質數\n",
      "787是質數\n",
      "797是質數\n",
      "809是質數\n",
      "811是質數\n",
      "821是質數\n",
      "823是質數\n",
      "827是質數\n",
      "829是質數\n",
      "839是質數\n",
      "853是質數\n",
      "857是質數\n",
      "859是質數\n",
      "863是質數\n",
      "877是質數\n",
      "881是質數\n",
      "883是質數\n",
      "887是質數\n",
      "907是質數\n",
      "911是質數\n",
      "919是質數\n",
      "929是質數\n",
      "937是質數\n",
      "941是質數\n",
      "947是質數\n",
      "953是質數\n",
      "967是質數\n",
      "971是質數\n",
      "977是質數\n",
      "983是質數\n",
      "991是質數\n",
      "997是質數\n"
     ]
    }
   ],
   "source": [
    "# 列出2到1000所有質數\n",
    "\n",
    "import math\n",
    "for i in range(2, 1000):\n",
    "    j = 2\n",
    "    isPrime = True\n",
    "    while(j <= math.sqrt(i)): # 只需要判斷2~根號i即可\n",
    "        if(i % j == 0):\n",
    "            isPrime = False\n",
    "            break\n",
    "        else:\n",
    "            j += 1\n",
    "\n",
    "    if(isPrime):\n",
    "        print(f'{i}是質數')"
   ]
  },
  {
   "cell_type": "code",
   "execution_count": 9,
   "id": "da288957",
   "metadata": {},
   "outputs": [
    {
     "name": "stdout",
     "output_type": "stream",
     "text": [
      "Please enter a number : 37\n",
      "37是質數\n"
     ]
    }
   ],
   "source": [
    "# 質數判斷(使用for和else)\n",
    "\n",
    "import math\n",
    "num = int(input('Please enter a number : '))\n",
    "i = 2\n",
    "\n",
    "while i < math.sqrt(num):\n",
    "    if(num % i == 0):\n",
    "        print(f'{num}不是質數')\n",
    "        break\n",
    "    i += 1\n",
    "else:\n",
    "    print(f'{num}是質數')"
   ]
  },
  {
   "cell_type": "code",
   "execution_count": 10,
   "id": "9ce20cff",
   "metadata": {},
   "outputs": [
    {
     "name": "stdout",
     "output_type": "stream",
     "text": [
      "Please enter the account : abc\n",
      "Please enter the password : 12\n",
      "Incorrect login information!\n",
      "Please enter the account : abc\n",
      "Please enter the password : 123\n",
      "Log in!\n"
     ]
    }
   ],
   "source": [
    "# 登入系統\n",
    "\n",
    "while(True):\n",
    "    acc = input('Please enter the account : ')\n",
    "    pwd = input('Please enter the password : ')\n",
    "    if(acc == 'abc' and pwd == '123'):\n",
    "        print('Log in!')\n",
    "        break\n",
    "    else:\n",
    "        print('Incorrect login information!')"
   ]
  },
  {
   "cell_type": "code",
   "execution_count": 11,
   "id": "af32f000",
   "metadata": {},
   "outputs": [
    {
     "name": "stdout",
     "output_type": "stream",
     "text": [
      "T\n",
      "u\n",
      "p\n",
      "l\n",
      "e\n",
      "T\n",
      "u\n",
      "p\n",
      "l\n",
      "e\n"
     ]
    }
   ],
   "source": [
    "# 使用for讀取tuple\n",
    "\n",
    "t = tuple('Tuple')\n",
    "for i in t:\n",
    "    print(i)\n",
    "\n",
    "for i in range(0, len(t)):\n",
    "    print(t[i])"
   ]
  },
  {
   "cell_type": "code",
   "execution_count": 12,
   "id": "83a12098",
   "metadata": {},
   "outputs": [
    {
     "name": "stdout",
     "output_type": "stream",
     "text": [
      "0 牛奶\n",
      "1 蛋\n",
      "2 咖啡豆\n",
      "1 牛奶\n",
      "2 蛋\n",
      "3 咖啡豆\n"
     ]
    }
   ],
   "source": [
    "# 使用for讀取list\n",
    "\n",
    "sh = ['牛奶','蛋','咖啡豆']\n",
    "for i in range(0, len(sh)):\n",
    "    print(i, sh[i])\n",
    "    \n",
    "# enumerate會將sh每個元素編號，預設由0開始，會回傳編號與元素內容，編號指定給i，元素指定給name\n",
    "for i, name in enumerate(sh, start = 1):\n",
    "    print(i, name)"
   ]
  },
  {
   "cell_type": "code",
   "execution_count": 13,
   "id": "c52158e8",
   "metadata": {},
   "outputs": [
    {
     "name": "stdout",
     "output_type": "stream",
     "text": [
      "你好 Hello\n",
      "謝謝 Thanks\n",
      "你好 Hello\n",
      "謝謝 Thanks\n",
      "Hello\n",
      "Thanks\n"
     ]
    }
   ],
   "source": [
    "# 使用for讀取dictionary\n",
    "\n",
    "lang = {'你好':'Hello', '謝謝':'Thanks'}\n",
    "\n",
    "for ch, en in lang.items():\n",
    "    print(ch, en)\n",
    "    \n",
    "for ch in lang.keys():\n",
    "    print(ch, lang[ch])\n",
    "    \n",
    "for en in lang.values():\n",
    "    print(en)"
   ]
  },
  {
   "cell_type": "markdown",
   "id": "b0a1cc12",
   "metadata": {},
   "source": [
    "## 生成式(comprehension)與產生器(generator)"
   ]
  },
  {
   "cell_type": "code",
   "execution_count": 14,
   "id": "c622c2b7",
   "metadata": {},
   "outputs": [
    {
     "name": "stdout",
     "output_type": "stream",
     "text": [
      "[1, 2, 3, 4, 5]\n",
      "[1, 2, 3, 4, 5]\n",
      "[1, 2, 3, 4, 5]\n"
     ]
    }
   ],
   "source": [
    "# list生成式\n",
    "# [運算式 for 元素 in 可迭代的物件]\n",
    "\n",
    "a = []\n",
    "a.append(1)\n",
    "a.append(2)\n",
    "a.append(3)\n",
    "a.append(4)\n",
    "a.append(5)\n",
    "print(a)\n",
    "\n",
    "b = []\n",
    "for i in range(1,6):\n",
    "    b.append(i)\n",
    "print(b)\n",
    "\n",
    "# 生成式\n",
    "c = [x for x in range(1,6)]\n",
    "print(c)"
   ]
  },
  {
   "cell_type": "code",
   "execution_count": 15,
   "id": "eac13383",
   "metadata": {},
   "outputs": [
    {
     "data": {
      "text/plain": [
       "[1, 3, 5, 7, 9]"
      ]
     },
     "execution_count": 15,
     "metadata": {},
     "output_type": "execute_result"
    }
   ],
   "source": [
    "# [運算式 for 元素 in 可迭代的物件 if判斷條件]\n",
    "[x for x in range(1,11) if x % 2 == 1]"
   ]
  },
  {
   "cell_type": "code",
   "execution_count": 16,
   "id": "f00f86d9",
   "metadata": {},
   "outputs": [
    {
     "data": {
      "text/plain": [
       "[(1, 1, 1),\n",
       " (1, 2, 2),\n",
       " (1, 3, 3),\n",
       " (1, 4, 4),\n",
       " (2, 1, 2),\n",
       " (2, 2, 4),\n",
       " (2, 3, 6),\n",
       " (2, 4, 8),\n",
       " (3, 1, 3),\n",
       " (3, 2, 6),\n",
       " (3, 3, 9),\n",
       " (3, 4, 12),\n",
       " (4, 1, 4),\n",
       " (4, 2, 8),\n",
       " (4, 3, 12),\n",
       " (4, 4, 16)]"
      ]
     },
     "execution_count": 16,
     "metadata": {},
     "output_type": "execute_result"
    }
   ],
   "source": [
    "# [運算式 for 元素1 in 可迭代的物件1 for 元素2 in 可迭代的物件2]\n",
    "# list的每一個元素都是tuple\n",
    "[(i,j,i*j) for i in range(1,5) for j in range(1,5)]"
   ]
  },
  {
   "cell_type": "code",
   "execution_count": 17,
   "id": "168cbf8c",
   "metadata": {},
   "outputs": [
    {
     "name": "stdout",
     "output_type": "stream",
     "text": [
      "[1, 3, 5, 7, 9]\n",
      "[(1, 1), (1, 2), (1, 3), (2, 1), (2, 2), (2, 3)]\n",
      "1 1\n",
      "1 2\n",
      "1 3\n",
      "2 1\n",
      "2 2\n",
      "2 3\n"
     ]
    }
   ],
   "source": [
    "# 範例\n",
    "odd = [num for num in range(1,11) if num % 2 == 1]\n",
    "print(odd)\n",
    "\n",
    "i = range(1,3)\n",
    "j = range(1,4)\n",
    "mul = [(x,y) for x in i for y in j]\n",
    "print(mul)\n",
    "\n",
    "for x, y in mul:\n",
    "    print(x, y)"
   ]
  },
  {
   "cell_type": "code",
   "execution_count": 18,
   "id": "0bc57a78",
   "metadata": {},
   "outputs": [
    {
     "name": "stdout",
     "output_type": "stream",
     "text": [
      "h 1\n",
      "n 1\n",
      "e 2\n",
      "a 1\n",
      "t 1\n",
      "p 1\n",
      "l 1\n"
     ]
    }
   ],
   "source": [
    "# 字典生成式\n",
    "# {鍵:值 for 元素 in 可迭代的物件}\n",
    "\n",
    "word = 'elephant'\n",
    "word_count = {letter: word.count(letter) for letter in set(word)}\n",
    "\n",
    "for w in word_count:\n",
    "    print(w, word_count[w])"
   ]
  },
  {
   "cell_type": "code",
   "execution_count": 19,
   "id": "77a73ab2",
   "metadata": {},
   "outputs": [
    {
     "name": "stdout",
     "output_type": "stream",
     "text": [
      "h\n",
      "n\n",
      "e\n",
      "a\n",
      "t\n",
      "p\n",
      "l\n"
     ]
    }
   ],
   "source": [
    "# 集合生成式\n",
    "# {運算式 for 元素 in 可迭代的物件}\n",
    "\n",
    "word = 'elephant'\n",
    "letters = {letter for letter in word}\n",
    "\n",
    "for i in letters:\n",
    "    print(i)"
   ]
  },
  {
   "cell_type": "code",
   "execution_count": 20,
   "id": "484db5ef",
   "metadata": {},
   "outputs": [
    {
     "data": {
      "text/plain": [
       "<generator object <genexpr> at 0x000001508E9C9040>"
      ]
     },
     "metadata": {},
     "output_type": "display_data"
    },
    {
     "name": "stdout",
     "output_type": "stream",
     "text": [
      "1\n",
      "3\n",
      "5\n",
      "7\n",
      "9\n"
     ]
    }
   ],
   "source": [
    "# 產生器(generator)\n",
    "# Python中沒有tuple的生成式\n",
    "# (運算式 for 元素 in 可迭代的物件)\n",
    "# 產生器只能執行一次，執行第二次不會產生任何值\n",
    "\n",
    "odd = (num for num in range(1,10) if num % 2 == 1)\n",
    "display(odd)\n",
    "\n",
    "for num in odd:\n",
    "    print(num)\n",
    "    \n",
    "for num in odd: # 第二次不會輸出任何資料，因為產生器只能使用一次\n",
    "    print(num)"
   ]
  },
  {
   "cell_type": "code",
   "execution_count": 21,
   "id": "8bbf02c4",
   "metadata": {},
   "outputs": [
    {
     "name": "stdout",
     "output_type": "stream",
     "text": [
      "輸入求第幾項費氏數列 10\n",
      "55\n"
     ]
    }
   ],
   "source": [
    "# 費氏數列\n",
    "\n",
    "def fac(num):\n",
    "    if(num == 1):\n",
    "        return 1\n",
    "    elif(num == 2):\n",
    "        return 1\n",
    "    else:\n",
    "        return fac(num - 1) + fac(num - 2)\n",
    "    \n",
    "num = int(input('輸入求第幾項費氏數列 '))\n",
    "result = fac(num)\n",
    "print(result)"
   ]
  },
  {
   "cell_type": "code",
   "execution_count": 22,
   "id": "a9aa666e",
   "metadata": {},
   "outputs": [
    {
     "name": "stdout",
     "output_type": "stream",
     "text": [
      "輸入求第幾項費氏數列 10\n",
      "1 1\n",
      "2 1\n",
      "3 2\n",
      "4 3\n",
      "5 5\n",
      "6 8\n",
      "7 13\n",
      "8 21\n",
      "9 34\n",
      "10 55\n"
     ]
    }
   ],
   "source": [
    "# 費氏數列\n",
    "\n",
    "num = int(input('輸入求第幾項費氏數列 '))\n",
    "a = 1\n",
    "b = 1\n",
    "print(1, a)\n",
    "\n",
    "for i in range(2, num + 1):\n",
    "    a, b = b, a + b\n",
    "    print(i, a)"
   ]
  },
  {
   "cell_type": "code",
   "execution_count": 23,
   "id": "49a35d78",
   "metadata": {},
   "outputs": [
    {
     "name": "stdout",
     "output_type": "stream",
     "text": [
      "{'來': 3, '君': 5, '千': 3, '金': 3, '生': 3, '須': 3, '酒': 3, '不': 5}\n",
      "{'來': 3, '千': 3, '金': 3, '生': 3, '須': 3, '酒': 3}\n"
     ]
    }
   ],
   "source": [
    "# 產生字與字的出現次數的字典\n",
    "\n",
    "poem = '君不見黃河之水天上來，奔流到海不復回。\\\n",
    "君不見高堂明鏡悲白髮，朝如青絲暮成雪。\\\n",
    "人生得意須盡歡，莫使金樽空對月。\\\n",
    "天生我材必有用，千金散盡還復來。\\\n",
    "烹羊宰牛且爲樂，會須一飲三百杯。\\\n",
    "岑夫子，丹丘生。將進酒，杯莫停。\\\n",
    "與君歌一曲，請君爲我傾耳聽。\\\n",
    "鐘鼓饌玉不足貴，但願長醉不願醒。\\\n",
    "古來聖賢皆寂寞，惟有飲者留其名。\\\n",
    "陳王昔時宴平樂，斗酒十千恣歡謔。\\\n",
    "主人何為言少錢？徑須沽取對君酌。\\\n",
    "五花馬，千金裘。呼兒將出換美酒，與爾同銷萬古愁。'\n",
    "\n",
    "dic = {word:poem.count(word) for word in set(poem) \n",
    "       if(word != '，' and word != '。' and poem.count(word) > 2)}\n",
    "print(dic)\n",
    "\n",
    "dic2 = {k:v for k, v in dic.items() if v == 3}\n",
    "print(dic2)"
   ]
  },
  {
   "cell_type": "code",
   "execution_count": 24,
   "id": "e96b80b2",
   "metadata": {},
   "outputs": [
    {
     "name": "stdout",
     "output_type": "stream",
     "text": [
      "{'b': 'a', 'd': 'c', 'f': 'e', 'h': 'g', 'j': 'i', 'l': 'k', 'n': 'm', 'p': 'o', 'r': 'q', 't': 's', 'v': 'u', 'x': 'w', 'z': 'y', 'a': 'b', 'c': 'd', 'e': 'f', 'g': 'h', 'i': 'j', 'k': 'l', 'm': 'n', 'o': 'p', 'q': 'r', 's': 't', 'u': 'v', 'w': 'x', 'y': 'z'}\n",
      "an apple a day keeps the doctor away\n",
      "bm bookf b cbz lffot sgf cpdspq bxbz\n",
      "an apple a day keeps the doctor away\n"
     ]
    }
   ],
   "source": [
    "# 英文加密\n",
    "# ord 將小寫英文字元轉換成ASCII碼\n",
    "# chr 將ASCII碼轉換成英文字元\n",
    "\n",
    "sec1 = {chr(ord('a') + i):chr(ord('a') + i - 1) for i in range(26) if i % 2 == 1}\n",
    "sec2 = {chr(ord('a') + i):chr(ord('a') + i + 1) for i in range(26) if i % 2 == 0}\n",
    "sec1.update(sec2)\n",
    "print(sec1)\n",
    "\n",
    "s = 'an apple a day keeps the doctor away'\n",
    "print(s)\n",
    "\n",
    "ss = ''\n",
    "for c in s:\n",
    "    if c != ' ':\n",
    "        ss += sec1[c]\n",
    "    else:\n",
    "        ss += ' '\n",
    "print(ss)\n",
    "\n",
    "us = ''\n",
    "for c in ss:\n",
    "    if c != ' ':\n",
    "        us += sec1[c]\n",
    "    else:\n",
    "        us += ' '\n",
    "print(us)"
   ]
  },
  {
   "cell_type": "code",
   "execution_count": 25,
   "id": "3318226e",
   "metadata": {},
   "outputs": [
    {
     "name": "stdout",
     "output_type": "stream",
     "text": [
      "Please enter a number : 10\n",
      "385\n"
     ]
    }
   ],
   "source": [
    "# 求平方和\n",
    "\n",
    "num = int(input('Please enter a number : '))\n",
    "s = 0\n",
    "for i in range(num + 1):\n",
    "    s += i * i\n",
    "print(s)"
   ]
  },
  {
   "cell_type": "code",
   "execution_count": 26,
   "id": "ad532d94",
   "metadata": {},
   "outputs": [
    {
     "name": "stdout",
     "output_type": "stream",
     "text": [
      "[1, 5, 7, 11, 13, 17, 19, 23, 25, 29, 31, 35, 37, 41, 43, 47, 49, 53, 55, 59, 61, 65, 67, 71, 73, 77, 79, 83, 85, 89, 91, 95, 97, 101, 103, 107, 109, 113, 115, 119, 121, 125, 127, 131, 133, 137, 139, 143, 145, 149, 151, 155, 157, 161, 163, 167, 169, 173, 175, 179, 181, 185, 187, 191, 193, 197, 199, 203, 205, 209, 211, 215, 217, 221, 223, 227, 229, 233, 235, 239, 241, 245, 247, 251, 253, 257, 259, 263, 265, 269, 271, 275, 277, 281, 283, 287, 289, 293, 295, 299, 301, 305, 307, 311, 313, 317, 319, 323, 325, 329, 331, 335, 337, 341, 343, 347, 349, 353, 355, 359, 361, 365, 367, 371, 373, 377, 379, 383, 385, 389, 391, 395, 397, 401, 403, 407, 409, 413, 415, 419, 421, 425, 427, 431, 433, 437, 439, 443, 445, 449, 451, 455, 457, 461, 463, 467, 469, 473, 475, 479, 481, 485, 487, 491, 493, 497, 499, 503, 505, 509, 511, 515, 517, 521, 523, 527, 529, 533, 535, 539, 541, 545, 547, 551, 553, 557, 559, 563, 565, 569, 571, 575, 577, 581, 583, 587, 589, 593, 595, 599, 601, 605, 607, 611, 613, 617, 619, 623, 625, 629, 631, 635, 637, 641, 643, 647, 649, 653, 655, 659, 661, 665, 667, 671, 673, 677, 679, 683, 685, 689, 691, 695, 697, 701, 703, 707, 709, 713, 715, 719, 721, 725, 727, 731, 733, 737, 739, 743, 745, 749, 751, 755, 757, 761, 763, 767, 769, 773, 775, 779, 781, 785, 787, 791, 793, 797, 799, 803, 805, 809, 811, 815, 817, 821, 823, 827, 829, 833, 835, 839, 841, 845, 847, 851, 853, 857, 859, 863, 865, 869, 871, 875, 877, 881, 883, 887, 889, 893, 895, 899, 901, 905, 907, 911, 913, 917, 919, 923, 925, 929, 931, 935, 937, 941, 943, 947, 949, 953, 955, 959, 961, 965, 967, 971, 973, 977, 979, 983, 985, 989, 991, 995, 997]\n"
     ]
    }
   ],
   "source": [
    "# 列出1到1000不被2也不被3整除的數字\n",
    "\n",
    "ans = [x for x in range(1, 1001) if(x % 2 != 0) and (x % 3 != 0)]\n",
    "print(ans)"
   ]
  },
  {
   "cell_type": "code",
   "execution_count": 27,
   "id": "48249052",
   "metadata": {},
   "outputs": [
    {
     "name": "stdout",
     "output_type": "stream",
     "text": [
      "最小的n為14\n"
     ]
    }
   ],
   "source": [
    "# 求大於1000最小平方和\n",
    "\n",
    "sum_ans = 0\n",
    "i = 0\n",
    "while sum_ans < 1000:\n",
    "    i += 1\n",
    "    sum_ans += i * i\n",
    "print(f'最小的n為{i}')"
   ]
  },
  {
   "cell_type": "code",
   "execution_count": 28,
   "id": "f251d74c",
   "metadata": {},
   "outputs": [
    {
     "name": "stdout",
     "output_type": "stream",
     "text": [
      "1*1=1\t1*2=2\t1*3=3\t1*4=4\t1*5=5\t1*6=6\t1*7=7\t1*8=8\t1*9=9\t1*10=10\t1*11=11\t1*12=12\t1*13=13\t1*14=14\t1*15=15\t1*16=16\t1*17=17\t1*18=18\t1*19=19\t2*1=2\t2*2=4\t2*3=6\t2*4=8\t2*5=10\t2*6=12\t2*7=14\t2*8=16\t2*9=18\t2*10=20\t2*11=22\t2*12=24\t2*13=26\t2*14=28\t2*15=30\t2*16=32\t2*17=34\t2*18=36\t2*19=38\t3*1=3\t3*2=6\t3*3=9\t3*4=12\t3*5=15\t3*6=18\t3*7=21\t3*8=24\t3*9=27\t3*10=30\t3*11=33\t3*12=36\t3*13=39\t3*14=42\t3*15=45\t3*16=48\t3*17=51\t3*18=54\t3*19=57\t4*1=4\t4*2=8\t4*3=12\t4*4=16\t4*5=20\t4*6=24\t4*7=28\t4*8=32\t4*9=36\t4*10=40\t4*11=44\t4*12=48\t4*13=52\t4*14=56\t4*15=60\t4*16=64\t4*17=68\t4*18=72\t4*19=76\t5*1=5\t5*2=10\t5*3=15\t5*4=20\t5*5=25\t5*6=30\t5*7=35\t5*8=40\t5*9=45\t5*10=50\t5*11=55\t5*12=60\t5*13=65\t5*14=70\t5*15=75\t5*16=80\t5*17=85\t5*18=90\t5*19=95\t6*1=6\t6*2=12\t6*3=18\t6*4=24\t6*5=30\t6*6=36\t6*7=42\t6*8=48\t6*9=54\t6*10=60\t6*11=66\t6*12=72\t6*13=78\t6*14=84\t6*15=90\t6*16=96\t6*17=102\t6*18=108\t6*19=114\t7*1=7\t7*2=14\t7*3=21\t7*4=28\t7*5=35\t7*6=42\t7*7=49\t7*8=56\t7*9=63\t7*10=70\t7*11=77\t7*12=84\t7*13=91\t7*14=98\t7*15=105\t7*16=112\t7*17=119\t7*18=126\t7*19=133\t8*1=8\t8*2=16\t8*3=24\t8*4=32\t8*5=40\t8*6=48\t8*7=56\t8*8=64\t8*9=72\t8*10=80\t8*11=88\t8*12=96\t8*13=104\t8*14=112\t8*15=120\t8*16=128\t8*17=136\t8*18=144\t8*19=152\t9*1=9\t9*2=18\t9*3=27\t9*4=36\t9*5=45\t9*6=54\t9*7=63\t9*8=72\t9*9=81\t9*10=90\t9*11=99\t9*12=108\t9*13=117\t9*14=126\t9*15=135\t9*16=144\t9*17=153\t9*18=162\t9*19=171\t10*1=10\t10*2=20\t10*3=30\t10*4=40\t10*5=50\t10*6=60\t10*7=70\t10*8=80\t10*9=90\t10*10=100\t10*11=110\t10*12=120\t10*13=130\t10*14=140\t10*15=150\t10*16=160\t10*17=170\t10*18=180\t10*19=190\t11*1=11\t11*2=22\t11*3=33\t11*4=44\t11*5=55\t11*6=66\t11*7=77\t11*8=88\t11*9=99\t11*10=110\t11*11=121\t11*12=132\t11*13=143\t11*14=154\t11*15=165\t11*16=176\t11*17=187\t11*18=198\t11*19=209\t12*1=12\t12*2=24\t12*3=36\t12*4=48\t12*5=60\t12*6=72\t12*7=84\t12*8=96\t12*9=108\t12*10=120\t12*11=132\t12*12=144\t12*13=156\t12*14=168\t12*15=180\t12*16=192\t12*17=204\t12*18=216\t12*19=228\t13*1=13\t13*2=26\t13*3=39\t13*4=52\t13*5=65\t13*6=78\t13*7=91\t13*8=104\t13*9=117\t13*10=130\t13*11=143\t13*12=156\t13*13=169\t13*14=182\t13*15=195\t13*16=208\t13*17=221\t13*18=234\t13*19=247\t14*1=14\t14*2=28\t14*3=42\t14*4=56\t14*5=70\t14*6=84\t14*7=98\t14*8=112\t14*9=126\t14*10=140\t14*11=154\t14*12=168\t14*13=182\t14*14=196\t14*15=210\t14*16=224\t14*17=238\t14*18=252\t14*19=266\t15*1=15\t15*2=30\t15*3=45\t15*4=60\t15*5=75\t15*6=90\t15*7=105\t15*8=120\t15*9=135\t15*10=150\t15*11=165\t15*12=180\t15*13=195\t15*14=210\t15*15=225\t15*16=240\t15*17=255\t15*18=270\t15*19=285\t16*1=16\t16*2=32\t16*3=48\t16*4=64\t16*5=80\t16*6=96\t16*7=112\t16*8=128\t16*9=144\t16*10=160\t16*11=176\t16*12=192\t16*13=208\t16*14=224\t16*15=240\t16*16=256\t16*17=272\t16*18=288\t16*19=304\t17*1=17\t17*2=34\t17*3=51\t17*4=68\t17*5=85\t17*6=102\t17*7=119\t17*8=136\t17*9=153\t17*10=170\t17*11=187\t17*12=204\t17*13=221\t17*14=238\t17*15=255\t17*16=272\t17*17=289\t17*18=306\t17*19=323\t18*1=18\t18*2=36\t18*3=54\t18*4=72\t18*5=90\t18*6=108\t18*7=126\t18*8=144\t18*9=162\t18*10=180\t18*11=198\t18*12=216\t18*13=234\t18*14=252\t18*15=270\t18*16=288\t18*17=306\t18*18=324\t18*19=342\t19*1=19\t19*2=38\t19*3=57\t19*4=76\t19*5=95\t19*6=114\t19*7=133\t19*8=152\t19*9=171\t19*10=190\t19*11=209\t19*12=228\t19*13=247\t19*14=266\t19*15=285\t19*16=304\t19*17=323\t19*18=342\t19*19=361\t"
     ]
    }
   ],
   "source": [
    "# 19乘19乘法表\n",
    "\n",
    "# ans = [(i ,j, i * j)for i in range(1,20) for j in range(1,20)]\n",
    "# print(ans)\n",
    "\n",
    "for i in range(1,20):\n",
    "    for j in range(1,20):\n",
    "        print(i, '*', j, '=', i * j, '\\t', sep = '', end = '')"
   ]
  },
  {
   "cell_type": "code",
   "execution_count": 29,
   "id": "a769b627",
   "metadata": {},
   "outputs": [
    {
     "name": "stdout",
     "output_type": "stream",
     "text": [
      "6是完全數\n",
      "28是完全數\n",
      "496是完全數\n"
     ]
    }
   ],
   "source": [
    "# 完全數\n",
    "\n",
    "for i in range(2,1001):\n",
    "    s = 0\n",
    "    for j in range(1,i):\n",
    "        if(i % j == 0):\n",
    "            s += j\n",
    "    if(s == i):\n",
    "        print(f'{s}是完全數')"
   ]
  },
  {
   "cell_type": "code",
   "execution_count": 30,
   "id": "9259f8bc",
   "metadata": {},
   "outputs": [
    {
     "name": "stdout",
     "output_type": "stream",
     "text": [
      "5\n",
      "2\n",
      "1\n",
      "2\n",
      "2\n",
      "1\n",
      "6\n"
     ]
    }
   ],
   "source": [
    "# 擲骰子\n",
    "\n",
    "import random\n",
    "while True:\n",
    "    dice = random.randint(1,6)\n",
    "    print(dice)\n",
    "    if(dice == 6):\n",
    "        break"
   ]
  },
  {
   "cell_type": "code",
   "execution_count": 31,
   "id": "be9288bf",
   "metadata": {},
   "outputs": [
    {
     "name": "stdout",
     "output_type": "stream",
     "text": [
      "The dice of computer is 6\n",
      "The dice of user is 5\n",
      "You are lose!\n",
      "The dice of computer is 4\n",
      "The dice of user is 3\n",
      "You are lose!\n",
      "The dice of computer is 1\n",
      "The dice of user is 3\n",
      "You are win!\n"
     ]
    }
   ],
   "source": [
    "# 跟電腦比擲骰子\n",
    "\n",
    "import random\n",
    "while True:\n",
    "    dice_computer = random.randint(1,6)\n",
    "    dice_user = random.randint(1,6)\n",
    "    print(f'The dice of computer is {dice_computer}')\n",
    "    print(f'The dice of user is {dice_user}')\n",
    "    if(dice_user > dice_computer):\n",
    "        print('You are win!')\n",
    "        break\n",
    "    elif(dice_user == dice_computer):\n",
    "        print('It is tie!')\n",
    "    else:\n",
    "        print('You are lose!')"
   ]
  },
  {
   "cell_type": "code",
   "execution_count": null,
   "id": "923f1b15",
   "metadata": {},
   "outputs": [],
   "source": []
  }
 ],
 "metadata": {
  "kernelspec": {
   "display_name": "Python 3 (ipykernel)",
   "language": "python",
   "name": "python3"
  },
  "language_info": {
   "codemirror_mode": {
    "name": "ipython",
    "version": 3
   },
   "file_extension": ".py",
   "mimetype": "text/x-python",
   "name": "python",
   "nbconvert_exporter": "python",
   "pygments_lexer": "ipython3",
   "version": "3.9.12"
  }
 },
 "nbformat": 4,
 "nbformat_minor": 5
}
